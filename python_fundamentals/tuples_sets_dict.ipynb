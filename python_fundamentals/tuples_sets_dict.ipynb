{
 "cells": [
  {
   "cell_type": "markdown",
   "id": "2c61d699-ad6c-4381-9e60-f65aecbf5f97",
   "metadata": {},
   "source": [
    "TUPLES"
   ]
  },
  {
   "cell_type": "code",
   "execution_count": 2,
   "id": "46192879-6e95-489f-9927-3b8644655449",
   "metadata": {},
   "outputs": [
    {
     "name": "stdout",
     "output_type": "stream",
     "text": [
      "<class 'tuple'>\n",
      "<class 'tuple'>\n"
     ]
    }
   ],
   "source": [
    "t1 = ()\n",
    "print(type(t1))\n",
    "\n",
    "t2 = (\"tuple\",)\n",
    "print(type(t2))"
   ]
  },
  {
   "cell_type": "code",
   "execution_count": 3,
   "id": "7d9ef5ae-38ff-4d8f-8c90-9305e319eebd",
   "metadata": {},
   "outputs": [
    {
     "name": "stdout",
     "output_type": "stream",
     "text": [
      "(12, 23, 45)\n",
      "<class 'tuple'>\n",
      "(12, 'Emmanuel', True)\n",
      "<class 'tuple'>\n"
     ]
    }
   ],
   "source": [
    "t3 = (12, 23, 45)\n",
    "print(t3, type(t3), sep=\"\\n\")\n",
    "\n",
    "t3 = (12, \"Emmanuel\", True)\n",
    "print(t3, type(t3), sep=\"\\n\")\n",
    "\n",
    "# Most list operations can be carried out on tuples other than operations that result in mutation\n",
    "# The only exception are multiplation and addition"
   ]
  },
  {
   "cell_type": "code",
   "execution_count": 4,
   "id": "5a29b9cc-b5d4-435a-8e20-40cc6c4577f2",
   "metadata": {},
   "outputs": [
    {
     "name": "stdout",
     "output_type": "stream",
     "text": [
      "Name: Emmanuel \n",
      "Age: 35 \n",
      "Location: Warri \n",
      "Number of Siblings: 4 \n",
      "Marital Status: Single\n",
      "['Warri', 4, 'Single']\n"
     ]
    }
   ],
   "source": [
    "# TUPLE UNPACKING\n",
    "\n",
    "tup = (\"Emmanuel\", 35, \"Warri\", 4, \"Single\")\n",
    "name, age, location, siblings, marital_status = tup\n",
    "print(f\"Name: {name} \\nAge: {age} \\nLocation: {location} \\nNumber of Siblings: {siblings} \\nMarital Status: {marital_status}\")\n",
    "\n",
    "name, age, *others = tup\n",
    "print(others)"
   ]
  },
  {
   "cell_type": "markdown",
   "id": "0e331e06-be85-4ef6-99bd-80171b5a0c85",
   "metadata": {},
   "source": [
    "SETS"
   ]
  },
  {
   "cell_type": "code",
   "execution_count": 38,
   "id": "856a0ccd-27a5-4bfb-84ee-e9aedcb78695",
   "metadata": {},
   "outputs": [
    {
     "name": "stdout",
     "output_type": "stream",
     "text": [
      "<class 'set'>: {'AAPL', 'GOOGL', 'TSLA'}\n",
      "{'AAPL', ('MSFT', 'META'), 'GOOGL', 'TSLA'}\n",
      "{'GOOGL', 'TSLA', ('MSFT', 'META'), 'AAPL', 'AMZN'}\n",
      "{'GOOGL', 'TSLA', ('MSFT', 'META'), 'AAPL', 'ETH', 'AMZN', 'BTC'}\n"
     ]
    }
   ],
   "source": [
    "s1 = {'AAPL', 'GOOGL', 'TSLA'}\n",
    "print(type(s1), s1, sep=\": \")\n",
    "\n",
    "# Sets can only contain literals and tuples. Hence, s2 cannot work\n",
    "# s2 = {'AAPL', 'GOOGL', 'TSLA', {'MSFT', 'META'}}\n",
    "\n",
    "s3 = {'AAPL', 'GOOGL', 'TSLA', ('MSFT', 'META')}\n",
    "print(s3)\n",
    "\n",
    "# Tuples are mutable\n",
    "s3.add(\"AMZN\")\n",
    "print(s3)\n",
    "\n",
    "# Update adds multiple elements into a set\n",
    "s1.update(s3)\n",
    "s1.update([\"BTC\", \"ETH\"])\n",
    "print(s1)"
   ]
  },
  {
   "cell_type": "code",
   "execution_count": 40,
   "id": "432d9cc4-f132-42a4-8fc1-a4f02bedf8ea",
   "metadata": {},
   "outputs": [
    {
     "name": "stdout",
     "output_type": "stream",
     "text": [
      "{'GOOGL', 'TSLA', ('MSFT', 'META'), 'AAPL', 'ETH', 'AMZN', 'BTC'}\n",
      "{'GOOGL', 'TSLA', ('MSFT', 'META'), 'ETH', 'AMZN', 'BTC'}\n",
      "{'GOOGL', 'TSLA', ('MSFT', 'META'), 'ETH', 'AMZN', 'BTC'}\n"
     ]
    }
   ],
   "source": [
    "# Removing elements from a set\n",
    "print(s1)\n",
    "s1.remove(\"AAPL\") # Throws an exception if element is not in set\n",
    "print(s1)\n",
    "\n",
    "s1.discard(\"AAPL\") # Does not throw any error if the item is not there\n",
    "print(s1)"
   ]
  },
  {
   "cell_type": "markdown",
   "id": "90f9ccce-911d-4ea8-bae6-5a5b4c9ae6ab",
   "metadata": {},
   "source": [
    "SET OPERATIONS"
   ]
  },
  {
   "cell_type": "code",
   "execution_count": 52,
   "id": "9fb2ccc6-758b-45eb-975f-3a71b1cfd831",
   "metadata": {},
   "outputs": [
    {
     "name": "stdout",
     "output_type": "stream",
     "text": [
      "{'MSFT', 'GOOGL', 'TSLA', 'META', 'AAPL'}\n",
      "{'AAPL', 'GOOGL', 'TSLA'}\n",
      "set()\n",
      "{'META', 'MSFT'}\n",
      "{'MSFT', 'META'}\n",
      "True\n",
      "False\n",
      "AAPL\n",
      "GOOGL\n",
      "TSLA\n"
     ]
    }
   ],
   "source": [
    "s1 = {'AAPL', 'GOOGL', 'TSLA'}\n",
    "s2 = {'AAPL', 'GOOGL', 'TSLA', 'MSFT', 'META'}\n",
    "\n",
    "# Union\n",
    "s3 = s1 | s2\n",
    "print(s3)\n",
    "\n",
    "# Intersection\n",
    "s4 = s1 & s2\n",
    "print(s4)\n",
    "\n",
    "# Difference\n",
    "print(s1 - s2)\n",
    "print(s2 - s1)\n",
    "\n",
    "# Symmetric difference\n",
    "print(s1 ^ s2)\n",
    "\n",
    "# Membership\n",
    "print(\"TSLA\" in s1)\n",
    "print(\"TSLA\" not in s1)\n",
    "\n",
    "# Loops\n",
    "for item in s1:\n",
    "    print(item)"
   ]
  },
  {
   "cell_type": "markdown",
   "id": "b4b56176-25a5-4f58-85b2-891d863bd4cb",
   "metadata": {},
   "source": [
    "SET FUNCTIONS"
   ]
  },
  {
   "cell_type": "code",
   "execution_count": 70,
   "id": "b51c3228-3999-4017-90a2-59e08029b9c4",
   "metadata": {},
   "outputs": [
    {
     "name": "stdout",
     "output_type": "stream",
     "text": [
      "{'AAPL', 'GOOGL', 'TSLA'}\n",
      "{'MSFT', 'GOOGL', 'TSLA', 'META', 'AAPL'}\n",
      "{'AAPL', 'GOOGL', 'TSLA'}\n",
      "set()\n",
      "{'META', 'MSFT'}\n",
      "{'MSFT', 'META'}\n",
      "False\n",
      "True\n",
      "False\n",
      "{'AAPL', 'GOOGL', 'TSLA'}\n"
     ]
    }
   ],
   "source": [
    "# len, sum, min, max, sorted are all valid as in list\n",
    "s1 = {'AAPL', 'GOOGL', 'TSLA'}\n",
    "s2 = {'AAPL', 'GOOGL', 'TSLA', 'MSFT', 'META'}\n",
    "\n",
    "#s1.update(s2) # update mutates inplace and does not return any result. It is destructive\n",
    "print(s1)\n",
    "\n",
    "# Union\n",
    "s3 = s1.union(s2) # update mutates\n",
    "print(s3)\n",
    "\n",
    "# Intersection (intersection_update is the equivalent of union. It mututes in place, returns no value\n",
    "s4 = s1.intersection(s2) \n",
    "print(s4)\n",
    "\n",
    "# Difference (difference_update is similar to the updates)\n",
    "print(s1.difference(s2))\n",
    "print(s2.difference(s1))\n",
    "\n",
    "# Symmetric difference (symmetric_difference update exists too)\n",
    "print(s1.symmetric_difference(s2))\n",
    "\n",
    "print(s1.isdisjoint(s2))\n",
    "print(s1.issubset(s2))\n",
    "print(s1.issuperset(s2))\n",
    "\n",
    "s5 = s1.copy() # Same values, different memory location\n",
    "print(s5)"
   ]
  },
  {
   "cell_type": "code",
   "execution_count": null,
   "id": "54abba7d-2201-4cbc-989d-f220db3f263f",
   "metadata": {},
   "outputs": [],
   "source": [
    "# FROZEN SETS  are immutable set. No write operation is allowed"
   ]
  },
  {
   "cell_type": "markdown",
   "id": "06287ac1-20f7-466b-8124-2ec5dd32ca35",
   "metadata": {},
   "source": [
    "SET COMPREHENSION"
   ]
  },
  {
   "cell_type": "code",
   "execution_count": 72,
   "id": "a12e0d20-82ed-4f5f-8faf-afd14f146b99",
   "metadata": {},
   "outputs": [
    {
     "name": "stdout",
     "output_type": "stream",
     "text": [
      "{64, 100, 4, 36, 16}\n"
     ]
    }
   ],
   "source": [
    "s1 = {i ** 2 for i in range(1, 11) if i % 2 == 0}\n",
    "print(s1)"
   ]
  },
  {
   "cell_type": "markdown",
   "id": "2a6ed497-1b89-4f19-81ee-df1546850fe7",
   "metadata": {},
   "source": [
    "DICTIONARY"
   ]
  },
  {
   "cell_type": "code",
   "execution_count": 84,
   "id": "ebed791a-b6bf-4ba5-9295-063d869db96d",
   "metadata": {},
   "outputs": [
    {
     "name": "stdout",
     "output_type": "stream",
     "text": [
      "{'AAPL': 145.0, 'GOGL': 2733.23, 'TSLA': 673.58, 'MSFT': 77.3}\n",
      "('AAPL', 145.0)\n",
      "('GOGL', 2733.23)\n",
      "('TSLA', 673.58)\n",
      "('MSFT', 77.3)\n",
      "AAPL: 145.0\n",
      "GOGL: 2733.23\n",
      "TSLA: 673.58\n",
      "MSFT: 77.3\n",
      "AAPL\n",
      "GOGL\n",
      "TSLA\n",
      "MSFT\n",
      "145.0\n",
      "2733.23\n",
      "673.58\n",
      "77.3\n",
      "673.58\n",
      "{'AAPL': 145.0, 'TSLA': 673.58, 'MSFT': 77.3}\n",
      "{'AAPL': 145.0, 'TSLA': 673.58}\n"
     ]
    }
   ],
   "source": [
    "stock_prices = {'AAPL': 145., 'GOGL': 2733.23, 'TSLA': 673.58, 'MSFT': 77.3}\n",
    "print(stock_prices)\n",
    "\n",
    "for item in stock_prices.items():\n",
    "    print(item)\n",
    "\n",
    "for key, val in stock_prices.items():\n",
    "    print(key, val, sep=\": \")\n",
    "\n",
    "for key in stock_prices.keys():\n",
    "    print(key)\n",
    "\n",
    "for val in stock_prices.values():\n",
    "    print(val)\n",
    "print(stock_prices.get(\"TSLA\"))\n",
    "\n",
    "stock_prices.pop('GOGL')\n",
    "print(stock_prices)\n",
    "\n",
    "stock_prices.popitem()\n",
    "print(stock_prices)"
   ]
  },
  {
   "cell_type": "code",
   "execution_count": null,
   "id": "9b232282-4905-4bd5-8525-380448a68bee",
   "metadata": {},
   "outputs": [],
   "source": [
    "# functions sorted, len"
   ]
  },
  {
   "cell_type": "code",
   "execution_count": 88,
   "id": "c6d60ebd-ff26-48df-9467-9dbf2ce396a0",
   "metadata": {},
   "outputs": [
    {
     "name": "stdout",
     "output_type": "stream",
     "text": [
      "{1: 1, 2: 4, 3: 9, 4: 16, 5: 25, 6: 36, 7: 49, 8: 64, 9: 81, 10: 100}\n"
     ]
    }
   ],
   "source": [
    "dict = {i: i**2 for i in range(1, 11)}\n",
    "print(dict)"
   ]
  }
 ],
 "metadata": {
  "kernelspec": {
   "display_name": "Python 3 (ipykernel)",
   "language": "python",
   "name": "python3"
  },
  "language_info": {
   "codemirror_mode": {
    "name": "ipython",
    "version": 3
   },
   "file_extension": ".py",
   "mimetype": "text/x-python",
   "name": "python",
   "nbconvert_exporter": "python",
   "pygments_lexer": "ipython3",
   "version": "3.12.4"
  }
 },
 "nbformat": 4,
 "nbformat_minor": 5
}
