{
 "cells": [
  {
   "cell_type": "code",
   "execution_count": 1,
   "id": "b780b005-ad5d-4e32-ae75-634e71b623bd",
   "metadata": {},
   "outputs": [],
   "source": [
    "import pandas as pd\n",
    "import numpy as np"
   ]
  },
  {
   "cell_type": "code",
   "execution_count": 2,
   "id": "3606de1f-d2cd-4410-a097-8b5599e26d86",
   "metadata": {},
   "outputs": [
    {
     "name": "stdout",
     "output_type": "stream",
     "text": [
      "0        Apple\n",
      "1    Microsoft\n",
      "2      Bitcoin\n",
      "3     Ethereum\n",
      "dtype: object\n",
      "<class 'pandas.core.series.Series'>\n"
     ]
    }
   ],
   "source": [
    "# Creating Series from list\n",
    "\n",
    "list_str = [\"Apple\", \"Microsoft\", \"Bitcoin\", \"Ethereum\"]\n",
    "\n",
    "stocks = pd.Series(list_str)\n",
    "print(stocks)\n",
    "print(type(stocks))"
   ]
  },
  {
   "cell_type": "code",
   "execution_count": 3,
   "id": "a9d544fe-9b50-40a0-9f20-c251ef5fef10",
   "metadata": {},
   "outputs": [
    {
     "name": "stdout",
     "output_type": "stream",
     "text": [
      "0    100\n",
      "1    101\n",
      "2    102\n",
      "3    103\n",
      "dtype: int64\n",
      "<class 'pandas.core.series.Series'>\n"
     ]
    }
   ],
   "source": [
    "list_int = [100, 101, 102, 103]\n",
    "\n",
    "stocks_price = pd.Series(list_int)\n",
    "print(stocks_price)\n",
    "print(type(stocks_price))"
   ]
  },
  {
   "cell_type": "code",
   "execution_count": 4,
   "id": "3b8c7939-a789-485f-80a3-9f26e9805f13",
   "metadata": {},
   "outputs": [
    {
     "name": "stdout",
     "output_type": "stream",
     "text": [
      "100        Apple\n",
      "101    Microsoft\n",
      "102      Bitcoin\n",
      "103     Ethereum\n",
      "dtype: object\n",
      "<class 'pandas.core.series.Series'>\n"
     ]
    }
   ],
   "source": [
    "# Custom Index\n",
    "list_int = [100, 101, 102, 103]\n",
    "list_str = [\"Apple\", \"Microsoft\", \"Bitcoin\", \"Ethereum\"]\n",
    "\n",
    "stock_data = pd.Series(list_str, index=list_int)\n",
    "print(stock_data)\n",
    "print(type(stock_data))"
   ]
  },
  {
   "cell_type": "code",
   "execution_count": 5,
   "id": "2b2a3ba9-5c3a-4fd3-b5a6-af8af8e00e98",
   "metadata": {},
   "outputs": [
    {
     "name": "stdout",
     "output_type": "stream",
     "text": [
      "Apple\n"
     ]
    }
   ],
   "source": [
    "print(stock_data[100])"
   ]
  },
  {
   "cell_type": "code",
   "execution_count": 6,
   "id": "d1db8d10-4757-4f8e-980d-1bc66900a63e",
   "metadata": {},
   "outputs": [
    {
     "name": "stdout",
     "output_type": "stream",
     "text": [
      "100        Apple\n",
      "101    Microsoft\n",
      "102      Bitcoin\n",
      "103     Ethereum\n",
      "Name: Stock Data of Emmanuel, dtype: object\n",
      "<class 'pandas.core.series.Series'>\n",
      "Stock Data of Emmanuel\n"
     ]
    }
   ],
   "source": [
    "# Setting a name\n",
    "list_int = [100, 101, 102, 103]\n",
    "list_str = [\"Apple\", \"Microsoft\", \"Bitcoin\", \"Ethereum\"]\n",
    "\n",
    "stock_data = pd.Series(list_str, index=list_int, name=\"Stock Data of Emmanuel\")\n",
    "print(stock_data)\n",
    "print(type(stock_data))\n",
    "print(stock_data.name)"
   ]
  },
  {
   "cell_type": "code",
   "execution_count": 7,
   "id": "c60c1564-ad6f-4036-9b3d-b1dee72bd7fd",
   "metadata": {},
   "outputs": [
    {
     "name": "stdout",
     "output_type": "stream",
     "text": [
      "Apple          101.1\n",
      "Microsoft      123.2\n",
      "Bitcoin      98098.0\n",
      "Ethereum       198.0\n",
      "dtype: float64\n"
     ]
    }
   ],
   "source": [
    "# Series from Dictionary\n",
    "dict = {\"Apple\":101.1, \"Microsoft\": 123.2, \"Bitcoin\": 98098, \"Ethereum\": 198}\n",
    "stock_data = pd.Series(dict)\n",
    "print(stock_data)"
   ]
  },
  {
   "cell_type": "code",
   "execution_count": 8,
   "id": "cc9fc9ae-09e4-4c57-bfa1-338d0d5e97dd",
   "metadata": {},
   "outputs": [
    {
     "name": "stdout",
     "output_type": "stream",
     "text": [
      "Apple          101.1\n",
      "Microsoft      123.2\n",
      "Bitcoin      98098.0\n",
      "Ethereum       198.0\n",
      "Name: Stock Data of Emmanuel, dtype: float64\n"
     ]
    }
   ],
   "source": [
    "dict = {\"Apple\":101.1, \"Microsoft\": 123.2, \"Bitcoin\": 98098, \"Ethereum\": 198}\n",
    "stock_data = pd.Series(dict, name=\"Stock Data of Emmanuel\")\n",
    "print(stock_data)"
   ]
  },
  {
   "cell_type": "code",
   "execution_count": 9,
   "id": "c05210aa-b953-4822-9e7d-021f0b7ae619",
   "metadata": {},
   "outputs": [
    {
     "name": "stdout",
     "output_type": "stream",
     "text": [
      "4\n"
     ]
    }
   ],
   "source": [
    "# Series Attributes\n",
    "\n",
    "# size\n",
    "print(stock_data.size)"
   ]
  },
  {
   "cell_type": "code",
   "execution_count": 10,
   "id": "838b656d-8681-4148-baa8-780124e8be59",
   "metadata": {},
   "outputs": [
    {
     "name": "stdout",
     "output_type": "stream",
     "text": [
      "float64\n"
     ]
    }
   ],
   "source": [
    "# dtype\n",
    "\n",
    "print(stock_data.dtype)"
   ]
  },
  {
   "cell_type": "code",
   "execution_count": 11,
   "id": "70b845ec-de0d-4342-9176-f482f7ade0d3",
   "metadata": {},
   "outputs": [
    {
     "name": "stdout",
     "output_type": "stream",
     "text": [
      "Stock Data of Emmanuel\n"
     ]
    }
   ],
   "source": [
    "# name\n",
    "\n",
    "print(stock_data.name)"
   ]
  },
  {
   "cell_type": "code",
   "execution_count": 12,
   "id": "b0bcc6e0-5f4e-44ca-9197-035ebecc0de1",
   "metadata": {},
   "outputs": [
    {
     "name": "stdout",
     "output_type": "stream",
     "text": [
      "True\n"
     ]
    }
   ],
   "source": [
    "# is_unique\n",
    "\n",
    "print(stock_data.is_unique)"
   ]
  },
  {
   "cell_type": "code",
   "execution_count": 13,
   "id": "c058f297-d04a-4362-a0f6-19853ad6f8cc",
   "metadata": {},
   "outputs": [
    {
     "name": "stdout",
     "output_type": "stream",
     "text": [
      "Index(['Apple', 'Microsoft', 'Bitcoin', 'Ethereum'], dtype='object')\n",
      "<class 'pandas.core.indexes.base.Index'>\n"
     ]
    }
   ],
   "source": [
    "# index\n",
    "\n",
    "print(stock_data.index)\n",
    "print(type(stock_data.index))"
   ]
  },
  {
   "cell_type": "code",
   "execution_count": 14,
   "id": "bb64bf6e-da01-44a3-81b6-76cd304b4ecf",
   "metadata": {},
   "outputs": [
    {
     "name": "stdout",
     "output_type": "stream",
     "text": [
      "[  101.1   123.2 98098.    198. ]\n",
      "<class 'numpy.ndarray'>\n"
     ]
    }
   ],
   "source": [
    "# values\n",
    "\n",
    "print(stock_data.values)\n",
    "print(type(stock_data.values))"
   ]
  },
  {
   "cell_type": "markdown",
   "id": "e2f7d9e4-cd7e-4689-8771-06eff6db4442",
   "metadata": {},
   "source": [
    "Creating Series from csv files"
   ]
  },
  {
   "cell_type": "code",
   "execution_count": 16,
   "id": "8060287d-fc9e-42e0-b659-1f2660d5fd1c",
   "metadata": {},
   "outputs": [
    {
     "name": "stdout",
     "output_type": "stream",
     "text": [
      "            id symbol      name  \\\n",
      "0      bitcoin    btc   Bitcoin   \n",
      "1     ethereum    eth  Ethereum   \n",
      "2       tether   usdt    Tether   \n",
      "3       ripple    xrp       XRP   \n",
      "4  binancecoin    bnb       BNB   \n",
      "\n",
      "                                               image  current_price  \\\n",
      "0  https://coin-images.coingecko.com/coins/images...      108227.00   \n",
      "1  https://coin-images.coingecko.com/coins/images...        2520.33   \n",
      "2  https://coin-images.coingecko.com/coins/images...           1.00   \n",
      "3  https://coin-images.coingecko.com/coins/images...           2.27   \n",
      "4  https://coin-images.coingecko.com/coins/images...         656.83   \n",
      "\n",
      "      market_cap  market_cap_rank  fully_diluted_valuation  total_volume  \\\n",
      "0  2151895563905                1            2151895563905  9.580596e+09   \n",
      "1   304226611989                2             304226611989  6.156285e+09   \n",
      "2   158627969778                3             158627969778  2.164754e+10   \n",
      "3   134189088384                4             227144701517  1.703626e+09   \n",
      "4    95781287968                5              95781287968  3.351794e+08   \n",
      "\n",
      "    high_24h  ...  total_supply    max_supply        ath  \\\n",
      "0  108252.00  ...  1.988841e+07  2.100000e+07  111814.00   \n",
      "1    2523.71  ...  1.207169e+08           NaN    4878.26   \n",
      "2       1.00  ...  1.585966e+11           NaN       1.32   \n",
      "3       2.28  ...  9.998597e+10  1.000000e+11       3.40   \n",
      "4     656.68  ...  1.458876e+08  2.000000e+08     788.84   \n",
      "\n",
      "   ath_change_percentage                  ath_date        atl  \\\n",
      "0               -3.21344  2025-05-22T18:41:28.492Z  67.810000   \n",
      "1              -48.33509  2021-11-10T14:24:19.604Z   0.432979   \n",
      "2              -24.40511  2018-07-24T00:00:00.000Z   0.572521   \n",
      "3              -33.12351  2018-01-07T00:00:00.000Z   0.002686   \n",
      "4              -16.75029  2024-12-04T10:35:25.220Z   0.039818   \n",
      "\n",
      "   atl_change_percentage                  atl_date  \\\n",
      "0           1.594969e+05  2013-07-06T00:00:00.000Z   \n",
      "1           5.819951e+05  2015-10-20T00:00:00.000Z   \n",
      "2           7.469969e+01  2015-03-02T00:00:00.000Z   \n",
      "3           8.450868e+04  2014-05-22T00:00:00.000Z   \n",
      "4           1.649192e+06  2017-10-19T00:00:00.000Z   \n",
      "\n",
      "                                                 roi              last_updated  \n",
      "0                                               None  2025-07-06T13:01:27.331Z  \n",
      "1  {'times': 30.12763858660061, 'currency': 'btc'...  2025-07-06T13:01:26.973Z  \n",
      "2                                               None  2025-07-06T13:01:33.574Z  \n",
      "3                                               None  2025-07-06T13:01:32.113Z  \n",
      "4                                               None  2025-07-06T13:01:24.693Z  \n",
      "\n",
      "[5 rows x 26 columns]\n"
     ]
    }
   ],
   "source": [
    "import requests\n",
    "\n",
    "url = \"https://api.coingecko.com/api/v3/coins/markets\"\n",
    "\n",
    "params = {\n",
    "    \"vs_currency\": \"usd\",\n",
    "    \"order\": \"market_cap_desc\",\n",
    "    \"per_page\": 100,\n",
    "    \"page\": 1,\n",
    "    \"sparkline\": False\n",
    "}\n",
    "\n",
    "response = requests.get(url, params=params)\n",
    "\n",
    "if response.status_code == 200:\n",
    "    data = response.json()\n",
    "    df = pd.DataFrame(data)\n",
    "    print(df.head())\n",
    "else:\n",
    "    print(f\"Failed to fetch data: {response.status_code}\")"
   ]
  },
  {
   "cell_type": "code",
   "execution_count": 17,
   "id": "d7956372-4449-4653-9a14-4521fc6b55c0",
   "metadata": {},
   "outputs": [],
   "source": [
    "df.to_csv(\"files/coins.csv\", index  = False)"
   ]
  },
  {
   "cell_type": "code",
   "execution_count": 18,
   "id": "d730d49d-a740-47b5-a275-c57e0c73c341",
   "metadata": {},
   "outputs": [
    {
     "data": {
      "text/html": [
       "<div>\n",
       "<style scoped>\n",
       "    .dataframe tbody tr th:only-of-type {\n",
       "        vertical-align: middle;\n",
       "    }\n",
       "\n",
       "    .dataframe tbody tr th {\n",
       "        vertical-align: top;\n",
       "    }\n",
       "\n",
       "    .dataframe thead th {\n",
       "        text-align: right;\n",
       "    }\n",
       "</style>\n",
       "<table border=\"1\" class=\"dataframe\">\n",
       "  <thead>\n",
       "    <tr style=\"text-align: right;\">\n",
       "      <th></th>\n",
       "      <th>id</th>\n",
       "      <th>symbol</th>\n",
       "      <th>name</th>\n",
       "      <th>image</th>\n",
       "      <th>current_price</th>\n",
       "      <th>market_cap</th>\n",
       "      <th>market_cap_rank</th>\n",
       "      <th>fully_diluted_valuation</th>\n",
       "      <th>total_volume</th>\n",
       "      <th>high_24h</th>\n",
       "      <th>...</th>\n",
       "      <th>total_supply</th>\n",
       "      <th>max_supply</th>\n",
       "      <th>ath</th>\n",
       "      <th>ath_change_percentage</th>\n",
       "      <th>ath_date</th>\n",
       "      <th>atl</th>\n",
       "      <th>atl_change_percentage</th>\n",
       "      <th>atl_date</th>\n",
       "      <th>roi</th>\n",
       "      <th>last_updated</th>\n",
       "    </tr>\n",
       "  </thead>\n",
       "  <tbody>\n",
       "    <tr>\n",
       "      <th>0</th>\n",
       "      <td>bitcoin</td>\n",
       "      <td>btc</td>\n",
       "      <td>Bitcoin</td>\n",
       "      <td>https://coin-images.coingecko.com/coins/images...</td>\n",
       "      <td>108227.00</td>\n",
       "      <td>2151895563905</td>\n",
       "      <td>1</td>\n",
       "      <td>2151895563905</td>\n",
       "      <td>9.580596e+09</td>\n",
       "      <td>108252.00</td>\n",
       "      <td>...</td>\n",
       "      <td>1.988841e+07</td>\n",
       "      <td>2.100000e+07</td>\n",
       "      <td>111814.00</td>\n",
       "      <td>-3.21344</td>\n",
       "      <td>2025-05-22T18:41:28.492Z</td>\n",
       "      <td>67.810000</td>\n",
       "      <td>1.594969e+05</td>\n",
       "      <td>2013-07-06T00:00:00.000Z</td>\n",
       "      <td>NaN</td>\n",
       "      <td>2025-07-06T13:01:27.331Z</td>\n",
       "    </tr>\n",
       "    <tr>\n",
       "      <th>1</th>\n",
       "      <td>ethereum</td>\n",
       "      <td>eth</td>\n",
       "      <td>Ethereum</td>\n",
       "      <td>https://coin-images.coingecko.com/coins/images...</td>\n",
       "      <td>2520.33</td>\n",
       "      <td>304226611989</td>\n",
       "      <td>2</td>\n",
       "      <td>304226611989</td>\n",
       "      <td>6.156285e+09</td>\n",
       "      <td>2523.71</td>\n",
       "      <td>...</td>\n",
       "      <td>1.207169e+08</td>\n",
       "      <td>NaN</td>\n",
       "      <td>4878.26</td>\n",
       "      <td>-48.33509</td>\n",
       "      <td>2021-11-10T14:24:19.604Z</td>\n",
       "      <td>0.432979</td>\n",
       "      <td>5.819951e+05</td>\n",
       "      <td>2015-10-20T00:00:00.000Z</td>\n",
       "      <td>{'times': 30.12763858660061, 'currency': 'btc'...</td>\n",
       "      <td>2025-07-06T13:01:26.973Z</td>\n",
       "    </tr>\n",
       "    <tr>\n",
       "      <th>2</th>\n",
       "      <td>tether</td>\n",
       "      <td>usdt</td>\n",
       "      <td>Tether</td>\n",
       "      <td>https://coin-images.coingecko.com/coins/images...</td>\n",
       "      <td>1.00</td>\n",
       "      <td>158627969778</td>\n",
       "      <td>3</td>\n",
       "      <td>158627969778</td>\n",
       "      <td>2.164754e+10</td>\n",
       "      <td>1.00</td>\n",
       "      <td>...</td>\n",
       "      <td>1.585966e+11</td>\n",
       "      <td>NaN</td>\n",
       "      <td>1.32</td>\n",
       "      <td>-24.40511</td>\n",
       "      <td>2018-07-24T00:00:00.000Z</td>\n",
       "      <td>0.572521</td>\n",
       "      <td>7.469969e+01</td>\n",
       "      <td>2015-03-02T00:00:00.000Z</td>\n",
       "      <td>NaN</td>\n",
       "      <td>2025-07-06T13:01:33.574Z</td>\n",
       "    </tr>\n",
       "    <tr>\n",
       "      <th>3</th>\n",
       "      <td>ripple</td>\n",
       "      <td>xrp</td>\n",
       "      <td>XRP</td>\n",
       "      <td>https://coin-images.coingecko.com/coins/images...</td>\n",
       "      <td>2.27</td>\n",
       "      <td>134189088384</td>\n",
       "      <td>4</td>\n",
       "      <td>227144701517</td>\n",
       "      <td>1.703626e+09</td>\n",
       "      <td>2.28</td>\n",
       "      <td>...</td>\n",
       "      <td>9.998597e+10</td>\n",
       "      <td>1.000000e+11</td>\n",
       "      <td>3.40</td>\n",
       "      <td>-33.12351</td>\n",
       "      <td>2018-01-07T00:00:00.000Z</td>\n",
       "      <td>0.002686</td>\n",
       "      <td>8.450868e+04</td>\n",
       "      <td>2014-05-22T00:00:00.000Z</td>\n",
       "      <td>NaN</td>\n",
       "      <td>2025-07-06T13:01:32.113Z</td>\n",
       "    </tr>\n",
       "    <tr>\n",
       "      <th>4</th>\n",
       "      <td>binancecoin</td>\n",
       "      <td>bnb</td>\n",
       "      <td>BNB</td>\n",
       "      <td>https://coin-images.coingecko.com/coins/images...</td>\n",
       "      <td>656.83</td>\n",
       "      <td>95781287968</td>\n",
       "      <td>5</td>\n",
       "      <td>95781287968</td>\n",
       "      <td>3.351794e+08</td>\n",
       "      <td>656.68</td>\n",
       "      <td>...</td>\n",
       "      <td>1.458876e+08</td>\n",
       "      <td>2.000000e+08</td>\n",
       "      <td>788.84</td>\n",
       "      <td>-16.75029</td>\n",
       "      <td>2024-12-04T10:35:25.220Z</td>\n",
       "      <td>0.039818</td>\n",
       "      <td>1.649192e+06</td>\n",
       "      <td>2017-10-19T00:00:00.000Z</td>\n",
       "      <td>NaN</td>\n",
       "      <td>2025-07-06T13:01:24.693Z</td>\n",
       "    </tr>\n",
       "  </tbody>\n",
       "</table>\n",
       "<p>5 rows × 26 columns</p>\n",
       "</div>"
      ],
      "text/plain": [
       "            id symbol      name  \\\n",
       "0      bitcoin    btc   Bitcoin   \n",
       "1     ethereum    eth  Ethereum   \n",
       "2       tether   usdt    Tether   \n",
       "3       ripple    xrp       XRP   \n",
       "4  binancecoin    bnb       BNB   \n",
       "\n",
       "                                               image  current_price  \\\n",
       "0  https://coin-images.coingecko.com/coins/images...      108227.00   \n",
       "1  https://coin-images.coingecko.com/coins/images...        2520.33   \n",
       "2  https://coin-images.coingecko.com/coins/images...           1.00   \n",
       "3  https://coin-images.coingecko.com/coins/images...           2.27   \n",
       "4  https://coin-images.coingecko.com/coins/images...         656.83   \n",
       "\n",
       "      market_cap  market_cap_rank  fully_diluted_valuation  total_volume  \\\n",
       "0  2151895563905                1            2151895563905  9.580596e+09   \n",
       "1   304226611989                2             304226611989  6.156285e+09   \n",
       "2   158627969778                3             158627969778  2.164754e+10   \n",
       "3   134189088384                4             227144701517  1.703626e+09   \n",
       "4    95781287968                5              95781287968  3.351794e+08   \n",
       "\n",
       "    high_24h  ...  total_supply    max_supply        ath  \\\n",
       "0  108252.00  ...  1.988841e+07  2.100000e+07  111814.00   \n",
       "1    2523.71  ...  1.207169e+08           NaN    4878.26   \n",
       "2       1.00  ...  1.585966e+11           NaN       1.32   \n",
       "3       2.28  ...  9.998597e+10  1.000000e+11       3.40   \n",
       "4     656.68  ...  1.458876e+08  2.000000e+08     788.84   \n",
       "\n",
       "   ath_change_percentage                  ath_date        atl  \\\n",
       "0               -3.21344  2025-05-22T18:41:28.492Z  67.810000   \n",
       "1              -48.33509  2021-11-10T14:24:19.604Z   0.432979   \n",
       "2              -24.40511  2018-07-24T00:00:00.000Z   0.572521   \n",
       "3              -33.12351  2018-01-07T00:00:00.000Z   0.002686   \n",
       "4              -16.75029  2024-12-04T10:35:25.220Z   0.039818   \n",
       "\n",
       "   atl_change_percentage                  atl_date  \\\n",
       "0           1.594969e+05  2013-07-06T00:00:00.000Z   \n",
       "1           5.819951e+05  2015-10-20T00:00:00.000Z   \n",
       "2           7.469969e+01  2015-03-02T00:00:00.000Z   \n",
       "3           8.450868e+04  2014-05-22T00:00:00.000Z   \n",
       "4           1.649192e+06  2017-10-19T00:00:00.000Z   \n",
       "\n",
       "                                                 roi              last_updated  \n",
       "0                                                NaN  2025-07-06T13:01:27.331Z  \n",
       "1  {'times': 30.12763858660061, 'currency': 'btc'...  2025-07-06T13:01:26.973Z  \n",
       "2                                                NaN  2025-07-06T13:01:33.574Z  \n",
       "3                                                NaN  2025-07-06T13:01:32.113Z  \n",
       "4                                                NaN  2025-07-06T13:01:24.693Z  \n",
       "\n",
       "[5 rows x 26 columns]"
      ]
     },
     "execution_count": 18,
     "metadata": {},
     "output_type": "execute_result"
    }
   ],
   "source": [
    "df = pd.read_csv(\"files/coins.csv\")\n",
    "df.head()"
   ]
  },
  {
   "cell_type": "code",
   "execution_count": 19,
   "id": "fca86036-cd36-4eed-b40a-2c7044145fa6",
   "metadata": {},
   "outputs": [
    {
     "name": "stdout",
     "output_type": "stream",
     "text": [
      "0     Bitcoin\n",
      "1    Ethereum\n",
      "2      Tether\n",
      "3         XRP\n",
      "4         BNB\n",
      "Name: name, dtype: object\n",
      "<class 'pandas.core.series.Series'>\n"
     ]
    }
   ],
   "source": [
    "stocks = df[\"name\"]\n",
    "print(stocks[:5])\n",
    "print(type(stocks))"
   ]
  },
  {
   "cell_type": "code",
   "execution_count": 20,
   "id": "7b673bfb-8ca7-4389-b052-cc22eb0f96f6",
   "metadata": {},
   "outputs": [
    {
     "name": "stdout",
     "output_type": "stream",
     "text": [
      "       name  current_price\n",
      "0   Bitcoin      108227.00\n",
      "1  Ethereum        2520.33\n",
      "2    Tether           1.00\n",
      "3       XRP           2.27\n",
      "4       BNB         656.83\n",
      "<class 'pandas.core.frame.DataFrame'>\n"
     ]
    }
   ],
   "source": [
    "stocks = df[[\"name\", \"current_price\"]]\n",
    "print(stocks[:5])\n",
    "print(type(stocks))"
   ]
  },
  {
   "cell_type": "code",
   "execution_count": 21,
   "id": "46a6f046-5c09-4384-90ba-631bddff8e5e",
   "metadata": {},
   "outputs": [
    {
     "name": "stdout",
     "output_type": "stream",
     "text": [
      "name\n",
      "Bitcoin     108227.00\n",
      "Ethereum      2520.33\n",
      "Tether           1.00\n",
      "XRP              2.27\n",
      "BNB            656.83\n",
      "Name: current_price, dtype: float64\n",
      "<class 'pandas.core.series.Series'>\n"
     ]
    }
   ],
   "source": [
    "stocks = df[[\"name\", \"current_price\"]]\n",
    "stocks = stocks.set_index(\"name\")\n",
    "stocks = stocks.squeeze()\n",
    "print(stocks[:5])\n",
    "print(type(stocks))"
   ]
  },
  {
   "cell_type": "code",
   "execution_count": 22,
   "id": "c3325b97-10d3-4bf2-9076-055fa78d3dde",
   "metadata": {},
   "outputs": [
    {
     "name": "stdout",
     "output_type": "stream",
     "text": [
      "6815\n"
     ]
    }
   ],
   "source": [
    "import sys\n",
    "\n",
    "print(sys.getsizeof(stocks))"
   ]
  },
  {
   "cell_type": "code",
   "execution_count": 23,
   "id": "9f5fb544-471c-4d44-8122-3f1925257cf4",
   "metadata": {},
   "outputs": [
    {
     "name": "stdout",
     "output_type": "stream",
     "text": [
      "6415\n"
     ]
    }
   ],
   "source": [
    "stocks = stocks.astype(np.float32)\n",
    "print(sys.getsizeof(stocks))"
   ]
  },
  {
   "cell_type": "code",
   "execution_count": 24,
   "id": "06bd5892-f9cb-4b65-9a22-e921dfa74390",
   "metadata": {},
   "outputs": [
    {
     "name": "stdout",
     "output_type": "stream",
     "text": [
      "<class 'pandas.core.frame.DataFrame'>\n"
     ]
    }
   ],
   "source": [
    "series = df.squeeze()\n",
    "\n",
    "# print(series[:5])\n",
    "print(type(series))"
   ]
  },
  {
   "cell_type": "code",
   "execution_count": 25,
   "id": "6e483cde-d12b-4f93-a7aa-2f3aea612932",
   "metadata": {},
   "outputs": [
    {
     "name": "stdout",
     "output_type": "stream",
     "text": [
      "name\n",
      "Bitcoin     108227.000000\n",
      "Ethereum      2520.330078\n",
      "Tether           1.000000\n",
      "XRP              2.270000\n",
      "BNB            656.830017\n",
      "Name: current_price, dtype: float32\n"
     ]
    }
   ],
   "source": [
    "print(stocks.head())"
   ]
  },
  {
   "cell_type": "code",
   "execution_count": 26,
   "id": "950cec0b-4d7d-45ea-bed9-a5a6cd1ea197",
   "metadata": {},
   "outputs": [
    {
     "name": "stdout",
     "output_type": "stream",
     "text": [
      "name\n",
      "Ethereum Classic        16.440001\n",
      "USDtb                    0.999717\n",
      "Render                   3.180000\n",
      "Wrapped Bitcoin     108172.000000\n",
      "Dai                      0.999904\n",
      "Name: current_price, dtype: float32\n"
     ]
    }
   ],
   "source": [
    "# Sample\n",
    "\n",
    "print(stocks.sample(5))"
   ]
  },
  {
   "cell_type": "code",
   "execution_count": 27,
   "id": "51f52ea3-e1c8-46b0-bf69-39181b8f2a8f",
   "metadata": {},
   "outputs": [
    {
     "name": "stdout",
     "output_type": "stream",
     "text": [
      "current_price\n",
      "1.000000         5\n",
      "108227.000000    1\n",
      "0.182062         1\n",
      "4.460000         1\n",
      "0.176421         1\n",
      "                ..\n",
      "108229.000000    1\n",
      "315.500000       1\n",
      "0.999932         1\n",
      "45.200001        1\n",
      "0.537113         1\n",
      "Name: count, Length: 96, dtype: int64\n",
      "current_price\n",
      "108227.000000    1\n",
      "0.176421         1\n",
      "2518.770020      1\n",
      "2.260000         1\n",
      "107.260002       1\n",
      "                ..\n",
      "45.200001        1\n",
      "0.155603         1\n",
      "272.459991       1\n",
      "0.537113         1\n",
      "1.000000         5\n",
      "Name: count, Length: 96, dtype: int64\n"
     ]
    }
   ],
   "source": [
    "# Value counts\n",
    "print(stocks.value_counts())\n",
    "\n",
    "print(stocks.value_counts(ascending=True))"
   ]
  },
  {
   "cell_type": "code",
   "execution_count": 28,
   "id": "9f4b28c9-91bd-4d81-81f6-59fd06e90180",
   "metadata": {},
   "outputs": [
    {
     "name": "stdout",
     "output_type": "stream",
     "text": [
      "name\n",
      "Pepe                         0.000010\n",
      "Shiba Inu                    0.000012\n",
      "Bonk                         0.000022\n",
      "Pudgy Penguins               0.015965\n",
      "Flare                        0.016678\n",
      "                            ...      \n",
      "Wrapped stETH             3042.520020\n",
      "Lombard Staked BTC      108161.000000\n",
      "Wrapped Bitcoin         108172.000000\n",
      "Bitcoin                 108227.000000\n",
      "Coinbase Wrapped BTC    108229.000000\n",
      "Name: current_price, Length: 100, dtype: float32\n"
     ]
    }
   ],
   "source": [
    "# Sort_values\n",
    "print(stocks.sort_values())"
   ]
  },
  {
   "cell_type": "code",
   "execution_count": 29,
   "id": "71cddc44-f332-40e8-8866-e6c4e089735f",
   "metadata": {},
   "outputs": [
    {
     "name": "stdout",
     "output_type": "stream",
     "text": [
      "name\n",
      "sUSDS                                       1.058000\n",
      "XRP                                         2.270000\n",
      "XDC Network                                 0.064437\n",
      "Wrapped stETH                            3042.520020\n",
      "Wrapped eETH                             2699.530029\n",
      "                                            ...     \n",
      "Artificial Superintelligence Alliance       0.662595\n",
      "Arbitrum                                    0.327782\n",
      "Aptos                                       4.450000\n",
      "Algorand                                    0.176421\n",
      "Aave                                      272.459991\n",
      "Name: current_price, Length: 100, dtype: float32\n"
     ]
    }
   ],
   "source": [
    "# Sort_index\n",
    "print(stocks.sort_index(ascending=False))\n",
    "\n",
    "# print(stocks.sort_index(ascending=False, inplace=True))"
   ]
  },
  {
   "cell_type": "code",
   "execution_count": 30,
   "id": "66041ffc-f066-4f65-a6d9-cebd10748603",
   "metadata": {},
   "outputs": [
    {
     "name": "stdout",
     "output_type": "stream",
     "text": [
      "100\n"
     ]
    }
   ],
   "source": [
    "# Count - Excludes the NaN values\n",
    "print(stocks.count())"
   ]
  },
  {
   "cell_type": "code",
   "execution_count": 31,
   "id": "e4e55c3a-8b22-4a90-aa96-59b75ae40c87",
   "metadata": {},
   "outputs": [
    {
     "name": "stdout",
     "output_type": "stream",
     "text": [
      "100\n"
     ]
    }
   ],
   "source": [
    "# Size - Includes the NaN values\n",
    "print(stocks.size)"
   ]
  },
  {
   "cell_type": "code",
   "execution_count": 32,
   "id": "4570694e-58e3-439e-99cc-e271c14617d9",
   "metadata": {},
   "outputs": [
    {
     "name": "stdout",
     "output_type": "stream",
     "text": [
      "5\n",
      "6\n"
     ]
    }
   ],
   "source": [
    "df = pd.Series([1, 2, 3, np.nan, 4, 5])\n",
    "print(df.count())\n",
    "print(df.size)"
   ]
  },
  {
   "cell_type": "code",
   "execution_count": 33,
   "id": "f289580b-ef06-4d86-8032-1576384dd73f",
   "metadata": {},
   "outputs": [
    {
     "name": "stdout",
     "output_type": "stream",
     "text": [
      "15.0\n",
      "120.0\n"
     ]
    }
   ],
   "source": [
    "# Sum and Product\n",
    "\n",
    "print(df.sum())\n",
    "print(df.product())"
   ]
  },
  {
   "cell_type": "code",
   "execution_count": 34,
   "id": "4c58034c-8984-4e32-825f-b22a6664caca",
   "metadata": {},
   "outputs": [
    {
     "name": "stdout",
     "output_type": "stream",
     "text": [
      "3.0\n",
      "3.0\n",
      "1.5811388300841898\n",
      "2.5\n",
      "1.0\n",
      "5.0\n"
     ]
    }
   ],
   "source": [
    "# mean\n",
    "print(df.mean())\n",
    "print(df.median())\n",
    "# print(df.mode())\n",
    "print(df.std())\n",
    "print(df.var())\n",
    "print(df.min())\n",
    "print(df.max())"
   ]
  },
  {
   "cell_type": "code",
   "execution_count": 35,
   "id": "fee4fc0d-29ff-4d65-85e0-40dd0f606b31",
   "metadata": {},
   "outputs": [
    {
     "name": "stdout",
     "output_type": "stream",
     "text": [
      "count    5.000000\n",
      "mean     3.000000\n",
      "std      1.581139\n",
      "min      1.000000\n",
      "25%      2.000000\n",
      "50%      3.000000\n",
      "75%      4.000000\n",
      "max      5.000000\n",
      "dtype: float64\n"
     ]
    }
   ],
   "source": [
    "print(df.describe(include=True))"
   ]
  },
  {
   "cell_type": "code",
   "execution_count": 36,
   "id": "ff7d4670-d8a5-46ae-8db9-e542fedc336d",
   "metadata": {},
   "outputs": [
    {
     "name": "stdout",
     "output_type": "stream",
     "text": [
      "0.537113\n"
     ]
    },
    {
     "name": "stderr",
     "output_type": "stream",
     "text": [
      "C:\\Users\\emmanuel.osademe\\AppData\\Local\\Temp\\ipykernel_4024\\3048893547.py:1: FutureWarning: Series.__getitem__ treating keys as positions is deprecated. In a future version, integer keys will always be treated as labels (consistent with DataFrame behavior). To access a value by position, use `ser.iloc[pos]`\n",
      "  print(stocks[-1])\n"
     ]
    }
   ],
   "source": [
    "print(stocks[-1])"
   ]
  },
  {
   "cell_type": "code",
   "execution_count": 37,
   "id": "5dcaa1e4-8d02-48c1-b456-82186077ffc1",
   "metadata": {},
   "outputs": [
    {
     "name": "stdout",
     "output_type": "stream",
     "text": [
      "name\n",
      "Bitcoin     108227.000000\n",
      "Ethereum      2520.330078\n",
      "Tether           1.000000\n",
      "XRP              2.270000\n",
      "BNB            656.830017\n",
      "Solana         148.789993\n",
      "Name: current_price, dtype: float32\n"
     ]
    }
   ],
   "source": [
    "print(stocks[:6])"
   ]
  },
  {
   "cell_type": "code",
   "execution_count": 38,
   "id": "e942468d-e12b-42dd-a8ca-96a115727d22",
   "metadata": {},
   "outputs": [
    {
     "name": "stdout",
     "output_type": "stream",
     "text": [
      "name\n",
      "Bitcoin     108227.000000\n",
      "Ethereum      2520.330078\n",
      "Tether           1.000000\n",
      "XRP              2.270000\n",
      "BNB            656.830017\n",
      "Solana         148.789993\n",
      "Name: current_price, dtype: float32\n"
     ]
    }
   ],
   "source": [
    "# Label Indexing\n",
    "print(stocks[\"Bitcoin\":\"Solana\"])"
   ]
  },
  {
   "cell_type": "code",
   "execution_count": 39,
   "id": "d55a419f-17ba-4205-95e3-2c5d01988910",
   "metadata": {},
   "outputs": [
    {
     "name": "stdout",
     "output_type": "stream",
     "text": [
      "<class 'pandas.core.series.Series'>\n"
     ]
    }
   ],
   "source": [
    "print(type(stocks))"
   ]
  },
  {
   "cell_type": "code",
   "execution_count": 40,
   "id": "f628ec12-0c10-4b72-88cd-9753d371f3fc",
   "metadata": {},
   "outputs": [
    {
     "name": "stdout",
     "output_type": "stream",
     "text": [
      "True\n",
      "False\n"
     ]
    }
   ],
   "source": [
    "# Membership\n",
    "print(\"Bitcoin\" in stocks.index)\n",
    "print(\"Bitcoin\" in stocks.values)"
   ]
  },
  {
   "cell_type": "code",
   "execution_count": 41,
   "id": "514b940b-2af9-4b22-8556-d22b78b93875",
   "metadata": {},
   "outputs": [
    {
     "name": "stdout",
     "output_type": "stream",
     "text": [
      "108227.0\n",
      "2520.330078125\n",
      "1.0\n",
      "2.2699999809265137\n",
      "656.8300170898438\n",
      "148.7899932861328\n",
      "0.9998000264167786\n",
      "0.28461501002311707\n",
      "0.16677500307559967\n",
      "2519.97998046875\n",
      "0.5805680155754089\n",
      "108172.0\n",
      "39.119998931884766\n",
      "3042.52001953125\n",
      "2.9100000858306885\n",
      "487.9200134277344\n",
      "13.25\n",
      "9.039999961853027\n",
      "18.010000228881836\n",
      "0.24124300479888916\n",
      "0.9998440146446228\n",
      "2.930000066757202\n",
      "1.1699999959091656e-05\n",
      "2699.530029296875\n",
      "87.38999938964844\n",
      "2520.969970703125\n",
      "0.15560300648212433\n",
      "45.20000076293945\n",
      "0.9999319911003113\n",
      "315.5\n",
      "1.0\n",
      "108229.0\n",
      "3.369999885559082\n",
      "4.380000114440918\n",
      "7.320000171661377\n",
      "9.890000001178123e-06\n",
      "272.4599914550781\n",
      "0.9999039769172668\n",
      "0.4515489935874939\n",
      "1.1799999475479126\n",
      "48.439998626708984\n",
      "323.1499938964844\n",
      "4.449999809265137\n",
      "1.0\n",
      "180.77999877929688\n",
      "2.1500000953674316\n",
      "4.789999961853027\n",
      "0.08066000044345856\n",
      "16.440000534057617\n",
      "0.7837200164794922\n",
      "1.0579999685287476\n",
      "0.999813973903656\n",
      "0.07572600245475769\n",
      "4.440000057220459\n",
      "0.5623570084571838\n",
      "4.019999980926514\n",
      "15.279999732971191\n",
      "0.020676840096712112\n",
      "0.6625949740409851\n",
      "2.2250000256462954e-05\n",
      "8.529999732971191\n",
      "108161.0\n",
      "3.180000066757202\n",
      "0.18206200003623962\n",
      "0.257286012172699\n",
      "20.389999389648438\n",
      "0.07638400048017502\n",
      "0.32778200507164\n",
      "107.26000213623047\n",
      "2.259999990463257\n",
      "2518.77001953125\n",
      "0.17642100155353546\n",
      "4.460000038146973\n",
      "0.8762230277061462\n",
      "0.9981610178947449\n",
      "0.26365599036216736\n",
      "0.9997169971466064\n",
      "11.050000190734863\n",
      "157.36000061035156\n",
      "1.0\n",
      "0.4453809857368469\n",
      "1.2100000381469727\n",
      "2642.219970703125\n",
      "2872.159912109375\n",
      "1.159999966621399\n",
      "0.0166782196611166\n",
      "1.2300000190734863\n",
      "10.84000015258789\n",
      "1.0\n",
      "0.06443700194358826\n",
      "1.4900000095367432\n",
      "1.5499999523162842\n",
      "0.01596538908779621\n",
      "0.9998499751091003\n",
      "0.6524410247802734\n",
      "0.3091849982738495\n",
      "2691.5\n",
      "1.1100000143051147\n",
      "2647.550048828125\n",
      "0.5371130108833313\n"
     ]
    }
   ],
   "source": [
    "for i in stocks:\n",
    "    print(i)"
   ]
  },
  {
   "cell_type": "code",
   "execution_count": 42,
   "id": "58829431-0bea-4d04-a3de-ca915145bc39",
   "metadata": {},
   "outputs": [
    {
     "name": "stdout",
     "output_type": "stream",
     "text": [
      "Bitcoin\n",
      "Ethereum\n",
      "Tether\n",
      "XRP\n",
      "BNB\n",
      "Solana\n",
      "USDC\n",
      "TRON\n",
      "Dogecoin\n",
      "Lido Staked Ether\n",
      "Cardano\n",
      "Wrapped Bitcoin\n",
      "Hyperliquid\n",
      "Wrapped stETH\n",
      "Sui\n",
      "Bitcoin Cash\n",
      "Chainlink\n",
      "LEO Token\n",
      "Avalanche\n",
      "Stellar\n",
      "USDS\n",
      "Toncoin\n",
      "Shiba Inu\n",
      "Wrapped eETH\n",
      "Litecoin\n",
      "WETH\n",
      "Hedera\n",
      "WhiteBIT Coin\n",
      "Binance Bridged USDT (BNB Smart Chain)\n",
      "Monero\n",
      "Ethena USDe\n",
      "Coinbase Wrapped BTC\n",
      "Polkadot\n",
      "Bitget Token\n",
      "Uniswap\n",
      "Pepe\n",
      "Aave\n",
      "Dai\n",
      "Pi Network\n",
      "Ethena Staked USDe\n",
      "OKB\n",
      "Bittensor\n",
      "Aptos\n",
      "BlackRock USD Institutional Digital Liquidity Fund\n",
      "Jito Staked SOL\n",
      "NEAR Protocol\n",
      "Internet Computer\n",
      "Cronos\n",
      "Ethereum Classic\n",
      "Ondo\n",
      "sUSDS\n",
      "USD1\n",
      "Kaspa\n",
      "Fasttoken\n",
      "Mantle\n",
      "Cosmos Hub\n",
      "Gate\n",
      "VeChain\n",
      "Artificial Superintelligence Alliance\n",
      "Bonk\n",
      "Official Trump\n",
      "Lombard Staked BTC\n",
      "Render\n",
      "POL (ex-MATIC)\n",
      "Ethena\n",
      "Tokenize Xchange\n",
      "Sky\n",
      "Arbitrum\n",
      "Quant\n",
      "Filecoin\n",
      "Binance-Peg WETH\n",
      "Algorand\n",
      "Jupiter Perpetuals Liquidity Provider Token\n",
      "Worldcoin\n",
      "First Digital USD\n",
      "Sei\n",
      "USDtb\n",
      "KuCoin\n",
      "Binance Staked SOL\n",
      "USDT0\n",
      "Jupiter\n",
      "NEXO\n",
      "Kelp DAO Restaked ETH\n",
      "Rocket Pool ETH\n",
      "Fartcoin\n",
      "Flare\n",
      "SPX6900\n",
      "Injective\n",
      "Polygon Bridged USDT (Polygon)\n",
      "XDC Network\n",
      "Celestia\n",
      "Virtuals Protocol\n",
      "Pudgy Penguins\n",
      "Binance Bridged USDC (BNB Smart Chain)\n",
      "Stacks\n",
      "Sonic\n",
      "Mantle Staked Ether\n",
      "SyrupUSDC\n",
      "StakeWise Staked ETH\n",
      "Optimism\n"
     ]
    }
   ],
   "source": [
    "for i in stocks.index:\n",
    "    print(i)"
   ]
  },
  {
   "cell_type": "code",
   "execution_count": 43,
   "id": "fe89ca3a-24aa-4732-9c00-b1385ff02c6b",
   "metadata": {},
   "outputs": [
    {
     "name": "stdout",
     "output_type": "stream",
     "text": [
      "name\n",
      "Solana                148.789993\n",
      "Litecoin               87.389999\n",
      "Jito Staked SOL       180.779999\n",
      "Quant                 107.260002\n",
      "Binance Staked SOL    157.360001\n",
      "Name: current_price, dtype: float32\n",
      "name\n",
      "Bitcoin                  108227.000000\n",
      "Ethereum                   2520.330078\n",
      "BNB                         656.830017\n",
      "Lido Staked Ether          2519.979980\n",
      "Wrapped Bitcoin          108172.000000\n",
      "Wrapped stETH              3042.520020\n",
      "Bitcoin Cash                487.920013\n",
      "Wrapped eETH               2699.530029\n",
      "WETH                       2520.969971\n",
      "Monero                      315.500000\n",
      "Coinbase Wrapped BTC     108229.000000\n",
      "Aave                        272.459991\n",
      "Bittensor                   323.149994\n",
      "Lombard Staked BTC       108161.000000\n",
      "Binance-Peg WETH           2518.770020\n",
      "Kelp DAO Restaked ETH      2642.219971\n",
      "Rocket Pool ETH            2872.159912\n",
      "Mantle Staked Ether        2691.500000\n",
      "StakeWise Staked ETH       2647.550049\n",
      "Name: current_price, dtype: float32\n"
     ]
    }
   ],
   "source": [
    "print(stocks[(stocks > 50) & (stocks < 200)])\n",
    "print(stocks[stocks > 200])"
   ]
  },
  {
   "cell_type": "code",
   "execution_count": 44,
   "id": "99dcce56-ebc6-4375-a355-948c6cc607f2",
   "metadata": {},
   "outputs": [
    {
     "data": {
      "text/plain": [
       "<Axes: xlabel='name'>"
      ]
     },
     "execution_count": 44,
     "metadata": {},
     "output_type": "execute_result"
    },
    {
     "data": {
      "image/png": "[encoded data removed]",
      "text/plain": [
       "<Figure size 640x480 with 1 Axes>"
      ]
     },
     "metadata": {},
     "output_type": "display_data"
    }
   ],
   "source": [
    "stocks.plot()"
   ]
  },
  {
   "cell_type": "code",
   "execution_count": 45,
   "id": "3d594aae-576e-4362-8405-f82bf0c91e5e",
   "metadata": {},
   "outputs": [
    {
     "name": "stdout",
     "output_type": "stream",
     "text": [
      "name\n",
      "Lombard Staked BTC      108161.0\n",
      "Wrapped Bitcoin         108172.0\n",
      "Bitcoin                 108227.0\n",
      "Coinbase Wrapped BTC    108229.0\n",
      "Name: current_price, dtype: float32\n"
     ]
    },
    {
     "data": {
      "text/plain": [
       "<Axes: xlabel='name'>"
      ]
     },
     "execution_count": 45,
     "metadata": {},
     "output_type": "execute_result"
    },
    {
     "data": {
      "image/png": "[encoded data removed]",
      "text/plain": [
       "<Figure size 640x480 with 1 Axes>"
      ]
     },
     "metadata": {},
     "output_type": "display_data"
    }
   ],
   "source": [
    "stocks = stocks.sort_values()\n",
    "print(stocks[-4:])\n",
    "large_stocks = stocks[-4:]\n",
    "large_stocks.plot()"
   ]
  },
  {
   "cell_type": "code",
   "execution_count": 46,
   "id": "c3979472-66f0-41ff-b504-686b62df025d",
   "metadata": {},
   "outputs": [
    {
     "data": {
      "text/plain": [
       "<Axes: ylabel='current_price'>"
      ]
     },
     "execution_count": 46,
     "metadata": {},
     "output_type": "execute_result"
    },
    {
     "data": {
      "image/png": "[encoded data removed]",
      "text/plain": [
       "<Figure size 640x480 with 1 Axes>"
      ]
     },
     "metadata": {},
     "output_type": "display_data"
    }
   ],
   "source": [
    "large_stocks.plot(kind=\"pie\")"
   ]
  },
  {
   "cell_type": "code",
   "execution_count": 47,
   "id": "663aac2b-a9ee-4f8a-8daa-68ec7f2a3c73",
   "metadata": {},
   "outputs": [
    {
     "data": {
      "text/plain": [
       "<Axes: xlabel='name'>"
      ]
     },
     "execution_count": 47,
     "metadata": {},
     "output_type": "execute_result"
    },
    {
     "data": {
      "image/png": "[encoded data removed]",
      "text/plain": [
       "<Figure size 640x480 with 1 Axes>"
      ]
     },
     "metadata": {},
     "output_type": "display_data"
    }
   ],
   "source": [
    "large_stocks.plot(kind=\"bar\")"
   ]
  },
  {
   "cell_type": "code",
   "execution_count": 48,
   "id": "7bec8e50-e325-47d5-9122-0c19ba9de1b8",
   "metadata": {},
   "outputs": [],
   "source": [
    "# astype\n",
    "\n",
    "# print(stocks.dtype)\n",
    "# print(sys.getsizeof(stocks.dtype))\n",
    "\n",
    "# stocks = stocks.astype(dtype=np.int16)\n",
    "# print(stocks.dtype)\n",
    "# print(sys.getsizeof(stocks.dtype))"
   ]
  },
  {
   "cell_type": "code",
   "execution_count": 49,
   "id": "f8793a5f-f188-468a-a456-aca5faeb30dc",
   "metadata": {},
   "outputs": [
    {
     "name": "stdout",
     "output_type": "stream",
     "text": [
      "name\n",
      "Sonic         0.309185\n",
      "Arbitrum      0.327782\n",
      "Jupiter       0.445381\n",
      "Pi Network    0.451549\n",
      "Name: current_price, dtype: float32\n"
     ]
    }
   ],
   "source": [
    "# between\n",
    "\n",
    "print(stocks[stocks.between(0.3, 0.5)])"
   ]
  },
  {
   "cell_type": "code",
   "execution_count": 50,
   "id": "1390d5d6-1337-4910-8fc2-868053a522c4",
   "metadata": {},
   "outputs": [
    {
     "name": "stdout",
     "output_type": "stream",
     "text": [
      "name\n",
      "Pepe                    0.4\n",
      "Shiba Inu               0.4\n",
      "Bonk                    0.4\n",
      "Pudgy Penguins          0.4\n",
      "Flare                   0.4\n",
      "                       ... \n",
      "Wrapped stETH           0.7\n",
      "Lombard Staked BTC      0.7\n",
      "Wrapped Bitcoin         0.7\n",
      "Bitcoin                 0.7\n",
      "Coinbase Wrapped BTC    0.7\n",
      "Name: current_price, Length: 100, dtype: float64\n"
     ]
    }
   ],
   "source": [
    "# clip\n",
    "clipped_stocks = stocks.clip(0.4, 0.7)\n",
    "print(clipped_stocks)"
   ]
  },
  {
   "cell_type": "code",
   "execution_count": 51,
   "id": "33414fc0-c06e-44dc-b2eb-77916efd3fcf",
   "metadata": {},
   "outputs": [
    {
     "name": "stdout",
     "output_type": "stream",
     "text": [
      "name\n",
      "Pepe                                     0.400000\n",
      "Jupiter                                  0.445381\n",
      "Pi Network                               0.451549\n",
      "Optimism                                 0.537113\n",
      "Mantle                                   0.562357\n",
      "Cardano                                  0.580568\n",
      "Stacks                                   0.652441\n",
      "Artificial Superintelligence Alliance    0.662595\n",
      "Ondo                                     0.700000\n",
      "Name: current_price, dtype: float64\n"
     ]
    }
   ],
   "source": [
    "# drop_duplicates\n",
    "\n",
    "clipped_stocks = clipped_stocks.drop_duplicates()\n",
    "print(clipped_stocks)"
   ]
  },
  {
   "cell_type": "code",
   "execution_count": 52,
   "id": "cb0066fe-aba8-42db-b9b7-88e80b1d14ae",
   "metadata": {},
   "outputs": [
    {
     "name": "stdout",
     "output_type": "stream",
     "text": [
      "name\n",
      "Pepe                         0.000010\n",
      "Shiba Inu                    0.000012\n",
      "Bonk                         0.000022\n",
      "Pudgy Penguins               0.015965\n",
      "Flare                        0.016678\n",
      "                            ...      \n",
      "Wrapped stETH             3042.520020\n",
      "Lombard Staked BTC      108161.000000\n",
      "Wrapped Bitcoin         108172.000000\n",
      "Bitcoin                 108227.000000\n",
      "Coinbase Wrapped BTC    108229.000000\n",
      "Name: current_price, Length: 100, dtype: float32\n"
     ]
    }
   ],
   "source": [
    "# isnull\n",
    "\n",
    "print(stocks[~stocks.isnull()])"
   ]
  },
  {
   "cell_type": "code",
   "execution_count": 53,
   "id": "8e5fdb6c-20c9-45de-89fa-3be4bf3c4666",
   "metadata": {},
   "outputs": [],
   "source": [
    "stocks = stocks.dropna()"
   ]
  },
  {
   "cell_type": "code",
   "execution_count": 54,
   "id": "25aa8d1a-1db2-4e9e-aee8-2b5d8507d39d",
   "metadata": {},
   "outputs": [],
   "source": [
    "stocks = stocks.fillna(stocks.mean())"
   ]
  },
  {
   "cell_type": "code",
   "execution_count": 55,
   "id": "c84a1448-f066-47ea-b3c6-13e184d8cd36",
   "metadata": {},
   "outputs": [
    {
     "name": "stdout",
     "output_type": "stream",
     "text": [
      "Series([], Name: current_price, dtype: float32)\n"
     ]
    }
   ],
   "source": [
    "# isin\n",
    "\n",
    "# print(stocks[stocks.isin([0.4000,0.443570])])\n",
    "print(stocks[stocks.isin([0.4000, 0.443570])])"
   ]
  },
  {
   "cell_type": "code",
   "execution_count": 56,
   "id": "d1b570fc-2af7-49ce-afb0-426332f9bf7d",
   "metadata": {},
   "outputs": [
    {
     "name": "stdout",
     "output_type": "stream",
     "text": [
      "name\n",
      "Pepe              0.0000\n",
      "Shiba Inu         0.0000\n",
      "Bonk              0.0000\n",
      "Pudgy Penguins    0.0160\n",
      "Flare             0.0167\n",
      "Name: current_price, dtype: float64\n"
     ]
    }
   ],
   "source": [
    "# apply\n",
    "\n",
    "stocks = stocks.apply(lambda x: np.round(x, 4))\n",
    "print(stocks[:5])"
   ]
  },
  {
   "cell_type": "code",
   "execution_count": 57,
   "id": "49c373d9-8958-40ae-b7e4-e62e2a4185a5",
   "metadata": {},
   "outputs": [],
   "source": [
    "# copy\n",
    "\n",
    "stocks_copy = stocks.copy()"
   ]
  }
 ],
 "metadata": {
  "kernelspec": {
   "display_name": "Python 3 (ipykernel)",
   "language": "python",
   "name": "python3"
  },
  "language_info": {
   "codemirror_mode": {
    "name": "ipython",
    "version": 3
   },
   "file_extension": ".py",
   "mimetype": "text/x-python",
   "name": "python",
   "nbconvert_exporter": "python",
   "pygments_lexer": "ipython3",
   "version": "3.12.4"
  }
 },
 "nbformat": 4,
 "nbformat_minor": 5
}
