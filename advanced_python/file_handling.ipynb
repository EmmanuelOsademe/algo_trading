{
 "cells": [
  {
   "cell_type": "code",
   "execution_count": 1,
   "id": "da079697-83df-4172-809e-8de03ba1c330",
   "metadata": {},
   "outputs": [],
   "source": [
    "# Opening and Writing Files in Python\n",
    "\n",
    "# using the write mode creates the file\n",
    "f = open(\"files/trades.csv\", \"w\")\n",
    "f.write(\"Learning file writing with python\")\n",
    "f.close()\n",
    "\n",
    "f_text = open(\"files/trades.txt\", \"w\")\n",
    "f_text.write(\"My name is Emmanuel\\nI am a Petroleum Engineering based in Warri\\n\")\n",
    "f_text.write(\"I work with CypherCrescent Ltd\\nExpecting something much bigger though.\")\n",
    "f.close()"
   ]
  },
  {
   "cell_type": "code",
   "execution_count": 2,
   "id": "121a1516-c262-4a2c-b988-72b3e191df2a",
   "metadata": {},
   "outputs": [],
   "source": [
    "# Writing multiple lines using a list using writelines\n",
    "sentences = [\"My name is Emmanuel\\n\", \"I am a Petroleum Engineering based in Warri\\n\", \"I work with CypherCrescent Ltd\\n\", \"Expecting something much bigger though.\"]\n",
    "\n",
    "f_m = open(\"files/trade_info.txt\", \"w\")\n",
    "f_m.writelines(sentences)\n",
    "f_m.close()"
   ]
  },
  {
   "cell_type": "code",
   "execution_count": 3,
   "id": "37bf9cf7-245c-48f0-91eb-dd40e6d454a5",
   "metadata": {},
   "outputs": [
    {
     "name": "stdout",
     "output_type": "stream",
     "text": [
      "Learning file writing with python\n",
      "My name is Emmanuel\n",
      "I am a Petroleum Engineering based in Warri\n",
      "I work with CypherCrescent Ltd\n",
      "Expecting something much bigger though.\n",
      "\n",
      "\n",
      "My name is Emmanuel\n",
      "I am a Petroleum Engineering based in Warri\n",
      "I work with CypherCrescent Ltd\n",
      "Expecting something much bigger though.\n",
      "My name is Emmanuel\n",
      "\n"
     ]
    }
   ],
   "source": [
    "# Reading from a file\n",
    "# Case 1\n",
    "f = open(\"files/trades.csv\", \"r\")\n",
    "content = f.read()\n",
    "f.close()\n",
    "\n",
    "f_text = open(\"files/trades.txt\", \"r\")\n",
    "text = f_text.read()\n",
    "f.close()\n",
    "\n",
    "print(content)\n",
    "print(text)\n",
    "\n",
    "f_m = open(\"files/trade_info.txt\", \"r\")\n",
    "multilines = f_m.read()\n",
    "f_m.close()\n",
    "\n",
    "f_m = open(\"files/trade_info.txt\", \"r\")\n",
    "multilines_list = f_m.readline()\n",
    "f_m.close()\n",
    "\n",
    "print(\"\\n\")\n",
    "print(multilines)\n",
    "print(multilines_list)\n",
    "\n",
    "# Note: readline returns only the first line while readlines return an array of the lines"
   ]
  },
  {
   "cell_type": "code",
   "execution_count": 4,
   "id": "c799a6ca-859d-4bc5-ac86-e355adb0f1af",
   "metadata": {},
   "outputs": [
    {
     "name": "stdout",
     "output_type": "stream",
     "text": [
      "My name is Emmanuel\n",
      "I am a Petroleum Engineering based in Warri\n",
      "I work with CypherCrescent Ltd\n",
      "Expecting something much bigger though."
     ]
    }
   ],
   "source": [
    "# Reading each line\n",
    "\n",
    "f_m = open(\"files/trade_info.txt\", \"r\")\n",
    "\n",
    "while True:\n",
    "    data = f_m.readline()\n",
    "    if data == \"\":\n",
    "        break\n",
    "    else:\n",
    "        print(data, end=\"\")\n",
    "f_m.close()"
   ]
  },
  {
   "cell_type": "code",
   "execution_count": 5,
   "id": "b1a3f0f0-1f78-424b-9ac6-fcaaf7a1e5d1",
   "metadata": {},
   "outputs": [
    {
     "name": "stdout",
     "output_type": "stream",
     "text": [
      "My name is Emmanuel\n",
      "I am a Petroleum Engineering based in Warri\n",
      "I work with CypherCrescent Ltd\n",
      "Expecting something much bigger though.\n"
     ]
    }
   ],
   "source": [
    "# Use of Context Manager\n",
    "# this automatically closes the file once its usage is done\n",
    "\n",
    "with open(\"files/trade_info.txt\", \"r\") as f:\n",
    "    print(f.read())"
   ]
  },
  {
   "cell_type": "code",
   "execution_count": 6,
   "id": "1f2b7448-a106-4d96-9629-83033143d0d0",
   "metadata": {},
   "outputs": [
    {
     "name": "stdout",
     "output_type": "stream",
     "text": [
      "My name is Emmanuel\n",
      "I am a Petroleum Engineering based in Warri\n",
      "I work with CypherCrescent Ltd\n",
      "Expecting something much bigger though.\n"
     ]
    }
   ],
   "source": [
    "with open(\"files/trade_info.txt\", \"w\") as f:\n",
    "    f.writelines(sentences)\n",
    "\n",
    "with open(\"files/trade_info.txt\", \"r\") as f:\n",
    "    print(f.read())"
   ]
  },
  {
   "cell_type": "code",
   "execution_count": 7,
   "id": "ab72221c-cf29-45f4-ac61-f5fa739e0f88",
   "metadata": {},
   "outputs": [
    {
     "name": "stdout",
     "output_type": "stream",
     "text": [
      "My name is Emmanuel\n",
      "I am a Petroleum Engineering based in Warri\n",
      "I work with CypherCrescent Ltd\n",
      "Expecting something much bigger though.I can't wait for this new opportunity\n",
      "\n"
     ]
    }
   ],
   "source": [
    "# Appending\n",
    "sentences_2 = [\"I can't wait for this new opportunity\\n\"]\n",
    "with open(\"files/trade_info.txt\", \"a\") as f:\n",
    "    f.writelines(sentences_2)\n",
    "\n",
    "with open(\"files/trade_info.txt\", \"r\") as f:\n",
    "    print(f.read())\n"
   ]
  },
  {
   "cell_type": "code",
   "execution_count": 8,
   "id": "54ef0e90-5ff6-4522-9698-9d99baec930c",
   "metadata": {},
   "outputs": [
    {
     "name": "stdout",
     "output_type": "stream",
     "text": [
      "Price,Quantity,Symbol\n",
      "112.12,45,Symbol\n",
      "189.4,32,Symbol\n",
      "\n"
     ]
    }
   ],
   "source": [
    "# Working with CSVs\n",
    "import csv\n",
    "\n",
    "with open(\"files/trades.csv\", \"w\", newline=\"\") as f:\n",
    "    writer = csv.writer(f)\n",
    "    writer.writerow([\"Price\", \"Quantity\", \"Symbol\"])\n",
    "    writer.writerow([112.12, 45, \"Symbol\"])\n",
    "    writer.writerow([189.4, 32, \"Symbol\"])\n",
    "\n",
    "with open(\"files/trades.csv\", \"r\") as f:\n",
    "    content = f.read()\n",
    "    print(content)"
   ]
  }
 ],
 "metadata": {
  "kernelspec": {
   "display_name": "Python 3 (ipykernel)",
   "language": "python",
   "name": "python3"
  },
  "language_info": {
   "codemirror_mode": {
    "name": "ipython",
    "version": 3
   },
   "file_extension": ".py",
   "mimetype": "text/x-python",
   "name": "python",
   "nbconvert_exporter": "python",
   "pygments_lexer": "ipython3",
   "version": "3.12.4"
  }
 },
 "nbformat": 4,
 "nbformat_minor": 5
}
