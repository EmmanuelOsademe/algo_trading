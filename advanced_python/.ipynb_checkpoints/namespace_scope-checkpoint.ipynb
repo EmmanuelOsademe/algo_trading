{
 "cells": [
  {
   "cell_type": "markdown",
   "id": "a98a49b6-7b88-4eaa-b654-8e07717d406c",
   "metadata": {},
   "source": [
    "NAMESPACE and SCOPE"
   ]
  },
  {
   "cell_type": "code",
   "execution_count": null,
   "id": "ded68c08-bec1-41e5-81ff-4a35068cc42a",
   "metadata": {},
   "outputs": [],
   "source": [
    "# Namespace are dictionary of identifiers(names) that stores these identifiers as key-value pairs\n",
    "# They store variables, functions, classes, etc\n",
    "\n",
    "# Scope is the enclosure where a namespace is valid"
   ]
  }
 ],
 "metadata": {
  "kernelspec": {
   "display_name": "Python 3 (ipykernel)",
   "language": "python",
   "name": "python3"
  },
  "language_info": {
   "codemirror_mode": {
    "name": "ipython",
    "version": 3
   },
   "file_extension": ".py",
   "mimetype": "text/x-python",
   "name": "python",
   "nbconvert_exporter": "python",
   "pygments_lexer": "ipython3",
   "version": "3.12.4"
  }
 },
 "nbformat": 4,
 "nbformat_minor": 5
}
