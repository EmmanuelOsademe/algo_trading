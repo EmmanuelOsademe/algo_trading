{
 "cells": [
  {
   "cell_type": "code",
   "execution_count": 1,
   "id": "f9fa42fd-c548-4624-aacf-d0a65a807c97",
   "metadata": {},
   "outputs": [],
   "source": [
    "# Setup and Installation\n",
    "from datetime import datetime\n",
    "import yfinance as yf\n",
    "import time\n",
    "import pandas as pd"
   ]
  },
  {
   "cell_type": "code",
   "execution_count": 2,
   "id": "cfb36d40-0256-4c5c-a246-5e9403b757e0",
   "metadata": {},
   "outputs": [],
   "source": [
    "class BaseTradingStrategy:\n",
    "    def __init__(self, name):\n",
    "        self.__name = name\n",
    "\n",
    "    # This method is to be overridden by Child Classes\n",
    "    def generate_signal(self, price_data):\n",
    "        return \"Hold\"\n",
    "\n",
    "    @property\n",
    "    def name(self):\n",
    "        return self.__name\n",
    "\n",
    "    @name.setter\n",
    "    def name(self, new_name):\n",
    "        self.__name = new_name\n"
   ]
  },
  {
   "cell_type": "code",
   "execution_count": 3,
   "id": "206becf8-3f62-445b-8242-cd80a9ad555b",
   "metadata": {},
   "outputs": [],
   "source": [
    "# Simple Moving Average\n",
    "class SMATradingStrategy(BaseTradingStrategy):\n",
    "    def __init__(self, name, sWindow, lWindow):\n",
    "        super().__init__(name or \"SMA Trading Strategy\")\n",
    "        self.__sWindow = sWindow\n",
    "        self.__lWindow = lWindow\n",
    "\n",
    "    def generate_signal(self, price_data):\n",
    "        if len(price_data[-self.__lWindow:]) < self.__lWindow:\n",
    "            return \"Hold\"\n",
    "        short_avg = sum(price_data[-self.__sWindow:])/self.__sWindow\n",
    "        long_avg = sum(price_data[-self.__lWindow:])/self.__lWindow\n",
    "        if short_avg > long_avg:\n",
    "            return \"Buy\"\n",
    "        elif short_avg < long_avg:\n",
    "            return \"Sell\"\n",
    "        else:\n",
    "            return \"Hold\"\n",
    "\n",
    "    @property\n",
    "    def sWindow(self):\n",
    "        return self.__sWindow\n",
    "\n",
    "    @sWindow.setter\n",
    "    def sWindow(self, new_sWindow):\n",
    "        if isinstance(new_sWindow, (int, float)):\n",
    "            if new_sWindow < self.__lWindow:\n",
    "                self.__sWindow = new_sWindow\n",
    "            else:\n",
    "                print(f\"Input must be less than long Window, which is currently {self.__lWindow}\")\n",
    "        else:\n",
    "            print(\"Please provide the new threshold as a number\")\n",
    "\n",
    "    @property\n",
    "    def lWindow(self):\n",
    "        return self.__lWindow\n",
    "\n",
    "    @lWindow.setter\n",
    "    def lWindow(self, new_lWindow):\n",
    "        if isinstance(new_lWindow, (int, float)):\n",
    "            if new_lWindow > self.__sWindow:\n",
    "                self.__lWindow = new_lWindow\n",
    "            else:\n",
    "                print(f\"Input must be greater than short Window, which is currently {self.__sWindow}\")\n",
    "        else:\n",
    "            print(\"Please provide the new threshold as a number\")\n",
    "\n",
    "\n",
    "sma = SMATradingStrategy(\"SMA\", 2, 5)\n",
    "name = sma.name\n",
    "signal = sma.generate_signal([1, 2, 3, 4, 5, 19, 7, 8, 9, 10])"
   ]
  },
  {
   "cell_type": "code",
   "execution_count": 4,
   "id": "26b09bff-68fb-4724-a9a9-9b85b652db38",
   "metadata": {},
   "outputs": [
    {
     "name": "stdout",
     "output_type": "stream",
     "text": [
      "SMA\n",
      "Sell\n",
      "34\n",
      "2025-06-20 22:20:40.388741\n",
      "Executed Sell trade with strategy: SMA, with quantity: 34 at 2025-06-20 22:20:40.388741.\n"
     ]
    }
   ],
   "source": [
    "# Trade Manager\n",
    "\n",
    "class TradeManager:\n",
    "    def __init__(self, strategy_name, signal, quantity):\n",
    "        self.__strategy_name = strategy_name\n",
    "        self.__signal = signal\n",
    "        self.__quantity = quantity\n",
    "        self.__timestamp = datetime.now()\n",
    "\n",
    "    def execute(self):\n",
    "        print(f\"Executed {self.__signal} trade with strategy: {self.__strategy_name}, with quantity: {self.__quantity} at {self.__timestamp}.\")\n",
    "\n",
    "    @property\n",
    "    def strategy_name(self):\n",
    "        return self.__strategy_name\n",
    "\n",
    "    @property\n",
    "    def signal(self):\n",
    "        return self.__signal\n",
    "\n",
    "    @property\n",
    "    def quantity(self):\n",
    "        return self.__quantity\n",
    "\n",
    "    @property\n",
    "    def timestamp(self):\n",
    "        return self.__timestamp\n",
    "\n",
    "my_trade = TradeManager(name, signal, 34)\n",
    "print(my_trade.strategy_name)\n",
    "print(my_trade.signal)\n",
    "print(my_trade.quantity)\n",
    "print(my_trade.timestamp)\n",
    "my_trade.execute()"
   ]
  },
  {
   "cell_type": "code",
   "execution_count": 5,
   "id": "cf2a8314-7582-4fc0-8d59-4cdcdd2efd67",
   "metadata": {},
   "outputs": [
    {
     "name": "stdout",
     "output_type": "stream",
     "text": [
      "Placed a Sell trade at 40. Remaining Balance: $2360\n"
     ]
    }
   ],
   "source": [
    "# Fetching live data from the exchange\n",
    "\n",
    "class MockTradingApi:\n",
    "    def __init__(self, balance):\n",
    "        self.__balance = balance\n",
    "\n",
    "    def place_order(self, trade, price):\n",
    "        action = trade.signal\n",
    "        total_price = trade.quantity * price\n",
    "        if action == \"Buy\":\n",
    "            if self.__balance >= total_price:\n",
    "                self.__balance -= total_price\n",
    "                print(f\"Placed a Buy trade at {price}. Remaining Balance: ${self.__balance}\")\n",
    "            else:\n",
    "                print(\"You do not have sufficient balance to execute this trade\")\n",
    "        elif action == \"Sell\":\n",
    "            self.__balance += total_price\n",
    "            print(f\"Placed a Sell trade at {price}. Remaining Balance: ${self.__balance}\")\n",
    "        else:\n",
    "            print(\"No trading at the moment\")\n",
    "\n",
    "    @property\n",
    "    def balance(self):\n",
    "        return self.__balance\n",
    "\n",
    "mock_api = MockTradingApi(1000)\n",
    "mock_api.place_order(my_trade, 40)"
   ]
  },
  {
   "cell_type": "code",
   "execution_count": 6,
   "id": "b0e368ae-7727-45ea-ab84-412e30abcdca",
   "metadata": {},
   "outputs": [],
   "source": [
    "# Integrator\n",
    "\n",
    "class TradingSystem:\n",
    "    def __init__(self, api, strategy, symbol):\n",
    "        self.__api = api\n",
    "        self.__strategy = strategy\n",
    "        self.__symbol = symbol\n",
    "        self.__price_data = []\n",
    "\n",
    "    def fetch_price_data(self):\n",
    "        data = yf.download(tickers=self.__symbol, period=\"1d\", interval=\"1m\", auto_adjust=True)\n",
    "        if not data.empty:\n",
    "            # If Close is a DataFrame (e.g., multiple tickers), pick the correct column\n",
    "            if isinstance(data[\"Close\"], pd.DataFrame):\n",
    "                price = data[\"Close\"][self.__symbol].iloc[-1]\n",
    "            else:\n",
    "                price = data[\"Close\"].iloc[-1]\n",
    "            self.__price_data.append(price)\n",
    "            if len(self.__price_data) > self.__strategy.lWindow:\n",
    "                self.__price_data.pop(0)\n",
    "            print(f\"Fetched new price data: ${price}\")\n",
    "            print(self.__price_data)\n",
    "        else:\n",
    "            print(\"No data fetched\")\n",
    "\n",
    "    def run(self):\n",
    "        self.fetch_price_data()\n",
    "        signal = self.__strategy.generate_signal(self.__price_data)\n",
    "        print(f\"Generated Signal: {signal}\")\n",
    "        if signal in [\"Buy\", \"Sell\"]:\n",
    "            trade = TradeManager(self.__strategy.name, signal, 1) \n",
    "            trade.execute()\n",
    "            self.__api.place_order(trade, self.__price_data[-1])\n",
    "            \n",
    "    @property\n",
    "    def api(self):\n",
    "        return self.__api\n",
    "\n",
    "    @property\n",
    "    def strategy(self):\n",
    "        return self.__strategy\n",
    "\n",
    "    @property\n",
    "    def symbol(self):\n",
    "        return self.__symbol\n",
    "\n",
    "    @property\n",
    "    def price_data(self):\n",
    "        return self.__price_data"
   ]
  },
  {
   "cell_type": "code",
   "execution_count": 7,
   "id": "bc83873e-fae9-4201-a5b4-bdc957681f18",
   "metadata": {},
   "outputs": [
    {
     "name": "stderr",
     "output_type": "stream",
     "text": [
      "[*********************100%***********************]  1 of 1 completed\n"
     ]
    },
    {
     "name": "stdout",
     "output_type": "stream",
     "text": [
      "Fetched new price data: $200.94000244140625\n",
      "[200.94000244140625]\n",
      "Generated Signal: Hold\n",
      "Remaining balance: 12080.0\n"
     ]
    },
    {
     "name": "stderr",
     "output_type": "stream",
     "text": [
      "[*********************100%***********************]  1 of 1 completed\n"
     ]
    },
    {
     "name": "stdout",
     "output_type": "stream",
     "text": [
      "Fetched new price data: $200.94000244140625\n",
      "[200.94000244140625, 200.94000244140625]\n",
      "Generated Signal: Hold\n",
      "Remaining balance: 12080.0\n"
     ]
    },
    {
     "name": "stderr",
     "output_type": "stream",
     "text": [
      "[*********************100%***********************]  1 of 1 completed\n"
     ]
    },
    {
     "name": "stdout",
     "output_type": "stream",
     "text": [
      "Fetched new price data: $200.94000244140625\n",
      "[200.94000244140625, 200.94000244140625, 200.94000244140625]\n",
      "Generated Signal: Hold\n",
      "Remaining balance: 12080.0\n"
     ]
    },
    {
     "name": "stderr",
     "output_type": "stream",
     "text": [
      "[*********************100%***********************]  1 of 1 completed\n"
     ]
    },
    {
     "name": "stdout",
     "output_type": "stream",
     "text": [
      "Fetched new price data: $200.94000244140625\n",
      "[200.94000244140625, 200.94000244140625, 200.94000244140625, 200.94000244140625]\n",
      "Generated Signal: Hold\n",
      "Remaining balance: 12080.0\n"
     ]
    },
    {
     "name": "stderr",
     "output_type": "stream",
     "text": [
      "[*********************100%***********************]  1 of 1 completed\n"
     ]
    },
    {
     "name": "stdout",
     "output_type": "stream",
     "text": [
      "Fetched new price data: $200.94000244140625\n",
      "[200.94000244140625, 200.94000244140625, 200.94000244140625, 200.94000244140625, 200.94000244140625]\n",
      "Generated Signal: Hold\n",
      "Remaining balance: 12080.0\n"
     ]
    }
   ],
   "source": [
    "api = MockTradingApi(balance=12080.0)\n",
    "sma = SMATradingStrategy(\"SMA\", 2, 5)\n",
    "symbol = \"AAPL\"\n",
    "trading_system = TradingSystem(api, sma, symbol)\n",
    "for _ in range(5):\n",
    "    trading_system.run()\n",
    "    print(f\"Remaining balance: {api.balance}\")\n",
    "    time.sleep(2)"
   ]
  },
  {
   "cell_type": "code",
   "execution_count": 8,
   "id": "1e28f9e6-0a46-44fe-a95c-9440b3df81fc",
   "metadata": {},
   "outputs": [
    {
     "name": "stderr",
     "output_type": "stream",
     "text": [
      "C:\\Users\\emmanuel.osademe\\AppData\\Local\\Temp\\ipykernel_232\\1896774579.py:1: FutureWarning: YF.download() has changed argument auto_adjust default to True\n",
      "  data = yf.download(tickers=\"AAPL\", period=\"1d\", interval=\"1m\")\n",
      "[*********************100%***********************]  1 of 1 completed"
     ]
    },
    {
     "name": "stdout",
     "output_type": "stream",
     "text": [
      "Ticker\n",
      "AAPL    200.940002\n",
      "Name: 2025-06-20 19:59:00+00:00, dtype: float64\n"
     ]
    },
    {
     "name": "stderr",
     "output_type": "stream",
     "text": [
      "\n"
     ]
    }
   ],
   "source": [
    "data = yf.download(tickers=\"AAPL\", period=\"1d\", interval=\"1m\")\n",
    "price = data[\"Close\"].iloc[-1]\n",
    "print(price)"
   ]
  }
 ],
 "metadata": {
  "kernelspec": {
   "display_name": "Python 3 (ipykernel)",
   "language": "python",
   "name": "python3"
  },
  "language_info": {
   "codemirror_mode": {
    "name": "ipython",
    "version": 3
   },
   "file_extension": ".py",
   "mimetype": "text/x-python",
   "name": "python",
   "nbconvert_exporter": "python",
   "pygments_lexer": "ipython3",
   "version": "3.12.4"
  }
 },
 "nbformat": 4,
 "nbformat_minor": 5
}
