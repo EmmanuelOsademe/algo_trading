{
 "cells": [
  {
   "cell_type": "code",
   "execution_count": null,
   "id": "1646603a-2944-4912-8c21-b3b37bc2fd37",
   "metadata": {},
   "outputs": [],
   "source": [
    "# Difference between list and np-array\n",
    "\n",
    "# 1. Datatype Consistency - Python lists allow for storing different datatypes, while numpy arrays enforces datatype consistency\n",
    "# 2. Numpy array operations are more efficient (faster) because of this datatype consistency\n",
    "# 3. Performance - Python lists do not support vectorized operations, hence, numerical operations require explicit loops, making them even slower.\n",
    "#  Numpy arrays are designed for numerical operations and support vectorized operations. These operations are implemented in C\n",
    "# 4. Memory Efficiency - Python lists store the memory location and the datatype of each element in the list. These addresses subsequently point to the memory location of each element.\n",
    "#  Numpy arrays are however stored as a contiguous set of data, making them more memory efficient.\n",
    "# 5. Built-in functions - Numpy arrays have many optimised built-in functions"
   ]
  },
  {
   "cell_type": "code",
   "execution_count": null,
   "id": "8a0d769a-4e38-4962-a3d2-c6af78511c09",
   "metadata": {},
   "outputs": [],
   "source": [
    "import time\n",
    "import sys\n",
    "import numpy as np"
   ]
  },
  {
   "cell_type": "markdown",
   "id": "2debccd2-ab6b-44ce-9f2d-ef55bba77939",
   "metadata": {},
   "source": [
    "SPEED COMPARISON"
   ]
  },
  {
   "cell_type": "code",
   "execution_count": null,
   "id": "4dbe6b54-c710-4419-a29d-b3823c18fe02",
   "metadata": {},
   "outputs": [],
   "source": [
    "a = [i for i in range(3000000)]\n",
    "b = [i for i in range(1000000, 4000000)]\n",
    "\n",
    "c = []\n",
    "start = time.time()\n",
    "for i in range(len(a)):\n",
    "    c.append(a[i] + b[i])\n",
    "print(c[:10])\n",
    "end = time.time()\n",
    "print(end - start)"
   ]
  },
  {
   "cell_type": "code",
   "execution_count": null,
   "id": "4be01f70-4ddd-4a85-a658-d221884831e1",
   "metadata": {},
   "outputs": [],
   "source": [
    "a = np.arange(3000000)\n",
    "b = np.arange(1000000, 4000000)\n"
   ]
  },
  {
   "cell_type": "markdown",
   "id": "3df6d167-90a7-4c80-899b-96de94ec41a1",
   "metadata": {},
   "source": [
    "MEMORY COMPARISON"
   ]
  },
  {
   "cell_type": "code",
   "execution_count": null,
   "id": "11032795-d025-4962-9954-8e4a0f3621f8",
   "metadata": {},
   "outputs": [],
   "source": [
    "a = [i for i in range(5000000)]\n",
    "print(sys.getsizeof(a))"
   ]
  },
  {
   "cell_type": "code",
   "execution_count": null,
   "id": "c878868d-a266-487d-95be-57fe4598c3b0",
   "metadata": {},
   "outputs": [],
   "source": [
    "a = np.arange(5000000)\n",
    "print(sys.getsizeof(a))\n",
    "\n",
    "a = np.arange(5000000, dtype=np.int32)\n",
    "print(sys.getsizeof(a))"
   ]
  },
  {
   "cell_type": "markdown",
   "id": "a8e62b84-7ac0-4908-8761-f8c77a25eef8",
   "metadata": {},
   "source": [
    "Advanced Indexing and Broadcasting"
   ]
  },
  {
   "cell_type": "code",
   "execution_count": null,
   "id": "2dac408d-08fe-485d-9485-6c97230f625a",
   "metadata": {},
   "outputs": [],
   "source": [
    "prices1 = np.array([\n",
    "    [100.1, 110.3, 103.2, 105.2],\n",
    "    [200.1, 210.3, 203.2, 205.2],\n",
    "    [300.1, 310.3, 303.2, 305.2]\n",
    "])\n",
    "\n",
    "prices2 = np.array([\n",
    "    [100.1, 110.3, 103.2, 105.2],\n",
    "    [200.1, 210.3, 203.2, 205.2],\n",
    "    [300.1, 310.3, 303.2, 305.2],\n",
    "    [400.1, 410.0, 403.2, 405.2]\n",
    "])"
   ]
  },
  {
   "cell_type": "code",
   "execution_count": null,
   "id": "daa1c6ec-56c9-41f3-9f4e-d620b0268ef7",
   "metadata": {},
   "outputs": [],
   "source": [
    "# Normal slicing\n",
    "print(prices1[:2,::2])\n",
    "\n",
    "# Fancy Slicing\n",
    "print(prices1[:2, [0,2]])\n",
    "\n",
    "# Normal Slicing\n",
    "print(prices2[::3,1:3])\n",
    "\n",
    "print(prices2[::3, [1,2]])\n",
    "print(prices2[[0,3], 1:3])"
   ]
  },
  {
   "cell_type": "code",
   "execution_count": null,
   "id": "70520559-5240-4033-83f0-a5e6190b4542",
   "metadata": {},
   "outputs": [],
   "source": [
    "# Boolean slicing\n",
    "print(prices2[prices2 > 103])\n",
    "\n",
    "print(prices2[prices2 % 2 == 0])\n",
    "\n",
    "print(prices2[(prices2 % 2 == 0) & (prices2 > 200)])"
   ]
  },
  {
   "cell_type": "markdown",
   "id": "59bc0929-d9db-4f39-ae85-bd559eaa4171",
   "metadata": {},
   "source": [
    "# BROADCASTING"
   ]
  },
  {
   "cell_type": "code",
   "execution_count": null,
   "id": "87c07381-1547-481b-b9e4-c804b126b173",
   "metadata": {},
   "outputs": [],
   "source": [
    "# This deals with how numpy treats arrays of different shapes during arithmetic operations\n",
    "# The smaller array is broadcast across the larger array to ensure shape compatibility"
   ]
  },
  {
   "cell_type": "code",
   "execution_count": null,
   "id": "f8a0f345-9e9d-4e31-8d04-ba68358a64be",
   "metadata": {},
   "outputs": [],
   "source": [
    "prices1 = np.array([\n",
    "    [100.1, 110.3, 103.2, 105.2],\n",
    "    [200.1, 210.3, 203.2, 205.2],\n",
    "    [300.1, 310.3, 303.2, 305.2]\n",
    "])\n",
    "\n",
    "prices2 = np.array([\n",
    "    [100.1, 110.3, 103.2, 105.2],\n",
    "    [200.1, 210.3, 203.2, 205.2],\n",
    "    [300.1, 310.3, 303.2, 305.2],\n",
    "    [400.1, 410.0, 403.2, 405.2]\n",
    "])\n",
    "\n",
    "prices3 = np.array([\n",
    "    [100.1, 110.3, 103.2, 105.2],\n",
    "    [200.1, 210.3, 203.2, 205.2],\n",
    "    [300.1, 310.3, 303.2, 305.2]\n",
    "])\n",
    "\n",
    "prices4 = np.array([\n",
    "    [100.1, 110.3, 103.2, 105.2]\n",
    "])\n",
    "\n",
    "prices6 = np.array(\n",
    "    [100.1, 110.3, 103.2, 105.2]\n",
    ")\n",
    "\n",
    "prices5 = np.array([\n",
    "    [100.1],\n",
    "    [200.1],\n",
    "    [300.1],\n",
    "    [400.1]\n",
    "])"
   ]
  },
  {
   "cell_type": "code",
   "execution_count": null,
   "id": "af62e54e-40c2-4f91-aee2-d46034d19db7",
   "metadata": {},
   "outputs": [],
   "source": [
    "# Same shape\n",
    "print(np.shape(prices1))\n",
    "print(np.shape(prices3))\n",
    "\n",
    "# Add element by element\n",
    "print(prices1 + prices3)"
   ]
  },
  {
   "cell_type": "code",
   "execution_count": null,
   "id": "30749b5e-15cc-4067-984b-2277ef504ff9",
   "metadata": {},
   "outputs": [],
   "source": [
    "# Different shape\n",
    "print(np.shape(prices1))\n",
    "print(np.shape(prices2))\n",
    "\n",
    "# Add element by element\n",
    "# print(prices1 + prices2) # Value error due to shape incompatibility"
   ]
  },
  {
   "cell_type": "code",
   "execution_count": null,
   "id": "6a9243a1-7f80-4dbc-af92-dae98b358bb6",
   "metadata": {},
   "outputs": [],
   "source": [
    "# Rules\n",
    "\n",
    "# 1. Make both to have the same number of dimensions\n",
    "# 2. Make each dimension of the 2 arrays have the same size\n",
    "# 3. If the dimension of either of the arrays is not 1, the operation cannot be carried out\n",
    "print(prices2 + prices4)\n",
    "print(prices2 + prices5)\n",
    "print(prices5 + prices4)\n",
    "print(prices2 + prices6)"
   ]
  },
  {
   "cell_type": "code",
   "execution_count": null,
   "id": "3bfffd76-945c-4a78-8a8f-fc2cec8d5214",
   "metadata": {},
   "outputs": [],
   "source": [
    "# Sigmod\n",
    "\n",
    "print(1/(1 + np.exp(-(prices1))))\n",
    "\n",
    "# Mean Square Error\n",
    "def mse(actual, corrected):\n",
    "    return np.mean((actual - corrected)**2)\n",
    "\n",
    "print(mse(prices2, prices2))"
   ]
  },
  {
   "cell_type": "code",
   "execution_count": null,
   "id": "70d15ddf-69a2-454a-afcf-e2326e675b7d",
   "metadata": {},
   "outputs": [],
   "source": [
    "# Working with Missing Values\n",
    "\n",
    "prin"
   ]
  }
 ],
 "metadata": {
  "kernelspec": {
   "display_name": "Python 3 (ipykernel)",
   "language": "python",
   "name": "python3"
  },
  "language_info": {
   "codemirror_mode": {
    "name": "ipython",
    "version": 3
   },
   "file_extension": ".py",
   "mimetype": "text/x-python",
   "name": "python",
   "nbconvert_exporter": "python",
   "pygments_lexer": "ipython3",
   "version": "3.12.4"
  }
 },
 "nbformat": 4,
 "nbformat_minor": 5
}
