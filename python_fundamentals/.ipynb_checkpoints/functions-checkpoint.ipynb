{
 "cells": [
  {
   "cell_type": "markdown",
   "id": "8e297bb6-1f67-43cf-a764-abe97c79ed6e",
   "metadata": {},
   "source": [
    "CREATION OF DOCSTRING"
   ]
  },
  {
   "cell_type": "code",
   "execution_count": 11,
   "id": "8bbfb9d2-7e1a-4343-b4e8-eebef09558cc",
   "metadata": {},
   "outputs": [],
   "source": [
    "def calculate_sma(prices = [], window = 0): \n",
    "    '''\n",
    "    Description\n",
    "        This function calculates simple moving average\n",
    "    Parameters:\n",
    "        prices: list of prices (floats). Default value is an empty list\n",
    "        window: window size (int). Default value is 1\n",
    "    Return:\n",
    "        Returns a calculated list of SMA (floats)\n",
    "    '''\n",
    "\n",
    "    if window < 1:\n",
    "        print(\"ValueError: window size must be greater than or equal to 1\")\n",
    "\n",
    "    result = []\n",
    "    start = 0\n",
    "    while start < len(prices):\n",
    "        if (start + window) < len(prices):\n",
    "            curr_sum = sum(prices[start:start+window])/window\n",
    "        else:\n",
    "            curr_sum = sum(prices[start:])/(len(prices) - start)\n",
    "        result.append(curr_sum)\n",
    "        start += window                                  \n",
    "    return result"
   ]
  },
  {
   "cell_type": "code",
   "execution_count": 13,
   "id": "56d4501d-26bc-4f9c-8052-b0d6cf4dc76c",
   "metadata": {},
   "outputs": [
    {
     "ename": "KeyboardInterrupt",
     "evalue": "",
     "output_type": "error",
     "traceback": [
      "\u001b[1;31m---------------------------------------------------------------------------\u001b[0m",
      "\u001b[1;31mKeyboardInterrupt\u001b[0m                         Traceback (most recent call last)",
      "Cell \u001b[1;32mIn[13], line 2\u001b[0m\n\u001b[0;32m      1\u001b[0m prices \u001b[38;5;241m=\u001b[39m [\u001b[38;5;241m10\u001b[39m, \u001b[38;5;241m11\u001b[39m, \u001b[38;5;241m13\u001b[39m, \u001b[38;5;241m14\u001b[39m, \u001b[38;5;241m15\u001b[39m, \u001b[38;5;241m16.5\u001b[39m, \u001b[38;5;241m17.5\u001b[39m]\n\u001b[1;32m----> 2\u001b[0m calculate_sma(prices, \u001b[38;5;241m3\u001b[39m)\n\u001b[0;32m      3\u001b[0m \u001b[38;5;28mprint\u001b[39m(calculate_sma\u001b[38;5;241m.\u001b[39m\u001b[38;5;18m__doc__\u001b[39m)\n",
      "Cell \u001b[1;32mIn[11], line 17\u001b[0m, in \u001b[0;36mcalculate_sma\u001b[1;34m(prices, window)\u001b[0m\n\u001b[0;32m     15\u001b[0m result \u001b[38;5;241m=\u001b[39m []\n\u001b[0;32m     16\u001b[0m i \u001b[38;5;241m=\u001b[39m \u001b[38;5;241m0\u001b[39m\n\u001b[1;32m---> 17\u001b[0m \u001b[38;5;28;01mwhile\u001b[39;00m i \u001b[38;5;241m<\u001b[39m \u001b[38;5;28mlen\u001b[39m(prices):\n\u001b[0;32m     18\u001b[0m     start \u001b[38;5;241m=\u001b[39m i\n\u001b[0;32m     19\u001b[0m     \u001b[38;5;28;01mif\u001b[39;00m (start \u001b[38;5;241m+\u001b[39m window) \u001b[38;5;241m<\u001b[39m \u001b[38;5;28mlen\u001b[39m(prices):\n",
      "\u001b[1;31mKeyboardInterrupt\u001b[0m: "
     ]
    }
   ],
   "source": [
    "prices = [10, 11, 13, 14, 15, 16.5, 17.5]\n",
    "calculate_sma(prices, 3)\n",
    "print(calculate_sma.__doc__)"
   ]
  }
 ],
 "metadata": {
  "kernelspec": {
   "display_name": "Python 3 (ipykernel)",
   "language": "python",
   "name": "python3"
  },
  "language_info": {
   "codemirror_mode": {
    "name": "ipython",
    "version": 3
   },
   "file_extension": ".py",
   "mimetype": "text/x-python",
   "name": "python",
   "nbconvert_exporter": "python",
   "pygments_lexer": "ipython3",
   "version": "3.12.4"
  }
 },
 "nbformat": 4,
 "nbformat_minor": 5
}
