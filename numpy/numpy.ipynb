{
 "cells": [
  {
   "cell_type": "code",
   "execution_count": 1,
   "id": "6628786b-8b16-4f60-87bb-80bf035ce23d",
   "metadata": {},
   "outputs": [],
   "source": [
    "import numpy as np"
   ]
  },
  {
   "cell_type": "code",
   "execution_count": 2,
   "id": "0f219edb-065a-4109-90cf-05e884400fc2",
   "metadata": {},
   "outputs": [
    {
     "name": "stdout",
     "output_type": "stream",
     "text": [
      "[1. 2. 3.]\n",
      "[2 3 4 5]\n",
      "<class 'numpy.ndarray'>\n"
     ]
    }
   ],
   "source": [
    "# Creating ID Arrays\n",
    "arr1 = np.array([1., 2, 3])\n",
    "print(arr1)\n",
    "\n",
    "l1 = [2, 3, 4, 5]\n",
    "arr2 = np.array(l1)\n",
    "print(arr2)\n",
    "print(type(arr2))"
   ]
  },
  {
   "cell_type": "code",
   "execution_count": 3,
   "id": "b2ca1e26-bd33-44a8-991b-1c49545e57c1",
   "metadata": {},
   "outputs": [
    {
     "name": "stdout",
     "output_type": "stream",
     "text": [
      "(2, 3)\n",
      "[[1 2 3]\n",
      " [2 3 4]]\n"
     ]
    }
   ],
   "source": [
    "# Creating 2D arrays\n",
    "l = [[1, 2, 3], [2, 3, 4]]\n",
    "arr3 = np.array(l)\n",
    "print(arr3.shape)\n",
    "print(arr3)"
   ]
  },
  {
   "cell_type": "code",
   "execution_count": 4,
   "id": "35f65325-e347-452f-88a8-1a006b2576d6",
   "metadata": {},
   "outputs": [
    {
     "name": "stdout",
     "output_type": "stream",
     "text": [
      "(3, 3)\n",
      "[[1 2 3]\n",
      " [2 3 4]\n",
      " [3 5 6]]\n"
     ]
    }
   ],
   "source": [
    "l = [[1, 2, 3], [2, 3, 4], [3, 5, 6]]\n",
    "arr3 = np.array(l)\n",
    "print(arr3.shape)\n",
    "print(arr3)"
   ]
  },
  {
   "cell_type": "code",
   "execution_count": 5,
   "id": "7536889f-a3b8-4d69-81b0-7dd2706f48c4",
   "metadata": {},
   "outputs": [
    {
     "name": "stdout",
     "output_type": "stream",
     "text": [
      "<class 'numpy.float32'>\n",
      "[[1. 2. 3.]\n",
      " [2. 3. 4.]\n",
      " [3. 5. 6.]]\n"
     ]
    }
   ],
   "source": [
    "# dtype => np.float32, np.int3, str\n",
    "arr4 = np.array(l, dtype=np.float32)\n",
    "print(type(arr4[0][0]))\n",
    "print(arr4)"
   ]
  },
  {
   "cell_type": "code",
   "execution_count": 6,
   "id": "0749f664-c6c8-4b10-83e9-51609eeafb99",
   "metadata": {},
   "outputs": [
    {
     "name": "stdout",
     "output_type": "stream",
     "text": [
      "[ 1  8 15 22 29 36 43 50]\n"
     ]
    }
   ],
   "source": [
    "# arange\n",
    "print(np.arange(1, 53, 7))"
   ]
  },
  {
   "cell_type": "code",
   "execution_count": 7,
   "id": "a4d3e13b-68f0-4a17-a23a-53fbbccdd41a",
   "metadata": {},
   "outputs": [
    {
     "name": "stdout",
     "output_type": "stream",
     "text": [
      "[[ 1.  8. 15.]\n",
      " [22. 29. 36.]\n",
      " [43. 50. 57.]]\n"
     ]
    }
   ],
   "source": [
    "# reshape - acts on 1D arrays\n",
    "arr5 = np.arange(1, 60, 7, dtype=np.float32).reshape(3, 3)\n",
    "print(arr5)"
   ]
  },
  {
   "cell_type": "code",
   "execution_count": 8,
   "id": "c3f0e4bf-6e47-4bea-a95d-7f44a42013fa",
   "metadata": {},
   "outputs": [
    {
     "name": "stdout",
     "output_type": "stream",
     "text": [
      "[ 1.  8. 15. 22. 29. 36. 43. 50. 57.]\n"
     ]
    }
   ],
   "source": [
    "# flatten\n",
    "arr6 = arr5.flatten()\n",
    "print(arr6)"
   ]
  },
  {
   "cell_type": "code",
   "execution_count": 9,
   "id": "13eb29e6-cbc5-430a-8c93-d5e4476cd36a",
   "metadata": {},
   "outputs": [
    {
     "name": "stdout",
     "output_type": "stream",
     "text": [
      "[1. 1. 1. 1.]\n",
      "\n",
      "\n",
      "[[1. 1. 1. 1.]\n",
      " [1. 1. 1. 1.]\n",
      " [1. 1. 1. 1.]]\n",
      "\n",
      "\n",
      "[[0. 0. 0.]\n",
      " [0. 0. 0.]]\n"
     ]
    }
   ],
   "source": [
    "# np.ones and np.zeros\n",
    "\n",
    "print(np.ones(4))\n",
    "print(\"\\n\")\n",
    "\n",
    "# for multidimensional, pass in the shape as a tuple\n",
    "shape = (2, 3)\n",
    "ones = np.ones((3,4))\n",
    "zeros = np.zeros((shape))\n",
    "print(ones)\n",
    "print(\"\\n\")\n",
    "print(zeros)\n"
   ]
  },
  {
   "cell_type": "code",
   "execution_count": 10,
   "id": "a95672b8-1c8c-4b8f-947a-d8f74d8df3b7",
   "metadata": {},
   "outputs": [
    {
     "data": {
      "text/plain": [
       "array([[0.33504596, 0.61780346, 0.22727065, 0.95910505],\n",
       "       [0.71119378, 0.61215727, 0.160726  , 0.74807288],\n",
       "       [0.73371473, 0.66328514, 0.46830611, 0.50794304]])"
      ]
     },
     "execution_count": 10,
     "metadata": {},
     "output_type": "execute_result"
    }
   ],
   "source": [
    "# np.random\n",
    "\n",
    "np.random.random((3,4))"
   ]
  },
  {
   "cell_type": "code",
   "execution_count": 11,
   "id": "4798f599-3882-4fb4-bed9-37c1585f07b2",
   "metadata": {},
   "outputs": [
    {
     "name": "stdout",
     "output_type": "stream",
     "text": [
      "[[9 8 8 9]\n",
      " [9 9 5 9]\n",
      " [7 7 9 7]]\n"
     ]
    }
   ],
   "source": [
    "# Random Integers using randint\n",
    "\n",
    "random_ints = np.random.randint(5, 10, size=(3, 4))\n",
    "print(random_ints)"
   ]
  },
  {
   "cell_type": "code",
   "execution_count": 12,
   "id": "20a8891b-9212-420d-8051-eeb87edda2e3",
   "metadata": {},
   "outputs": [
    {
     "name": "stdout",
     "output_type": "stream",
     "text": [
      "[[7.90312865 6.15930228 6.11167041 5.47269965]\n",
      " [7.55436827 6.55700625 5.23474806 7.07373339]\n",
      " [7.08552765 9.52871915 9.27096701 7.96920633]]\n"
     ]
    }
   ],
   "source": [
    "# Constraining the range\n",
    "\n",
    "a = 5 # lower bound\n",
    "b = 10 # upper bound\n",
    "random_array = np.random.random((3, 4)) * (b - a) + a\n",
    "print(random_array)"
   ]
  },
  {
   "cell_type": "code",
   "execution_count": 13,
   "id": "57a882e1-e1a2-44a4-aaf8-2ae9f93c561d",
   "metadata": {},
   "outputs": [
    {
     "name": "stdout",
     "output_type": "stream",
     "text": [
      "[1. 5. 9.]\n"
     ]
    }
   ],
   "source": [
    "# linspace - linearly spaced (equal distance)\n",
    "\n",
    "print(np.linspace(1, 9, 3))"
   ]
  },
  {
   "cell_type": "code",
   "execution_count": 14,
   "id": "e98e6012-e112-43a3-91c4-bc23b11b2303",
   "metadata": {},
   "outputs": [
    {
     "name": "stdout",
     "output_type": "stream",
     "text": [
      "[[1. 0. 0. 0.]\n",
      " [0. 1. 0. 0.]\n",
      " [0. 0. 1. 0.]\n",
      " [0. 0. 0. 1.]]\n"
     ]
    }
   ],
   "source": [
    "# Identity matrix\n",
    "print(np.identity(4))"
   ]
  },
  {
   "cell_type": "markdown",
   "id": "c9775dce-4de9-47db-9592-9a031fa81a3a",
   "metadata": {},
   "source": [
    "ARRAY ATTRIBUTES"
   ]
  },
  {
   "cell_type": "code",
   "execution_count": 16,
   "id": "b369dbd2-2595-4218-a0b9-b303a25f96be",
   "metadata": {},
   "outputs": [],
   "source": [
    "a1 = np.array([1,2, 3])\n",
    "a4 = np.array([1,2, 3], dtype=np.float32)\n",
    "a2 = np.array([[1,2, 3], [1, 3, 4]])\n",
    "a3 = np.array([[1,2, 3], [1, 3, 4], [0,3, 1]])"
   ]
  },
  {
   "cell_type": "code",
   "execution_count": 17,
   "id": "dbb5e49e-4a3e-4cb5-bdb0-f0e404af4fca",
   "metadata": {},
   "outputs": [
    {
     "name": "stdout",
     "output_type": "stream",
     "text": [
      "1\n",
      "2\n",
      "2\n"
     ]
    }
   ],
   "source": [
    "# ndim\n",
    "print(a1.ndim)\n",
    "print(a2.ndim)\n",
    "print(a3.ndim)\n",
    "np.sav"
   ]
  },
  {
   "cell_type": "code",
   "execution_count": 18,
   "id": "b6e742ff-31a5-491d-bdbd-254bfc858471",
   "metadata": {},
   "outputs": [
    {
     "name": "stdout",
     "output_type": "stream",
     "text": [
      "(3,)\n",
      "(2, 3)\n",
      "(3, 3)\n"
     ]
    }
   ],
   "source": [
    "# shape\n",
    "\n",
    "print(a1.shape)\n",
    "print(a2.shape)\n",
    "print(a3.shape)"
   ]
  },
  {
   "cell_type": "code",
   "execution_count": 19,
   "id": "91e16d4f-955e-4d57-a4e6-1bfe134e3e24",
   "metadata": {},
   "outputs": [
    {
     "name": "stdout",
     "output_type": "stream",
     "text": [
      "3\n",
      "6\n",
      "9\n"
     ]
    }
   ],
   "source": [
    "# size\n",
    "\n",
    "print(a1.size)\n",
    "print(a2.size)\n",
    "print(a3.size)"
   ]
  },
  {
   "cell_type": "code",
   "execution_count": 20,
   "id": "cfcc559f-f03c-4c57-a1f3-28cb3517a051",
   "metadata": {},
   "outputs": [
    {
     "name": "stdout",
     "output_type": "stream",
     "text": [
      "4\n",
      "4\n",
      "4\n",
      "4\n"
     ]
    }
   ],
   "source": [
    "# item size\n",
    "\n",
    "print(a1.itemsize)\n",
    "print(a2.itemsize)\n",
    "print(a3.itemsize)\n",
    "print(a4.itemsize)"
   ]
  },
  {
   "cell_type": "code",
   "execution_count": 21,
   "id": "624ac562-012f-465d-b231-c8c32b9c2f74",
   "metadata": {},
   "outputs": [
    {
     "name": "stdout",
     "output_type": "stream",
     "text": [
      "4\n",
      "8\n"
     ]
    }
   ],
   "source": [
    "# changing datatype\n",
    "a5 = a3.astype(np.float64)\n",
    "print(a3.itemsize)\n",
    "print(a5.itemsize)"
   ]
  },
  {
   "cell_type": "code",
   "execution_count": 22,
   "id": "021118ab-ce62-4891-a6a7-6868da9b7345",
   "metadata": {},
   "outputs": [],
   "source": [
    "# Numpy Array Operations\n",
    "prices1 = np.array(\n",
    "    [\n",
    "        [1, 2, 3],\n",
    "        [3, 4, 5],\n",
    "        [1, 3, 4]\n",
    "    ], dtype=np.float32\n",
    ")\n",
    "\n",
    "prices2 = np.array(\n",
    "    [\n",
    "        [3, 2, 3],\n",
    "        [3, 7, 5],\n",
    "        [9, 3, 4]\n",
    "    ], dtype=np.float32\n",
    ")"
   ]
  },
  {
   "cell_type": "code",
   "execution_count": 23,
   "id": "91332318-57fc-44cd-84a4-d42c1cdc9032",
   "metadata": {},
   "outputs": [
    {
     "name": "stdout",
     "output_type": "stream",
     "text": [
      "5.0\n",
      "2.0\n"
     ]
    }
   ],
   "source": [
    "# Max, min\n",
    "print(np.max(prices1))\n",
    "print(np.min(prices2))"
   ]
  },
  {
   "cell_type": "code",
   "execution_count": 24,
   "id": "d8168ac0-5c3d-43c3-829e-3e151588bb5b",
   "metadata": {},
   "outputs": [
    {
     "name": "stdout",
     "output_type": "stream",
     "text": [
      "4320.0\n",
      "39.0\n"
     ]
    }
   ],
   "source": [
    "# Sum and product\n",
    "print(np.product(prices1))\n",
    "print(np.sum(prices2))"
   ]
  },
  {
   "cell_type": "markdown",
   "id": "3eff9d3b-f917-45ae-8f07-9ae4fb3382c2",
   "metadata": {},
   "source": [
    "SCALAR OPERATORS"
   ]
  },
  {
   "cell_type": "code",
   "execution_count": 26,
   "id": "cd55f39e-ccc3-4494-9c1d-c254f60b2308",
   "metadata": {},
   "outputs": [
    {
     "name": "stdout",
     "output_type": "stream",
     "text": [
      "[[ 3.  6.  9.]\n",
      " [ 9. 12. 15.]\n",
      " [ 3.  9. 12.]]\n",
      "[[False False  True]\n",
      " [ True  True  True]\n",
      " [False  True  True]]\n"
     ]
    }
   ],
   "source": [
    "# Scaler product\n",
    "print(prices1 * 3)\n",
    "\n",
    "# Relational\n",
    "print(prices1 >= 3)"
   ]
  },
  {
   "cell_type": "markdown",
   "id": "e2c2cff1-9202-4754-bcbd-8375a1a218fc",
   "metadata": {},
   "source": [
    "VECTOR OPERATORS"
   ]
  },
  {
   "cell_type": "code",
   "execution_count": 28,
   "id": "edde487d-92fd-41b4-b280-bc61620a147d",
   "metadata": {},
   "outputs": [
    {
     "name": "stdout",
     "output_type": "stream",
     "text": [
      "[[ 3.  4.  9.]\n",
      " [ 9. 28. 25.]\n",
      " [ 9.  9. 16.]]\n"
     ]
    }
   ],
   "source": [
    "print(prices1 * prices2)"
   ]
  },
  {
   "cell_type": "markdown",
   "id": "d5bd907a-6920-49f6-adff-1babb77b0167",
   "metadata": {},
   "source": [
    "STATISTICS"
   ]
  },
  {
   "cell_type": "code",
   "execution_count": 30,
   "id": "f5a75094-e915-4b0d-9b36-dd56cf998c5a",
   "metadata": {},
   "outputs": [
    {
     "name": "stdout",
     "output_type": "stream",
     "text": [
      "2.8888888\n",
      "3.0\n",
      "1.6543211\n",
      "1.2862041\n"
     ]
    }
   ],
   "source": [
    "print(np.mean(prices1))\n",
    "print(np.median(prices1))\n",
    "print(np.var(prices1))\n",
    "print(np.std(prices1))"
   ]
  },
  {
   "cell_type": "markdown",
   "id": "23cf2871-a98d-4e4b-8c37-bd8cff636a79",
   "metadata": {},
   "source": [
    "TRIGNOMETRIC FUNCTIONS"
   ]
  },
  {
   "cell_type": "code",
   "execution_count": 32,
   "id": "d771dd49-3a7d-4004-bf82-a7c08ea0f7b4",
   "metadata": {},
   "outputs": [
    {
     "name": "stdout",
     "output_type": "stream",
     "text": [
      "[[ 0.841471   0.9092974  0.14112  ]\n",
      " [ 0.14112   -0.7568025 -0.9589243]\n",
      " [ 0.841471   0.14112   -0.7568025]]\n"
     ]
    }
   ],
   "source": [
    "print(np.sin(prices1))"
   ]
  },
  {
   "cell_type": "code",
   "execution_count": 33,
   "id": "4754eae6-2e7c-45bb-97b1-e0dfb3c5546f",
   "metadata": {},
   "outputs": [
    {
     "name": "stdout",
     "output_type": "stream",
     "text": [
      "[[36. 25. 25.]\n",
      " [66. 49. 49.]\n",
      " [48. 35. 34.]]\n"
     ]
    }
   ],
   "source": [
    "# Dot product \n",
    "\n",
    "print(np.dot(prices1, prices2))"
   ]
  },
  {
   "cell_type": "code",
   "execution_count": 34,
   "id": "24a85790-d4b3-4bec-8e64-fd989160ca30",
   "metadata": {},
   "outputs": [
    {
     "name": "stdout",
     "output_type": "stream",
     "text": [
      "[[  2.718282    7.3890557  20.085537 ]\n",
      " [ 20.085537   54.59815   148.41316  ]\n",
      " [  2.718282   20.085537   54.59815  ]]\n",
      "[[0.        0.6931472 1.0986123]\n",
      " [1.0986123 1.3862944 1.609438 ]\n",
      " [0.        1.0986123 1.3862944]]\n"
     ]
    }
   ],
   "source": [
    "# Logs and Exponents\n",
    "\n",
    "print(np.exp(prices1))\n",
    "print(np.log(prices1))"
   ]
  },
  {
   "cell_type": "code",
   "execution_count": 35,
   "id": "16cab702-fc0d-477d-9a78-42b6cdba6df6",
   "metadata": {},
   "outputs": [
    {
     "name": "stdout",
     "output_type": "stream",
     "text": [
      "[[1. 2. 3.]\n",
      " [3. 4. 5.]\n",
      " [1. 3. 4.]]\n",
      "[[1. 2. 3.]\n",
      " [3. 4. 5.]\n",
      " [1. 3. 4.]]\n",
      "[[1. 2. 3.]\n",
      " [3. 4. 5.]\n",
      " [1. 3. 4.]]\n"
     ]
    }
   ],
   "source": [
    "# floor, round and ceil\n",
    "print(np.floor(prices1))\n",
    "print(np.ceil(prices1))\n",
    "print(np.round(prices1))"
   ]
  },
  {
   "cell_type": "code",
   "execution_count": 36,
   "id": "1ae16e04-40a5-43c4-a95d-bd3e3bd71c86",
   "metadata": {},
   "outputs": [
    {
     "name": "stdout",
     "output_type": "stream",
     "text": [
      "[[1. 2. 3.]\n",
      " [3. 4. 5.]\n",
      " [1. 3. 4.]]\n",
      "[1. 2. 3.]\n",
      "(3,)\n",
      "[[2. 3.]\n",
      " [4. 5.]]\n"
     ]
    }
   ],
   "source": [
    "# INDEXING and SLICING\n",
    "\n",
    "print(prices1)\n",
    "print(prices1[0,:])\n",
    "col = prices1[:, 1]\n",
    "print(col.shape)\n",
    "print(prices1[0:2, 1:])"
   ]
  },
  {
   "cell_type": "code",
   "execution_count": 77,
   "id": "dc7b0c2c-6a2f-444c-92b9-65ac6dc6d3a5",
   "metadata": {},
   "outputs": [
    {
     "name": "stdout",
     "output_type": "stream",
     "text": [
      "(2, 3, 3)\n",
      "[[[3 2]\n",
      "  [3 7]]\n",
      "\n",
      " [[3 2]\n",
      "  [3 7]]]\n"
     ]
    }
   ],
   "source": [
    "# Slicing 3D arrays\n",
    "l = [\n",
    "    [\n",
    "        [3, 2, 3],\n",
    "        [3, 7, 5],\n",
    "        [9, 3, 4]\n",
    "    ], \n",
    "    [\n",
    "        [3, 2, 3],\n",
    "        [3, 7, 5],\n",
    "        [9, 3, 4]\n",
    "    ]\n",
    "]\n",
    "three_d = np.array(l)\n",
    "print(three_d.shape)\n",
    "print(three_d[:,0:2,0:2])"
   ]
  },
  {
   "cell_type": "code",
   "execution_count": 81,
   "id": "218fc323-f916-4357-b0f6-07626c09c846",
   "metadata": {},
   "outputs": [
    {
     "name": "stdout",
     "output_type": "stream",
     "text": [
      "[[[ 0.  1.  2.  3.]\n",
      "  [ 4.  5.  6.  7.]\n",
      "  [ 8.  9. 10. 11.]]\n",
      "\n",
      " [[12. 13. 14. 15.]\n",
      "  [16. 17. 18. 19.]\n",
      "  [20. 21. 22. 23.]]]\n"
     ]
    }
   ],
   "source": [
    "arr = np.arange(0,24, dtype=np.float32).reshape(2, 3, 4)\n",
    "print(arr)"
   ]
  },
  {
   "cell_type": "code",
   "execution_count": 93,
   "id": "bdbda6af-cc54-4a53-a76f-d880aefa01ef",
   "metadata": {},
   "outputs": [
    {
     "name": "stdout",
     "output_type": "stream",
     "text": [
      "[[[ 2.  3.]\n",
      "  [10. 11.]]\n",
      "\n",
      " [[14. 15.]\n",
      "  [22. 23.]]]\n"
     ]
    }
   ],
   "source": [
    "print(arr[0])\n",
    "print(\"\\n\")\n",
    "print(arr[0,1:,1:3])\n",
    "print(\"\\n\")\n",
    "print(arr[1,:,2:])\n",
    "print(\"\\n\")\n",
    "print(arr[:,::2,2:])"
   ]
  },
  {
   "cell_type": "code",
   "execution_count": 105,
   "id": "901293c7-ce06-41ea-8db4-3e9f8d6443a1",
   "metadata": {},
   "outputs": [
    {
     "name": "stdout",
     "output_type": "stream",
     "text": [
      "0.0\n",
      "1.0\n",
      "2.0\n",
      "3.0\n",
      "4.0\n",
      "5.0\n",
      "6.0\n",
      "7.0\n",
      "8.0\n",
      "9.0\n",
      "10.0\n",
      "11.0\n",
      "12.0\n",
      "13.0\n",
      "14.0\n",
      "15.0\n",
      "16.0\n",
      "17.0\n",
      "18.0\n",
      "19.0\n",
      "20.0\n",
      "21.0\n",
      "22.0\n",
      "23.0\n",
      "0.0\n",
      "1.0\n",
      "2.0\n",
      "3.0\n",
      "4.0\n",
      "5.0\n",
      "6.0\n",
      "7.0\n",
      "8.0\n",
      "9.0\n",
      "10.0\n",
      "11.0\n",
      "12.0\n",
      "13.0\n",
      "14.0\n",
      "15.0\n",
      "16.0\n",
      "17.0\n",
      "18.0\n",
      "19.0\n",
      "20.0\n",
      "21.0\n",
      "22.0\n",
      "23.0\n"
     ]
    }
   ],
   "source": [
    "# Iteration\n",
    "\n",
    "for i in np.nditer(arr):\n",
    "    print(i)\n",
    "    \n",
    "for i in np.ravel(arr):\n",
    "    print(i)"
   ]
  },
  {
   "cell_type": "code",
   "execution_count": 115,
   "id": "49001ce8-93ae-473c-a2bf-5cb825ce93e5",
   "metadata": {},
   "outputs": [
    {
     "name": "stdout",
     "output_type": "stream",
     "text": [
      "(2, 3, 4)\n",
      "[[[ 0.  1.  2.  3.]\n",
      "  [ 4.  5.  6.  7.]\n",
      "  [ 8.  9. 10. 11.]]\n",
      "\n",
      " [[12. 13. 14. 15.]\n",
      "  [16. 17. 18. 19.]\n",
      "  [20. 21. 22. 23.]]]\n",
      "(4, 3, 2)\n",
      "[[[ 0. 12.]\n",
      "  [ 4. 16.]\n",
      "  [ 8. 20.]]\n",
      "\n",
      " [[ 1. 13.]\n",
      "  [ 5. 17.]\n",
      "  [ 9. 21.]]\n",
      "\n",
      " [[ 2. 14.]\n",
      "  [ 6. 18.]\n",
      "  [10. 22.]]\n",
      "\n",
      " [[ 3. 15.]\n",
      "  [ 7. 19.]\n",
      "  [11. 23.]]]\n",
      "[[[ 0.  1.  2.  3.]\n",
      "  [ 4.  5.  6.  7.]\n",
      "  [ 8.  9. 10. 11.]]\n",
      "\n",
      " [[12. 13. 14. 15.]\n",
      "  [16. 17. 18. 19.]\n",
      "  [20. 21. 22. 23.]]]\n"
     ]
    }
   ],
   "source": [
    "# Transpose\n",
    "print(arr.shape)\n",
    "print(arr)\n",
    "transposed = np.transpose(arr)\n",
    "print(transposed.shape)\n",
    "print(transposed)\n",
    "print(transposed.T)"
   ]
  },
  {
   "cell_type": "code",
   "execution_count": 123,
   "id": "f4acfb89-8a88-4273-b1e3-7bf1be645a9a",
   "metadata": {},
   "outputs": [
    {
     "name": "stdout",
     "output_type": "stream",
     "text": [
      "[[[ 0.  1.  2.  3.]\n",
      "  [ 4.  5.  6.  7.]\n",
      "  [ 8.  9. 10. 11.]\n",
      "  [ 0.  1.  2.  3.]\n",
      "  [ 4.  5.  6.  7.]\n",
      "  [ 8.  9. 10. 11.]]\n",
      "\n",
      " [[12. 13. 14. 15.]\n",
      "  [16. 17. 18. 19.]\n",
      "  [20. 21. 22. 23.]\n",
      "  [12. 13. 14. 15.]\n",
      "  [16. 17. 18. 19.]\n",
      "  [20. 21. 22. 23.]]]\n",
      "[[[ 0.  1.  2.  3.]\n",
      "  [ 4.  5.  6.  7.]\n",
      "  [ 8.  9. 10. 11.]]\n",
      "\n",
      " [[12. 13. 14. 15.]\n",
      "  [16. 17. 18. 19.]\n",
      "  [20. 21. 22. 23.]]\n",
      "\n",
      " [[ 0.  1.  2.  3.]\n",
      "  [ 4.  5.  6.  7.]\n",
      "  [ 8.  9. 10. 11.]]\n",
      "\n",
      " [[12. 13. 14. 15.]\n",
      "  [16. 17. 18. 19.]\n",
      "  [20. 21. 22. 23.]]]\n"
     ]
    }
   ],
   "source": [
    "# Horizontal stacking\n",
    "\n",
    "h_stack = np.hstack((arr, arr))\n",
    "v_stack = np.vstack((arr, arr))\n",
    "print(h_stack)\n",
    "print(v_stack)"
   ]
  },
  {
   "cell_type": "code",
   "execution_count": 125,
   "id": "b12683f5-bfd8-403f-98eb-cb825fa9309e",
   "metadata": {},
   "outputs": [
    {
     "name": "stdout",
     "output_type": "stream",
     "text": [
      "[array([[[ 0.,  1.,  2.,  3.],\n",
      "        [ 4.,  5.,  6.,  7.],\n",
      "        [ 8.,  9., 10., 11.]],\n",
      "\n",
      "       [[12., 13., 14., 15.],\n",
      "        [16., 17., 18., 19.],\n",
      "        [20., 21., 22., 23.]]], dtype=float32), array([[[ 0.,  1.,  2.,  3.],\n",
      "        [ 4.,  5.,  6.,  7.],\n",
      "        [ 8.,  9., 10., 11.]],\n",
      "\n",
      "       [[12., 13., 14., 15.],\n",
      "        [16., 17., 18., 19.],\n",
      "        [20., 21., 22., 23.]]], dtype=float32)]\n",
      "[array([[[ 0.,  1.,  2.,  3.],\n",
      "        [ 4.,  5.,  6.,  7.],\n",
      "        [ 8.,  9., 10., 11.]],\n",
      "\n",
      "       [[12., 13., 14., 15.],\n",
      "        [16., 17., 18., 19.],\n",
      "        [20., 21., 22., 23.]]], dtype=float32), array([[[ 0.,  1.,  2.,  3.],\n",
      "        [ 4.,  5.,  6.,  7.],\n",
      "        [ 8.,  9., 10., 11.]],\n",
      "\n",
      "       [[12., 13., 14., 15.],\n",
      "        [16., 17., 18., 19.],\n",
      "        [20., 21., 22., 23.]]], dtype=float32)]\n"
     ]
    }
   ],
   "source": [
    "print(np.hsplit(h_stack, 2))\n",
    "print(np.vsplit(v_stack, 2))"
   ]
  }
 ],
 "metadata": {
  "kernelspec": {
   "display_name": "Python 3 (ipykernel)",
   "language": "python",
   "name": "python3"
  },
  "language_info": {
   "codemirror_mode": {
    "name": "ipython",
    "version": 3
   },
   "file_extension": ".py",
   "mimetype": "text/x-python",
   "name": "python",
   "nbconvert_exporter": "python",
   "pygments_lexer": "ipython3",
   "version": "3.12.4"
  }
 },
 "nbformat": 4,
 "nbformat_minor": 5
}
