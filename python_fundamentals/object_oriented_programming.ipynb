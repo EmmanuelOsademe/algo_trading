{
 "cells": [
  {
   "cell_type": "code",
   "execution_count": 1,
   "id": "fd4b66f8-fd37-4396-b378-18ba72279b6d",
   "metadata": {},
   "outputs": [],
   "source": [
    "class TradingStrategy:\n",
    "    def __init__(self, symbol=\"\", amount=0):\n",
    "        self.symbol = symbol\n",
    "        self.amount = amount\n",
    "        self.position = 0\n",
    "        print(id(self))\n",
    "\n",
    "    def buy(self, price, quantity):\n",
    "        total_cost = price * quantity\n",
    "        if self.amount >= total_cost:\n",
    "            self.position += quantity\n",
    "            self.amount -= total_cost\n",
    "            print(f\"Successfully bought {quantity} shares of {self.symbol} at ${price} per share\")\n",
    "        else:\n",
    "            print(\"Not enough amount to proceed with the trade\")\n",
    "\n",
    "    def sell(self, price, quantity):\n",
    "        if self.position >= quantity:\n",
    "            self.amount += price * quantity\n",
    "            self.position -= quantity\n",
    "            print(f\"Successfully sold {quantity} shares of {self.symbol} at ${price} per share\")\n",
    "        else:\n",
    "            print(\"There are no shares to sell\")\n",
    "\n",
    "    def status(self):\n",
    "        print(f\"Current position: {self.position} of the {self.symbol} shares\")\n",
    "        print(f\"Remaining amount: ${self.amount}\")"
   ]
  },
  {
   "cell_type": "code",
   "execution_count": 5,
   "id": "5ef8b847-cb9d-4169-b2d1-2b7ecabbc595",
   "metadata": {},
   "outputs": [
    {
     "name": "stdout",
     "output_type": "stream",
     "text": [
      "1967057822464\n",
      "Current position: 0 of the ETH shares\n",
      "Remaining amount: $5000\n",
      "\n",
      "\n",
      "Successfully bought 5 shares of ETH at $34.2 per share\n",
      "Current position: 5 of the ETH shares\n",
      "Remaining amount: $4829.0\n",
      "\n",
      "\n",
      "Successfully sold 2 shares of ETH at $37 per share\n",
      "Current position: 3 of the ETH shares\n",
      "Remaining amount: $4903.0\n",
      "1967057816560\n"
     ]
    }
   ],
   "source": [
    "momentum = TradingStrategy(\"ETH\", 5000)\n",
    "\n",
    "momentum.status()\n",
    "print(\"\\n\")\n",
    "\n",
    "momentum.buy(34.2, 5)\n",
    "momentum.status()\n",
    "print(\"\\n\")\n",
    "\n",
    "momentum.sell(37, 2)\n",
    "momentum.status()\n",
    "\n",
    "momentum2 = TradingStrategy(\"ETH\", 5000)"
   ]
  },
  {
   "cell_type": "code",
   "execution_count": 49,
   "id": "4d581ada-f027-4569-b31a-b8750ea8c1c9",
   "metadata": {},
   "outputs": [],
   "source": [
    "# Magic methods or dunder methods\n",
    "# These are special methods which hold some super power.\n",
    "# They do not need function call for the methods to be executed\n",
    "# Examples __init__, __str__, __repr__, __add__, etc\n",
    "# They define the behaviour of the objects. \n",
    "# Can be used to create custom objects and datatype. Makes classes more intuitive\n",
    "# Can be used to integrate the class to python seamlessly\n",
    "\n",
    "class Trades:\n",
    "    def __init__(self, symbol, quantity, price):\n",
    "        self.symbol = symbol\n",
    "        self.quantity = quantity\n",
    "        self.price = price\n",
    "\n",
    "    # Representation\n",
    "    def __repr__(self):\n",
    "        return f\"symbol: {self.symbol}, quantity: {self.quantity}, price: ${self.price}\"\n",
    "\n",
    "    # How the object is represented when printed\n",
    "    def __str__(self):\n",
    "        return f\"{self.quantity} shares of {self.symbol} at ${self.price}\"\n",
    "\n",
    "    # Adding two objects\n",
    "    def __add__(self, other):\n",
    "        if self.symbol == other.symbol:\n",
    "            new_quantity = self.quantity + other.quantity\n",
    "            average_price = (self.quantity * self.price + other.quantity * other.price)/new_quantity\n",
    "            new_trade = Trades(self.symbol, new_quantity, average_price)\n",
    "            print(f\"Latest quantity: {new_trade.quantity}, average price: ${new_trade.price}\")\n",
    "            return new_trade\n",
    "        else:\n",
    "            return f\"Both symbols should be same\"\n",
    "\n",
    "    def __sub__(self, other):\n",
    "        if self.symbol == other.symbol:\n",
    "            if self.quantity >= other.quantity:\n",
    "                new_quantity = self.quantity - other.quantity\n",
    "                new_trade = Trades(self.symbol, new_quantity, self.price)\n",
    "                print(f\"Latest quantity: {new_trade.quantity}, average price: ${new_trade.price}\")\n",
    "                return new_trade\n",
    "            else:\n",
    "                return f\"Cannot return a negative quantity\"\n",
    "        else:\n",
    "            return f\"Both symbols should be same\"\n",
    "            "
   ]
  },
  {
   "cell_type": "code",
   "execution_count": 53,
   "id": "561680e3-d0fb-419a-ad3f-0c2c6d7c698b",
   "metadata": {},
   "outputs": [
    {
     "name": "stdout",
     "output_type": "stream",
     "text": [
      "symbol: BTC, quantity: 1.3, price: $71000\n",
      "1.3 shares of BTC at $71000\n",
      "Latest quantity: 2.0, average price: $78700.315\n",
      "2.0 shares of BTC at $78700.315\n",
      "Cannot return a negative quantity\n"
     ]
    }
   ],
   "source": [
    "trade1 = Trades(\"BTC\", 1.3, 71000)\n",
    "trade2 = Trades(\"BTC\", 0.7, 93000.9)\n",
    "print(repr(trade1))\n",
    "print(trade1)\n",
    "\n",
    "trade3 = trade1 + trade2\n",
    "print(trade3)\n",
    "\n",
    "trade4 = trade2 - trade1\n",
    "print(trade4)"
   ]
  }
 ],
 "metadata": {
  "kernelspec": {
   "display_name": "Python 3 (ipykernel)",
   "language": "python",
   "name": "python3"
  },
  "language_info": {
   "codemirror_mode": {
    "name": "ipython",
    "version": 3
   },
   "file_extension": ".py",
   "mimetype": "text/x-python",
   "name": "python",
   "nbconvert_exporter": "python",
   "pygments_lexer": "ipython3",
   "version": "3.12.4"
  }
 },
 "nbformat": 4,
 "nbformat_minor": 5
}
