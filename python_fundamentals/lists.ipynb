{
 "cells": [
  {
   "cell_type": "markdown",
   "id": "9808388e-16ca-41dc-afc6-cd9150982b45",
   "metadata": {},
   "source": [
    "UNDERSTANDING LIST MEMORY"
   ]
  },
  {
   "cell_type": "code",
   "execution_count": 2,
   "id": "6e65846e-2b93-4911-a0e8-f7ef2f8a24b6",
   "metadata": {},
   "outputs": [
    {
     "name": "stdout",
     "output_type": "stream",
     "text": [
      "[100, 'BTC', 110.9, True]\n",
      "2279258083072\n",
      "\n",
      "\n",
      "140733299967512\n",
      "2279268303328\n",
      "2279279892592\n",
      "140733298838400\n",
      "\n",
      "\n",
      "140733299967512\n",
      "2279268303328\n",
      "2279279898480\n",
      "140733298838400\n"
     ]
    }
   ],
   "source": [
    "# List stores the address of the address of each entry\n",
    "# Each element in the list has its own address, making lists to occupy a lot of memory as compare to arrays\n",
    "# This always makes list operations slower because each member's memory has to be referenced to get its value\n",
    "\n",
    "trade_logs = [100, \"BTC\", 110.9, True]\n",
    "print(trade_logs)\n",
    "print(id(trade_logs))\n",
    "print(\"\\n\")\n",
    "\n",
    "print(id(trade_logs[0]))\n",
    "print(id(trade_logs[1]))\n",
    "print(id(trade_logs[2]))\n",
    "print(id(trade_logs[3]))\n",
    "\n",
    "print(\"\\n\")\n",
    "print(id(100))\n",
    "print(id(\"BTC\"))\n",
    "print(id(110.9))\n",
    "print(id(True))"
   ]
  },
  {
   "cell_type": "markdown",
   "id": "0cc6883f-cd5c-4d94-8dff-a13feac6ba52",
   "metadata": {},
   "source": [
    "ADDING ELEMENTS A LIST"
   ]
  },
  {
   "cell_type": "code",
   "execution_count": 4,
   "id": "755338c6-3eaf-4312-b98e-3c66ea1573d0",
   "metadata": {},
   "outputs": [
    {
     "name": "stdout",
     "output_type": "stream",
     "text": [
      "[100, 'BTC', 110.9, True, 'Emmanuel Osademe']\n",
      "2279298088752\n"
     ]
    }
   ],
   "source": [
    "# Append adds and element to the end of the list\n",
    "trade_logs.append(\"Emmanuel Osademe\")\n",
    "print(trade_logs)\n",
    "print(id(trade_logs[4]))"
   ]
  },
  {
   "cell_type": "code",
   "execution_count": 5,
   "id": "0ba165de-6ff6-4201-8545-a08bb8d837ac",
   "metadata": {},
   "outputs": [
    {
     "name": "stdout",
     "output_type": "stream",
     "text": [
      "[100, 'BTC', 110.9, True, 'Emmanuel Osademe', 'Warri', 'Port Harcourt']\n"
     ]
    }
   ],
   "source": [
    "# Extend adds the elements of a new list as individual members of an existing list\n",
    "new_list = [\"Warri\", \"Port Harcourt\"]\n",
    "trade_logs.extend(new_list)\n",
    "print(trade_logs)"
   ]
  },
  {
   "cell_type": "code",
   "execution_count": 6,
   "id": "09677a78-5fb7-4bb3-ac64-b236c0b34fe3",
   "metadata": {},
   "outputs": [
    {
     "name": "stdout",
     "output_type": "stream",
     "text": [
      "[100, 'BTC', 110.9, True, 'Emmanuel Osademe', 'Warri', 'Abbi', 'Port Harcourt']\n"
     ]
    }
   ],
   "source": [
    "# Insert adds a new element to a specified position in the list\n",
    "trade_logs.insert(-1, \"Abbi\")\n",
    "print(trade_logs)"
   ]
  },
  {
   "cell_type": "code",
   "execution_count": 7,
   "id": "ae8e378a-01fd-4be2-a7eb-edb9a1647957",
   "metadata": {},
   "outputs": [
    {
     "name": "stdout",
     "output_type": "stream",
     "text": [
      "[100, 'BTC', 110.9, True, 'Warri', 'Abbi', 'Port Harcourt']\n"
     ]
    }
   ],
   "source": [
    "# Del can be used for deleting from a specified index\n",
    "del trade_logs[-4]\n",
    "print(trade_logs)"
   ]
  },
  {
   "cell_type": "code",
   "execution_count": 8,
   "id": "29b7f3cb-d6d0-4910-8d3c-30e953a77eae",
   "metadata": {},
   "outputs": [
    {
     "name": "stdout",
     "output_type": "stream",
     "text": [
      "[100, 110.9, True, 'Warri', 'Abbi', 'Port Harcourt']\n"
     ]
    }
   ],
   "source": [
    "# Remove can be used to remove any element that is known to be in the list\n",
    "trade_logs.remove(\"BTC\")\n",
    "print(trade_logs)"
   ]
  },
  {
   "cell_type": "code",
   "execution_count": 9,
   "id": "e7782335-5519-45f7-a45c-7570c9d84bdd",
   "metadata": {},
   "outputs": [
    {
     "name": "stdout",
     "output_type": "stream",
     "text": [
      "[100, 110.9, True, 'Warri', 'Abbi']\n"
     ]
    }
   ],
   "source": [
    "# Pop removes the last item in the list or the item on a specified position\n",
    "trade_logs.pop()\n",
    "print(trade_logs)"
   ]
  },
  {
   "cell_type": "code",
   "execution_count": 10,
   "id": "7f042884-e40d-40cc-b0f5-300f673c6f99",
   "metadata": {},
   "outputs": [
    {
     "name": "stdout",
     "output_type": "stream",
     "text": [
      "[100, True, 'Warri', 'Abbi']\n"
     ]
    }
   ],
   "source": [
    "# Pop removes the last item in the list or the item on a specified position\n",
    "trade_logs.pop(1)\n",
    "print(trade_logs)"
   ]
  },
  {
   "cell_type": "code",
   "execution_count": 11,
   "id": "e9bb6693-8bf2-4b0b-b0b2-36cf0d8aeb3b",
   "metadata": {},
   "outputs": [
    {
     "name": "stdout",
     "output_type": "stream",
     "text": [
      "[100, True, 'Warri', 'Abbi']\n"
     ]
    }
   ],
   "source": [
    "# Clear removes every member of the list\n",
    "# trade_logs.clear()\n",
    "print(trade_logs)"
   ]
  },
  {
   "cell_type": "markdown",
   "id": "be30b463-4db4-452f-96a1-0e860304678d",
   "metadata": {},
   "source": [
    "ARITHMETIC OPERATIONS"
   ]
  },
  {
   "cell_type": "code",
   "execution_count": 13,
   "id": "bed2ba3e-7dc3-4f9c-a663-032da07ddf2c",
   "metadata": {},
   "outputs": [
    {
     "name": "stdout",
     "output_type": "stream",
     "text": [
      "[100, True, 'Warri', 'Abbi', 'TSLA', 'APH']\n",
      "['TSLA', 'APH', 'TSLA', 'APH']\n"
     ]
    }
   ],
   "source": [
    "new_list = [\"TSLA\", \"APH\"]\n",
    "all_list = trade_logs + new_list\n",
    "print(all_list)\n",
    "\n",
    "print(new_list * 2)"
   ]
  },
  {
   "cell_type": "markdown",
   "id": "a30b3cda-2b5c-479f-b170-abacb04793bd",
   "metadata": {},
   "source": [
    "ADDITIONAL FUNCTIONS"
   ]
  },
  {
   "cell_type": "code",
   "execution_count": 24,
   "id": "4426447a-ae26-4bad-9fe6-f578aa09606c",
   "metadata": {},
   "outputs": [
    {
     "name": "stdout",
     "output_type": "stream",
     "text": [
      "[32, 43, 44, 90]\n",
      "[90, 44, 43, 32]\n"
     ]
    }
   ],
   "source": [
    "# len, min, max, reverse\n",
    "# min, max is only applicable for homogeneous list\n",
    "num_list = [44, 32, 43, 90]\n",
    "print(sorted(num_list))\n",
    "\n",
    "print(sorted(num_list, reverse=True))\n",
    "\n",
    "# Sorted does not override the original list. list.sort overrides the original list"
   ]
  },
  {
   "cell_type": "markdown",
   "id": "f5e0bdc5-b555-4697-83b5-a6060c51c2f2",
   "metadata": {},
   "source": [
    "LIST COMPREHENSION"
   ]
  },
  {
   "cell_type": "code",
   "execution_count": 28,
   "id": "cde24865-1a76-4b37-b350-61381f90ba2e",
   "metadata": {},
   "outputs": [
    {
     "name": "stdout",
     "output_type": "stream",
     "text": [
      "[1, 2, 3, 4, 5, 6, 7, 8, 9, 10]\n"
     ]
    }
   ],
   "source": [
    "nums = [i for i in range(1, 11)]\n",
    "print(nums)"
   ]
  },
  {
   "cell_type": "code",
   "execution_count": 36,
   "id": "594d07cf-9199-4d4f-8b46-fc1e4a8a9004",
   "metadata": {},
   "outputs": [
    {
     "name": "stdout",
     "output_type": "stream",
     "text": [
      "[-6, -9, -12]\n",
      "[36, 81, 144]\n"
     ]
    }
   ],
   "source": [
    "# Scaler Multiplication\n",
    "v = [2, 3, 4]\n",
    "v = [-3 * i for i in v]\n",
    "print(v)\n",
    "\n",
    "squares = [i * i for i in v]\n",
    "print(squares)"
   ]
  },
  {
   "cell_type": "markdown",
   "id": "b6b22135-e095-4944-808f-9a4cecec5216",
   "metadata": {},
   "source": [
    "ZIP OPERATION"
   ]
  },
  {
   "cell_type": "code",
   "execution_count": 40,
   "id": "9f3386c6-0cf7-44e1-a96c-6c7879c698d7",
   "metadata": {},
   "outputs": [
    {
     "name": "stdout",
     "output_type": "stream",
     "text": [
      "[(1, -1), (2, -2), (3, -3), (4, -4)]\n",
      "[-1, -4, -9, -16]\n"
     ]
    }
   ],
   "source": [
    "l1 = [1, 2, 3, 4]\n",
    "l2 = [-1, -2, -3, -4]\n",
    "\n",
    "new_list = list(zip(l1, l2))\n",
    "print(new_list)\n",
    "\n",
    "combined = [a*b for a, b in new_list]\n",
    "print(combined)"
   ]
  }
 ],
 "metadata": {
  "kernelspec": {
   "display_name": "Python 3 (ipykernel)",
   "language": "python",
   "name": "python3"
  },
  "language_info": {
   "codemirror_mode": {
    "name": "ipython",
    "version": 3
   },
   "file_extension": ".py",
   "mimetype": "text/x-python",
   "name": "python",
   "nbconvert_exporter": "python",
   "pygments_lexer": "ipython3",
   "version": "3.12.4"
  }
 },
 "nbformat": 4,
 "nbformat_minor": 5
}
