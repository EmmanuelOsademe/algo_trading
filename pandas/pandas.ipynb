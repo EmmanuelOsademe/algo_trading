{
 "cells": [
  {
   "cell_type": "code",
   "execution_count": 1,
   "id": "b780b005-ad5d-4e32-ae75-634e71b623bd",
   "metadata": {},
   "outputs": [],
   "source": [
    "import pandas as pd\n",
    "import numpy as np"
   ]
  },
  {
   "cell_type": "code",
   "execution_count": 2,
   "id": "3606de1f-d2cd-4410-a097-8b5599e26d86",
   "metadata": {},
   "outputs": [
    {
     "name": "stdout",
     "output_type": "stream",
     "text": [
      "0        Apple\n",
      "1    Microsoft\n",
      "2      Bitcoin\n",
      "3     Ethereum\n",
      "dtype: object\n",
      "<class 'pandas.core.series.Series'>\n"
     ]
    }
   ],
   "source": [
    "# Creating Series from list\n",
    "\n",
    "list_str = [\"Apple\", \"Microsoft\", \"Bitcoin\", \"Ethereum\"]\n",
    "\n",
    "stocks = pd.Series(list_str)\n",
    "print(stocks)\n",
    "print(type(stocks))"
   ]
  },
  {
   "cell_type": "code",
   "execution_count": 3,
   "id": "a9d544fe-9b50-40a0-9f20-c251ef5fef10",
   "metadata": {},
   "outputs": [
    {
     "name": "stdout",
     "output_type": "stream",
     "text": [
      "0    100\n",
      "1    101\n",
      "2    102\n",
      "3    103\n",
      "dtype: int64\n",
      "<class 'pandas.core.series.Series'>\n"
     ]
    }
   ],
   "source": [
    "list_int = [100, 101, 102, 103]\n",
    "\n",
    "stocks_price = pd.Series(list_int)\n",
    "print(stocks_price)\n",
    "print(type(stocks_price))"
   ]
  },
  {
   "cell_type": "code",
   "execution_count": 4,
   "id": "3b8c7939-a789-485f-80a3-9f26e9805f13",
   "metadata": {},
   "outputs": [
    {
     "name": "stdout",
     "output_type": "stream",
     "text": [
      "100        Apple\n",
      "101    Microsoft\n",
      "102      Bitcoin\n",
      "103     Ethereum\n",
      "dtype: object\n",
      "<class 'pandas.core.series.Series'>\n"
     ]
    }
   ],
   "source": [
    "# Custom Index\n",
    "list_int = [100, 101, 102, 103]\n",
    "list_str = [\"Apple\", \"Microsoft\", \"Bitcoin\", \"Ethereum\"]\n",
    "\n",
    "stock_data = pd.Series(list_str, index=list_int)\n",
    "print(stock_data)\n",
    "print(type(stock_data))"
   ]
  },
  {
   "cell_type": "code",
   "execution_count": 5,
   "id": "2b2a3ba9-5c3a-4fd3-b5a6-af8af8e00e98",
   "metadata": {},
   "outputs": [
    {
     "name": "stdout",
     "output_type": "stream",
     "text": [
      "Apple\n"
     ]
    }
   ],
   "source": [
    "print(stock_data[100])"
   ]
  },
  {
   "cell_type": "code",
   "execution_count": 6,
   "id": "d1db8d10-4757-4f8e-980d-1bc66900a63e",
   "metadata": {},
   "outputs": [
    {
     "name": "stdout",
     "output_type": "stream",
     "text": [
      "100        Apple\n",
      "101    Microsoft\n",
      "102      Bitcoin\n",
      "103     Ethereum\n",
      "Name: Stock Data of Emmanuel, dtype: object\n",
      "<class 'pandas.core.series.Series'>\n",
      "Stock Data of Emmanuel\n"
     ]
    }
   ],
   "source": [
    "# Setting a name\n",
    "list_int = [100, 101, 102, 103]\n",
    "list_str = [\"Apple\", \"Microsoft\", \"Bitcoin\", \"Ethereum\"]\n",
    "\n",
    "stock_data = pd.Series(list_str, index=list_int, name=\"Stock Data of Emmanuel\")\n",
    "print(stock_data)\n",
    "print(type(stock_data))\n",
    "print(stock_data.name)"
   ]
  },
  {
   "cell_type": "code",
   "execution_count": 7,
   "id": "c60c1564-ad6f-4036-9b3d-b1dee72bd7fd",
   "metadata": {},
   "outputs": [
    {
     "name": "stdout",
     "output_type": "stream",
     "text": [
      "Apple          101.1\n",
      "Microsoft      123.2\n",
      "Bitcoin      98098.0\n",
      "Ethereum       198.0\n",
      "dtype: float64\n"
     ]
    }
   ],
   "source": [
    "# Series from Dictionary\n",
    "dict = {\"Apple\":101.1, \"Microsoft\": 123.2, \"Bitcoin\": 98098, \"Ethereum\": 198}\n",
    "stock_data = pd.Series(dict)\n",
    "print(stock_data)"
   ]
  },
  {
   "cell_type": "code",
   "execution_count": 8,
   "id": "cc9fc9ae-09e4-4c57-bfa1-338d0d5e97dd",
   "metadata": {},
   "outputs": [
    {
     "name": "stdout",
     "output_type": "stream",
     "text": [
      "Apple          101.1\n",
      "Microsoft      123.2\n",
      "Bitcoin      98098.0\n",
      "Ethereum       198.0\n",
      "Name: Stock Data of Emmanuel, dtype: float64\n"
     ]
    }
   ],
   "source": [
    "dict = {\"Apple\":101.1, \"Microsoft\": 123.2, \"Bitcoin\": 98098, \"Ethereum\": 198}\n",
    "stock_data = pd.Series(dict, name=\"Stock Data of Emmanuel\")\n",
    "print(stock_data)"
   ]
  },
  {
   "cell_type": "code",
   "execution_count": 9,
   "id": "c05210aa-b953-4822-9e7d-021f0b7ae619",
   "metadata": {},
   "outputs": [
    {
     "name": "stdout",
     "output_type": "stream",
     "text": [
      "4\n"
     ]
    }
   ],
   "source": [
    "# Series Attributes\n",
    "\n",
    "# size\n",
    "print(stock_data.size)"
   ]
  },
  {
   "cell_type": "code",
   "execution_count": 10,
   "id": "838b656d-8681-4148-baa8-780124e8be59",
   "metadata": {},
   "outputs": [
    {
     "name": "stdout",
     "output_type": "stream",
     "text": [
      "float64\n"
     ]
    }
   ],
   "source": [
    "# dtype\n",
    "\n",
    "print(stock_data.dtype)"
   ]
  },
  {
   "cell_type": "code",
   "execution_count": 11,
   "id": "70b845ec-de0d-4342-9176-f482f7ade0d3",
   "metadata": {},
   "outputs": [
    {
     "name": "stdout",
     "output_type": "stream",
     "text": [
      "Stock Data of Emmanuel\n"
     ]
    }
   ],
   "source": [
    "# name\n",
    "\n",
    "print(stock_data.name)"
   ]
  },
  {
   "cell_type": "code",
   "execution_count": 12,
   "id": "b0bcc6e0-5f4e-44ca-9197-035ebecc0de1",
   "metadata": {},
   "outputs": [
    {
     "name": "stdout",
     "output_type": "stream",
     "text": [
      "True\n"
     ]
    }
   ],
   "source": [
    "# is_unique\n",
    "\n",
    "print(stock_data.is_unique)"
   ]
  },
  {
   "cell_type": "code",
   "execution_count": 13,
   "id": "c058f297-d04a-4362-a0f6-19853ad6f8cc",
   "metadata": {},
   "outputs": [
    {
     "name": "stdout",
     "output_type": "stream",
     "text": [
      "Index(['Apple', 'Microsoft', 'Bitcoin', 'Ethereum'], dtype='object')\n",
      "<class 'pandas.core.indexes.base.Index'>\n"
     ]
    }
   ],
   "source": [
    "# index\n",
    "\n",
    "print(stock_data.index)\n",
    "print(type(stock_data.index))"
   ]
  },
  {
   "cell_type": "code",
   "execution_count": 14,
   "id": "bb64bf6e-da01-44a3-81b6-76cd304b4ecf",
   "metadata": {},
   "outputs": [
    {
     "name": "stdout",
     "output_type": "stream",
     "text": [
      "[  101.1   123.2 98098.    198. ]\n",
      "<class 'numpy.ndarray'>\n"
     ]
    }
   ],
   "source": [
    "# values\n",
    "\n",
    "print(stock_data.values)\n",
    "print(type(stock_data.values))"
   ]
  },
  {
   "cell_type": "markdown",
   "id": "e2f7d9e4-cd7e-4689-8771-06eff6db4442",
   "metadata": {},
   "source": [
    "Creating Series from csv files"
   ]
  },
  {
   "cell_type": "code",
   "execution_count": 16,
   "id": "8060287d-fc9e-42e0-b659-1f2660d5fd1c",
   "metadata": {},
   "outputs": [
    {
     "name": "stdout",
     "output_type": "stream",
     "text": [
      "            id symbol      name  \\\n",
      "0      bitcoin    btc   Bitcoin   \n",
      "1     ethereum    eth  Ethereum   \n",
      "2       tether   usdt    Tether   \n",
      "3       ripple    xrp       XRP   \n",
      "4  binancecoin    bnb       BNB   \n",
      "\n",
      "                                               image  current_price  \\\n",
      "0  https://coin-images.coingecko.com/coins/images...      107564.00   \n",
      "1  https://coin-images.coingecko.com/coins/images...        2431.64   \n",
      "2  https://coin-images.coingecko.com/coins/images...           1.00   \n",
      "3  https://coin-images.coingecko.com/coins/images...           2.19   \n",
      "4  https://coin-images.coingecko.com/coins/images...         648.20   \n",
      "\n",
      "      market_cap  market_cap_rank  fully_diluted_valuation  total_volume  \\\n",
      "0  2138536170956                1            2138536170956  1.316846e+10   \n",
      "1   293361142610                2             293361142610  6.796291e+09   \n",
      "2   157599316836                3             157599316836  2.366038e+10   \n",
      "3   129227879446                4             218979034329  1.084873e+09   \n",
      "4    94557838518                5              94557838518  3.256395e+08   \n",
      "\n",
      "    high_24h  ...  total_supply    max_supply        ath  \\\n",
      "0  108449.00  ...  1.988522e+07  2.100000e+07  111814.00   \n",
      "1    2462.04  ...  1.207178e+08           NaN    4878.26   \n",
      "2       1.00  ...  1.575769e+11           NaN       1.32   \n",
      "3       2.20  ...  9.998599e+10  1.000000e+11       3.40   \n",
      "4     651.05  ...  1.458876e+08  2.000000e+08     788.84   \n",
      "\n",
      "   ath_change_percentage                  ath_date        atl  \\\n",
      "0               -3.88374  2025-05-22T18:41:28.492Z  67.810000   \n",
      "1              -50.25837  2021-11-10T14:24:19.604Z   0.432979   \n",
      "2              -24.40790  2018-07-24T00:00:00.000Z   0.572521   \n",
      "3              -35.69863  2018-01-07T00:00:00.000Z   0.002686   \n",
      "4              -17.87668  2024-12-04T10:35:25.220Z   0.039818   \n",
      "\n",
      "   atl_change_percentage                  atl_date  \\\n",
      "0           1.583916e+05  2013-07-06T00:00:00.000Z   \n",
      "1           5.603260e+05  2015-10-20T00:00:00.000Z   \n",
      "2           7.469324e+01  2015-03-02T00:00:00.000Z   \n",
      "3           8.125077e+04  2014-05-22T00:00:00.000Z   \n",
      "4           1.626876e+06  2017-10-19T00:00:00.000Z   \n",
      "\n",
      "                                                 roi              last_updated  \n",
      "0                                               None  2025-06-29T21:30:56.515Z  \n",
      "1  {'times': 29.22993538613147, 'currency': 'btc'...  2025-06-29T21:30:58.988Z  \n",
      "2                                               None  2025-06-29T21:30:53.507Z  \n",
      "3                                               None  2025-06-29T21:31:00.395Z  \n",
      "4                                               None  2025-06-29T21:30:56.869Z  \n",
      "\n",
      "[5 rows x 26 columns]\n"
     ]
    }
   ],
   "source": [
    "import requests\n",
    "\n",
    "url = \"https://api.coingecko.com/api/v3/coins/markets\"\n",
    "\n",
    "params = {\n",
    "    \"vs_currency\": \"usd\",\n",
    "    \"order\": \"market_cap_desc\",\n",
    "    \"per_page\": 100,\n",
    "    \"page\": 1,\n",
    "    \"sparkline\": False\n",
    "}\n",
    "\n",
    "response = requests.get(url, params=params)\n",
    "\n",
    "if response.status_code == 200:\n",
    "    data = response.json()\n",
    "    df = pd.DataFrame(data)\n",
    "    print(df.head())\n",
    "else:\n",
    "    print(f\"Failed to fetch data: {response.status_code}\")"
   ]
  },
  {
   "cell_type": "code",
   "execution_count": 17,
   "id": "d7956372-4449-4653-9a14-4521fc6b55c0",
   "metadata": {},
   "outputs": [],
   "source": [
    "df.to_csv(\"files/coins.csv\", index  = False)"
   ]
  },
  {
   "cell_type": "code",
   "execution_count": 18,
   "id": "d730d49d-a740-47b5-a275-c57e0c73c341",
   "metadata": {},
   "outputs": [
    {
     "data": {
      "text/html": [
       "<div>\n",
       "<style scoped>\n",
       "    .dataframe tbody tr th:only-of-type {\n",
       "        vertical-align: middle;\n",
       "    }\n",
       "\n",
       "    .dataframe tbody tr th {\n",
       "        vertical-align: top;\n",
       "    }\n",
       "\n",
       "    .dataframe thead th {\n",
       "        text-align: right;\n",
       "    }\n",
       "</style>\n",
       "<table border=\"1\" class=\"dataframe\">\n",
       "  <thead>\n",
       "    <tr style=\"text-align: right;\">\n",
       "      <th></th>\n",
       "      <th>id</th>\n",
       "      <th>symbol</th>\n",
       "      <th>name</th>\n",
       "      <th>image</th>\n",
       "      <th>current_price</th>\n",
       "      <th>market_cap</th>\n",
       "      <th>market_cap_rank</th>\n",
       "      <th>fully_diluted_valuation</th>\n",
       "      <th>total_volume</th>\n",
       "      <th>high_24h</th>\n",
       "      <th>...</th>\n",
       "      <th>total_supply</th>\n",
       "      <th>max_supply</th>\n",
       "      <th>ath</th>\n",
       "      <th>ath_change_percentage</th>\n",
       "      <th>ath_date</th>\n",
       "      <th>atl</th>\n",
       "      <th>atl_change_percentage</th>\n",
       "      <th>atl_date</th>\n",
       "      <th>roi</th>\n",
       "      <th>last_updated</th>\n",
       "    </tr>\n",
       "  </thead>\n",
       "  <tbody>\n",
       "    <tr>\n",
       "      <th>0</th>\n",
       "      <td>bitcoin</td>\n",
       "      <td>btc</td>\n",
       "      <td>Bitcoin</td>\n",
       "      <td>https://coin-images.coingecko.com/coins/images...</td>\n",
       "      <td>107564.00</td>\n",
       "      <td>2138536170956</td>\n",
       "      <td>1</td>\n",
       "      <td>2138536170956</td>\n",
       "      <td>1.316846e+10</td>\n",
       "      <td>108449.00</td>\n",
       "      <td>...</td>\n",
       "      <td>1.988522e+07</td>\n",
       "      <td>2.100000e+07</td>\n",
       "      <td>111814.00</td>\n",
       "      <td>-3.88374</td>\n",
       "      <td>2025-05-22T18:41:28.492Z</td>\n",
       "      <td>67.810000</td>\n",
       "      <td>1.583916e+05</td>\n",
       "      <td>2013-07-06T00:00:00.000Z</td>\n",
       "      <td>NaN</td>\n",
       "      <td>2025-06-29T21:30:56.515Z</td>\n",
       "    </tr>\n",
       "    <tr>\n",
       "      <th>1</th>\n",
       "      <td>ethereum</td>\n",
       "      <td>eth</td>\n",
       "      <td>Ethereum</td>\n",
       "      <td>https://coin-images.coingecko.com/coins/images...</td>\n",
       "      <td>2431.64</td>\n",
       "      <td>293361142610</td>\n",
       "      <td>2</td>\n",
       "      <td>293361142610</td>\n",
       "      <td>6.796291e+09</td>\n",
       "      <td>2462.04</td>\n",
       "      <td>...</td>\n",
       "      <td>1.207178e+08</td>\n",
       "      <td>NaN</td>\n",
       "      <td>4878.26</td>\n",
       "      <td>-50.25837</td>\n",
       "      <td>2021-11-10T14:24:19.604Z</td>\n",
       "      <td>0.432979</td>\n",
       "      <td>5.603260e+05</td>\n",
       "      <td>2015-10-20T00:00:00.000Z</td>\n",
       "      <td>{'times': 29.22993538613147, 'currency': 'btc'...</td>\n",
       "      <td>2025-06-29T21:30:58.988Z</td>\n",
       "    </tr>\n",
       "    <tr>\n",
       "      <th>2</th>\n",
       "      <td>tether</td>\n",
       "      <td>usdt</td>\n",
       "      <td>Tether</td>\n",
       "      <td>https://coin-images.coingecko.com/coins/images...</td>\n",
       "      <td>1.00</td>\n",
       "      <td>157599316836</td>\n",
       "      <td>3</td>\n",
       "      <td>157599316836</td>\n",
       "      <td>2.366038e+10</td>\n",
       "      <td>1.00</td>\n",
       "      <td>...</td>\n",
       "      <td>1.575769e+11</td>\n",
       "      <td>NaN</td>\n",
       "      <td>1.32</td>\n",
       "      <td>-24.40790</td>\n",
       "      <td>2018-07-24T00:00:00.000Z</td>\n",
       "      <td>0.572521</td>\n",
       "      <td>7.469324e+01</td>\n",
       "      <td>2015-03-02T00:00:00.000Z</td>\n",
       "      <td>NaN</td>\n",
       "      <td>2025-06-29T21:30:53.507Z</td>\n",
       "    </tr>\n",
       "    <tr>\n",
       "      <th>3</th>\n",
       "      <td>ripple</td>\n",
       "      <td>xrp</td>\n",
       "      <td>XRP</td>\n",
       "      <td>https://coin-images.coingecko.com/coins/images...</td>\n",
       "      <td>2.19</td>\n",
       "      <td>129227879446</td>\n",
       "      <td>4</td>\n",
       "      <td>218979034329</td>\n",
       "      <td>1.084873e+09</td>\n",
       "      <td>2.20</td>\n",
       "      <td>...</td>\n",
       "      <td>9.998599e+10</td>\n",
       "      <td>1.000000e+11</td>\n",
       "      <td>3.40</td>\n",
       "      <td>-35.69863</td>\n",
       "      <td>2018-01-07T00:00:00.000Z</td>\n",
       "      <td>0.002686</td>\n",
       "      <td>8.125077e+04</td>\n",
       "      <td>2014-05-22T00:00:00.000Z</td>\n",
       "      <td>NaN</td>\n",
       "      <td>2025-06-29T21:31:00.395Z</td>\n",
       "    </tr>\n",
       "    <tr>\n",
       "      <th>4</th>\n",
       "      <td>binancecoin</td>\n",
       "      <td>bnb</td>\n",
       "      <td>BNB</td>\n",
       "      <td>https://coin-images.coingecko.com/coins/images...</td>\n",
       "      <td>648.20</td>\n",
       "      <td>94557838518</td>\n",
       "      <td>5</td>\n",
       "      <td>94557838518</td>\n",
       "      <td>3.256395e+08</td>\n",
       "      <td>651.05</td>\n",
       "      <td>...</td>\n",
       "      <td>1.458876e+08</td>\n",
       "      <td>2.000000e+08</td>\n",
       "      <td>788.84</td>\n",
       "      <td>-17.87668</td>\n",
       "      <td>2024-12-04T10:35:25.220Z</td>\n",
       "      <td>0.039818</td>\n",
       "      <td>1.626876e+06</td>\n",
       "      <td>2017-10-19T00:00:00.000Z</td>\n",
       "      <td>NaN</td>\n",
       "      <td>2025-06-29T21:30:56.869Z</td>\n",
       "    </tr>\n",
       "  </tbody>\n",
       "</table>\n",
       "<p>5 rows × 26 columns</p>\n",
       "</div>"
      ],
      "text/plain": [
       "            id symbol      name  \\\n",
       "0      bitcoin    btc   Bitcoin   \n",
       "1     ethereum    eth  Ethereum   \n",
       "2       tether   usdt    Tether   \n",
       "3       ripple    xrp       XRP   \n",
       "4  binancecoin    bnb       BNB   \n",
       "\n",
       "                                               image  current_price  \\\n",
       "0  https://coin-images.coingecko.com/coins/images...      107564.00   \n",
       "1  https://coin-images.coingecko.com/coins/images...        2431.64   \n",
       "2  https://coin-images.coingecko.com/coins/images...           1.00   \n",
       "3  https://coin-images.coingecko.com/coins/images...           2.19   \n",
       "4  https://coin-images.coingecko.com/coins/images...         648.20   \n",
       "\n",
       "      market_cap  market_cap_rank  fully_diluted_valuation  total_volume  \\\n",
       "0  2138536170956                1            2138536170956  1.316846e+10   \n",
       "1   293361142610                2             293361142610  6.796291e+09   \n",
       "2   157599316836                3             157599316836  2.366038e+10   \n",
       "3   129227879446                4             218979034329  1.084873e+09   \n",
       "4    94557838518                5              94557838518  3.256395e+08   \n",
       "\n",
       "    high_24h  ...  total_supply    max_supply        ath  \\\n",
       "0  108449.00  ...  1.988522e+07  2.100000e+07  111814.00   \n",
       "1    2462.04  ...  1.207178e+08           NaN    4878.26   \n",
       "2       1.00  ...  1.575769e+11           NaN       1.32   \n",
       "3       2.20  ...  9.998599e+10  1.000000e+11       3.40   \n",
       "4     651.05  ...  1.458876e+08  2.000000e+08     788.84   \n",
       "\n",
       "   ath_change_percentage                  ath_date        atl  \\\n",
       "0               -3.88374  2025-05-22T18:41:28.492Z  67.810000   \n",
       "1              -50.25837  2021-11-10T14:24:19.604Z   0.432979   \n",
       "2              -24.40790  2018-07-24T00:00:00.000Z   0.572521   \n",
       "3              -35.69863  2018-01-07T00:00:00.000Z   0.002686   \n",
       "4              -17.87668  2024-12-04T10:35:25.220Z   0.039818   \n",
       "\n",
       "   atl_change_percentage                  atl_date  \\\n",
       "0           1.583916e+05  2013-07-06T00:00:00.000Z   \n",
       "1           5.603260e+05  2015-10-20T00:00:00.000Z   \n",
       "2           7.469324e+01  2015-03-02T00:00:00.000Z   \n",
       "3           8.125077e+04  2014-05-22T00:00:00.000Z   \n",
       "4           1.626876e+06  2017-10-19T00:00:00.000Z   \n",
       "\n",
       "                                                 roi              last_updated  \n",
       "0                                                NaN  2025-06-29T21:30:56.515Z  \n",
       "1  {'times': 29.22993538613147, 'currency': 'btc'...  2025-06-29T21:30:58.988Z  \n",
       "2                                                NaN  2025-06-29T21:30:53.507Z  \n",
       "3                                                NaN  2025-06-29T21:31:00.395Z  \n",
       "4                                                NaN  2025-06-29T21:30:56.869Z  \n",
       "\n",
       "[5 rows x 26 columns]"
      ]
     },
     "execution_count": 18,
     "metadata": {},
     "output_type": "execute_result"
    }
   ],
   "source": [
    "df = pd.read_csv(\"files/coins.csv\")\n",
    "df.head()"
   ]
  },
  {
   "cell_type": "code",
   "execution_count": 19,
   "id": "fca86036-cd36-4eed-b40a-2c7044145fa6",
   "metadata": {},
   "outputs": [
    {
     "name": "stdout",
     "output_type": "stream",
     "text": [
      "0     Bitcoin\n",
      "1    Ethereum\n",
      "2      Tether\n",
      "3         XRP\n",
      "4         BNB\n",
      "Name: name, dtype: object\n",
      "<class 'pandas.core.series.Series'>\n"
     ]
    }
   ],
   "source": [
    "stocks = df[\"name\"]\n",
    "print(stocks[:5])\n",
    "print(type(stocks))\n",
    "df.to_"
   ]
  },
  {
   "cell_type": "code",
   "execution_count": 20,
   "id": "7b673bfb-8ca7-4389-b052-cc22eb0f96f6",
   "metadata": {},
   "outputs": [
    {
     "name": "stdout",
     "output_type": "stream",
     "text": [
      "       name  current_price\n",
      "0   Bitcoin      107564.00\n",
      "1  Ethereum        2431.64\n",
      "2    Tether           1.00\n",
      "3       XRP           2.19\n",
      "4       BNB         648.20\n",
      "<class 'pandas.core.frame.DataFrame'>\n"
     ]
    }
   ],
   "source": [
    "stocks = df[[\"name\", \"current_price\"]]\n",
    "print(stocks[:5])\n",
    "print(type(stocks))"
   ]
  },
  {
   "cell_type": "code",
   "execution_count": 21,
   "id": "46a6f046-5c09-4384-90ba-631bddff8e5e",
   "metadata": {},
   "outputs": [
    {
     "name": "stdout",
     "output_type": "stream",
     "text": [
      "name\n",
      "Bitcoin     107564.00\n",
      "Ethereum      2431.64\n",
      "Tether           1.00\n",
      "XRP              2.19\n",
      "BNB            648.20\n",
      "Name: current_price, dtype: float64\n",
      "<class 'pandas.core.series.Series'>\n"
     ]
    }
   ],
   "source": [
    "stocks = df[[\"name\", \"current_price\"]]\n",
    "stocks = stocks.set_index(\"name\")\n",
    "stocks = stocks.squeeze()\n",
    "print(stocks[:5])\n",
    "print(type(stocks))"
   ]
  },
  {
   "cell_type": "code",
   "execution_count": 22,
   "id": "c3325b97-10d3-4bf2-9076-055fa78d3dde",
   "metadata": {},
   "outputs": [
    {
     "name": "stdout",
     "output_type": "stream",
     "text": [
      "6803\n"
     ]
    }
   ],
   "source": [
    "import sys\n",
    "\n",
    "print(sys.getsizeof(stocks))"
   ]
  },
  {
   "cell_type": "code",
   "execution_count": 23,
   "id": "9f5fb544-471c-4d44-8122-3f1925257cf4",
   "metadata": {},
   "outputs": [
    {
     "name": "stdout",
     "output_type": "stream",
     "text": [
      "6403\n"
     ]
    }
   ],
   "source": [
    "stocks = stocks.astype(np.float32)\n",
    "print(sys.getsizeof(stocks))"
   ]
  },
  {
   "cell_type": "code",
   "execution_count": 24,
   "id": "06bd5892-f9cb-4b65-9a22-e921dfa74390",
   "metadata": {},
   "outputs": [
    {
     "name": "stdout",
     "output_type": "stream",
     "text": [
      "<class 'pandas.core.frame.DataFrame'>\n"
     ]
    }
   ],
   "source": [
    "series = df.squeeze()\n",
    "\n",
    "# print(series[:5])\n",
    "print(type(series))"
   ]
  }
 ],
 "metadata": {
  "kernelspec": {
   "display_name": "Python 3 (ipykernel)",
   "language": "python",
   "name": "python3"
  },
  "language_info": {
   "codemirror_mode": {
    "name": "ipython",
    "version": 3
   },
   "file_extension": ".py",
   "mimetype": "text/x-python",
   "name": "python",
   "nbconvert_exporter": "python",
   "pygments_lexer": "ipython3",
   "version": "3.12.4"
  }
 },
 "nbformat": 4,
 "nbformat_minor": 5
}
