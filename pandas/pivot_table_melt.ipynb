{
 "cells": [
  {
   "cell_type": "code",
   "execution_count": null,
   "id": "da169ffa-2676-4abb-8b1c-255ca53a55ef",
   "metadata": {},
   "outputs": [],
   "source": [
    "import numpy as np\n",
    "import pandas as pd\n",
    "import yfinance as yf"
   ]
  },
  {
   "cell_type": "code",
   "execution_count": null,
   "id": "edc68eee-a4a6-4150-986c-df94a17e1bdd",
   "metadata": {},
   "outputs": [],
   "source": [
    "pd.DataFrame({\"AAPL\": [100, 200]})"
   ]
  },
  {
   "cell_type": "code",
   "execution_count": null,
   "id": "415893ab-dc41-4a4f-b4f1-f329f3096a1a",
   "metadata": {},
   "outputs": [],
   "source": [
    "pd.DataFrame({\"AAPL\": [100, 200]}).melt()"
   ]
  },
  {
   "cell_type": "code",
   "execution_count": null,
   "id": "b0a10671-8da8-4ad2-a552-dd329162e545",
   "metadata": {},
   "outputs": [],
   "source": [
    "pd.DataFrame({\"AAPL\": [100, 200], \"MSFT\": [300, 400], \"TLSA\": [500, 600]})"
   ]
  },
  {
   "cell_type": "code",
   "execution_count": null,
   "id": "de92b2b3-b824-4a8c-b0de-497070f82aa4",
   "metadata": {},
   "outputs": [],
   "source": [
    "pd.DataFrame({\"AAPL\": [100, 200], \"MSFT\": [300, 400], \"TLSA\": [500, 600]}).melt()"
   ]
  },
  {
   "cell_type": "code",
   "execution_count": null,
   "id": "0f54e978-43c1-4085-877c-0cbe3f4bdfeb",
   "metadata": {},
   "outputs": [],
   "source": [
    "pd.DataFrame({\"AAPL\": [100, 200], \"MSFT\": [300, 400], \"TLSA\": [500, 600]}).melt(var_name=\"Ticker\", value_name=\"Price\")"
   ]
  },
  {
   "cell_type": "code",
   "execution_count": null,
   "id": "e0a708f9-6db0-4b46-9765-8ccb58d3b0e6",
   "metadata": {},
   "outputs": [],
   "source": [
    "pd.DataFrame({\n",
    "    \"Tickers\": [\"AAPL\", \"BTC\", \"MSFT\", \"META\"],\n",
    "    \"Price\": [234, 433, 553, 223],\n",
    "    \"Year\": [2024, 2024, 2024, 2024],\n",
    "    \"Close\": [235, 442, 551, 230]\n",
    "})"
   ]
  },
  {
   "cell_type": "code",
   "execution_count": null,
   "id": "091f72c4-e1a8-46e4-8330-c8febac644c5",
   "metadata": {},
   "outputs": [],
   "source": [
    "pd.DataFrame({\n",
    "    \"Tickers\": [\"AAPL\", \"BTC\", \"MSFT\", \"META\"],\n",
    "    \"Price\": [234, 433, 553, 223],\n",
    "    \"Year\": [2024, 2024, 2024, 2024],\n",
    "    \"Close\": [235, 442, 551, 230]\n",
    "}).melt()"
   ]
  },
  {
   "cell_type": "code",
   "execution_count": null,
   "id": "b3f3c1e2-b93d-4121-8882-98bc0e726e88",
   "metadata": {},
   "outputs": [],
   "source": [
    "pd.DataFrame({\n",
    "    \"Tickers\": [\"AAPL\", \"BTC\", \"MSFT\", \"META\"],\n",
    "    \"Price\": [234, 433, 553, 223],\n",
    "    \"Year\": [2024, 2024, 2024, 2024],\n",
    "    \"Close\": [235, 442, 551, 230]\n",
    "}).melt(id_vars=[\"Tickers\"])"
   ]
  },
  {
   "cell_type": "code",
   "execution_count": null,
   "id": "1ded2578-6f4f-4fc0-9f96-b4484faeff1a",
   "metadata": {},
   "outputs": [],
   "source": [
    "pd.DataFrame({\n",
    "    \"Tickers\": [\"AAPL\", \"BTC\", \"MSFT\", \"META\"],\n",
    "    \"Price\": [234, 433, 553, 223],\n",
    "    \"Year\": [2024, 2024, 2024, 2024],\n",
    "    \"Close\": [235, 442, 551, 230]\n",
    "}).melt(id_vars=[\"Tickers\"], var_name=\"Price\", value_name=\"Value\")"
   ]
  },
  {
   "cell_type": "code",
   "execution_count": null,
   "id": "2b544e72-e44d-421a-b10e-b46c3bed72a0",
   "metadata": {},
   "outputs": [],
   "source": [
    "tickers = [\"AAPL\", \"AMZN\", \"MSFT\", \"META\"]\n",
    "data = yf.download(tickers=tickers, start=\"2024-01-01\", end=\"2024-06-30\", group_by=\"Ticker\")\n",
    "data.head()"
   ]
  },
  {
   "cell_type": "code",
   "execution_count": null,
   "id": "37f429e3-682b-46b1-bd88-7296d887b45e",
   "metadata": {},
   "outputs": [],
   "source": [
    "data = data.stack(level=0, future_stack=True).reset_index(level=1)\n",
    "data"
   ]
  },
  {
   "cell_type": "code",
   "execution_count": null,
   "id": "93e32349-8308-449d-8ac0-75d5ff73522b",
   "metadata": {},
   "outputs": [],
   "source": [
    "df = data.reset_index().melt(id_vars=[\"Date\",\"Ticker\"], var_name=\"Metric\", value_name=\"Value\", value_vars=[\"Open\", \"High\", \"Low\", \"Close\", \"Volume\"])"
   ]
  },
  {
   "cell_type": "code",
   "execution_count": null,
   "id": "dc2c747a-4f2b-4077-a86f-5c1bea31b3a2",
   "metadata": {},
   "outputs": [],
   "source": [
    "df"
   ]
  },
  {
   "cell_type": "code",
   "execution_count": null,
   "id": "eee00611-3c1c-4dfa-bc29-525ed2051141",
   "metadata": {},
   "outputs": [],
   "source": [
    "# Pivot table\n",
    "\n",
    "data.info()"
   ]
  },
  {
   "cell_type": "code",
   "execution_count": null,
   "id": "39ef0496-e411-46cc-b430-e51952f20a76",
   "metadata": {},
   "outputs": [],
   "source": [
    "data.groupby(['Ticker', 'Date'])[\"Open\"].mean().unstack()"
   ]
  },
  {
   "cell_type": "code",
   "execution_count": null,
   "id": "120c4c00-7f23-456c-95ee-8840b1308d9f",
   "metadata": {},
   "outputs": [],
   "source": [
    "data.pivot_table(index=\"Ticker\", columns=\"Date\", values=[\"Open\"])"
   ]
  },
  {
   "cell_type": "code",
   "execution_count": null,
   "id": "d2230172-727c-4377-899f-af729cf055a8",
   "metadata": {},
   "outputs": [],
   "source": [
    "data.pivot_table(index=\"Ticker\", columns=\"Date\", values=[\"Open\"], aggfunc=\"mean\")"
   ]
  },
  {
   "cell_type": "code",
   "execution_count": null,
   "id": "9f7b5959-335c-4c87-90f3-d72b3ebab090",
   "metadata": {},
   "outputs": [],
   "source": [
    "data.pivot_table(index=\"Ticker\", columns=\"Date\", values=[\"Open\", \"Close\"], aggfunc=\"mean\")"
   ]
  },
  {
   "cell_type": "code",
   "execution_count": null,
   "id": "aa46f060-bfe7-42b0-adb7-53150e83c4de",
   "metadata": {},
   "outputs": [],
   "source": [
    "data.pivot_table(index=\"Ticker\", columns=\"Date\", aggfunc={\"Open\": \"mean\", \"High\": \"max\", \"Volume\": \"sum\"})"
   ]
  },
  {
   "cell_type": "code",
   "execution_count": null,
   "id": "618a40f2-25e0-4dee-ad5c-d3e40c82fcb8",
   "metadata": {},
   "outputs": [],
   "source": [
    "data.pivot_table(index=[\"Ticker\", \"Date\"], aggfunc={\"Open\": \"mean\", \"High\": \"max\", \"Volume\": \"sum\"})"
   ]
  },
  {
   "cell_type": "code",
   "execution_count": null,
   "id": "e24299de-0368-43db-897a-ebcfd74491db",
   "metadata": {},
   "outputs": [],
   "source": [
    "data.pivot_table(index=\"Ticker\", columns=\"Volume\", aggfunc=\"sum\", margins=True)"
   ]
  },
  {
   "cell_type": "code",
   "execution_count": null,
   "id": "53944fb5-f752-45e6-8693-6e549b09b835",
   "metadata": {},
   "outputs": [],
   "source": [
    "data.pivot_table(index=\"Ticker\").plot(kind=\"bar\")"
   ]
  },
  {
   "cell_type": "code",
   "execution_count": null,
   "id": "8fb8ecae-4723-46e7-b758-537913ed2a96",
   "metadata": {},
   "outputs": [],
   "source": [
    "data.pivot_table(index=\"Date\", columns=\"Ticker\", values=\"Close\").plot()"
   ]
  }
 ],
 "metadata": {
  "kernelspec": {
   "display_name": "Python 3 (ipykernel)",
   "language": "python",
   "name": "python3"
  },
  "language_info": {
   "codemirror_mode": {
    "name": "ipython",
    "version": 3
   },
   "file_extension": ".py",
   "mimetype": "text/x-python",
   "name": "python",
   "nbconvert_exporter": "python",
   "pygments_lexer": "ipython3",
   "version": "3.12.4"
  }
 },
 "nbformat": 4,
 "nbformat_minor": 5
}
