{
 "cells": [
  {
   "cell_type": "markdown",
   "id": "2c61d699-ad6c-4381-9e60-f65aecbf5f97",
   "metadata": {},
   "source": [
    "TUPLES"
   ]
  },
  {
   "cell_type": "code",
   "execution_count": 2,
   "id": "46192879-6e95-489f-9927-3b8644655449",
   "metadata": {},
   "outputs": [
    {
     "name": "stdout",
     "output_type": "stream",
     "text": [
      "<class 'tuple'>\n",
      "<class 'tuple'>\n"
     ]
    }
   ],
   "source": [
    "t1 = ()\n",
    "print(type(t1))\n",
    "\n",
    "t2 = (\"tuple\",)\n",
    "print(type(t2))"
   ]
  },
  {
   "cell_type": "code",
   "execution_count": 3,
   "id": "7d9ef5ae-38ff-4d8f-8c90-9305e319eebd",
   "metadata": {},
   "outputs": [
    {
     "name": "stdout",
     "output_type": "stream",
     "text": [
      "(12, 23, 45)\n",
      "<class 'tuple'>\n",
      "(12, 'Emmanuel', True)\n",
      "<class 'tuple'>\n"
     ]
    }
   ],
   "source": [
    "t3 = (12, 23, 45)\n",
    "print(t3, type(t3), sep=\"\\n\")\n",
    "\n",
    "t3 = (12, \"Emmanuel\", True)\n",
    "print(t3, type(t3), sep=\"\\n\")\n",
    "\n",
    "# Most list operations can be carried out on tuples other than operations that result in mutation\n",
    "# The only exception are multiplation and addition"
   ]
  },
  {
   "cell_type": "code",
   "execution_count": 4,
   "id": "5a29b9cc-b5d4-435a-8e20-40cc6c4577f2",
   "metadata": {},
   "outputs": [
    {
     "name": "stdout",
     "output_type": "stream",
     "text": [
      "Name: Emmanuel \n",
      "Age: 35 \n",
      "Location: Warri \n",
      "Number of Siblings: 4 \n",
      "Marital Status: Single\n",
      "['Warri', 4, 'Single']\n"
     ]
    }
   ],
   "source": [
    "# TUPLE UNPACKING\n",
    "\n",
    "tup = (\"Emmanuel\", 35, \"Warri\", 4, \"Single\")\n",
    "name, age, location, siblings, marital_status = tup\n",
    "print(f\"Name: {name} \\nAge: {age} \\nLocation: {location} \\nNumber of Siblings: {siblings} \\nMarital Status: {marital_status}\")\n",
    "\n",
    "name, age, *others = tup\n",
    "print(others)"
   ]
  },
  {
   "cell_type": "markdown",
   "id": "0e331e06-be85-4ef6-99bd-80171b5a0c85",
   "metadata": {},
   "source": [
    "SETS"
   ]
  },
  {
   "cell_type": "code",
   "execution_count": 30,
   "id": "856a0ccd-27a5-4bfb-84ee-e9aedcb78695",
   "metadata": {},
   "outputs": [
    {
     "name": "stdout",
     "output_type": "stream",
     "text": [
      "<class 'set'>: {'AAPL', 'GOOGL', 'TSLA'}\n",
      "{'AAPL', ('MSFT', 'META'), 'GOOGL', 'TSLA'}\n",
      "{'GOOGL', 'TSLA', ('MSFT', 'META'), 'AAPL', 'AMZN'}\n",
      "{'GOOGL', 'TSLA', ('MSFT', 'META'), 'AAPL', 'ETH', 'AMZN', 'BTC'}\n"
     ]
    }
   ],
   "source": [
    "s1 = {'AAPL', 'GOOGL', 'TSLA'}\n",
    "print(type(s1), s1, sep=\": \")\n",
    "\n",
    "# Sets can only contain literals and tuples. Hence, s2 cannot work\n",
    "# s2 = {'AAPL', 'GOOGL', 'TSLA', {'MSFT', 'META'}}\n",
    "\n",
    "s3 = {'AAPL', 'GOOGL', 'TSLA', ('MSFT', 'META')}\n",
    "print(s3)\n",
    "\n",
    "# Tuples are mutable\n",
    "s3.add(\"AMZN\")\n",
    "print(s3)\n",
    "\n",
    "# Update adds multiple elements into a set\n",
    "s1.update(s3)\n",
    "s1.update([\"BTC\", \"ETH\"])\n",
    "print(s1)"
   ]
  },
  {
   "cell_type": "code",
   "execution_count": 34,
   "id": "432d9cc4-f132-42a4-8fc1-a4f02bedf8ea",
   "metadata": {},
   "outputs": [
    {
     "name": "stdout",
     "output_type": "stream",
     "text": [
      "{'GOOGL', 'TSLA', ('MSFT', 'META'), 'ETH', 'AMZN', 'BTC'}\n"
     ]
    },
    {
     "ename": "KeyError",
     "evalue": "'AAPL'",
     "output_type": "error",
     "traceback": [
      "\u001b[1;31m---------------------------------------------------------------------------\u001b[0m",
      "\u001b[1;31mKeyError\u001b[0m                                  Traceback (most recent call last)",
      "Cell \u001b[1;32mIn[34], line 5\u001b[0m\n\u001b[0;32m      2\u001b[0m s1\u001b[38;5;241m.\u001b[39mdiscard(\u001b[38;5;124m\"\u001b[39m\u001b[38;5;124mAAPL\u001b[39m\u001b[38;5;124m\"\u001b[39m) \u001b[38;5;66;03m# Does not throw any error if the item is not there\u001b[39;00m\n\u001b[0;32m      3\u001b[0m \u001b[38;5;28mprint\u001b[39m(s1)\n\u001b[1;32m----> 5\u001b[0m s1\u001b[38;5;241m.\u001b[39mremove(\u001b[38;5;124m\"\u001b[39m\u001b[38;5;124mAAPL\u001b[39m\u001b[38;5;124m\"\u001b[39m) \u001b[38;5;66;03m# Does not throw any error if the item is not there\u001b[39;00m\n\u001b[0;32m      6\u001b[0m \u001b[38;5;28mprint\u001b[39m(s1)\n",
      "\u001b[1;31mKeyError\u001b[0m: 'AAPL'"
     ]
    }
   ],
   "source": [
    "# Removing elements from a set\n",
    "s1.remove(\"AAPL\") # Does not throw any error if the item is not there\n",
    "print(s1)\n",
    "\n",
    "s1.discard(\"AAPL\") # Does not throw any error if the item is not there\n",
    "print(s1)"
   ]
  }
 ],
 "metadata": {
  "kernelspec": {
   "display_name": "Python 3 (ipykernel)",
   "language": "python",
   "name": "python3"
  },
  "language_info": {
   "codemirror_mode": {
    "name": "ipython",
    "version": 3
   },
   "file_extension": ".py",
   "mimetype": "text/x-python",
   "name": "python",
   "nbconvert_exporter": "python",
   "pygments_lexer": "ipython3",
   "version": "3.12.4"
  }
 },
 "nbformat": 4,
 "nbformat_minor": 5
}
