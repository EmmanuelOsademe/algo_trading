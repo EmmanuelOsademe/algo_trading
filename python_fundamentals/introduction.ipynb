{
 "cells": [
  {
   "cell_type": "markdown",
   "id": "0e747825-bb22-4708-9130-daaec2916c86",
   "metadata": {},
   "source": [
    "PRINT FUNCTION FUNDAMENTALS"
   ]
  },
  {
   "cell_type": "code",
   "execution_count": 2,
   "id": "f71c9b36-754c-4c3f-8545-e44d7c1f9bd1",
   "metadata": {},
   "outputs": [
    {
     "name": "stdout",
     "output_type": "stream",
     "text": [
      "String 1 1.3 [1, 2, 3] {'name': 'Emmanuel'}\n"
     ]
    }
   ],
   "source": [
    "# Print argument can take many different data types, with seperator\n",
    "# The default separator is a space\n",
    "print(\"String\", 1, 1.3, [1, 2, 3], {\"name\": \"Emmanuel\"})"
   ]
  },
  {
   "cell_type": "code",
   "execution_count": 3,
   "id": "42f13e18-d9ed-4dd7-9fc3-c8aa91c78e2b",
   "metadata": {},
   "outputs": [
    {
     "name": "stdout",
     "output_type": "stream",
     "text": [
      "String, 1, 1.3, [1, 2, 3], {'name': 'Emmanuel'}\n"
     ]
    }
   ],
   "source": [
    "# Separator can be defined using a delimiter\n",
    "print(\"String\", 1, 1.3, [1, 2, 3], {\"name\": \"Emmanuel\"}, sep=\", \")"
   ]
  },
  {
   "cell_type": "code",
   "execution_count": 4,
   "id": "c75e0efb-0893-4953-830b-17c86d430e0b",
   "metadata": {},
   "outputs": [
    {
     "name": "stdout",
     "output_type": "stream",
     "text": [
      "My name is Emmanuel\n",
      "I am from Delta state\n",
      "I am based in Warri\n"
     ]
    }
   ],
   "source": [
    "# The end of a print function can also be defined by specifying then \"end\" argument\n",
    "# The default \"end\" argument is \"\\n\", which is a new line\n",
    "print(\"My name is Emmanuel\")\n",
    "print(\"I am from Delta state\")\n",
    "print(\"I am based in Warri\")"
   ]
  },
  {
   "cell_type": "code",
   "execution_count": 5,
   "id": "992b91e9-6d72-4d1d-8108-b9d666ac505e",
   "metadata": {},
   "outputs": [
    {
     "name": "stdout",
     "output_type": "stream",
     "text": [
      "My name is Emmanuel, I am from Delta state, I am based in Warri\n"
     ]
    }
   ],
   "source": [
    "# The end of a print function can also be defined by specifying then \"end\" argument\n",
    "print(\"My name is Emmanuel\", end=\", \")\n",
    "print(\"I am from Delta state\", end=\", \")\n",
    "print(\"I am based in Warri\")"
   ]
  },
  {
   "cell_type": "markdown",
   "id": "44681ab1-0922-4d2c-92bb-3657c7434f60",
   "metadata": {},
   "source": [
    "DATA TYPES FUNDAMENTALS"
   ]
  },
  {
   "cell_type": "code",
   "execution_count": 15,
   "id": "c1e36a59-b756-45e9-8074-82184dfa9f09",
   "metadata": {},
   "outputs": [
    {
     "name": "stdout",
     "output_type": "stream",
     "text": [
      "<class 'int'>:1\n",
      "<class 'float'>:1.2\n",
      "<class 'bool'>:True\n",
      "<class 'str'>:Emmanuel\n",
      "<class 'complex'>:2.3j\n",
      "Real: 2.0\n",
      "Imaginary: 3.0\n",
      "<class 'list'>: [1, 2, 3]\n",
      "<class 'tuple'>: (1, 2)\n",
      "<class 'set'>: {1, 2}\n",
      "<class 'dict'>: {'key': 2}\n",
      "keys: dict_keys(['key'])\n",
      "values: dict_values([2])\n"
     ]
    }
   ],
   "source": [
    "# The data type of a variable or a literal in python can be extracted using the \"type\" function\n",
    "# Int\n",
    "print(type(1), 1, sep=\":\")\n",
    "\n",
    "# Floats\n",
    "print(type(1.2), 1.2, sep=\":\")\n",
    "\n",
    "# Booleans\n",
    "print(type(True), True, sep=\":\")\n",
    "\n",
    "# Strings\n",
    "print(type(\"Emmanuel\"), \"Emmanuel\", sep=\":\")\n",
    "\n",
    "# Complex Numbers\n",
    "print(type(2+3j), 2.3j, sep=\":\")\n",
    "compNum = 2+3j\n",
    "print(\"Real\", compNum.real,sep=\": \")\n",
    "print(\"Imaginary\", compNum.imag,sep=\": \")\n",
    "\n",
    "# Lists\n",
    "print(type([1, 2, 3]), [1, 2, 3], sep=\": \")\n",
    "\n",
    "# Tuples\n",
    "print(type((1, 2)), (1, 2), sep=\": \")\n",
    "\n",
    "# Set\n",
    "print(type({1, 2}), {1, 2}, sep=\": \")\n",
    "\n",
    "# Dict\n",
    "print(type({\"key\": 2}), {\"key\": 2}, sep=\": \")\n",
    "dict = {\"key\": 2}\n",
    "print(\"keys\", dict.keys(), sep= \": \")\n",
    "print(\"values\", dict.values(), sep= \": \")"
   ]
  },
  {
   "cell_type": "markdown",
   "id": "b888a5aa-37bd-43a6-a9a2-f93bc8e0bd49",
   "metadata": {},
   "source": [
    "PYTHON VARIABLES"
   ]
  },
  {
   "cell_type": "code",
   "execution_count": 19,
   "id": "26b60e02-04bb-4469-a03f-ed8388bbc733",
   "metadata": {},
   "outputs": [
    {
     "name": "stdout",
     "output_type": "stream",
     "text": [
      "1, 2\n",
      "1\n",
      "2\n",
      "1, 1, 1\n"
     ]
    }
   ],
   "source": [
    "a, b = 1, 2\n",
    "print(a, b, sep=\", \")\n",
    "print(a)\n",
    "print(b)\n",
    "\n",
    "a = b = c = 1\n",
    "print(a, b, c, sep=\", \")"
   ]
  },
  {
   "cell_type": "markdown",
   "id": "45f1ef2e-c308-4a6f-80d5-7532f33aa9dc",
   "metadata": {},
   "source": [
    "PYTHON KEYWORDS AND IDENTIFIERS"
   ]
  },
  {
   "cell_type": "code",
   "execution_count": null,
   "id": "e0cd8195-7a60-4fe7-9ca3-be8d61d1d22e",
   "metadata": {},
   "outputs": [],
   "source": [
    "# Identifiers are names given to classes, functions, variables, etc"
   ]
  },
  {
   "cell_type": "markdown",
   "id": "f5c850bc-a1c2-44b4-bf7a-22bf2b7d8399",
   "metadata": {},
   "source": [
    "USER INPUT"
   ]
  },
  {
   "cell_type": "code",
   "execution_count": 29,
   "id": "404aed8e-6267-4a6b-8e2d-3a836186d795",
   "metadata": {},
   "outputs": [
    {
     "name": "stdin",
     "output_type": "stream",
     "text": [
      "What is current crude oil price:  100\n",
      "What is the volume produced?:  20000\n"
     ]
    },
    {
     "name": "stdout",
     "output_type": "stream",
     "text": [
      "Given that volume produced is 20000.00stb, and oil price is $100.00/stb, revenue generated is $2000000.00\n"
     ]
    }
   ],
   "source": [
    "oil_price = float(input(\"What is current crude oil price: \"))\n",
    "volume_produced = float(input(\"What is the volume produced?: \"))\n",
    "revenue = oil_price * volume_produced\n",
    "print(f\"Given that volume produced is {volume_produced:.2f} stb, and oil price is ${oil_price:.2f}/stb, revenue generated is ${revenue:.2f}\")"
   ]
  },
  {
   "cell_type": "markdown",
   "id": "6f202960-23b5-42eb-8429-7e300ea72b18",
   "metadata": {},
   "source": [
    "PYTHON LITERALS"
   ]
  },
  {
   "cell_type": "code",
   "execution_count": 33,
   "id": "ee556f4f-b0b4-4b7d-a6c2-2d89876cb132",
   "metadata": {},
   "outputs": [
    {
     "name": "stdout",
     "output_type": "stream",
     "text": [
      "9 301 209 539\n",
      "🤣😀\n"
     ]
    }
   ],
   "source": [
    "# Binary\n",
    "a = 0b1001\n",
    "\n",
    "# Decimals\n",
    "b = 301\n",
    "\n",
    "# Octals\n",
    "c = 0o321\n",
    "\n",
    "# Hexadecimals\n",
    "d = 0x21b\n",
    "print(a, b, c, d)\n",
    "\n",
    "# unicodes\n",
    "uni = u\"\\U0001F923\\U0001f600\"\n",
    "print(uni)"
   ]
  }
 ],
 "metadata": {
  "kernelspec": {
   "display_name": "Python 3 (ipykernel)",
   "language": "python",
   "name": "python3"
  },
  "language_info": {
   "codemirror_mode": {
    "name": "ipython",
    "version": 3
   },
   "file_extension": ".py",
   "mimetype": "text/x-python",
   "name": "python",
   "nbconvert_exporter": "python",
   "pygments_lexer": "ipython3",
   "version": "3.12.4"
  }
 },
 "nbformat": 4,
 "nbformat_minor": 5
}
