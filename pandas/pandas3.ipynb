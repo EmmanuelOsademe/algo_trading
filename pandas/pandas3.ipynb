{
 "cells": [
  {
   "cell_type": "code",
   "execution_count": 1,
   "id": "d59f53b0-5db7-4aa0-963d-5c5d5f3b25c8",
   "metadata": {},
   "outputs": [],
   "source": [
    "import numpy as np\n",
    "import pandas as pd"
   ]
  },
  {
   "cell_type": "code",
   "execution_count": 5,
   "id": "96822a83-31b6-4f1d-a1da-da296510bec0",
   "metadata": {},
   "outputs": [
    {
     "name": "stdout",
     "output_type": "stream",
     "text": [
      "Dataset created and saved to 'algotrading_combined_dataset2.csv'\n"
     ]
    }
   ],
   "source": [
    "def create_asset_data(tickers, start_date, end_date):\n",
    "    dates = pd.date_range(start=start_date, end=end_date, freq='B')\n",
    "    data = []\n",
    "    for ticker in tickers:\n",
    "        np.random.seed(42)  # For reproducibility\n",
    "        price = np.random.randn(len(dates)).cumsum() + 100\n",
    "        for i in range(len(dates)):\n",
    "            open_price = price[i] + np.random.uniform(-1, 1)\n",
    "            high_price = max(open_price, price[i] + np.random.uniform(0, 2))\n",
    "            low_price = min(open_price, price[i] - np.random.uniform(0, 2))\n",
    "            close_price = price[i] + np.random.uniform(-1, 1)\n",
    "            volume = np.random.randint(1000, 1000000)\n",
    "            # Introduce NaN values randomly\n",
    "            if np.random.rand() < 0.05:\n",
    "                open_price = np.nan\n",
    "            if np.random.rand() < 0.05:\n",
    "                high_price = np.nan\n",
    "            if np.random.rand() < 0.05:\n",
    "                low_price = np.nan\n",
    "            if np.random.rand() < 0.05:\n",
    "                close_price = np.nan\n",
    "            if np.random.rand() < 0.05:\n",
    "                volume = np.nan\n",
    "            data.append([dates[i], ticker, open_price, high_price, low_price, close_price, volume])\n",
    "    return pd.DataFrame(data, columns=['Date', 'Ticker', 'Open', 'High', 'Low', 'Close', 'Volume'])\n",
    "\n",
    "# Define tickers for each asset type\n",
    "stock_tickers = ['AAPL', 'GOOG', 'MSFT', 'AMZN', 'TSLA']\n",
    "forex_tickers = ['EUR/USD', 'GBP/USD', 'USD/JPY', 'AUD/USD', 'USD/CAD']\n",
    "crypto_tickers = ['BTC/USD', 'ETH/USD', 'XRP/USD', 'LTC/USD', 'BCH/USD']\n",
    "\n",
    "# Generate data for each asset type\n",
    "stock_data = create_asset_data(stock_tickers, '2015-01-01', '2023-01-01')\n",
    "forex_data = create_asset_data(forex_tickers, '2015-01-01', '2023-01-01')\n",
    "crypto_data = create_asset_data(crypto_tickers, '2015-01-01', '2023-01-01')\n",
    "\n",
    "# Combine all data into a single DataFrame\n",
    "combined_data = pd.concat([stock_data, forex_data, crypto_data])\n",
    "\n",
    "# Introduce duplicate rows\n",
    "combined_data = pd.concat([combined_data, combined_data.sample(frac=0.05, random_state=42)])  # Add 5% duplicates\n",
    "\n",
    "# Save to CSV\n",
    "combined_data.to_csv('files/algotrading_combined_dataset2.csv', index=False)\n",
    "\n",
    "print(\"Dataset created and saved to 'algotrading_combined_dataset2.csv'\")"
   ]
  },
  {
   "cell_type": "code",
   "execution_count": 107,
   "id": "3f79d291-8683-4701-a45a-a1c521bce41d",
   "metadata": {},
   "outputs": [],
   "source": [
    "algo_df = pd.read_csv('files/algotrading_combined_dataset2.csv')\n",
    "funda_df = pd.read_csv(\"files/fundamental_research_dataset_large.csv\")"
   ]
  },
  {
   "cell_type": "code",
   "execution_count": 15,
   "id": "53fc5ac2-f260-4ba7-a6e7-a434b9c1d951",
   "metadata": {},
   "outputs": [
    {
     "name": "stdout",
     "output_type": "stream",
     "text": [
      "         Date Ticker        Open        High         Low       Close    Volume\n",
      "0  2015-01-01   AAPL  101.031849  101.329723   98.852354  101.197410  344567.0\n",
      "1  2015-01-02   AAPL  100.866496  100.866496   99.568981  101.220064  310521.0\n",
      "2  2015-01-05   AAPL  101.164489  101.176821  100.920124  101.339872       NaN\n",
      "3  2015-01-06   AAPL         NaN  103.203859  102.287356  101.777905  295025.0\n",
      "4  2015-01-07   AAPL  102.744728  104.050309  102.211701  102.090310  439080.0\n",
      "(32870, 7)\n"
     ]
    }
   ],
   "source": [
    "print(algo_df.head())\n",
    "print(algo_df.shape)"
   ]
  },
  {
   "cell_type": "code",
   "execution_count": 17,
   "id": "34403d50-d4f9-4f6d-b30d-09708a7dd509",
   "metadata": {},
   "outputs": [
    {
     "name": "stdout",
     "output_type": "stream",
     "text": [
      "  Ticker           Company Name      Sector             Industry  \\\n",
      "0   AAPL             Apple Inc.  Technology       Semiconductors   \n",
      "1  GOOGL          Alphabet Inc.     Finance  Investment Services   \n",
      "2   MSFT  Microsoft Corporation     Finance                Banks   \n",
      "3   AMZN       Amazon.com, Inc.  Healthcare      Pharmaceuticals   \n",
      "4   TSLA            Tesla, Inc.      Energy            Oil & Gas   \n",
      "\n",
      "   Market Cap (B)   EPS  P/E Ratio  Dividend Yield (%)  P/B Ratio  D/E Ratio  \n",
      "0          458.13 -9.78      44.16                2.19       9.17       2.56  \n",
      "1          215.85  4.86      27.56                8.14      14.93       0.06  \n",
      "2          276.46  5.09       6.73                0.27       1.76       1.31  \n",
      "3          349.40 -0.53      28.30                5.92      15.40       0.27  \n",
      "4          248.55  9.92      27.04                2.20      10.20       0.12  \n",
      "(1050, 10)\n"
     ]
    }
   ],
   "source": [
    "print(funda_df.head())\n",
    "print(funda_df.shape)"
   ]
  },
  {
   "cell_type": "markdown",
   "id": "67389485-543c-43e0-ac43-c84eb8bb6cfa",
   "metadata": {},
   "source": [
    "1. Identify all the top performing stocks based on their overall return from the start to the end of the dataset"
   ]
  },
  {
   "cell_type": "code",
   "execution_count": 26,
   "id": "ed010bcf-032c-40bf-a2e2-d69c37733ca9",
   "metadata": {},
   "outputs": [
    {
     "name": "stdout",
     "output_type": "stream",
     "text": [
      "15\n",
      "['AAPL' 'GOOG' 'MSFT' 'AMZN' 'TSLA' 'EUR/USD' 'GBP/USD' 'USD/JPY'\n",
      " 'AUD/USD' 'USD/CAD' 'BTC/USD' 'ETH/USD' 'XRP/USD' 'LTC/USD' 'BCH/USD']\n",
      "Ticker\n",
      "XRP/USD    2213\n",
      "GOOG       2203\n",
      "AMZN       2202\n",
      "ETH/USD    2201\n",
      "USD/JPY    2199\n",
      "TSLA       2192\n",
      "GBP/USD    2191\n",
      "LTC/USD    2190\n",
      "BCH/USD    2189\n",
      "AUD/USD    2185\n",
      "BTC/USD    2185\n",
      "MSFT       2184\n",
      "AAPL       2180\n",
      "EUR/USD    2179\n",
      "USD/CAD    2177\n",
      "Name: count, dtype: int64\n"
     ]
    }
   ],
   "source": [
    "print(algo_df[\"Ticker\"].nunique())\n",
    "print(algo_df[\"Ticker\"].unique())\n",
    "print(algo_df[\"Ticker\"].value_counts())"
   ]
  },
  {
   "cell_type": "code",
   "execution_count": 66,
   "id": "dcc922e8-05a8-4883-8b95-947b66b344b5",
   "metadata": {},
   "outputs": [
    {
     "name": "stdout",
     "output_type": "stream",
     "text": [
      "<class 'pandas.core.frame.DataFrame'>\n",
      "<class 'pandas.core.series.Series'>\n",
      "Ticker\n",
      "USD/JPY    82.54\n",
      "USD/CAD    82.28\n",
      "XRP/USD    81.03\n",
      "AUD/USD    78.99\n",
      "TSLA       77.31\n",
      "ETH/USD    62.77\n",
      "GBP/USD    62.61\n",
      "EUR/USD    45.17\n",
      "LTC/USD     3.39\n",
      "AAPL        2.72\n",
      "MSFT       -3.48\n",
      "AMZN       -3.67\n",
      "BCH/USD    -5.85\n",
      "BTC/USD    -7.94\n",
      "GOOG       -8.44\n",
      "Name: Overall Return (%), dtype: float64\n"
     ]
    },
    {
     "data": {
      "text/plain": [
       "<Axes: xlabel='Ticker'>"
      ]
     },
     "execution_count": 66,
     "metadata": {},
     "output_type": "execute_result"
    },
    {
     "data": {
      "image/png": "[encoded data removed]",
      "text/plain": [
       "<Figure size 640x480 with 1 Axes>"
      ]
     },
     "metadata": {},
     "output_type": "display_data"
    }
   ],
   "source": [
    "tickers = algo_df[\"Ticker\"].unique()\n",
    "performance = []\n",
    "\n",
    "for ticker in tickers:\n",
    "    stock_data = algo_df[algo_df[\"Ticker\"] == ticker]\n",
    "    stock_data.loc[:, \"Close\"] = stock_data[\"Close\"].ffill()\n",
    "    overall_return = round(((stock_data[\"Close\"].iloc[-1] - stock_data[\"Close\"].iloc[0])/stock_data[\"Close\"].iloc[0]) * 100, 2)\n",
    "    performance.append({\"Ticker\": ticker, \"Overall Return (%)\": overall_return})\n",
    "\n",
    "stocks_performance = pd.DataFrame(performance).sort_values(\"Overall Return (%)\", ascending=False)\n",
    "stocks_performance.set_index(\"Ticker\", inplace=True)\n",
    "print(type(stocks_performance))\n",
    "\n",
    "# Convert to series\n",
    "stocks_performance = stocks_performance.squeeze()\n",
    "print(type(stocks_performance))\n",
    "print(stocks_performance)\n",
    "\n",
    "stocks_performance.plot(kind=\"bar\")"
   ]
  },
  {
   "cell_type": "markdown",
   "id": "20713d84-82b6-4171-9cf0-90a4915c7759",
   "metadata": {},
   "source": [
    "2. How many instance of daily price change greater than 5% occurred for each stock"
   ]
  },
  {
   "cell_type": "code",
   "execution_count": 109,
   "id": "cfd8f854-2872-4e98-9b33-65d7193293a9",
   "metadata": {},
   "outputs": [
    {
     "name": "stdout",
     "output_type": "stream",
     "text": [
      "Date         0\n",
      "Ticker       0\n",
      "Open      1375\n",
      "High      1568\n",
      "Low       1780\n",
      "Close     1941\n",
      "Volume    2068\n",
      "dtype: int64\n",
      "Date      0\n",
      "Ticker    0\n",
      "Open      0\n",
      "High      0\n",
      "Low       0\n",
      "Close     0\n",
      "Volume    0\n",
      "dtype: int64\n"
     ]
    }
   ],
   "source": [
    "print(algo_df.isnull().sum())\n",
    "algo_df.ffill(inplace=True)\n",
    "print(algo_df.isnull().sum())"
   ]
  },
  {
   "cell_type": "code",
   "execution_count": 117,
   "id": "318db49c-030b-45fe-8fb4-0da22644d345",
   "metadata": {},
   "outputs": [
    {
     "name": "stdout",
     "output_type": "stream",
     "text": [
      "(37, 9)\n",
      "(50, 9)\n",
      "(34, 9)\n",
      "(43, 9)\n",
      "(33, 9)\n",
      "(35, 9)\n",
      "(42, 9)\n",
      "(46, 9)\n",
      "(41, 9)\n",
      "(46, 9)\n",
      "(33, 9)\n",
      "(50, 9)\n",
      "(54, 9)\n",
      "(36, 9)\n",
      "(45, 9)\n"
     ]
    },
    {
     "data": {
      "text/plain": [
       "<Axes: xlabel='Ticker'>"
      ]
     },
     "execution_count": 117,
     "metadata": {},
     "output_type": "execute_result"
    },
    {
     "data": {
      "image/png": "[encoded data removed]",
      "text/plain": [
       "<Figure size 640x480 with 1 Axes>"
      ]
     },
     "metadata": {},
     "output_type": "display_data"
    }
   ],
   "source": [
    "algo_df[\"Daily Change\"] = algo_df['Close'].pct_change()\n",
    "algo_df['High Change'] = algo_df['Daily Change'] > 0.05\n",
    "algo_df\n",
    "tickers = algo_df['Ticker'].unique()\n",
    "occurence = {}\n",
    "\n",
    "for ticker in tickers:\n",
    "    high_change_tickers = algo_df[(algo_df['Ticker'] == ticker) & (algo_df['High Change'] == True)]\n",
    "    occurence[ticker] = high_change_tickers.shape[0]\n",
    "\n",
    "df = pd.DataFrame(list(occurence.items()),columns=[\"Ticker\",\"Value\"])\n",
    "df.set_index('Ticker',inplace=True)\n",
    "df.plot(kind='bar')"
   ]
  },
  {
   "cell_type": "raw",
   "id": "06be712b-eeaa-4612-ae1a-0bc3aae1778c",
   "metadata": {},
   "source": [
    "3. Calculate the number of times each stock's price increased in the first quarter"
   ]
  },
  {
   "cell_type": "code",
   "execution_count": 121,
   "id": "dadd5de8-b132-4d72-9db4-3542e0cfedb0",
   "metadata": {},
   "outputs": [
    {
     "name": "stdout",
     "output_type": "stream",
     "text": [
      "<class 'pandas.core.frame.DataFrame'>\n",
      "RangeIndex: 32870 entries, 0 to 32869\n",
      "Data columns (total 9 columns):\n",
      " #   Column        Non-Null Count  Dtype         \n",
      "---  ------        --------------  -----         \n",
      " 0   Date          32870 non-null  datetime64[ns]\n",
      " 1   Ticker        32870 non-null  object        \n",
      " 2   Open          32870 non-null  float64       \n",
      " 3   High          32870 non-null  float64       \n",
      " 4   Low           32870 non-null  float64       \n",
      " 5   Close         32870 non-null  float64       \n",
      " 6   Volume        32870 non-null  float64       \n",
      " 7   Daily Change  32869 non-null  float64       \n",
      " 8   High Change   32870 non-null  bool          \n",
      "dtypes: bool(1), datetime64[ns](1), float64(6), object(1)\n",
      "memory usage: 2.0+ MB\n",
      "None\n"
     ]
    }
   ],
   "source": [
    "type(algo_df[\"Date\"])\n",
    "algo_df[\"Date\"] = pd.to_datetime(algo_df[\"Date\"])\n",
    "print(algo_df.info())"
   ]
  },
  {
   "cell_type": "code",
   "execution_count": 123,
   "id": "a357393d-b5a2-4fb3-ad13-516e0699511f",
   "metadata": {},
   "outputs": [
    {
     "name": "stdout",
     "output_type": "stream",
     "text": [
      "        Date Ticker        Open        High         Low       Close    Volume  \\\n",
      "0 2015-01-01   AAPL  101.031849  101.329723   98.852354  101.197410  344567.0   \n",
      "1 2015-01-02   AAPL  100.866496  100.866496   99.568981  101.220064  310521.0   \n",
      "2 2015-01-05   AAPL  101.164489  101.176821  100.920124  101.339872  310521.0   \n",
      "3 2015-01-06   AAPL  101.164489  103.203859  102.287356  101.777905  295025.0   \n",
      "4 2015-01-07   AAPL  102.744728  104.050309  102.211701  102.090310  439080.0   \n",
      "\n",
      "   Daily Change  High Change  \n",
      "0           NaN        False  \n",
      "1      0.000224        False  \n",
      "2      0.001184        False  \n",
      "3      0.004322        False  \n",
      "4      0.003069        False  \n"
     ]
    }
   ],
   "source": [
    "print(algo_df.head())"
   ]
  },
  {
   "cell_type": "code",
   "execution_count": 133,
   "id": "eb52d295-ba33-4fac-8c8f-833ac8dc5c44",
   "metadata": {},
   "outputs": [
    {
     "data": {
      "text/plain": [
       "<Axes: xlabel='Ticker'>"
      ]
     },
     "execution_count": 133,
     "metadata": {},
     "output_type": "execute_result"
    },
    {
     "data": {
      "image/png": "[encoded data removed]",
      "text/plain": [
       "<Figure size 640x480 with 1 Axes>"
      ]
     },
     "metadata": {},
     "output_type": "display_data"
    }
   ],
   "source": [
    "first_quarter = algo_df[algo_df[\"Date\"].dt.month.isin([1,2,3])]\n",
    "first_quarter = first_quarter[first_quarter[\"Close\"] > first_quarter[\"Open\"]]\n",
    "increase_count = first_quarter[\"Ticker\"].value_counts()\n",
    "increase_count.plot(kind=\"bar\")"
   ]
  },
  {
   "cell_type": "markdown",
   "id": "5ed17fcc-7a10-4989-9eae-0d55e4a1d2b9",
   "metadata": {},
   "source": [
    "4. Calculate the percentage of times the opening price being higher than the previous day's closing price resulted in a higher closing price on that day."
   ]
  },
  {
   "cell_type": "markdown",
   "id": "fdcf8806-f5b7-4630-b96d-ec1e31074fcc",
   "metadata": {},
   "source": [
    "5. Identify all assets with a daily percentage change higher than 8% and a volume greater than 100,000."
   ]
  },
  {
   "cell_type": "markdown",
   "id": "e7996896-2a39-4468-8e97-b5824c9dcc61",
   "metadata": {},
   "source": [
    "6. Identify all stocks in the Technology sector with a daily percentage change higher than 7.5%."
   ]
  },
  {
   "cell_type": "markdown",
   "id": "a7973809-7164-4db3-8d82-362d2b6ec8f8",
   "metadata": {},
   "source": [
    "7. Write a function that can return the performance track record of two assets against each other over time."
   ]
  },
  {
   "cell_type": "markdown",
   "id": "8719e73e-5df8-4408-acaf-ba55b54cfa12",
   "metadata": {},
   "source": [
    "8. Identify and remove duplicate rows from both datasets. How many duplicates were removed?"
   ]
  },
  {
   "cell_type": "markdown",
   "id": "75885943-5020-4ed7-af85-fe4e5d22ced3",
   "metadata": {},
   "source": [
    "9. For the fundamental dataset, identify rows where the Market Cap is NaN, and impute these values using a sector-wise median Market Cap."
   ]
  },
  {
   "cell_type": "markdown",
   "id": "248bc80c-da31-4804-90f1-bf44fc27747d",
   "metadata": {},
   "source": [
    "10. Filter the combined dataset to find the top 5 most volatile stocks based on the standard deviation of daily percentage changes."
   ]
  }
 ],
 "metadata": {
  "kernelspec": {
   "display_name": "Python 3 (ipykernel)",
   "language": "python",
   "name": "python3"
  },
  "language_info": {
   "codemirror_mode": {
    "name": "ipython",
    "version": 3
   },
   "file_extension": ".py",
   "mimetype": "text/x-python",
   "name": "python",
   "nbconvert_exporter": "python",
   "pygments_lexer": "ipython3",
   "version": "3.12.4"
  }
 },
 "nbformat": 4,
 "nbformat_minor": 5
}
