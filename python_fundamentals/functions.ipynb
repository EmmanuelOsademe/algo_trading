{
 "cells": [
  {
   "cell_type": "markdown",
   "id": "8e297bb6-1f67-43cf-a764-abe97c79ed6e",
   "metadata": {},
   "source": [
    "CREATION OF DOCSTRING"
   ]
  },
  {
   "cell_type": "code",
   "execution_count": 2,
   "id": "8bbfb9d2-7e1a-4343-b4e8-eebef09558cc",
   "metadata": {},
   "outputs": [],
   "source": [
    "def calculate_sma(prices = [], window = 1): \n",
    "    '''\n",
    "    Description\n",
    "        This function calculates simple moving average\n",
    "    Parameters:\n",
    "        prices: list of prices (floats). Default value is an empty list\n",
    "        window: window size (int). Default value is 1\n",
    "    Return:\n",
    "        Returns a calculated list of SMA (floats)\n",
    "    '''\n",
    "\n",
    "    if window < 1:\n",
    "        print(\"ValueError: window size must be greater than or equal to 1\")\n",
    "\n",
    "    result = []\n",
    "    start = 0\n",
    "    while start < len(prices):\n",
    "        if (start + window) < len(prices):\n",
    "            curr_sum = sum(prices[start:start+window])/window\n",
    "        else:\n",
    "            curr_sum = sum(prices[start:])/(len(prices) - start)\n",
    "        result.append(curr_sum)\n",
    "        start += window                                  \n",
    "    return result"
   ]
  },
  {
   "cell_type": "code",
   "execution_count": 3,
   "id": "56d4501d-26bc-4f9c-8052-b0d6cf4dc76c",
   "metadata": {},
   "outputs": [
    {
     "name": "stdout",
     "output_type": "stream",
     "text": [
      "[11.0, 16.0, 17.5]\n",
      "\n",
      "    Description\n",
      "        This function calculates simple moving average\n",
      "    Parameters:\n",
      "        prices: list of prices (floats). Default value is an empty list\n",
      "        window: window size (int). Default value is 1\n",
      "    Return:\n",
      "        Returns a calculated list of SMA (floats)\n",
      "    \n"
     ]
    }
   ],
   "source": [
    "prices = [10, 11, 12, 16.5, 15, 16.5, 17.5]\n",
    "print(calculate_sma(prices, 3))\n",
    "print(calculate_sma.__doc__)"
   ]
  },
  {
   "cell_type": "markdown",
   "id": "bcb80f29-50dc-4d03-b552-5299e87d46a6",
   "metadata": {},
   "source": [
    "ARGS"
   ]
  },
  {
   "cell_type": "code",
   "execution_count": 5,
   "id": "4390f542-29b2-4936-b8f1-46833609db3f",
   "metadata": {},
   "outputs": [],
   "source": [
    "def calculate_sum(*values): \n",
    "    '''\n",
    "    Description\n",
    "        This function computes the sum of variable numeric entries\n",
    "    Parameters:\n",
    "        values: values whose sum are to be computed\n",
    "    Return:\n",
    "        Sum of the variable arguments\n",
    "    '''\n",
    "    for val in values:\n",
    "        if not isinstance(val, (int, float)):\n",
    "            print(\"ValueError: All entries must be numbers\")\n",
    "            return\n",
    "    total = sum(values)\n",
    "    return total"
   ]
  },
  {
   "cell_type": "code",
   "execution_count": 6,
   "id": "0abc0d28-53b9-494e-9a60-cd43e2bc5c85",
   "metadata": {},
   "outputs": [
    {
     "name": "stdout",
     "output_type": "stream",
     "text": [
      "0\n",
      "5\n",
      "105.5\n",
      "\n",
      "    Description\n",
      "        This function computes the sum of variable numeric entries\n",
      "    Parameters:\n",
      "        values: values whose sum are to be computed\n",
      "    Return:\n",
      "        Sum of the variable arguments\n",
      "    \n"
     ]
    }
   ],
   "source": [
    "print(calculate_sum())\n",
    "print(calculate_sum(1, 4))\n",
    "print(calculate_sum(1, 4, 100.5))\n",
    "print(calculate_sum.__doc__)"
   ]
  },
  {
   "cell_type": "markdown",
   "id": "2bd0cb40-7ef8-4c50-b94d-c4c55e31ffb4",
   "metadata": {},
   "source": [
    "KWARGS"
   ]
  },
  {
   "cell_type": "code",
   "execution_count": 8,
   "id": "c8cf6356-443d-4aa5-a373-6d1a2030505b",
   "metadata": {},
   "outputs": [
    {
     "name": "stdout",
     "output_type": "stream",
     "text": [
      "Name:Emmanuel\n",
      "Location:Warri\n"
     ]
    }
   ],
   "source": [
    "def desc_trade(**dict):\n",
    "    for key, val in dict.items():\n",
    "        print(key, val, sep=\":\")\n",
    "\n",
    "\n",
    "desc_trade(Name=\"Emmanuel\", Location = \"Warri\")"
   ]
  },
  {
   "cell_type": "markdown",
   "id": "327a8dcb-fe2e-4713-bc26-d50c8c8c372f",
   "metadata": {},
   "source": [
    "NESTED FUNCTIONS"
   ]
  },
  {
   "cell_type": "code",
   "execution_count": 10,
   "id": "71de12c8-97d0-4fdb-8a4a-779bffa2957f",
   "metadata": {},
   "outputs": [
    {
     "name": "stdout",
     "output_type": "stream",
     "text": [
      "Sell\n",
      "Buy\n"
     ]
    }
   ],
   "source": [
    "def trading_dec(price):\n",
    "    def buy_dec():\n",
    "        return \"Buy\"\n",
    "\n",
    "    def sell_dec():\n",
    "        return \"Sell\"\n",
    "\n",
    "    if price < 50:\n",
    "        return buy_dec()\n",
    "    else:\n",
    "        return sell_dec()\n",
    "\n",
    "print(trading_dec(89))\n",
    "print(trading_dec(23))"
   ]
  },
  {
   "cell_type": "markdown",
   "id": "36e9b03e-5614-4aa8-b223-c2fbc6a8ff65",
   "metadata": {},
   "source": [
    "FUNCTIONS AS FIRST CLASS CITIZENS"
   ]
  },
  {
   "cell_type": "code",
   "execution_count": 12,
   "id": "ac69275a-f84f-4591-8db9-6ad01767f68e",
   "metadata": {},
   "outputs": [
    {
     "name": "stdout",
     "output_type": "stream",
     "text": [
      "<class 'function'>\n",
      "1924100113248\n"
     ]
    }
   ],
   "source": [
    "# TYPE\n",
    "def trading_logs():\n",
    "    pass\n",
    "print(type(trading_logs))\n",
    "print(id(trading_logs))"
   ]
  },
  {
   "cell_type": "code",
   "execution_count": 13,
   "id": "727d6de2-fb61-44e1-8c9a-fd42bc72e52f",
   "metadata": {},
   "outputs": [
    {
     "name": "stdout",
     "output_type": "stream",
     "text": [
      "8\n"
     ]
    }
   ],
   "source": [
    "# Re-assignment\n",
    "def trading_logs(price1, price2):\n",
    "    return price1 + price2\n",
    "\n",
    "sum_prices = trading_logs\n",
    "print(sum_prices(3,5))"
   ]
  },
  {
   "cell_type": "code",
   "execution_count": 14,
   "id": "754c228a-55c7-47f9-8a9e-5efb2b2c8f9a",
   "metadata": {},
   "outputs": [
    {
     "name": "stdout",
     "output_type": "stream",
     "text": [
      "Analysing prices deletion\n"
     ]
    }
   ],
   "source": [
    "# Deleting functions\n",
    "def trading_logs():\n",
    "    return \"Analysing prices deletion\"\n",
    "\n",
    "print(trading_logs())\n",
    "del trading_logs\n",
    "#print(trading_logs())"
   ]
  },
  {
   "cell_type": "code",
   "execution_count": 15,
   "id": "32fd940f-794a-4862-8c4c-5d5b7c15e467",
   "metadata": {},
   "outputs": [
    {
     "name": "stdout",
     "output_type": "stream",
     "text": [
      "Buy TSLA\n",
      "Sell TSLA\n"
     ]
    }
   ],
   "source": [
    "# storing\n",
    "def buy_stock(stock):\n",
    "    return f\"Buy {stock}\"\n",
    "\n",
    "def sell_stock(stock):\n",
    "    return f\"Sell {stock}\"\n",
    "\n",
    "actions = {\"Buy\": buy_stock, \"Sell\": sell_stock}\n",
    "print(actions[\"Buy\"](\"TSLA\"))\n",
    "print(actions[\"Sell\"](\"TSLA\"))"
   ]
  },
  {
   "cell_type": "code",
   "execution_count": 16,
   "id": "31bfb558-c404-428b-b622-4d95873be970",
   "metadata": {},
   "outputs": [
    {
     "name": "stdout",
     "output_type": "stream",
     "text": [
      "Momentum Strategy\n",
      "Mean Reversion Strategy\n"
     ]
    }
   ],
   "source": [
    "# Returning a function\n",
    "def strategy_selection(strategy_name):\n",
    "\n",
    "    def momentum_strategy():\n",
    "        return \"Momentum Strategy\"\n",
    "\n",
    "    def mean_reversion_strategy():\n",
    "        return \"Mean Reversion Strategy\"\n",
    "\n",
    "    if strategy_name == \"momentum\":\n",
    "        return momentum_strategy\n",
    "    else:\n",
    "        return mean_reversion_strategy\n",
    "\n",
    "print(strategy_selection(\"momentum\")())\n",
    "print(strategy_selection(\"other\")())"
   ]
  },
  {
   "cell_type": "code",
   "execution_count": 17,
   "id": "c0c0bd1c-8cc1-4db0-9e0c-103ce877ea87",
   "metadata": {},
   "outputs": [
    {
     "name": "stdout",
     "output_type": "stream",
     "text": [
      "18.0\n"
     ]
    }
   ],
   "source": [
    "# Function as argument\n",
    "def moving_average_strategy(price):\n",
    "    return (sum(price)/len(price))\n",
    "\n",
    "def execute_strategy(strategy_func, price):\n",
    "    return strategy_func(price)\n",
    "\n",
    "print(execute_strategy(moving_average_strategy, [23, 3, 44, 2]))"
   ]
  },
  {
   "cell_type": "markdown",
   "id": "c13da1f1-ba62-4cc5-813b-f412740120d6",
   "metadata": {},
   "source": [
    "LAMBDA EXPRESSIONS"
   ]
  },
  {
   "cell_type": "code",
   "execution_count": 19,
   "id": "3e45f891-e89a-4295-ac4a-0847ea7851b1",
   "metadata": {},
   "outputs": [
    {
     "name": "stdout",
     "output_type": "stream",
     "text": [
      "6.5\n",
      "6.5\n"
     ]
    }
   ],
   "source": [
    "def moving_average(prices, window):\n",
    "    sma = sum(prices[-window:])/window\n",
    "    return sma\n",
    "\n",
    "prices = [1, 2, 3, 4, 5, 6, 7, 8.]\n",
    "window = 4\n",
    "print(moving_average(prices, 4))\n",
    "\n",
    "moving_average = lambda prices, window: sum(prices[-window:])/window\n",
    "print(moving_average(prices, window))"
   ]
  },
  {
   "cell_type": "markdown",
   "id": "8f857d57-42a8-45cd-bb9a-d803e113eed8",
   "metadata": {},
   "source": [
    "HIGHER ORDER FUNCTIONS"
   ]
  },
  {
   "cell_type": "code",
   "execution_count": 21,
   "id": "39fe2a9a-24eb-4821-99fd-73fb78f17d89",
   "metadata": {},
   "outputs": [
    {
     "name": "stdout",
     "output_type": "stream",
     "text": [
      "[4, 9, 16, 25, 25, 36, 81]\n",
      "['High', 'High', 'High', 'Low', 'Low', 'High', 'Low', 'Low', 'High']\n",
      "['Tesla', 'Bitcoin']\n"
     ]
    }
   ],
   "source": [
    "# Map\n",
    "prices = [2, 3, 4, 5, -5, 6, -9]\n",
    "\n",
    "squares = list(map(lambda x: x**2, prices))\n",
    "print(squares)\n",
    "\n",
    "prices = [200, 300, 400, -500, -600, 305, 6, -9, 201.3]\n",
    "flags = list(map(lambda x: \"High\" if x >= 200 else \"Low\", prices))\n",
    "print(flags)\n",
    "\n",
    "stocks = [{\"symbol\": \"TSLA\", \"name\": \"Tesla\"}, {\"symbol\": \"BTC\", \"name\": \"Bitcoin\"}]\n",
    "\n",
    "print(list(map(lambda x: x[\"name\"], stocks)))"
   ]
  },
  {
   "cell_type": "code",
   "execution_count": 22,
   "id": "a1a6daf1-3c9b-4eea-a7c0-d60192847e2c",
   "metadata": {},
   "outputs": [
    {
     "name": "stdout",
     "output_type": "stream",
     "text": [
      "[200, 300, 400, 305, 201.3]\n",
      "[{'symbol': 'TSLA', 'name': 'Tesla'}]\n"
     ]
    }
   ],
   "source": [
    "# Filter\n",
    "prices = [200, 300, 400, -500, -600, 305, 6, -9, 201.3]\n",
    "high_prices = list(filter(lambda x: x > 100, prices))\n",
    "print(high_prices)\n",
    "\n",
    "stocks = [{\"symbol\": \"TSLA\", \"name\": \"Tesla\"}, {\"symbol\": \"BTC\", \"name\": \"Bitcoin\"}]\n",
    "starts_with_T = list(filter(lambda x: x[\"name\"].startswith(\"T\"), stocks))\n",
    "print(starts_with_T)"
   ]
  },
  {
   "cell_type": "code",
   "execution_count": 23,
   "id": "d60d8880-0a20-4c77-8234-432b303df08f",
   "metadata": {},
   "outputs": [
    {
     "name": "stdout",
     "output_type": "stream",
     "text": [
      "45\n",
      "-10\n"
     ]
    }
   ],
   "source": [
    "# Reduce\n",
    "from functools import reduce\n",
    "\n",
    "# Running sum\n",
    "prices = [1, 2, 3, 4 ,5, 6, 7, 8, 9, 10, -10]\n",
    "print(reduce(lambda x, y: x + y, prices))\n",
    "\n",
    "# Min price\n",
    "print(reduce(lambda x, y: min(x, y), prices))"
   ]
  }
 ],
 "metadata": {
  "kernelspec": {
   "display_name": "Python 3 (ipykernel)",
   "language": "python",
   "name": "python3"
  },
  "language_info": {
   "codemirror_mode": {
    "name": "ipython",
    "version": 3
   },
   "file_extension": ".py",
   "mimetype": "text/x-python",
   "name": "python",
   "nbconvert_exporter": "python",
   "pygments_lexer": "ipython3",
   "version": "3.12.4"
  }
 },
 "nbformat": 4,
 "nbformat_minor": 5
}
