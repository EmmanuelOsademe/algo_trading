{
 "cells": [
  {
   "cell_type": "code",
   "execution_count": 1,
   "id": "12cfadf8-9524-472a-9c69-d29c0cc085e7",
   "metadata": {},
   "outputs": [],
   "source": [
    "import pandas as pd\n",
    "import numpy as np"
   ]
  },
  {
   "cell_type": "code",
   "execution_count": 2,
   "id": "b2a0f95e-764c-45fb-b874-4ca80d7a5514",
   "metadata": {},
   "outputs": [
    {
     "name": "stdout",
     "output_type": "stream",
     "text": [
      "<class 'pandas.core.frame.DataFrame'>\n",
      "RangeIndex: 1000000 entries, 0 to 999999\n",
      "Data columns (total 8 columns):\n",
      " #   Column      Non-Null Count    Dtype \n",
      "---  ------      --------------    ----- \n",
      " 0   Unnamed: 0  1000000 non-null  int64 \n",
      " 1   Timestamp   1000000 non-null  object\n",
      " 2   Ticker      1000000 non-null  object\n",
      " 3   Price       1000000 non-null  int64 \n",
      " 4   Volume      1000000 non-null  int64 \n",
      " 5   Buy/Sell    1000000 non-null  object\n",
      " 6   Trader_ID   1000000 non-null  object\n",
      " 7   Exchange    1000000 non-null  object\n",
      "dtypes: int64(3), object(5)\n",
      "memory usage: 61.0+ MB\n"
     ]
    }
   ],
   "source": [
    "# Number of rows\n",
    "# num_rows = 1000000\n",
    "\n",
    "# # Create sample data with 1,000,000 rows\n",
    "# data = {\n",
    "#     'Timestamp': pd.date_range(start='2022-01-01', periods=num_rows, freq='S'),\n",
    "#     'Ticker': (['AAPL', 'GOOGL', 'MSFT', 'BTC', 'ETH', 'XRP'] * ((num_rows // 6) + 1))[:num_rows],\n",
    "#     'Price': ([150, 2500, 300, 155, 2550, 310] * ((num_rows // 6) + 1))[:num_rows],\n",
    "#     'Volume': ([100, 200, 150, 110, 210, 160] * ((num_rows // 6) + 1))[:num_rows],\n",
    "#     'Buy/Sell': (['Buy', 'Sell', 'Buy', 'Sell', 'Buy', 'Sell'] * ((num_rows // 6) + 1))[:num_rows],\n",
    "#     'Trader_ID': (['T1', 'T2', 'T3', 'T4', 'T5', 'T6'] * ((num_rows // 6) + 1))[:num_rows],\n",
    "#     'Exchange': (['NYSE', 'NASDAQ', 'NYSE', 'Binance', 'Bybit', 'Coinbase'] * ((num_rows // 6) + 1))[:num_rows]\n",
    "# }\n",
    "\n",
    "# # Convert the dictionary into a DataFrame\n",
    "# df = pd.DataFrame(data)\n",
    "# df.to_csv(\"files/Exchange_Trade_Data.csv\")\n",
    "exchange_df = pd.read_csv(\"files/Exchange_Trade_Data.csv\")\n",
    "exchange_df.info()"
   ]
  },
  {
   "cell_type": "code",
   "execution_count": 3,
   "id": "a22e5d74-74af-4ee7-a06e-20e691bf51b9",
   "metadata": {},
   "outputs": [
    {
     "name": "stdout",
     "output_type": "stream",
     "text": [
      "   Unnamed: 0            Timestamp Ticker  Price  Volume Buy/Sell Trader_ID  \\\n",
      "0           0  2022-01-01 00:00:00   AAPL    150     100      Buy        T1   \n",
      "1           1  2022-01-01 00:00:01  GOOGL   2500     200     Sell        T2   \n",
      "2           2  2022-01-01 00:00:02   MSFT    300     150      Buy        T3   \n",
      "3           3  2022-01-01 00:00:03    BTC    155     110     Sell        T4   \n",
      "4           4  2022-01-01 00:00:04    ETH   2550     210      Buy        T5   \n",
      "\n",
      "  Exchange  \n",
      "0     NYSE  \n",
      "1   NASDAQ  \n",
      "2     NYSE  \n",
      "3  Binance  \n",
      "4    Bybit  \n"
     ]
    }
   ],
   "source": [
    "print(exchange_df.head())"
   ]
  },
  {
   "cell_type": "code",
   "execution_count": 4,
   "id": "e8bd8b72-d429-47a3-bc7a-22ac0a7a3dfe",
   "metadata": {},
   "outputs": [
    {
     "name": "stdout",
     "output_type": "stream",
     "text": [
      "        Unnamed: 0            Timestamp Ticker  Price  Volume Buy/Sell  \\\n",
      "665770      665770  2022-01-08 16:56:10    ETH   2550     210      Buy   \n",
      "416441      416441  2022-01-05 19:40:41    XRP    310     160     Sell   \n",
      "543211      543211  2022-01-07 06:53:31  GOOGL   2500     200     Sell   \n",
      "905319      905319  2022-01-11 11:28:39    BTC    155     110     Sell   \n",
      "38424        38424  2022-01-01 10:40:24   AAPL    150     100      Buy   \n",
      "844156      844156  2022-01-10 18:29:16    ETH   2550     210      Buy   \n",
      "107221      107221  2022-01-02 05:47:01  GOOGL   2500     200     Sell   \n",
      "499130      499130  2022-01-06 18:38:50   MSFT    300     150      Buy   \n",
      "471354      471354  2022-01-06 10:55:54   AAPL    150     100      Buy   \n",
      "89501        89501  2022-01-02 00:51:41    XRP    310     160     Sell   \n",
      "201802      201802  2022-01-03 08:03:22    ETH   2550     210      Buy   \n",
      "324194      324194  2022-01-04 18:03:14   MSFT    300     150      Buy   \n",
      "472900      472900  2022-01-06 11:21:40    ETH   2550     210      Buy   \n",
      "346976      346976  2022-01-05 00:22:56   MSFT    300     150      Buy   \n",
      "352650      352650  2022-01-05 01:57:30   AAPL    150     100      Buy   \n",
      "916797      916797  2022-01-11 14:39:57    BTC    155     110     Sell   \n",
      "946274      946274  2022-01-11 22:51:14   MSFT    300     150      Buy   \n",
      "618672      618672  2022-01-08 03:51:12   AAPL    150     100      Buy   \n",
      "545119      545119  2022-01-07 07:25:19  GOOGL   2500     200     Sell   \n",
      "724028      724028  2022-01-09 09:07:08   MSFT    300     150      Buy   \n",
      "876024      876024  2022-01-11 03:20:24   AAPL    150     100      Buy   \n",
      "421870      421870  2022-01-05 21:11:10    ETH   2550     210      Buy   \n",
      "703105      703105  2022-01-09 03:18:25  GOOGL   2500     200     Sell   \n",
      "408411      408411  2022-01-05 17:26:51    BTC    155     110     Sell   \n",
      "192357      192357  2022-01-03 05:25:57    BTC    155     110     Sell   \n",
      "829331      829331  2022-01-10 14:22:11    XRP    310     160     Sell   \n",
      "334721      334721  2022-01-04 20:58:41    XRP    310     160     Sell   \n",
      "194761      194761  2022-01-03 06:06:01  GOOGL   2500     200     Sell   \n",
      "887441      887441  2022-01-11 06:30:41    XRP    310     160     Sell   \n",
      "140364      140364  2022-01-02 14:59:24   AAPL    150     100      Buy   \n",
      "\n",
      "       Trader_ID  Exchange  \n",
      "665770        T5     Bybit  \n",
      "416441        T6  Coinbase  \n",
      "543211        T2    NASDAQ  \n",
      "905319        T4   Binance  \n",
      "38424         T1      NYSE  \n",
      "844156        T5     Bybit  \n",
      "107221        T2    NASDAQ  \n",
      "499130        T3      NYSE  \n",
      "471354        T1      NYSE  \n",
      "89501         T6  Coinbase  \n",
      "201802        T5     Bybit  \n",
      "324194        T3      NYSE  \n",
      "472900        T5     Bybit  \n",
      "346976        T3      NYSE  \n",
      "352650        T1      NYSE  \n",
      "916797        T4   Binance  \n",
      "946274        T3      NYSE  \n",
      "618672        T1      NYSE  \n",
      "545119        T2    NASDAQ  \n",
      "724028        T3      NYSE  \n",
      "876024        T1      NYSE  \n",
      "421870        T5     Bybit  \n",
      "703105        T2    NASDAQ  \n",
      "408411        T4   Binance  \n",
      "192357        T4   Binance  \n",
      "829331        T6  Coinbase  \n",
      "334721        T6  Coinbase  \n",
      "194761        T2    NASDAQ  \n",
      "887441        T6  Coinbase  \n",
      "140364        T1      NYSE  \n"
     ]
    }
   ],
   "source": [
    "print(exchange_df.sample(30))"
   ]
  },
  {
   "cell_type": "code",
   "execution_count": 5,
   "id": "d88d9b47-018b-40b8-8f91-308ffd42f8bc",
   "metadata": {},
   "outputs": [],
   "source": [
    "# Groupby - sum\n",
    "\n",
    "# print(exchange_df.groupby(\"Ticker\").sum())"
   ]
  },
  {
   "cell_type": "code",
   "execution_count": 6,
   "id": "264b0165-4bf4-488f-a1df-bf0f3da311ea",
   "metadata": {},
   "outputs": [
    {
     "name": "stdout",
     "output_type": "stream",
     "text": [
      "Ticker\n",
      "AAPL     16666700\n",
      "BTC      18333370\n",
      "ETH      34999860\n",
      "GOOGL    33333400\n",
      "MSFT     25000050\n",
      "XRP      26666560\n",
      "Name: Volume, dtype: int64\n"
     ]
    }
   ],
   "source": [
    "print(exchange_df.groupby(\"Ticker\")['Volume'].sum())"
   ]
  },
  {
   "cell_type": "code",
   "execution_count": 7,
   "id": "f0fde3b5-8128-43be-bb00-f000df9d6b2e",
   "metadata": {},
   "outputs": [
    {
     "name": "stdout",
     "output_type": "stream",
     "text": [
      "Ticker\n",
      "AAPL     166667\n",
      "BTC      166667\n",
      "ETH      166666\n",
      "GOOGL    166667\n",
      "MSFT     166667\n",
      "XRP      166666\n",
      "dtype: int64\n",
      "        Unnamed: 0  Timestamp   Price  Volume  Buy/Sell  Trader_ID  Exchange\n",
      "Ticker                                                                      \n",
      "AAPL        166667     166667  166667  166667    166667     166667    166667\n",
      "BTC         166667     166667  166667  166667    166667     166667    166667\n",
      "ETH         166666     166666  166666  166666    166666     166666    166666\n",
      "GOOGL       166667     166667  166667  166667    166667     166667    166667\n",
      "MSFT        166667     166667  166667  166667    166667     166667    166667\n",
      "XRP         166666     166666  166666  166666    166666     166666    166666\n"
     ]
    }
   ],
   "source": [
    "print(exchange_df.groupby(\"Ticker\").size())\n",
    "print(exchange_df.groupby(\"Ticker\").count())"
   ]
  },
  {
   "cell_type": "code",
   "execution_count": 8,
   "id": "903b74d2-b53e-4508-9085-94cae9713acb",
   "metadata": {},
   "outputs": [
    {
     "name": "stdout",
     "output_type": "stream",
     "text": [
      "6\n"
     ]
    }
   ],
   "source": [
    "tickers = exchange_df.groupby(\"Ticker\")\n",
    "print(len(tickers))"
   ]
  },
  {
   "cell_type": "code",
   "execution_count": 9,
   "id": "d33762e9-06f5-4ecf-a552-156a8d35ffc2",
   "metadata": {},
   "outputs": [
    {
     "name": "stdout",
     "output_type": "stream",
     "text": [
      "        Unnamed: 0            Timestamp  Price  Volume Buy/Sell Trader_ID  \\\n",
      "Ticker                                                                      \n",
      "AAPL             0  2022-01-01 00:00:00    150     100      Buy        T1   \n",
      "BTC              3  2022-01-01 00:00:03    155     110     Sell        T4   \n",
      "ETH              4  2022-01-01 00:00:04   2550     210      Buy        T5   \n",
      "GOOGL            1  2022-01-01 00:00:01   2500     200     Sell        T2   \n",
      "MSFT             2  2022-01-01 00:00:02    300     150      Buy        T3   \n",
      "XRP              5  2022-01-01 00:00:05    310     160     Sell        T6   \n",
      "\n",
      "        Exchange  \n",
      "Ticker            \n",
      "AAPL        NYSE  \n",
      "BTC      Binance  \n",
      "ETH        Bybit  \n",
      "GOOGL     NASDAQ  \n",
      "MSFT        NYSE  \n",
      "XRP     Coinbase  \n"
     ]
    }
   ],
   "source": [
    "print(tickers.first())"
   ]
  },
  {
   "cell_type": "code",
   "execution_count": 10,
   "id": "a87cc4b7-f582-4582-8974-2bf6f77b9ade",
   "metadata": {},
   "outputs": [
    {
     "name": "stdout",
     "output_type": "stream",
     "text": [
      "        Unnamed: 0            Timestamp  Price  Volume Buy/Sell Trader_ID  \\\n",
      "Ticker                                                                      \n",
      "AAPL        999996  2022-01-12 13:46:36    150     100      Buy        T1   \n",
      "BTC         999999  2022-01-12 13:46:39    155     110     Sell        T4   \n",
      "ETH         999994  2022-01-12 13:46:34   2550     210      Buy        T5   \n",
      "GOOGL       999997  2022-01-12 13:46:37   2500     200     Sell        T2   \n",
      "MSFT        999998  2022-01-12 13:46:38    300     150      Buy        T3   \n",
      "XRP         999995  2022-01-12 13:46:35    310     160     Sell        T6   \n",
      "\n",
      "        Exchange  \n",
      "Ticker            \n",
      "AAPL        NYSE  \n",
      "BTC      Binance  \n",
      "ETH        Bybit  \n",
      "GOOGL     NASDAQ  \n",
      "MSFT        NYSE  \n",
      "XRP     Coinbase  \n"
     ]
    }
   ],
   "source": [
    "print(tickers.last())"
   ]
  },
  {
   "cell_type": "code",
   "execution_count": 11,
   "id": "0de98d5d-1528-47df-9bd3-79e7a77885b5",
   "metadata": {},
   "outputs": [
    {
     "name": "stdout",
     "output_type": "stream",
     "text": [
      "    Unnamed: 0            Timestamp Ticker  Price  Volume Buy/Sell Trader_ID  \\\n",
      "24          24  2022-01-01 00:00:24   AAPL    150     100      Buy        T1   \n",
      "25          25  2022-01-01 00:00:25  GOOGL   2500     200     Sell        T2   \n",
      "26          26  2022-01-01 00:00:26   MSFT    300     150      Buy        T3   \n",
      "27          27  2022-01-01 00:00:27    BTC    155     110     Sell        T4   \n",
      "28          28  2022-01-01 00:00:28    ETH   2550     210      Buy        T5   \n",
      "29          29  2022-01-01 00:00:29    XRP    310     160     Sell        T6   \n",
      "\n",
      "    Exchange  \n",
      "24      NYSE  \n",
      "25    NASDAQ  \n",
      "26      NYSE  \n",
      "27   Binance  \n",
      "28     Bybit  \n",
      "29  Coinbase  \n"
     ]
    }
   ],
   "source": [
    "print(tickers.nth(4))"
   ]
  },
  {
   "cell_type": "code",
   "execution_count": 12,
   "id": "db490b03-5d88-4b81-bb12-8112ab51a1e8",
   "metadata": {},
   "outputs": [
    {
     "name": "stdout",
     "output_type": "stream",
     "text": [
      "        Unnamed: 0            Timestamp Ticker  Price  Volume Buy/Sell  \\\n",
      "3                3  2022-01-01 00:00:03    BTC    155     110     Sell   \n",
      "9                9  2022-01-01 00:00:09    BTC    155     110     Sell   \n",
      "15              15  2022-01-01 00:00:15    BTC    155     110     Sell   \n",
      "21              21  2022-01-01 00:00:21    BTC    155     110     Sell   \n",
      "27              27  2022-01-01 00:00:27    BTC    155     110     Sell   \n",
      "...            ...                  ...    ...    ...     ...      ...   \n",
      "999975      999975  2022-01-12 13:46:15    BTC    155     110     Sell   \n",
      "999981      999981  2022-01-12 13:46:21    BTC    155     110     Sell   \n",
      "999987      999987  2022-01-12 13:46:27    BTC    155     110     Sell   \n",
      "999993      999993  2022-01-12 13:46:33    BTC    155     110     Sell   \n",
      "999999      999999  2022-01-12 13:46:39    BTC    155     110     Sell   \n",
      "\n",
      "       Trader_ID Exchange  \n",
      "3             T4  Binance  \n",
      "9             T4  Binance  \n",
      "15            T4  Binance  \n",
      "21            T4  Binance  \n",
      "27            T4  Binance  \n",
      "...          ...      ...  \n",
      "999975        T4  Binance  \n",
      "999981        T4  Binance  \n",
      "999987        T4  Binance  \n",
      "999993        T4  Binance  \n",
      "999999        T4  Binance  \n",
      "\n",
      "[166667 rows x 8 columns]\n"
     ]
    }
   ],
   "source": [
    "print(tickers.get_group(\"BTC\"))"
   ]
  },
  {
   "cell_type": "code",
   "execution_count": 13,
   "id": "b06167b9-8368-4f06-b782-eb594f7fc6f1",
   "metadata": {},
   "outputs": [
    {
     "name": "stdout",
     "output_type": "stream",
     "text": [
      "{'AAPL': [0, 6, 12, 18, 24, 30, 36, 42, 48, 54, 60, 66, 72, 78, 84, 90, 96, 102, 108, 114, 120, 126, 132, 138, 144, 150, 156, 162, 168, 174, 180, 186, 192, 198, 204, 210, 216, 222, 228, 234, 240, 246, 252, 258, 264, 270, 276, 282, 288, 294, 300, 306, 312, 318, 324, 330, 336, 342, 348, 354, 360, 366, 372, 378, 384, 390, 396, 402, 408, 414, 420, 426, 432, 438, 444, 450, 456, 462, 468, 474, 480, 486, 492, 498, 504, 510, 516, 522, 528, 534, 540, 546, 552, 558, 564, 570, 576, 582, 588, 594, ...], 'BTC': [3, 9, 15, 21, 27, 33, 39, 45, 51, 57, 63, 69, 75, 81, 87, 93, 99, 105, 111, 117, 123, 129, 135, 141, 147, 153, 159, 165, 171, 177, 183, 189, 195, 201, 207, 213, 219, 225, 231, 237, 243, 249, 255, 261, 267, 273, 279, 285, 291, 297, 303, 309, 315, 321, 327, 333, 339, 345, 351, 357, 363, 369, 375, 381, 387, 393, 399, 405, 411, 417, 423, 429, 435, 441, 447, 453, 459, 465, 471, 477, 483, 489, 495, 501, 507, 513, 519, 525, 531, 537, 543, 549, 555, 561, 567, 573, 579, 585, 591, 597, ...], 'ETH': [4, 10, 16, 22, 28, 34, 40, 46, 52, 58, 64, 70, 76, 82, 88, 94, 100, 106, 112, 118, 124, 130, 136, 142, 148, 154, 160, 166, 172, 178, 184, 190, 196, 202, 208, 214, 220, 226, 232, 238, 244, 250, 256, 262, 268, 274, 280, 286, 292, 298, 304, 310, 316, 322, 328, 334, 340, 346, 352, 358, 364, 370, 376, 382, 388, 394, 400, 406, 412, 418, 424, 430, 436, 442, 448, 454, 460, 466, 472, 478, 484, 490, 496, 502, 508, 514, 520, 526, 532, 538, 544, 550, 556, 562, 568, 574, 580, 586, 592, 598, ...], 'GOOGL': [1, 7, 13, 19, 25, 31, 37, 43, 49, 55, 61, 67, 73, 79, 85, 91, 97, 103, 109, 115, 121, 127, 133, 139, 145, 151, 157, 163, 169, 175, 181, 187, 193, 199, 205, 211, 217, 223, 229, 235, 241, 247, 253, 259, 265, 271, 277, 283, 289, 295, 301, 307, 313, 319, 325, 331, 337, 343, 349, 355, 361, 367, 373, 379, 385, 391, 397, 403, 409, 415, 421, 427, 433, 439, 445, 451, 457, 463, 469, 475, 481, 487, 493, 499, 505, 511, 517, 523, 529, 535, 541, 547, 553, 559, 565, 571, 577, 583, 589, 595, ...], 'MSFT': [2, 8, 14, 20, 26, 32, 38, 44, 50, 56, 62, 68, 74, 80, 86, 92, 98, 104, 110, 116, 122, 128, 134, 140, 146, 152, 158, 164, 170, 176, 182, 188, 194, 200, 206, 212, 218, 224, 230, 236, 242, 248, 254, 260, 266, 272, 278, 284, 290, 296, 302, 308, 314, 320, 326, 332, 338, 344, 350, 356, 362, 368, 374, 380, 386, 392, 398, 404, 410, 416, 422, 428, 434, 440, 446, 452, 458, 464, 470, 476, 482, 488, 494, 500, 506, 512, 518, 524, 530, 536, 542, 548, 554, 560, 566, 572, 578, 584, 590, 596, ...], 'XRP': [5, 11, 17, 23, 29, 35, 41, 47, 53, 59, 65, 71, 77, 83, 89, 95, 101, 107, 113, 119, 125, 131, 137, 143, 149, 155, 161, 167, 173, 179, 185, 191, 197, 203, 209, 215, 221, 227, 233, 239, 245, 251, 257, 263, 269, 275, 281, 287, 293, 299, 305, 311, 317, 323, 329, 335, 341, 347, 353, 359, 365, 371, 377, 383, 389, 395, 401, 407, 413, 419, 425, 431, 437, 443, 449, 455, 461, 467, 473, 479, 485, 491, 497, 503, 509, 515, 521, 527, 533, 539, 545, 551, 557, 563, 569, 575, 581, 587, 593, 599, ...]}\n"
     ]
    }
   ],
   "source": [
    "print(tickers.groups)"
   ]
  },
  {
   "cell_type": "code",
   "execution_count": 14,
   "id": "7f342bf0-689e-4a28-a5d0-0787a38bf002",
   "metadata": {},
   "outputs": [
    {
     "name": "stdout",
     "output_type": "stream",
     "text": [
      "       Unnamed: 0                                                              \\\n",
      "            count      mean            std  min       25%       50%       75%   \n",
      "Ticker                                                                          \n",
      "AAPL     166667.0  499998.0  288676.577969  0.0  249999.0  499998.0  749997.0   \n",
      "BTC      166667.0  500001.0  288676.577969  3.0  250002.0  500001.0  750000.0   \n",
      "ETH      166666.0  499999.0  288674.845918  4.0  250001.5  499999.0  749996.5   \n",
      "GOOGL    166667.0  499999.0  288676.577969  1.0  250000.0  499999.0  749998.0   \n",
      "MSFT     166667.0  500000.0  288676.577969  2.0  250001.0  500000.0  749999.0   \n",
      "XRP      166666.0  500000.0  288674.845918  5.0  250002.5  500000.0  749997.5   \n",
      "\n",
      "                     Price          ...                    Volume              \\\n",
      "             max     count    mean  ...     75%     max     count   mean  std   \n",
      "Ticker                              ...                                         \n",
      "AAPL    999996.0  166667.0   150.0  ...   150.0   150.0  166667.0  100.0  0.0   \n",
      "BTC     999999.0  166667.0   155.0  ...   155.0   155.0  166667.0  110.0  0.0   \n",
      "ETH     999994.0  166666.0  2550.0  ...  2550.0  2550.0  166666.0  210.0  0.0   \n",
      "GOOGL   999997.0  166667.0  2500.0  ...  2500.0  2500.0  166667.0  200.0  0.0   \n",
      "MSFT    999998.0  166667.0   300.0  ...   300.0   300.0  166667.0  150.0  0.0   \n",
      "XRP     999995.0  166666.0   310.0  ...   310.0   310.0  166666.0  160.0  0.0   \n",
      "\n",
      "                                           \n",
      "          min    25%    50%    75%    max  \n",
      "Ticker                                     \n",
      "AAPL    100.0  100.0  100.0  100.0  100.0  \n",
      "BTC     110.0  110.0  110.0  110.0  110.0  \n",
      "ETH     210.0  210.0  210.0  210.0  210.0  \n",
      "GOOGL   200.0  200.0  200.0  200.0  200.0  \n",
      "MSFT    150.0  150.0  150.0  150.0  150.0  \n",
      "XRP     160.0  160.0  160.0  160.0  160.0  \n",
      "\n",
      "[6 rows x 24 columns]\n"
     ]
    }
   ],
   "source": [
    "print(tickers.describe())"
   ]
  },
  {
   "cell_type": "code",
   "execution_count": 15,
   "id": "9149ea85-35be-4d2c-b434-c91f794e047c",
   "metadata": {},
   "outputs": [
    {
     "name": "stdout",
     "output_type": "stream",
     "text": [
      "        Unnamed: 0            Timestamp Ticker  Price  Volume Buy/Sell  \\\n",
      "606012      606012  2022-01-08 00:20:12   AAPL    150     100      Buy   \n",
      "982926      982926  2022-01-12 09:02:06   AAPL    150     100      Buy   \n",
      "984798      984798  2022-01-12 09:33:18   AAPL    150     100      Buy   \n",
      "262566      262566  2022-01-04 00:56:06   AAPL    150     100      Buy   \n",
      "626754      626754  2022-01-08 06:05:54   AAPL    150     100      Buy   \n",
      "581175      581175  2022-01-07 17:26:15    BTC    155     110     Sell   \n",
      "601995      601995  2022-01-07 23:13:15    BTC    155     110     Sell   \n",
      "447777      447777  2022-01-06 04:22:57    BTC    155     110     Sell   \n",
      "448749      448749  2022-01-06 04:39:09    BTC    155     110     Sell   \n",
      "626019      626019  2022-01-08 05:53:39    BTC    155     110     Sell   \n",
      "864238      864238  2022-01-11 00:03:58    ETH   2550     210      Buy   \n",
      "264508      264508  2022-01-04 01:28:28    ETH   2550     210      Buy   \n",
      "780010      780010  2022-01-10 00:40:10    ETH   2550     210      Buy   \n",
      "139114      139114  2022-01-02 14:38:34    ETH   2550     210      Buy   \n",
      "799702      799702  2022-01-10 06:08:22    ETH   2550     210      Buy   \n",
      "257089      257089  2022-01-03 23:24:49  GOOGL   2500     200     Sell   \n",
      "413971      413971  2022-01-05 18:59:31  GOOGL   2500     200     Sell   \n",
      "140929      140929  2022-01-02 15:08:49  GOOGL   2500     200     Sell   \n",
      "174871      174871  2022-01-03 00:34:31  GOOGL   2500     200     Sell   \n",
      "700933      700933  2022-01-09 02:42:13  GOOGL   2500     200     Sell   \n",
      "828938      828938  2022-01-10 14:15:38   MSFT    300     150      Buy   \n",
      "826856      826856  2022-01-10 13:40:56   MSFT    300     150      Buy   \n",
      "914864      914864  2022-01-11 14:07:44   MSFT    300     150      Buy   \n",
      "472646      472646  2022-01-06 11:17:26   MSFT    300     150      Buy   \n",
      "319928      319928  2022-01-04 16:52:08   MSFT    300     150      Buy   \n",
      "176129      176129  2022-01-03 00:55:29    XRP    310     160     Sell   \n",
      "339197      339197  2022-01-04 22:13:17    XRP    310     160     Sell   \n",
      "712703      712703  2022-01-09 05:58:23    XRP    310     160     Sell   \n",
      "76349        76349  2022-01-01 21:12:29    XRP    310     160     Sell   \n",
      "366779      366779  2022-01-05 05:52:59    XRP    310     160     Sell   \n",
      "\n",
      "       Trader_ID  Exchange  \n",
      "606012        T1      NYSE  \n",
      "982926        T1      NYSE  \n",
      "984798        T1      NYSE  \n",
      "262566        T1      NYSE  \n",
      "626754        T1      NYSE  \n",
      "581175        T4   Binance  \n",
      "601995        T4   Binance  \n",
      "447777        T4   Binance  \n",
      "448749        T4   Binance  \n",
      "626019        T4   Binance  \n",
      "864238        T5     Bybit  \n",
      "264508        T5     Bybit  \n",
      "780010        T5     Bybit  \n",
      "139114        T5     Bybit  \n",
      "799702        T5     Bybit  \n",
      "257089        T2    NASDAQ  \n",
      "413971        T2    NASDAQ  \n",
      "140929        T2    NASDAQ  \n",
      "174871        T2    NASDAQ  \n",
      "700933        T2    NASDAQ  \n",
      "828938        T3      NYSE  \n",
      "826856        T3      NYSE  \n",
      "914864        T3      NYSE  \n",
      "472646        T3      NYSE  \n",
      "319928        T3      NYSE  \n",
      "176129        T6  Coinbase  \n",
      "339197        T6  Coinbase  \n",
      "712703        T6  Coinbase  \n",
      "76349         T6  Coinbase  \n",
      "366779        T6  Coinbase  \n"
     ]
    }
   ],
   "source": [
    "print(tickers.sample(5))"
   ]
  },
  {
   "cell_type": "code",
   "execution_count": 16,
   "id": "4fe2795d-289e-4b18-b05a-015715a7e753",
   "metadata": {},
   "outputs": [
    {
     "name": "stdout",
     "output_type": "stream",
     "text": [
      "        Unnamed: 0  Timestamp  Price  Volume  Buy/Sell  Trader_ID  Exchange\n",
      "Ticker                                                                     \n",
      "AAPL        166667     166667      1       1         1          1         1\n",
      "BTC         166667     166667      1       1         1          1         1\n",
      "ETH         166666     166666      1       1         1          1         1\n",
      "GOOGL       166667     166667      1       1         1          1         1\n",
      "MSFT        166667     166667      1       1         1          1         1\n",
      "XRP         166666     166666      1       1         1          1         1\n"
     ]
    }
   ],
   "source": [
    "print(tickers.nunique())"
   ]
  },
  {
   "cell_type": "code",
   "execution_count": 17,
   "id": "f1f687e2-857a-42a0-838d-f84fe36dcd4b",
   "metadata": {},
   "outputs": [
    {
     "name": "stdout",
     "output_type": "stream",
     "text": [
      "          Volume   Price\n",
      "Ticker                  \n",
      "AAPL    16666700   150.0\n",
      "BTC     18333370   155.0\n",
      "ETH     34999860  2550.0\n",
      "GOOGL   33333400  2500.0\n",
      "MSFT    25000050   300.0\n",
      "XRP     26666560   310.0\n"
     ]
    }
   ],
   "source": [
    "print(tickers.agg({\n",
    "    \"Volume\": \"sum\",\n",
    "    \"Price\": \"mean\"\n",
    "}))"
   ]
  },
  {
   "cell_type": "code",
   "execution_count": 18,
   "id": "26b7adb7-fe04-4dac-8cbb-00e1ee957a8f",
   "metadata": {},
   "outputs": [
    {
     "name": "stdout",
     "output_type": "stream",
     "text": [
      "          Volume          Price\n",
      "             sum   mean    mean\n",
      "Ticker                         \n",
      "AAPL    16666700  100.0   150.0\n",
      "BTC     18333370  110.0   155.0\n",
      "ETH     34999860  210.0  2550.0\n",
      "GOOGL   33333400  200.0  2500.0\n",
      "MSFT    25000050  150.0   300.0\n",
      "XRP     26666560  160.0   310.0\n"
     ]
    }
   ],
   "source": [
    "print(tickers.agg({\n",
    "    \"Volume\": [\"sum\", \"mean\"],\n",
    "    \"Price\": \"mean\"\n",
    "}))"
   ]
  },
  {
   "cell_type": "code",
   "execution_count": 19,
   "id": "d6cb8c44-15ca-4183-ba47-98a74329cf3a",
   "metadata": {},
   "outputs": [
    {
     "name": "stdout",
     "output_type": "stream",
     "text": [
      "          Volume                       Price                    \n",
      "             sum   mean  min  max        sum    mean   min   max\n",
      "Ticker                                                          \n",
      "AAPL    16666700  100.0  100  100   25000050   150.0   150   150\n",
      "BTC     18333370  110.0  110  110   25833385   155.0   155   155\n",
      "ETH     34999860  210.0  210  210  424998300  2550.0  2550  2550\n",
      "GOOGL   33333400  200.0  200  200  416667500  2500.0  2500  2500\n",
      "MSFT    25000050  150.0  150  150   50000100   300.0   300   300\n",
      "XRP     26666560  160.0  160  160   51666460   310.0   310   310\n"
     ]
    }
   ],
   "source": [
    "print(tickers[[\"Volume\", \"Price\"]].agg([\"sum\", \"mean\", \"min\", \"max\"]))"
   ]
  },
  {
   "cell_type": "code",
   "execution_count": 20,
   "id": "58c37ee7-c289-41bb-8a11-683ed37ceb28",
   "metadata": {},
   "outputs": [
    {
     "name": "stdout",
     "output_type": "stream",
     "text": [
      "          Volume             Price              \n",
      "             sum   mean  std   max   min    mean\n",
      "Ticker                                          \n",
      "AAPL    16666700  100.0  0.0   150   150   150.0\n",
      "BTC     18333370  110.0  0.0   155   155   155.0\n",
      "ETH     34999860  210.0  0.0  2550  2550  2550.0\n",
      "GOOGL   33333400  200.0  0.0  2500  2500  2500.0\n",
      "MSFT    25000050  150.0  0.0   300   300   300.0\n",
      "XRP     26666560  160.0  0.0   310   310   310.0\n"
     ]
    }
   ],
   "source": [
    "print(tickers.agg({\n",
    "    \"Volume\": [\"sum\", \"mean\", \"std\"],\n",
    "    \"Price\": [\"max\", \"min\", \"mean\"]\n",
    "}))"
   ]
  },
  {
   "cell_type": "code",
   "execution_count": 21,
   "id": "d245aeb7-ac7e-491a-b976-a296081ee7b7",
   "metadata": {},
   "outputs": [
    {
     "name": "stdout",
     "output_type": "stream",
     "text": [
      "AAPL\n",
      "['AAPL']\n",
      "BTC\n",
      "['BTC']\n",
      "ETH\n",
      "['ETH']\n",
      "GOOGL\n",
      "['GOOGL']\n",
      "MSFT\n",
      "['MSFT']\n",
      "XRP\n",
      "['XRP']\n"
     ]
    }
   ],
   "source": [
    "# Looping on groups\n",
    "\n",
    "for group, data in tickers:\n",
    "    print(group)\n",
    "    print(data['Ticker'].unique())"
   ]
  },
  {
   "cell_type": "code",
   "execution_count": 22,
   "id": "c0822019-be21-41f6-9fd3-ec7c4cf8fcde",
   "metadata": {},
   "outputs": [
    {
     "name": "stdout",
     "output_type": "stream",
     "text": [
      "Ticker\n",
      "AAPL     100\n",
      "BTC      110\n",
      "ETH      210\n",
      "GOOGL    200\n",
      "MSFT     150\n",
      "XRP      160\n",
      "Name: Volume, dtype: int64\n"
     ]
    },
    {
     "name": "stderr",
     "output_type": "stream",
     "text": [
      "C:\\Users\\emmanuel.osademe\\AppData\\Local\\Temp\\ipykernel_13444\\1725178144.py:2: FutureWarning: The provided callable <built-in function min> is currently using np.minimum.reduce. In a future version of pandas, the provided callable will be used directly. To keep current behavior pass the string np.minimum.reduce instead.\n",
      "  print(tickers[\"Volume\"].apply(min))\n"
     ]
    }
   ],
   "source": [
    "# Apply\n",
    "print(tickers[\"Volume\"].apply(min))"
   ]
  },
  {
   "cell_type": "code",
   "execution_count": 23,
   "id": "47860973-4091-44d7-af4c-d155e0e49f82",
   "metadata": {},
   "outputs": [
    {
     "name": "stdout",
     "output_type": "stream",
     "text": [
      "Ticker  Buy/Sell  Exchange\n",
      "AAPL    Buy       NYSE        166667\n",
      "BTC     Sell      Binance     166667\n",
      "ETH     Buy       Bybit       166666\n",
      "GOOGL   Sell      NASDAQ      166667\n",
      "MSFT    Buy       NYSE        166667\n",
      "XRP     Sell      Coinbase    166666\n",
      "dtype: int64\n"
     ]
    }
   ],
   "source": [
    "# Multiple grouping\n",
    "\n",
    "print(exchange_df.groupby(['Ticker', 'Buy/Sell', \"Exchange\"]).size())"
   ]
  },
  {
   "cell_type": "code",
   "execution_count": 24,
   "id": "52d8123b-7470-4853-a1df-ed3a1cdd677f",
   "metadata": {},
   "outputs": [
    {
     "name": "stdout",
     "output_type": "stream",
     "text": [
      "        Unnamed: 0            Timestamp Ticker  Price  Volume Buy/Sell  \\\n",
      "4                4  2022-01-01 00:00:04    ETH   2550     210      Buy   \n",
      "10              10  2022-01-01 00:00:10    ETH   2550     210      Buy   \n",
      "16              16  2022-01-01 00:00:16    ETH   2550     210      Buy   \n",
      "22              22  2022-01-01 00:00:22    ETH   2550     210      Buy   \n",
      "28              28  2022-01-01 00:00:28    ETH   2550     210      Buy   \n",
      "...            ...                  ...    ...    ...     ...      ...   \n",
      "999970      999970  2022-01-12 13:46:10    ETH   2550     210      Buy   \n",
      "999976      999976  2022-01-12 13:46:16    ETH   2550     210      Buy   \n",
      "999982      999982  2022-01-12 13:46:22    ETH   2550     210      Buy   \n",
      "999988      999988  2022-01-12 13:46:28    ETH   2550     210      Buy   \n",
      "999994      999994  2022-01-12 13:46:34    ETH   2550     210      Buy   \n",
      "\n",
      "       Trader_ID Exchange  \n",
      "4             T5    Bybit  \n",
      "10            T5    Bybit  \n",
      "16            T5    Bybit  \n",
      "22            T5    Bybit  \n",
      "28            T5    Bybit  \n",
      "...          ...      ...  \n",
      "999970        T5    Bybit  \n",
      "999976        T5    Bybit  \n",
      "999982        T5    Bybit  \n",
      "999988        T5    Bybit  \n",
      "999994        T5    Bybit  \n",
      "\n",
      "[166666 rows x 8 columns]\n"
     ]
    }
   ],
   "source": [
    "print(exchange_df.groupby(['Ticker', 'Buy/Sell', \"Exchange\"]).get_group((\"ETH\", \"Buy\", \"Bybit\")))"
   ]
  },
  {
   "cell_type": "code",
   "execution_count": 25,
   "id": "007ea94f-c490-4ea6-8372-3426d56960f5",
   "metadata": {},
   "outputs": [
    {
     "name": "stdout",
     "output_type": "stream",
     "text": [
      "                         Volume      Price      \n",
      "                            max  min   max   min\n",
      "Ticker Buy/Sell Exchange                        \n",
      "AAPL   Buy      NYSE        100  100   150   150\n",
      "BTC    Sell     Binance     110  110   155   155\n",
      "ETH    Buy      Bybit       210  210  2550  2550\n",
      "GOOGL  Sell     NASDAQ      200  200  2500  2500\n",
      "MSFT   Buy      NYSE        150  150   300   300\n",
      "XRP    Sell     Coinbase    160  160   310   310\n"
     ]
    }
   ],
   "source": [
    "ticker_exchange = exchange_df.groupby(['Ticker', 'Buy/Sell', \"Exchange\"])\n",
    "print(ticker_exchange[[\"Volume\", \"Price\"]].agg([\"max\", \"min\"]))"
   ]
  },
  {
   "cell_type": "code",
   "execution_count": 26,
   "id": "196bbd2b-09e4-428f-af66-61004f57bb78",
   "metadata": {},
   "outputs": [
    {
     "name": "stdout",
     "output_type": "stream",
     "text": [
      "Ticker\n",
      "AAPL     166667\n",
      "BTC      166667\n",
      "ETH      166666\n",
      "GOOGL    166667\n",
      "MSFT     166667\n",
      "XRP      166666\n",
      "dtype: int64\n"
     ]
    }
   ],
   "source": [
    "print(exchange_df.groupby(\"Ticker\").size())"
   ]
  },
  {
   "cell_type": "code",
   "execution_count": 27,
   "id": "d3a00fe2-5028-4a50-9e16-124545850275",
   "metadata": {},
   "outputs": [
    {
     "name": "stdout",
     "output_type": "stream",
     "text": [
      "         Price\n",
      "Ticker        \n",
      "AAPL     150.0\n",
      "BTC      155.0\n",
      "ETH     2550.0\n",
      "GOOGL   2500.0\n",
      "MSFT     300.0\n",
      "XRP      310.0\n"
     ]
    }
   ],
   "source": [
    "tickers = exchange_df.groupby(\"Ticker\")\n",
    "print(tickers.agg({\n",
    "    \"Price\": \"mean\"\n",
    "}))"
   ]
  },
  {
   "cell_type": "code",
   "execution_count": 28,
   "id": "d185764c-4a2d-4374-8636-3e20ac5badc4",
   "metadata": {},
   "outputs": [
    {
     "name": "stdout",
     "output_type": "stream",
     "text": [
      "          Volume\n",
      "Ticker          \n",
      "AAPL    16666700\n",
      "BTC     18333370\n",
      "ETH     34999860\n",
      "GOOGL   33333400\n",
      "MSFT    25000050\n",
      "XRP     26666560\n"
     ]
    }
   ],
   "source": [
    "print(tickers.agg({\n",
    "    \"Volume\": \"sum\"\n",
    "}))"
   ]
  },
  {
   "cell_type": "code",
   "execution_count": 29,
   "id": "d27ad7fd-b4a9-4b15-bfb9-883b0e3d9d6b",
   "metadata": {},
   "outputs": [
    {
     "name": "stdout",
     "output_type": "stream",
     "text": [
      "Ticker\n",
      "AAPL      150\n",
      "BTC       155\n",
      "ETH      2550\n",
      "GOOGL    2500\n",
      "MSFT      300\n",
      "XRP       310\n",
      "Name: Price, dtype: int64\n"
     ]
    }
   ],
   "source": [
    "print(tickers[\"Price\"].first())"
   ]
  },
  {
   "cell_type": "code",
   "execution_count": 67,
   "id": "ded7ddc8-e4f5-41c2-8dbd-280f474f391d",
   "metadata": {},
   "outputs": [
    {
     "name": "stdout",
     "output_type": "stream",
     "text": [
      "                Volume\n",
      "Exchange Hour         \n",
      "Binance  0      792000\n",
      "         1      792000\n",
      "         2      792000\n",
      "         3      792000\n",
      "         4      792000\n",
      "...                ...\n",
      "NYSE     19    1650000\n",
      "         20    1650000\n",
      "         21    1650000\n",
      "         22    1650000\n",
      "         23    1650000\n",
      "\n",
      "[120 rows x 1 columns]\n"
     ]
    }
   ],
   "source": [
    "exchange_df[\"Hour\"] = pd.to_datetime(exchange_df[\"Timestamp\"]).dt.hour\n",
    "\n",
    "print(exchange_df.groupby([\"Exchange\", \"Hour\"]).agg({\n",
    "    \"Volume\": \"sum\"\n",
    "}))"
   ]
  },
  {
   "cell_type": "code",
   "execution_count": 69,
   "id": "1bbd95bb-4420-4a5d-b0aa-0d411e6d0042",
   "metadata": {},
   "outputs": [
    {
     "name": "stdout",
     "output_type": "stream",
     "text": [
      "                   Volume\n",
      "Ticker Buy/Sell          \n",
      "AAPL   Buy       16666700\n",
      "BTC    Sell      18333370\n",
      "ETH    Buy       34999860\n",
      "GOOGL  Sell      33333400\n",
      "MSFT   Buy       25000050\n",
      "XRP    Sell      26666560\n"
     ]
    }
   ],
   "source": [
    "print(exchange_df.groupby([\"Ticker\", \"Buy/Sell\"]).agg({\n",
    "    \"Volume\": \"sum\"\n",
    "}))"
   ]
  },
  {
   "cell_type": "code",
   "execution_count": 71,
   "id": "e1efae00-0c1c-411e-881d-1a46721ce575",
   "metadata": {},
   "outputs": [
    {
     "name": "stdout",
     "output_type": "stream",
     "text": [
      "Ticker\n",
      "AAPL      150.0\n",
      "BTC       155.0\n",
      "ETH      2550.0\n",
      "GOOGL    2500.0\n",
      "MSFT      300.0\n",
      "XRP       310.0\n",
      "dtype: float64\n"
     ]
    },
    {
     "name": "stderr",
     "output_type": "stream",
     "text": [
      "C:\\Users\\emmanuel.osademe\\AppData\\Local\\Temp\\ipykernel_13444\\2503577020.py:1: DeprecationWarning: DataFrameGroupBy.apply operated on the grouping columns. This behavior is deprecated, and in a future version of pandas the grouping columns will be excluded from the operation. Either pass `include_groups=False` to exclude the groupings or explicitly select the grouping columns after groupby to silence this warning.\n",
      "  print(exchange_df.groupby(\"Ticker\").apply(lambda x: (x[\"Volume\"] * x[\"Price\"]).sum()/x[\"Volume\"].sum()))\n"
     ]
    }
   ],
   "source": [
    "print(exchange_df.groupby(\"Ticker\").apply(lambda x: (x[\"Volume\"] * x[\"Price\"]).sum()/x[\"Volume\"].sum()))"
   ]
  }
 ],
 "metadata": {
  "kernelspec": {
   "display_name": "Python 3 (ipykernel)",
   "language": "python",
   "name": "python3"
  },
  "language_info": {
   "codemirror_mode": {
    "name": "ipython",
    "version": 3
   },
   "file_extension": ".py",
   "mimetype": "text/x-python",
   "name": "python",
   "nbconvert_exporter": "python",
   "pygments_lexer": "ipython3",
   "version": "3.12.4"
  }
 },
 "nbformat": 4,
 "nbformat_minor": 5
}
