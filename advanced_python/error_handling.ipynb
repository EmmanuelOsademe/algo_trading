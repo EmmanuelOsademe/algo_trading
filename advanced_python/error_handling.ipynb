{
 "cells": [
  {
   "cell_type": "markdown",
   "id": "0cde9bfc-6860-4099-9198-2a8b546ffe01",
   "metadata": {},
   "source": [
    "SYNTAX ERRORS"
   ]
  },
  {
   "cell_type": "code",
   "execution_count": 2,
   "id": "8fba8922-e695-4103-9c0d-7c164d0ab1aa",
   "metadata": {},
   "outputs": [],
   "source": [
    "# Error due to unrecognisable syntaxes. \n",
    "# This is similar to syntax errors in other programming languages\n",
    "# IDE's usually flag these errors during compilation\n"
   ]
  },
  {
   "cell_type": "markdown",
   "id": "31ea87ec-7e00-40b5-bb6f-cd052119ec32",
   "metadata": {},
   "source": [
    "EXCEPTION ERRORS"
   ]
  },
  {
   "cell_type": "code",
   "execution_count": 4,
   "id": "c42e173f-b505-4721-842e-9916a2a70152",
   "metadata": {},
   "outputs": [],
   "source": [
    "# Exception errors are errors are are caught during run-time\n",
    "# These are handled using try-exception blocks"
   ]
  },
  {
   "cell_type": "markdown",
   "id": "1502c41f-4345-4847-ab19-f5e3fae6e8f5",
   "metadata": {},
   "source": [
    "SYNTAX ERRORS EXAMPLES (COMPILE-TIME ERRORS)"
   ]
  },
  {
   "cell_type": "code",
   "execution_count": 6,
   "id": "44f6fdaa-489b-4335-b7fd-5d8a27d238d9",
   "metadata": {},
   "outputs": [],
   "source": [
    "# Missing parenthesis\n",
    "# Missing colons\n",
    "# Misspelling keywords\n",
    "# Incorrect Indentation\n",
    "# Index error (Occurs when trying to access and element at an invalid index)\n",
    "# ModuleNotFound error\n",
    "# KeyError: Occurs in dictionaries\n",
    "# TypeError: Invalid type operations\n",
    "# ValueError: Occurs when function's argument receives an invalid type\n",
    "# NameError: Thrown when an object cannot be found\n",
    "# AttributeError: Occurs when an attribute is not a part of the object"
   ]
  },
  {
   "cell_type": "markdown",
   "id": "e56bbd4d-ee98-4976-9d3c-041812cedee5",
   "metadata": {},
   "source": [
    "EXAMPLES OF EXCEPTIONS"
   ]
  },
  {
   "cell_type": "code",
   "execution_count": 8,
   "id": "054565a0-2ea8-4353-a02c-bc45b8c2b663",
   "metadata": {},
   "outputs": [],
   "source": [
    "# Memory overflow\n",
    "# DivisionByZero\n",
    "# Database Error (occurs when trying to connect to a dataase)\n",
    "# FileNotFoundError"
   ]
  },
  {
   "cell_type": "markdown",
   "id": "2528afc4-168d-4201-9789-c8cab74ab88e",
   "metadata": {},
   "source": [
    "HANDLING EXCEPTIONS"
   ]
  },
  {
   "cell_type": "code",
   "execution_count": 10,
   "id": "0e3dca8f-3415-4320-a23b-6d982c9d25a2",
   "metadata": {},
   "outputs": [
    {
     "name": "stdout",
     "output_type": "stream",
     "text": [
      "An error occurred\n",
      "File not found\n"
     ]
    }
   ],
   "source": [
    "# Try-Except block\n",
    "try:\n",
    "    with open(\"files/exceptions.txt\", \"w\") as f:\n",
    "        f.write(\"Exception handling demo\")\n",
    "        print(add)\n",
    "except FileNotFoundError:\n",
    "    print(\"File not found\")\n",
    "except:\n",
    "    print(\"An error occurred\")\n",
    "\n",
    "try:\n",
    "    with open(\"files/exception.txt\", \"r\") as f:\n",
    "        print(f.read())\n",
    "except FileNotFoundError:\n",
    "    print(\"File not found\")\n",
    "\n",
    "except:\n",
    "    print(\"An error occurred\")"
   ]
  },
  {
   "cell_type": "code",
   "execution_count": 11,
   "id": "2c7ad547-1d79-40d1-959a-37f72e10b248",
   "metadata": {},
   "outputs": [
    {
     "name": "stdout",
     "output_type": "stream",
     "text": [
      "Invalid key: 'age'\n",
      "File not found\n"
     ]
    }
   ],
   "source": [
    "# Try-Except block\n",
    "l1 = [1,2,3]\n",
    "dict1 = {\"name\": \"Emmanuel\", \"location\": \"Warri\"}\n",
    "try:\n",
    "    with open(\"files/exceptions.txt\", \"w\") as f:\n",
    "        f.write(\"Exception handling demo\")\n",
    "        print(dict1[\"age\"])\n",
    "        print(l1[5])\n",
    "        print(1 + \"i\")\n",
    "        print(addd)\n",
    "except FileNotFoundError:\n",
    "    print(\"File not found\")\n",
    "except NameError:\n",
    "    print(\"Name not found\")\n",
    "except TypeError:\n",
    "    print(\"Invalid type operations\")\n",
    "except IndexError:\n",
    "    print(\"Index out of range\")\n",
    "except KeyError as e:\n",
    "    print(f\"Invalid key: {e}\")\n",
    "except Exception as e:\n",
    "    print(f\"An Error occurred: {e}\")\n",
    "\n",
    "\n",
    "try:\n",
    "    with open(\"files/exception.txt\", \"r\") as f:\n",
    "        print(f.read())\n",
    "except FileNotFoundError:\n",
    "    print(\"File not found\")\n",
    "\n",
    "except:\n",
    "    print(\"An error occurred\")"
   ]
  },
  {
   "cell_type": "code",
   "execution_count": 12,
   "id": "4c0703cc-3284-4246-bdcc-085cfbe30bf0",
   "metadata": {},
   "outputs": [
    {
     "name": "stdout",
     "output_type": "stream",
     "text": [
      "Exception handling demo\n"
     ]
    }
   ],
   "source": [
    "# Try-Except-else block.\n",
    "try:\n",
    "    with open(\"files/exceptions.txt\", \"r\") as f:\n",
    "        data = f.read()\n",
    "except FileNotFoundError:\n",
    "    print(\"File not found\")\n",
    "except:\n",
    "    print(\"An error occurred\")\n",
    "else:\n",
    "    # Executes if no error is found\n",
    "    print(data)\n"
   ]
  },
  {
   "cell_type": "code",
   "execution_count": 13,
   "id": "05a244e0-55de-4e4b-a5d3-e13b4849f2e3",
   "metadata": {},
   "outputs": [
    {
     "name": "stdout",
     "output_type": "stream",
     "text": [
      "File not found\n",
      "Executing the finally block\n"
     ]
    }
   ],
   "source": [
    "# Try-Except-else block. Finally executes whether or not an error is found\n",
    "try:\n",
    "    with open(\"file/exceptions.txt\", \"r\") as f:\n",
    "        data = f.read()\n",
    "except FileNotFoundError:\n",
    "    print(\"File not found\")\n",
    "except:\n",
    "    print(\"An error occurred\")\n",
    "else:\n",
    "    # Executes if no error is found\n",
    "    print(data)\n",
    "finally:\n",
    "    print(\"Executing the finally block\")"
   ]
  },
  {
   "cell_type": "code",
   "execution_count": 14,
   "id": "6010d6bb-1013-4c9f-ad11-7a620a795777",
   "metadata": {},
   "outputs": [],
   "source": [
    "# Raising exceptions\n",
    "\n",
    "class CustomError(Exception):\n",
    "    def __init__(self, message, type=\"Custom\"):\n",
    "        self.__message = message\n",
    "        self.__type = type\n",
    "        print(f\"{self.__type}: {self.__message}\")\n",
    "\n",
    "    def handle(self):\n",
    "        print(f\"Handling {self.__type} error: {self.__message}\")\n",
    "        \n",
    "    @property\n",
    "    def message(self):\n",
    "        return self.__message\n",
    "\n",
    "    @message.setter\n",
    "    def message(self, message):\n",
    "        self.__message = message\n",
    "\n",
    "    @property\n",
    "    def type(self):\n",
    "        return self.__type\n",
    "\n",
    "    @type.setter\n",
    "    def type(self, type):\n",
    "        self.__type = type"
   ]
  },
  {
   "cell_type": "code",
   "execution_count": 15,
   "id": "19041c73-1b67-4a93-b983-388357d662f1",
   "metadata": {},
   "outputs": [
    {
     "name": "stdout",
     "output_type": "stream",
     "text": [
      "AuthenticationError: An Authentication error occurred\n",
      "\n"
     ]
    }
   ],
   "source": [
    "class TradingError(CustomError):\n",
    "    def __init__(self, message):\n",
    "        super().__init__(message, type=\"TradingError\")\n",
    "\n",
    "class AuthenticationError(CustomError):\n",
    "    def __init__(self, message):\n",
    "        super().__init__(message, type=\"AuthenticationError\")\n",
    "try:\n",
    "    raise AuthenticationError(message = \"An Authentication error occurred\")\n",
    "    raise TradingError(message = \"A trading error occurred\")\n",
    "except TradingError as e:\n",
    "    print(e)\n",
    "except Exception as e:\n",
    "    print(e)"
   ]
  }
 ],
 "metadata": {
  "kernelspec": {
   "display_name": "Python 3 (ipykernel)",
   "language": "python",
   "name": "python3"
  },
  "language_info": {
   "codemirror_mode": {
    "name": "ipython",
    "version": 3
   },
   "file_extension": ".py",
   "mimetype": "text/x-python",
   "name": "python",
   "nbconvert_exporter": "python",
   "pygments_lexer": "ipython3",
   "version": "3.12.4"
  }
 },
 "nbformat": 4,
 "nbformat_minor": 5
}
