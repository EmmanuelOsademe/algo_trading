{
 "cells": [
  {
   "cell_type": "code",
   "execution_count": 1,
   "id": "f9fa42fd-c548-4624-aacf-d0a65a807c97",
   "metadata": {},
   "outputs": [],
   "source": [
    "# Setup and Installation\n",
    "from datetime import datetime\n"
   ]
  },
  {
   "cell_type": "code",
   "execution_count": 2,
   "id": "cfb36d40-0256-4c5c-a246-5e9403b757e0",
   "metadata": {},
   "outputs": [],
   "source": [
    "class BaseTradingStrategy:\n",
    "    def __init__(self, name):\n",
    "        self.__name = name\n",
    "\n",
    "    # This method is to be overridden by Child Classes\n",
    "    def generate_signal(self, price_data):\n",
    "        return \"Hold\"\n",
    "\n",
    "    @property\n",
    "    def name(self):\n",
    "        return self.__name\n",
    "\n",
    "    @name.setter\n",
    "    def name(self, new_name):\n",
    "        self.__name = new_name\n"
   ]
  },
  {
   "cell_type": "code",
   "execution_count": 3,
   "id": "206becf8-3f62-445b-8242-cd80a9ad555b",
   "metadata": {},
   "outputs": [],
   "source": [
    "# Simple Moving Average\n",
    "class SMATradingStrategy(BaseTradingStrategy):\n",
    "    def __init__(self, name, sWindow, lWindow):\n",
    "        super().__init__(name or \"SMA Trading Strategy\")\n",
    "        self.__sWindow = sWindow\n",
    "        self.__lWindow = lWindow\n",
    "\n",
    "    def generate_signal(self, price_data):\n",
    "        if len(price_data[-self.__lWindow:]) < self.__lWindow:\n",
    "            return \"Hold\"\n",
    "        short_avg = sum(price_data[-self.__sWindow:])/self.__sWindow\n",
    "        long_avg = sum(price_data[-self.__lWindow:])/self.__lWindow\n",
    "        if short_avg > long_avg:\n",
    "            return \"Buy\"\n",
    "        elif short_avg < long_avg:\n",
    "            return \"Sell\"\n",
    "        else:\n",
    "            return \"Hold\"\n",
    "\n",
    "    @property\n",
    "    def sWindow(self):\n",
    "        return self.__sWindow\n",
    "\n",
    "    @sWindow.setter\n",
    "    def sWindow(self, new_sWindow):\n",
    "        if isinstance(new_sWindow, (int, float)):\n",
    "            if new_sWindow < self.__lWindow:\n",
    "                self.__sWindow = new_sWindow\n",
    "            else:\n",
    "                print(f\"Input must be less than long Window, which is currently {self.__lWindow}\")\n",
    "        else:\n",
    "            print(\"Please provide the new threshold as a number\")\n",
    "\n",
    "    @property\n",
    "    def lWindow(self):\n",
    "        return self.__lWindow\n",
    "\n",
    "    @lWindow.setter\n",
    "    def lWindow(self, new_lWindow):\n",
    "        if isinstance(new_lWindow, (int, float)):\n",
    "            if new_lWindow > self.__sWindow:\n",
    "                self.__lWindow = new_lWindow\n",
    "            else:\n",
    "                print(f\"Input must be greater than short Window, which is currently {self.__sWindow}\")\n",
    "        else:\n",
    "            print(\"Please provide the new threshold as a number\")\n",
    "\n",
    "\n",
    "sma = SMATradingStrategy(\"SMA\", 2, 5)\n",
    "name = sma.name\n",
    "signal = sma.generate_signal([1, 2, 3, 4, 5, 19, 7, 8, 9, 10])"
   ]
  },
  {
   "cell_type": "code",
   "execution_count": 15,
   "id": "26b09bff-68fb-4724-a9a9-9b85b652db38",
   "metadata": {},
   "outputs": [
    {
     "name": "stdout",
     "output_type": "stream",
     "text": [
      "SMA\n",
      "Sell\n",
      "34\n",
      "2025-06-20 20:29:17.119643\n",
      "Executed Sell trade with strategy: SMA, with quantity: 34 at 2025-06-20 20:29:17.119643.\n"
     ]
    }
   ],
   "source": [
    "# Trade Manager\n",
    "\n",
    "class TradeManager:\n",
    "    def __init__(self, strategy_name, signal, quantity):\n",
    "        self.__strategy_name = strategy_name\n",
    "        self.__signal = signal\n",
    "        self.__quantity = quantity\n",
    "        self.__timestamp = datetime.now()\n",
    "\n",
    "    def execute(self):\n",
    "        print(f\"Executed {self.__signal} trade with strategy: {self.__strategy_name}, with quantity: {self.__quantity} at {self.__timestamp}.\")\n",
    "\n",
    "    @property\n",
    "    def strategy_name(self):\n",
    "        return self.__strategy_name\n",
    "\n",
    "    @property\n",
    "    def signal(self):\n",
    "        return self.__signal\n",
    "\n",
    "    @property\n",
    "    def quantity(self):\n",
    "        return self.__quantity\n",
    "\n",
    "    @property\n",
    "    def timestamp(self):\n",
    "        return self.__timestamp\n",
    "\n",
    "my_trade = TradeManager(name, signal, 34)\n",
    "print(my_trade.strategy_name)\n",
    "print(my_trade.signal)\n",
    "print(my_trade.quantity)\n",
    "print(my_trade.timestamp)\n",
    "my_trade.execute()"
   ]
  },
  {
   "cell_type": "code",
   "execution_count": 17,
   "id": "cf2a8314-7582-4fc0-8d59-4cdcdd2efd67",
   "metadata": {},
   "outputs": [
    {
     "name": "stdout",
     "output_type": "stream",
     "text": [
      "34\n"
     ]
    },
    {
     "ename": "UnboundLocalError",
     "evalue": "cannot access local variable 'total_price' where it is not associated with a value",
     "output_type": "error",
     "traceback": [
      "\u001b[1;31m---------------------------------------------------------------------------\u001b[0m",
      "\u001b[1;31mUnboundLocalError\u001b[0m                         Traceback (most recent call last)",
      "Cell \u001b[1;32mIn[17], line 28\u001b[0m\n\u001b[0;32m     25\u001b[0m         \u001b[38;5;28;01mreturn\u001b[39;00m \u001b[38;5;28mself\u001b[39m\u001b[38;5;241m.\u001b[39m__balance\n\u001b[0;32m     27\u001b[0m mock_api \u001b[38;5;241m=\u001b[39m MockTradingApi(\u001b[38;5;241m1000\u001b[39m)\n\u001b[1;32m---> 28\u001b[0m mock_api\u001b[38;5;241m.\u001b[39mplace_order(my_trade, \u001b[38;5;241m40\u001b[39m)\n",
      "Cell \u001b[1;32mIn[17], line 18\u001b[0m, in \u001b[0;36mMockTradingApi.place_order\u001b[1;34m(self, trade, price)\u001b[0m\n\u001b[0;32m     16\u001b[0m         \u001b[38;5;28mprint\u001b[39m(\u001b[38;5;124m\"\u001b[39m\u001b[38;5;124mYou do not have sufficient balance to execute this trade\u001b[39m\u001b[38;5;124m\"\u001b[39m)\n\u001b[0;32m     17\u001b[0m \u001b[38;5;28;01melif\u001b[39;00m action \u001b[38;5;241m==\u001b[39m \u001b[38;5;124m\"\u001b[39m\u001b[38;5;124mSell\u001b[39m\u001b[38;5;124m\"\u001b[39m:\n\u001b[1;32m---> 18\u001b[0m     \u001b[38;5;28mself\u001b[39m\u001b[38;5;241m.\u001b[39m__balance \u001b[38;5;241m+\u001b[39m\u001b[38;5;241m=\u001b[39m total_price\n\u001b[0;32m     19\u001b[0m     \u001b[38;5;28mprint\u001b[39m(\u001b[38;5;124mf\u001b[39m\u001b[38;5;124m\"\u001b[39m\u001b[38;5;124mPlaced a Sell trade at \u001b[39m\u001b[38;5;132;01m{\u001b[39;00mprice\u001b[38;5;132;01m}\u001b[39;00m\u001b[38;5;124m. Remaining Balance: $\u001b[39m\u001b[38;5;132;01m{\u001b[39;00m\u001b[38;5;28mself\u001b[39m\u001b[38;5;241m.\u001b[39m__balance\u001b[38;5;132;01m}\u001b[39;00m\u001b[38;5;124m\"\u001b[39m)\n\u001b[0;32m     20\u001b[0m \u001b[38;5;28;01melse\u001b[39;00m:\n",
      "\u001b[1;31mUnboundLocalError\u001b[0m: cannot access local variable 'total_price' where it is not associated with a value"
     ]
    }
   ],
   "source": [
    "# Fetching live data from the exchange\n",
    "\n",
    "class MockTradingApi:\n",
    "    def __init__(self, balance):\n",
    "        self.__balance = balance\n",
    "\n",
    "    def place_order(self, trade, price):\n",
    "        action = trade.signal\n",
    "        print(trade.quantity)\n",
    "        total_price = trade.quantity * price\n",
    "        if action == \"Buy\":\n",
    "            if self.__balance >= total_price:\n",
    "                self.__balance -= total_price\n",
    "                print(f\"Placed a Buy trade at {price}. Remaining Balance: ${self.__balance}\")\n",
    "            else:\n",
    "                print(\"You do not have sufficient balance to execute this trade\")\n",
    "        elif action == \"Sell\":\n",
    "            self.__balance += total_price\n",
    "            print(f\"Placed a Sell trade at {price}. Remaining Balance: ${self.__balance}\")\n",
    "        else:\n",
    "            print(\"No trading at the moment\")\n",
    "\n",
    "    @property\n",
    "    def balance(self):\n",
    "        return self.__balance\n",
    "\n",
    "mock_api = MockTradingApi(1000)\n",
    "mock_api.place_order(my_trade, 40)"
   ]
  }
 ],
 "metadata": {
  "kernelspec": {
   "display_name": "Python 3 (ipykernel)",
   "language": "python",
   "name": "python3"
  },
  "language_info": {
   "codemirror_mode": {
    "name": "ipython",
    "version": 3
   },
   "file_extension": ".py",
   "mimetype": "text/x-python",
   "name": "python",
   "nbconvert_exporter": "python",
   "pygments_lexer": "ipython3",
   "version": "3.12.4"
  }
 },
 "nbformat": 4,
 "nbformat_minor": 5
}
