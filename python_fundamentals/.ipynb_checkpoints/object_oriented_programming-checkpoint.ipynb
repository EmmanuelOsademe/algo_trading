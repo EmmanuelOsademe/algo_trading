{
 "cells": [
  {
   "cell_type": "code",
   "execution_count": 35,
   "id": "fd4b66f8-fd37-4396-b378-18ba72279b6d",
   "metadata": {},
   "outputs": [],
   "source": [
    "class TradingStrategy:\n",
    "    def __init__(self, symbol=\"\", amount=0):\n",
    "        self.symbol = symbol\n",
    "        self.amount = amount\n",
    "        self.position = 0\n",
    "\n",
    "    def buy(self, price, quantity):\n",
    "        total_cost = price * quantity\n",
    "        if self.amount >= total_cost:\n",
    "            self.position += quantity\n",
    "            self.amount -= total_cost\n",
    "            print(f\"Successfully bought {quantity} shares of {self.symbol} at ${price} per share\")\n",
    "        else:\n",
    "            print(\"Not enough amount to proceed with the trade\")\n",
    "\n",
    "    def sell(self, price, quantity):\n",
    "        if self.position >= quantity:\n",
    "            self.amount += position * quantity\n",
    "            self.position -= quantity\n",
    "            print(f\"Successfully sold {quantity} shares of {self.symbol} at ${price} per share\")\n",
    "        else:\n",
    "            print(\"There are no shares to sell\")\n",
    "\n",
    "    def status(self):\n",
    "        print(f\"Current position: {self.position} of the {self.symbol} shares\")\n",
    "        print(f\"Remaining amount: ${self.amount}\")"
   ]
  },
  {
   "cell_type": "code",
   "execution_count": 37,
   "id": "5ef8b847-cb9d-4169-b2d1-2b7ecabbc595",
   "metadata": {},
   "outputs": [
    {
     "name": "stdout",
     "output_type": "stream",
     "text": [
      "Current position: 0 of the ETH shares\n",
      "Remaining amount: $5000\n",
      "Successfully bought 5 shares of ETH at $34.2 per share\n",
      "Current position: 5 of the ETH shares\n",
      "Remaining amount: $4829.0\n",
      "There are no shares to sell\n",
      "Current position: 5 of the ETH shares\n",
      "Remaining amount: $4829.0\n"
     ]
    }
   ],
   "source": [
    "momentum = TradingStrategy(\"ETH\", 5000)\n",
    "momentum.status()\n",
    "\n",
    "momentum.buy(34.2, 5)\n",
    "momentum.status()\n",
    "\n",
    "momentum.sell(37, 2)\n",
    "momentum.status()"
   ]
  }
 ],
 "metadata": {
  "kernelspec": {
   "display_name": "Python 3 (ipykernel)",
   "language": "python",
   "name": "python3"
  },
  "language_info": {
   "codemirror_mode": {
    "name": "ipython",
    "version": 3
   },
   "file_extension": ".py",
   "mimetype": "text/x-python",
   "name": "python",
   "nbconvert_exporter": "python",
   "pygments_lexer": "ipython3",
   "version": "3.12.4"
  }
 },
 "nbformat": 4,
 "nbformat_minor": 5
}
