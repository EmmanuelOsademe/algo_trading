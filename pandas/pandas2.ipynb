{
 "cells": [
  {
   "cell_type": "code",
   "execution_count": 1,
   "id": "cac22627-27aa-4e0c-a51a-a54136b2c5fb",
   "metadata": {},
   "outputs": [],
   "source": [
    "import pandas as pd\n",
    "import numpy as np"
   ]
  },
  {
   "cell_type": "raw",
   "id": "d8a7ac6c-bc6e-4bc5-9732-935a87515bd5",
   "metadata": {},
   "source": [
    "Creating Dataframes"
   ]
  },
  {
   "cell_type": "code",
   "execution_count": 2,
   "id": "ae64f0b7-629d-4ef6-8435-a2345c14aa9f",
   "metadata": {},
   "outputs": [
    {
     "name": "stdout",
     "output_type": "stream",
     "text": [
      "     0    1    2    3    4    5\n",
      "0  100  200  300  400  500  600\n",
      "1  100  200  300  400  500  600\n",
      "2  100  200  300  400  500  600\n",
      "3  100  200  300  400  500  600\n",
      "<class 'pandas.core.frame.DataFrame'>\n"
     ]
    }
   ],
   "source": [
    "# using list\n",
    "price_data = [[100, 200, 300, 400, 500, 600], \n",
    "              [100, 200, 300, 400, 500, 600],\n",
    "              [100, 200, 300, 400, 500, 600],\n",
    "              [100, 200, 300, 400, 500, 600]\n",
    "             ]\n",
    "\n",
    "list_df = pd.DataFrame(price_data)\n",
    "print(list_df)\n",
    "print(type(list_df))"
   ]
  },
  {
   "cell_type": "code",
   "execution_count": 3,
   "id": "563fc2af-5420-4123-a447-5faf4bbe1a7c",
   "metadata": {},
   "outputs": [
    {
     "name": "stdout",
     "output_type": "stream",
     "text": [
      "  stock  open  high  low  close  volume\n",
      "0   BTC   100   100  100    100     100\n",
      "1  TSLA   200   200  200    200     200\n",
      "2  AAPL   300   300  300    300     300\n",
      "3  META   400   400  400    400     400\n",
      "4   ETH   500   500  500    500     500\n",
      "5  MCST   600   600  600    600     600\n",
      "<class 'pandas.core.frame.DataFrame'>\n"
     ]
    }
   ],
   "source": [
    "# With Dict\n",
    "price_data = {\"stock\": [\"BTC\", \"TSLA\", \"AAPL\", \"META\", \"ETH\", \"MCST\"], \n",
    "              \"open\": [100, 200, 300, 400, 500, 600], \n",
    "              \"high\": [100, 200, 300, 400, 500, 600],\n",
    "              \"low\": [100, 200, 300, 400, 500, 600],\n",
    "              \"close\": [100, 200, 300, 400, 500, 600],\n",
    "              \"volume\": [100, 200, 300, 400, 500, 600]\n",
    "             }\n",
    "\n",
    "dict_df = pd.DataFrame(price_data)\n",
    "print(dict_df)\n",
    "print(type(dict_df))"
   ]
  },
  {
   "cell_type": "code",
   "execution_count": 4,
   "id": "5c871d1e-5872-4145-af9d-d279e80f9811",
   "metadata": {},
   "outputs": [
    {
     "name": "stdout",
     "output_type": "stream",
     "text": [
      "       open  high  low  close  volume\n",
      "stock                                \n",
      "BTC     100   100  100    100     100\n",
      "TSLA    200   200  200    200     200\n",
      "AAPL    300   300  300    300     300\n",
      "META    400   400  400    400     400\n",
      "ETH     500   500  500    500     500\n",
      "MCST    600   600  600    600     600\n"
     ]
    }
   ],
   "source": [
    "dict_df.set_index(\"stock\", inplace=True)\n",
    "print(dict_df)"
   ]
  },
  {
   "cell_type": "code",
   "execution_count": 13,
   "id": "fa508d16-3d6e-4f4e-a955-8b32cea5cf6b",
   "metadata": {},
   "outputs": [
    {
     "name": "stdout",
     "output_type": "stream",
     "text": [
      "  Ticker           Company Name      Sector             Industry  \\\n",
      "0   AAPL             Apple Inc.  Technology       Semiconductors   \n",
      "1  GOOGL          Alphabet Inc.     Finance  Investment Services   \n",
      "2   MSFT  Microsoft Corporation     Finance                Banks   \n",
      "3   AMZN       Amazon.com, Inc.  Healthcare      Pharmaceuticals   \n",
      "4   TSLA            Tesla, Inc.      Energy            Oil & Gas   \n",
      "\n",
      "   Market Cap (B)   EPS  P/E Ratio  Dividend Yield (%)  P/B Ratio  D/E Ratio  \n",
      "0          458.13 -9.78      44.16                2.19       9.17       2.56  \n",
      "1          215.85  4.86      27.56                8.14      14.93       0.06  \n",
      "2          276.46  5.09       6.73                0.27       1.76       1.31  \n",
      "3          349.40 -0.53      28.30                5.92      15.40       0.27  \n",
      "4          248.55  9.92      27.04                2.20      10.20       0.12  \n",
      "         Date Ticker        Open        High         Low       Close    Volume\n",
      "0  2015-01-01   AAPL  101.031849  101.329723   98.852354  101.197410  344567.0\n",
      "1  2015-01-02   AAPL  100.866496  100.866496   99.568981  101.220064  310521.0\n",
      "2  2015-01-05   AAPL  101.164489  101.176821  100.920124  101.339872       NaN\n",
      "3  2015-01-06   AAPL         NaN  103.203859  102.287356  101.777905  295025.0\n",
      "4  2015-01-07   AAPL  102.744728  104.050309  102.211701  102.090310  439080.0\n"
     ]
    }
   ],
   "source": [
    "# From csv\n",
    "\n",
    "algo_df = pd.read_csv(\"files/algotrading_combined_dataset.csv\")\n",
    "funda_df = pd.read_csv(\"files/fundamental_research_dataset_large.csv\")\n",
    "print(funda_df.head())\n",
    "print(algo_df.head())"
   ]
  },
  {
   "cell_type": "markdown",
   "id": "df9880fa-e2d8-4260-b2ba-9b1ccbdbc0e2",
   "metadata": {},
   "source": [
    "Attributes and Methods"
   ]
  },
  {
   "cell_type": "code",
   "execution_count": 22,
   "id": "1ada6799-a903-4b40-a273-58bb310471dc",
   "metadata": {},
   "outputs": [
    {
     "name": "stdout",
     "output_type": "stream",
     "text": [
      "(32870, 7)\n",
      "(1050, 10)\n",
      "Date       object\n",
      "Ticker     object\n",
      "Open      float64\n",
      "High      float64\n",
      "Low       float64\n",
      "Close     float64\n",
      "Volume    float64\n",
      "dtype: object\n",
      "Ticker                 object\n",
      "Company Name           object\n",
      "Sector                 object\n",
      "Industry               object\n",
      "Market Cap (B)        float64\n",
      "EPS                   float64\n",
      "P/E Ratio             float64\n",
      "Dividend Yield (%)    float64\n",
      "P/B Ratio             float64\n",
      "D/E Ratio             float64\n",
      "dtype: object\n"
     ]
    }
   ],
   "source": [
    "print(algo_df.shape)\n",
    "print(funda_df.shape)\n",
    "\n",
    "print(algo_df.dtypes)\n",
    "print(funda_df.dtypes)"
   ]
  },
  {
   "cell_type": "code",
   "execution_count": 24,
   "id": "09bc9ee1-de78-4c09-aef7-40249d2f2cec",
   "metadata": {},
   "outputs": [
    {
     "name": "stdout",
     "output_type": "stream",
     "text": [
      "RangeIndex(start=0, stop=32870, step=1)\n",
      "RangeIndex(start=0, stop=1050, step=1)\n"
     ]
    }
   ],
   "source": [
    "print(algo_df.index)\n",
    "print(funda_df.index)"
   ]
  },
  {
   "cell_type": "code",
   "execution_count": 26,
   "id": "b6e25aaf-d684-4f59-a0e5-d5c8bd9facb8",
   "metadata": {},
   "outputs": [
    {
     "name": "stdout",
     "output_type": "stream",
     "text": [
      "Index(['Date', 'Ticker', 'Open', 'High', 'Low', 'Close', 'Volume'], dtype='object')\n",
      "Index(['Ticker', 'Company Name', 'Sector', 'Industry', 'Market Cap (B)', 'EPS',\n",
      "       'P/E Ratio', 'Dividend Yield (%)', 'P/B Ratio', 'D/E Ratio'],\n",
      "      dtype='object')\n"
     ]
    }
   ],
   "source": [
    "print(algo_df.columns)\n",
    "print(funda_df.columns)"
   ]
  },
  {
   "cell_type": "code",
   "execution_count": 28,
   "id": "854738ce-c73e-4c0a-893e-556107c9703d",
   "metadata": {},
   "outputs": [
    {
     "name": "stdout",
     "output_type": "stream",
     "text": [
      "[['2015-01-01' 'AAPL' 101.03184941004706 ... 98.85235437937838\n",
      "  101.19741015525102 344567.0]\n",
      " ['2015-01-02' 'AAPL' 100.8664959216968 ... 99.5689811441504\n",
      "  101.22006444647305 310521.0]\n",
      " ['2015-01-05' 'AAPL' 101.1644889006902 ... 100.92012448620686\n",
      "  101.3398717110426 nan]\n",
      " ...\n",
      " ['2018-03-09' 'AMZN' 98.07461328046368 ... 96.20317673355092\n",
      "  97.48761554705614 76911.0]\n",
      " ['2018-05-02' 'LTC/USD' 103.44322425714826 ... 103.1592860645143 nan\n",
      "  552764.0]\n",
      " ['2020-09-18' 'ETH/USD' 164.75532933160764 ... 164.75532933160764\n",
      "  164.72202588322403 816832.0]]\n",
      "[['AAPL' 'Apple Inc.' 'Technology' ... 2.19 9.17 2.56]\n",
      " ['GOOGL' 'Alphabet Inc.' 'Finance' ... 8.14 14.93 0.06]\n",
      " ['MSFT' 'Microsoft Corporation' 'Finance' ... 0.27 1.76 1.31]\n",
      " ...\n",
      " ['GOOGL' 'Alphabet Inc.' 'Utilities' ... 6.17 5.59 1.34]\n",
      " ['V' 'Visa Inc.' 'Industrial Goods' ... nan 4.89 2.91]\n",
      " ['JNJ' 'Johnson & Johnson' 'Technology' ... 3.35 7.18 0.69]]\n"
     ]
    }
   ],
   "source": [
    "print(algo_df.values)\n",
    "print(funda_df.values)"
   ]
  },
  {
   "cell_type": "code",
   "execution_count": 30,
   "id": "2455e5d3-0aa6-42a4-8241-d2eb4fce25e2",
   "metadata": {},
   "outputs": [
    {
     "name": "stdout",
     "output_type": "stream",
     "text": [
      "             Date   Ticker        Open        High         Low       Close  \\\n",
      "7188   2018-07-23     AMZN  121.382950  122.497894  120.173867  121.661165   \n",
      "32553  2021-11-05     AAPL  186.327240  187.944032  186.327240  187.627613   \n",
      "19424  2017-06-16  USD/CAD   97.287888   99.672783   97.287888   97.558617   \n",
      "22709  2022-01-19  BTC/USD  180.440547  181.429428  180.189634  179.711366   \n",
      "20328  2020-12-03  USD/CAD  172.468867  172.833999  171.456342  172.357074   \n",
      "\n",
      "         Volume  \n",
      "7188   561948.0  \n",
      "32553  225420.0  \n",
      "19424  211154.0  \n",
      "22709  108399.0  \n",
      "20328  180508.0  \n",
      "    Ticker       Company Name            Sector         Industry  \\\n",
      "700   AAPL         Apple Inc.        Healthcare    Biotechnology   \n",
      "64    TSLA        Tesla, Inc.        Healthcare    Biotechnology   \n",
      "360   AAPL         Apple Inc.  Industrial Goods    Manufacturing   \n",
      "193   AMZN   Amazon.com, Inc.        Healthcare  Medical Devices   \n",
      "427    JNJ  Johnson & Johnson  Industrial Goods    Manufacturing   \n",
      "\n",
      "     Market Cap (B)   EPS  P/E Ratio  Dividend Yield (%)  P/B Ratio  D/E Ratio  \n",
      "700          400.62 -6.34      33.16                9.70      10.51       0.56  \n",
      "64            55.68  6.86      48.50                7.13       8.44       2.85  \n",
      "360             NaN  6.40      36.27                0.24       2.73       0.40  \n",
      "193          366.07  7.91      47.14                4.91       2.28       1.40  \n",
      "427          259.67 -4.09        NaN                5.74      11.59       2.56  \n"
     ]
    }
   ],
   "source": [
    "print(algo_df.sample(5))\n",
    "print(funda_df.sample(5))"
   ]
  },
  {
   "cell_type": "code",
   "execution_count": 32,
   "id": "017147c7-2be9-4b54-b919-2d00a5bb774d",
   "metadata": {},
   "outputs": [
    {
     "name": "stdout",
     "output_type": "stream",
     "text": [
      "<class 'pandas.core.frame.DataFrame'>\n",
      "RangeIndex: 32870 entries, 0 to 32869\n",
      "Data columns (total 7 columns):\n",
      " #   Column  Non-Null Count  Dtype  \n",
      "---  ------  --------------  -----  \n",
      " 0   Date    32870 non-null  object \n",
      " 1   Ticker  32870 non-null  object \n",
      " 2   Open    31495 non-null  float64\n",
      " 3   High    31302 non-null  float64\n",
      " 4   Low     31090 non-null  float64\n",
      " 5   Close   30929 non-null  float64\n",
      " 6   Volume  30802 non-null  float64\n",
      "dtypes: float64(5), object(2)\n",
      "memory usage: 1.8+ MB\n",
      "None\n",
      "<class 'pandas.core.frame.DataFrame'>\n",
      "RangeIndex: 1050 entries, 0 to 1049\n",
      "Data columns (total 10 columns):\n",
      " #   Column              Non-Null Count  Dtype  \n",
      "---  ------              --------------  -----  \n",
      " 0   Ticker              1050 non-null   object \n",
      " 1   Company Name        1050 non-null   object \n",
      " 2   Sector              1050 non-null   object \n",
      " 3   Industry            1050 non-null   object \n",
      " 4   Market Cap (B)      946 non-null    float64\n",
      " 5   EPS                 947 non-null    float64\n",
      " 6   P/E Ratio           932 non-null    float64\n",
      " 7   Dividend Yield (%)  951 non-null    float64\n",
      " 8   P/B Ratio           934 non-null    float64\n",
      " 9   D/E Ratio           953 non-null    float64\n",
      "dtypes: float64(6), object(4)\n",
      "memory usage: 82.2+ KB\n",
      "None\n"
     ]
    }
   ],
   "source": [
    "print(algo_df.info())\n",
    "print(funda_df.info())"
   ]
  },
  {
   "cell_type": "code",
   "execution_count": 36,
   "id": "dbadc5f5-7bfa-426d-b125-23da777c7d15",
   "metadata": {},
   "outputs": [
    {
     "name": "stdout",
     "output_type": "stream",
     "text": [
      "              Date   Ticker          Open          High           Low  \\\n",
      "count        32870    32870  31495.000000  31302.000000  31090.000000   \n",
      "unique        2087       15           NaN           NaN           NaN   \n",
      "top     2016-01-08  XRP/USD           NaN           NaN           NaN   \n",
      "freq            19     2213           NaN           NaN           NaN   \n",
      "mean           NaN      NaN    133.600798    134.416157    132.420885   \n",
      "std            NaN      NaN     35.566539     35.716248     35.661035   \n",
      "min            NaN      NaN     83.254666     84.062713     81.978737   \n",
      "25%            NaN      NaN     98.251137     98.928322     97.038250   \n",
      "50%            NaN      NaN    132.147803    132.534488    130.718141   \n",
      "75%            NaN      NaN    169.633748    171.193317    168.811891   \n",
      "max            NaN      NaN    196.068319    196.712825    194.736434   \n",
      "\n",
      "               Close         Volume  \n",
      "count   30929.000000   30802.000000  \n",
      "unique           NaN            NaN  \n",
      "top              NaN            NaN  \n",
      "freq             NaN            NaN  \n",
      "mean      133.369927  492483.749302  \n",
      "std        35.715660  283838.912786  \n",
      "min        83.411785    1203.000000  \n",
      "25%        97.824039  248663.000000  \n",
      "50%       131.890827  490922.000000  \n",
      "75%       170.103620  725434.000000  \n",
      "max       196.349019  999653.000000  \n",
      "       Ticker   Company Name          Sector       Industry  Market Cap (B)  \\\n",
      "count    1050           1050            1050           1050      946.000000   \n",
      "unique     10             10               7             21             NaN   \n",
      "top     GOOGL  Alphabet Inc.  Consumer Goods  Biotechnology             NaN   \n",
      "freq      109            109             168             65             NaN   \n",
      "mean      NaN            NaN             NaN            NaN      245.828816   \n",
      "std       NaN            NaN             NaN            NaN      143.805850   \n",
      "min       NaN            NaN             NaN            NaN        1.130000   \n",
      "25%       NaN            NaN             NaN            NaN      122.340000   \n",
      "50%       NaN            NaN             NaN            NaN      244.035000   \n",
      "75%       NaN            NaN             NaN            NaN      366.467500   \n",
      "max       NaN            NaN             NaN            NaN      499.300000   \n",
      "\n",
      "               EPS   P/E Ratio  Dividend Yield (%)   P/B Ratio   D/E Ratio  \n",
      "count   947.000000  932.000000          951.000000  934.000000  953.000000  \n",
      "unique         NaN         NaN                 NaN         NaN         NaN  \n",
      "top            NaN         NaN                 NaN         NaN         NaN  \n",
      "freq           NaN         NaN                 NaN         NaN         NaN  \n",
      "mean      0.186526   27.632908            4.942019   10.262184    1.509108  \n",
      "std       5.607485   12.987280            2.807937    5.641622    0.891138  \n",
      "min      -9.940000    5.050000            0.060000    0.100000    0.000000  \n",
      "25%      -4.565000   16.605000            2.555000    5.570000    0.720000  \n",
      "50%       0.430000   27.260000            4.980000   10.370000    1.500000  \n",
      "75%       4.730000   39.012500            7.320000   14.840000    2.280000  \n",
      "max       9.980000   50.000000            9.980000   20.000000    3.000000  \n"
     ]
    }
   ],
   "source": [
    "print(algo_df.describe(include=\"all\"))\n",
    "print(funda_df.describe(include=\"all\"))"
   ]
  },
  {
   "cell_type": "code",
   "execution_count": 44,
   "id": "343b1333-ffad-44ee-90b5-57992f1fae42",
   "metadata": {},
   "outputs": [
    {
     "name": "stdout",
     "output_type": "stream",
     "text": [
      "Date         0\n",
      "Ticker       0\n",
      "Open      1375\n",
      "High      1568\n",
      "Low       1780\n",
      "Close     1941\n",
      "Volume    2068\n",
      "dtype: int64\n",
      "Ticker                  0\n",
      "Company Name            0\n",
      "Sector                  0\n",
      "Industry                0\n",
      "Market Cap (B)        104\n",
      "EPS                   103\n",
      "P/E Ratio             118\n",
      "Dividend Yield (%)     99\n",
      "P/B Ratio             116\n",
      "D/E Ratio              97\n",
      "dtype: int64\n"
     ]
    }
   ],
   "source": [
    "print(algo_df.isnull().sum())\n",
    "print(funda_df.isnull().sum())"
   ]
  },
  {
   "cell_type": "code",
   "execution_count": 50,
   "id": "a4d5b93a-27f6-4a68-87ba-ebe4e2e14ebe",
   "metadata": {},
   "outputs": [
    {
     "name": "stdout",
     "output_type": "stream",
     "text": [
      "1565\n",
      "50\n"
     ]
    }
   ],
   "source": [
    "print(algo_df.duplicated().sum())\n",
    "print(funda_df.duplicated().sum())"
   ]
  },
  {
   "cell_type": "code",
   "execution_count": 54,
   "id": "151c2517-b471-4038-9e8b-db5df3c430ad",
   "metadata": {},
   "outputs": [
    {
     "name": "stdout",
     "output_type": "stream",
     "text": [
      "         Date Ticker        Open        high         low       Close    Volume\n",
      "0  2015-01-01   AAPL  101.031849  101.329723   98.852354  101.197410  344567.0\n",
      "1  2015-01-02   AAPL  100.866496  100.866496   99.568981  101.220064  310521.0\n",
      "2  2015-01-05   AAPL  101.164489  101.176821  100.920124  101.339872       NaN\n",
      "3  2015-01-06   AAPL         NaN  103.203859  102.287356  101.777905  295025.0\n",
      "4  2015-01-07   AAPL  102.744728  104.050309  102.211701  102.090310  439080.0\n",
      "         Date Ticker        Open        High         Low       Close    Volume\n",
      "0  2015-01-01   AAPL  101.031849  101.329723   98.852354  101.197410  344567.0\n",
      "1  2015-01-02   AAPL  100.866496  100.866496   99.568981  101.220064  310521.0\n",
      "2  2015-01-05   AAPL  101.164489  101.176821  100.920124  101.339872       NaN\n",
      "3  2015-01-06   AAPL         NaN  103.203859  102.287356  101.777905  295025.0\n",
      "4  2015-01-07   AAPL  102.744728  104.050309  102.211701  102.090310  439080.0\n"
     ]
    }
   ],
   "source": [
    "# rename\n",
    "\n",
    "algo_df.rename(columns={\"High\": \"high\", \"Low\":\"low\"}, inplace=True)\n",
    "print(algo_df.head())\n",
    "\n",
    "algo_df.rename(columns={\"high\": \"High\", \"low\":\"Low\"}, inplace=True)\n",
    "print(algo_df.head())"
   ]
  },
  {
   "cell_type": "code",
   "execution_count": 56,
   "id": "80475808-d901-45d9-a00b-61b684ad9f3f",
   "metadata": {},
   "outputs": [
    {
     "name": "stdout",
     "output_type": "stream",
     "text": [
      "Date      2015-01-012015-01-022015-01-052015-01-062015-0...\n",
      "Ticker    AAPLAAPLAAPLAAPLAAPLAAPLAAPLAAPLAAPLAAPLAAPLAA...\n",
      "Open                                         4207757.117833\n",
      "High                                         4207494.546006\n",
      "Low                                          4116965.329115\n",
      "Close                                        4124998.472722\n",
      "Volume                                        15169484446.0\n",
      "dtype: object\n"
     ]
    }
   ],
   "source": [
    "print(algo_df.sum())"
   ]
  },
  {
   "cell_type": "code",
   "execution_count": 60,
   "id": "3b222239-e5b2-4286-ad96-b8050c8ad659",
   "metadata": {},
   "outputs": [
    {
     "name": "stdout",
     "output_type": "stream",
     "text": [
      "134.41615698695395\n"
     ]
    }
   ],
   "source": [
    "print(algo_df[\"High\"].mean())"
   ]
  },
  {
   "cell_type": "code",
   "execution_count": 62,
   "id": "a38b9c11-9dd8-4e53-96d1-3fc395f25cee",
   "metadata": {},
   "outputs": [
    {
     "name": "stdout",
     "output_type": "stream",
     "text": [
      "1275.6503714830628\n"
     ]
    }
   ],
   "source": [
    "print(algo_df[\"High\"].var())"
   ]
  },
  {
   "cell_type": "code",
   "execution_count": 64,
   "id": "0e2cb2e6-d63c-4da9-9b1a-2d89c6feeda4",
   "metadata": {},
   "outputs": [
    {
     "name": "stdout",
     "output_type": "stream",
     "text": [
      "         Open        High         Low       Close    Volume\n",
      "0  101.031849  101.329723   98.852354  101.197410  344567.0\n",
      "1  100.866496  100.866496   99.568981  101.220064  310521.0\n",
      "2  101.164489  101.176821  100.920124  101.339872       NaN\n",
      "3         NaN  103.203859  102.287356  101.777905  295025.0\n",
      "4  102.744728  104.050309  102.211701  102.090310  439080.0\n"
     ]
    }
   ],
   "source": [
    "# Selecting cols\n",
    "num_cols = algo_df[[\"Open\", \"High\", \"Low\", \"Close\", \"Volume\"]]\n",
    "print(num_cols.head())"
   ]
  },
  {
   "cell_type": "code",
   "execution_count": 86,
   "id": "10414c63-337f-4aba-bd18-e08791dba2d2",
   "metadata": {},
   "outputs": [
    {
     "name": "stdout",
     "output_type": "stream",
     "text": [
      "Date      2015-01-01\n",
      "Open      101.031849\n",
      "High      101.329723\n",
      "Low        98.852354\n",
      "Close      101.19741\n",
      "Volume      344567.0\n",
      "Name: AAPL, dtype: object\n",
      "              Date        Open        High         Low       Close    Volume\n",
      "Ticker                                                                      \n",
      "AAPL    2015-01-01  101.031849  101.329723   98.852354  101.197410  344567.0\n",
      "AAPL    2015-01-02  100.866496  100.866496   99.568981  101.220064  310521.0\n",
      "AAPL    2015-01-05  101.164489  101.176821  100.920124  101.339872       NaN\n",
      "AAPL    2015-01-06         NaN  103.203859  102.287356  101.777905  295025.0\n",
      "AAPL    2015-01-07  102.744728  104.050309  102.211701  102.090310  439080.0\n",
      "AAPL    2015-01-08  101.311978  102.094773  100.520561  102.675189  387721.0\n"
     ]
    }
   ],
   "source": [
    "# loc (label Indexing) and iloc (Integer Indexing)\n",
    "\n",
    "print(algo_df.iloc[0])\n",
    "print(algo_df.iloc[0:6])"
   ]
  },
  {
   "cell_type": "code",
   "execution_count": 88,
   "id": "24aff6d0-10a4-4c47-aa52-9ef99f4ac1b9",
   "metadata": {},
   "outputs": [
    {
     "name": "stdout",
     "output_type": "stream",
     "text": [
      "              Date        Open        High         Low       Close    Volume\n",
      "Ticker                                                                      \n",
      "AAPL    2015-01-01  101.031849  101.329723   98.852354  101.197410  344567.0\n",
      "AAPL    2015-01-06         NaN  103.203859  102.287356  101.777905  295025.0\n",
      "AAPL    2015-01-09  103.086618  104.923811  102.498791         NaN  712028.0\n",
      "AAPL    2015-01-14  104.211973  104.931374  104.088945  103.762217  427009.0\n",
      "AAPL    2015-01-19  104.691568  105.718046  102.551609         NaN  482725.0\n",
      "AAPL    2015-01-22   98.618999   99.621320   97.934157  100.057186  261220.0\n",
      "AAPL    2015-01-27   98.602883   98.602883   97.494718   97.791861  480083.0\n"
     ]
    }
   ],
   "source": [
    "print(algo_df.iloc[0:20:3])"
   ]
  },
  {
   "cell_type": "code",
   "execution_count": 90,
   "id": "b766135e-f728-4913-9303-89351fb595ab",
   "metadata": {},
   "outputs": [
    {
     "name": "stdout",
     "output_type": "stream",
     "text": [
      "              Date        Open        High         Low       Close    Volume\n",
      "Ticker                                                                      \n",
      "AAPL    2015-01-02  100.866496  100.866496   99.568981  101.220064  310521.0\n",
      "AAPL    2015-01-07  102.744728  104.050309  102.211701  102.090310  439080.0\n",
      "AAPL    2015-01-12  104.973922  105.968278  103.491534  104.203536  779883.0\n",
      "AAPL    2015-01-14  104.211973  104.931374  104.088945  103.762217  427009.0\n",
      "AAPL    2015-01-19  104.691568  105.718046  102.551609         NaN  482725.0\n"
     ]
    }
   ],
   "source": [
    "print(algo_df.iloc[[1, 4, 7, 9, 12]])"
   ]
  },
  {
   "cell_type": "code",
   "execution_count": 92,
   "id": "84888102-1931-4c2d-a579-f3d28e452373",
   "metadata": {},
   "outputs": [
    {
     "name": "stdout",
     "output_type": "stream",
     "text": [
      "              Date        Open        High         Low       Close    Volume\n",
      "Ticker                                                                      \n",
      "AAPL    2015-01-01  101.031849  101.329723   98.852354  101.197410  344567.0\n",
      "AAPL    2015-01-02  100.866496  100.866496   99.568981  101.220064  310521.0\n",
      "AAPL    2015-01-05  101.164489  101.176821  100.920124  101.339872       NaN\n",
      "AAPL    2015-01-06         NaN  103.203859  102.287356  101.777905  295025.0\n",
      "AAPL    2015-01-07  102.744728  104.050309  102.211701  102.090310  439080.0\n"
     ]
    },
    {
     "ename": "KeyError",
     "evalue": "\"None of ['Ticker'] are in the columns\"",
     "output_type": "error",
     "traceback": [
      "\u001b[1;31m---------------------------------------------------------------------------\u001b[0m",
      "\u001b[1;31mKeyError\u001b[0m                                  Traceback (most recent call last)",
      "\u001b[1;32m~\\AppData\\Local\\Temp\\ipykernel_8232\\1803136590.py\u001b[0m in \u001b[0;36m?\u001b[1;34m()\u001b[0m\n\u001b[0;32m      1\u001b[0m \u001b[1;31m# printing with label indexing\u001b[0m\u001b[1;33m\u001b[0m\u001b[1;33m\u001b[0m\u001b[0m\n\u001b[0;32m      2\u001b[0m \u001b[0mprint\u001b[0m\u001b[1;33m(\u001b[0m\u001b[0malgo_df\u001b[0m\u001b[1;33m.\u001b[0m\u001b[0mhead\u001b[0m\u001b[1;33m(\u001b[0m\u001b[1;33m)\u001b[0m\u001b[1;33m)\u001b[0m\u001b[1;33m\u001b[0m\u001b[1;33m\u001b[0m\u001b[0m\n\u001b[1;32m----> 3\u001b[1;33m \u001b[0malgo_df\u001b[0m\u001b[1;33m.\u001b[0m\u001b[0mset_index\u001b[0m\u001b[1;33m(\u001b[0m\u001b[1;34m\"Ticker\"\u001b[0m\u001b[1;33m,\u001b[0m \u001b[0minplace\u001b[0m\u001b[1;33m=\u001b[0m\u001b[1;32mTrue\u001b[0m\u001b[1;33m)\u001b[0m\u001b[1;33m\u001b[0m\u001b[1;33m\u001b[0m\u001b[0m\n\u001b[0m\u001b[0;32m      4\u001b[0m \u001b[0mprint\u001b[0m\u001b[1;33m(\u001b[0m\u001b[0malgo_df\u001b[0m\u001b[1;33m.\u001b[0m\u001b[0mhead\u001b[0m\u001b[1;33m(\u001b[0m\u001b[1;33m)\u001b[0m\u001b[1;33m)\u001b[0m\u001b[1;33m\u001b[0m\u001b[1;33m\u001b[0m\u001b[0m\n",
      "\u001b[1;32m~\\AppData\\Local\\anaconda3\\Lib\\site-packages\\pandas\\core\\frame.py\u001b[0m in \u001b[0;36m?\u001b[1;34m(self, keys, drop, append, inplace, verify_integrity)\u001b[0m\n\u001b[0;32m   6118\u001b[0m                     \u001b[1;32mif\u001b[0m \u001b[1;32mnot\u001b[0m \u001b[0mfound\u001b[0m\u001b[1;33m:\u001b[0m\u001b[1;33m\u001b[0m\u001b[1;33m\u001b[0m\u001b[0m\n\u001b[0;32m   6119\u001b[0m                         \u001b[0mmissing\u001b[0m\u001b[1;33m.\u001b[0m\u001b[0mappend\u001b[0m\u001b[1;33m(\u001b[0m\u001b[0mcol\u001b[0m\u001b[1;33m)\u001b[0m\u001b[1;33m\u001b[0m\u001b[1;33m\u001b[0m\u001b[0m\n\u001b[0;32m   6120\u001b[0m \u001b[1;33m\u001b[0m\u001b[0m\n\u001b[0;32m   6121\u001b[0m         \u001b[1;32mif\u001b[0m \u001b[0mmissing\u001b[0m\u001b[1;33m:\u001b[0m\u001b[1;33m\u001b[0m\u001b[1;33m\u001b[0m\u001b[0m\n\u001b[1;32m-> 6122\u001b[1;33m             \u001b[1;32mraise\u001b[0m \u001b[0mKeyError\u001b[0m\u001b[1;33m(\u001b[0m\u001b[1;33mf\"\u001b[0m\u001b[1;33mNone of \u001b[0m\u001b[1;33m{\u001b[0m\u001b[0mmissing\u001b[0m\u001b[1;33m}\u001b[0m\u001b[1;33m are in the columns\u001b[0m\u001b[1;33m\"\u001b[0m\u001b[1;33m)\u001b[0m\u001b[1;33m\u001b[0m\u001b[1;33m\u001b[0m\u001b[0m\n\u001b[0m\u001b[0;32m   6123\u001b[0m \u001b[1;33m\u001b[0m\u001b[0m\n\u001b[0;32m   6124\u001b[0m         \u001b[1;32mif\u001b[0m \u001b[0minplace\u001b[0m\u001b[1;33m:\u001b[0m\u001b[1;33m\u001b[0m\u001b[1;33m\u001b[0m\u001b[0m\n\u001b[0;32m   6125\u001b[0m             \u001b[0mframe\u001b[0m \u001b[1;33m=\u001b[0m \u001b[0mself\u001b[0m\u001b[1;33m\u001b[0m\u001b[1;33m\u001b[0m\u001b[0m\n",
      "\u001b[1;31mKeyError\u001b[0m: \"None of ['Ticker'] are in the columns\""
     ]
    }
   ],
   "source": [
    "# printing with label indexing\n",
    "print(algo_df.head())\n",
    "algo_df.set_index(\"Ticker\", inplace=True)\n",
    "print(algo_df.head())"
   ]
  },
  {
   "cell_type": "code",
   "execution_count": 94,
   "id": "ed94cf6f-2f2d-47f1-afa8-21a6b24ea84a",
   "metadata": {},
   "outputs": [
    {
     "name": "stdout",
     "output_type": "stream",
     "text": [
      "              Date        Open        High         Low       Close    Volume\n",
      "Ticker                                                                      \n",
      "AAPL    2015-01-01  101.031849  101.329723   98.852354  101.197410  344567.0\n",
      "AAPL    2015-01-02  100.866496  100.866496   99.568981  101.220064  310521.0\n",
      "AAPL    2015-01-05  101.164489  101.176821  100.920124  101.339872       NaN\n",
      "AAPL    2015-01-06         NaN  103.203859  102.287356  101.777905  295025.0\n",
      "AAPL    2015-01-07  102.744728  104.050309  102.211701  102.090310  439080.0\n",
      "...            ...         ...         ...         ...         ...       ...\n",
      "AAPL    2020-02-19  150.230564  152.106345         NaN  151.376466  421871.0\n",
      "AAPL    2021-03-12  165.111622  167.918865  165.111622  166.669421  911103.0\n",
      "AAPL    2020-12-17  171.899651  174.215402  171.837508         NaN  300519.0\n",
      "AAPL    2016-12-08  104.954466  105.582802         NaN  103.949511  143108.0\n",
      "AAPL    2017-01-24   92.780364   93.092012   91.238510         NaN  754158.0\n",
      "\n",
      "[2180 rows x 6 columns]\n"
     ]
    }
   ],
   "source": [
    "print(algo_df.loc[\"AAPL\"])"
   ]
  },
  {
   "cell_type": "code",
   "execution_count": 96,
   "id": "8ca34450-d1f6-4019-b471-8e1b48da0afd",
   "metadata": {},
   "outputs": [
    {
     "name": "stdout",
     "output_type": "stream",
     "text": [
      "              Date        Open        High         Low       Close    Volume\n",
      "Ticker                                                                      \n",
      "AAPL    2015-01-01  101.031849  101.329723   98.852354  101.197410  344567.0\n",
      "AAPL    2015-01-02  100.866496  100.866496   99.568981  101.220064  310521.0\n",
      "AAPL    2015-01-05  101.164489  101.176821  100.920124  101.339872       NaN\n",
      "AAPL    2015-01-06         NaN  103.203859  102.287356  101.777905  295025.0\n",
      "AAPL    2015-01-07  102.744728  104.050309  102.211701  102.090310  439080.0\n",
      "...            ...         ...         ...         ...         ...       ...\n",
      "MSFT    2022-02-10  179.490357  180.565105  179.030884  180.682115  732794.0\n",
      "MSFT    2016-04-28  102.815060  104.145536  101.881811         NaN  521112.0\n",
      "MSFT    2015-11-20   99.156765  100.166158   97.999067   98.961851  482862.0\n",
      "MSFT    2020-05-12  148.657685  148.813482  146.388988  148.501701  270189.0\n",
      "MSFT    2018-03-12   96.464138   97.257331   96.132179   97.678641  409449.0\n",
      "\n",
      "[6567 rows x 6 columns]\n"
     ]
    }
   ],
   "source": [
    "print(algo_df.loc[[\"AAPL\", \"GOOG\", \"MSFT\"]])"
   ]
  },
  {
   "cell_type": "code",
   "execution_count": 100,
   "id": "cc889092-1af9-44f4-a64a-5839d39ea4f0",
   "metadata": {},
   "outputs": [
    {
     "name": "stdout",
     "output_type": "stream",
     "text": [
      "              High         Low       Close    Volume\n",
      "Ticker                                              \n",
      "AAPL    101.329723   98.852354  101.197410  344567.0\n",
      "AAPL    100.866496   99.568981  101.220064  310521.0\n",
      "AAPL    101.176821  100.920124  101.339872       NaN\n",
      "AAPL    103.203859  102.287356  101.777905  295025.0\n",
      "AAPL    104.050309  102.211701  102.090310  439080.0\n"
     ]
    }
   ],
   "source": [
    "# Selecting both rows and columns\n",
    "\n",
    "print(algo_df.iloc[0:5, 2:]) "
   ]
  },
  {
   "cell_type": "code",
   "execution_count": 106,
   "id": "420ff3eb-e75f-4ac5-9e61-e59dbf4f5870",
   "metadata": {},
   "outputs": [
    {
     "name": "stdout",
     "output_type": "stream",
     "text": [
      "              High         Low       Close    Volume\n",
      "Ticker                                              \n",
      "AAPL    101.329723   98.852354  101.197410  344567.0\n",
      "AAPL    100.866496   99.568981  101.220064  310521.0\n",
      "AAPL    101.176821  100.920124  101.339872       NaN\n",
      "AAPL    103.203859  102.287356  101.777905  295025.0\n",
      "AAPL    104.050309  102.211701  102.090310  439080.0\n",
      "...            ...         ...         ...       ...\n",
      "AAPL    152.106345         NaN  151.376466  421871.0\n",
      "AAPL    167.918865  165.111622  166.669421  911103.0\n",
      "AAPL    174.215402  171.837508         NaN  300519.0\n",
      "AAPL    105.582802         NaN  103.949511  143108.0\n",
      "AAPL     93.092012   91.238510         NaN  754158.0\n",
      "\n",
      "[2180 rows x 4 columns]\n"
     ]
    }
   ],
   "source": [
    "print(algo_df.loc[\"AAPL\", \"High\":\"Volume\"]) "
   ]
  },
  {
   "cell_type": "code",
   "execution_count": 108,
   "id": "3c4d727a-d2c2-4294-bb03-3ebc92363977",
   "metadata": {},
   "outputs": [
    {
     "name": "stdout",
     "output_type": "stream",
     "text": [
      "              Date        Open        High         Low       Close    Volume  \\\n",
      "Ticker                                                                         \n",
      "AAPL    2015-01-01  101.031849  101.329723   98.852354  101.197410  344567.0   \n",
      "AAPL    2015-01-02  100.866496  100.866496   99.568981  101.220064  310521.0   \n",
      "AAPL    2015-01-05  101.164489  101.176821  100.920124  101.339872       NaN   \n",
      "AAPL    2015-01-06         NaN  103.203859  102.287356  101.777905  295025.0   \n",
      "AAPL    2015-01-07  102.744728  104.050309  102.211701  102.090310  439080.0   \n",
      "\n",
      "            Diff  \n",
      "Ticker            \n",
      "AAPL    2.477369  \n",
      "AAPL    1.297515  \n",
      "AAPL    0.256697  \n",
      "AAPL    0.916503  \n",
      "AAPL    1.838608  \n"
     ]
    }
   ],
   "source": [
    "# Adding new columns\n",
    "algo_df[\"Diff\"] = algo_df[\"High\"] - algo_df[\"Low\"]\n",
    "print(algo_df.head())"
   ]
  }
 ],
 "metadata": {
  "kernelspec": {
   "display_name": "Python 3 (ipykernel)",
   "language": "python",
   "name": "python3"
  },
  "language_info": {
   "codemirror_mode": {
    "name": "ipython",
    "version": 3
   },
   "file_extension": ".py",
   "mimetype": "text/x-python",
   "name": "python",
   "nbconvert_exporter": "python",
   "pygments_lexer": "ipython3",
   "version": "3.12.4"
  }
 },
 "nbformat": 4,
 "nbformat_minor": 5
}
