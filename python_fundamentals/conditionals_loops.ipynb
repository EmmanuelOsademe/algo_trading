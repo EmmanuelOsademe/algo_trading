{
 "cells": [
  {
   "cell_type": "markdown",
   "id": "935270e8-8423-421f-8c77-529e984aeea2",
   "metadata": {},
   "source": [
    "PYTHON OPERATORS"
   ]
  },
  {
   "cell_type": "markdown",
   "id": "fcf60637-5240-45ec-b6de-91bbd90dd448",
   "metadata": {},
   "source": [
    "ARITHMETIC OPERATORS"
   ]
  },
  {
   "cell_type": "code",
   "execution_count": 3,
   "id": "f4f47223-1da9-46e0-b681-c6ea18e9dabd",
   "metadata": {},
   "outputs": [],
   "source": [
    "entry_price = 150.0 # Entry price for the stock\n",
    "exit_price = 155.0 # Exit price for the stock\n",
    "stop_loss_price = 148.0 # Stop loss price\n",
    "shares_count = 10 # Number of shares considering buying\n",
    "account_balance = 2000.0 # Account balance"
   ]
  },
  {
   "cell_type": "code",
   "execution_count": 4,
   "id": "10bf4d84-f8fc-4e6f-a6d3-a5bb1924cf28",
   "metadata": {},
   "outputs": [
    {
     "name": "stdout",
     "output_type": "stream",
     "text": [
      "Given that I have $2000.0, I can buy 13.0 shares\n"
     ]
    }
   ],
   "source": [
    "# Integer division\n",
    "shares_purchasable = account_balance//entry_price\n",
    "print(f\"Given that I have ${account_balance}, I can buy {shares_purchasable} shares\")"
   ]
  },
  {
   "cell_type": "markdown",
   "id": "ebfa4234-9e84-4a6c-ab44-6f925d94a36d",
   "metadata": {},
   "source": [
    "BITWISE OPERATORS"
   ]
  },
  {
   "cell_type": "code",
   "execution_count": 6,
   "id": "d2b262b8-1cbd-46f8-89b4-6a58c8d73279",
   "metadata": {},
   "outputs": [
    {
     "name": "stdout",
     "output_type": "stream",
     "text": [
      "0\n",
      "3\n",
      "2\n",
      "12\n",
      "1\n"
     ]
    }
   ],
   "source": [
    "a = 1 # 0 0 1\n",
    "b = 2 # 0 1 0\n",
    "c = 3 # 0 1 1\n",
    "\n",
    "# Bitwise And\n",
    "print(a & b)\n",
    "# 0 0 1\n",
    "# 0 1 0\n",
    "# Result is 0\n",
    "\n",
    "# Bitwise And\n",
    "print(a | b)\n",
    "# 0 0 1\n",
    "# 0 1 0\n",
    "# Result is 3\n",
    "\n",
    "# Bitwise Xor\n",
    "print(a ^ c)\n",
    "# 0 0 1\n",
    "# 0 1 1\n",
    "# Result is 2\n",
    "\n",
    "# Right shift Operator\n",
    "print(c << 2)\n",
    "# 00000011 -> 00001100 ie 12\n",
    "\n",
    "# Left shift Operator\n",
    "print(c >> 1)\n",
    "# 00000011 -> 00000001 ie 1"
   ]
  },
  {
   "cell_type": "markdown",
   "id": "483b0aa2-0b56-4dd8-b6de-e7c5c1d9ebec",
   "metadata": {},
   "source": [
    "PYTHON MODULES"
   ]
  },
  {
   "cell_type": "code",
   "execution_count": 8,
   "id": "9f2261a2-5d6e-4efd-92aa-fa17c9f4c3fe",
   "metadata": {},
   "outputs": [
    {
     "name": "stdout",
     "output_type": "stream",
     "text": [
      "120\n"
     ]
    }
   ],
   "source": [
    "import math\n",
    "\n",
    "print(math.factorial(5))"
   ]
  },
  {
   "cell_type": "code",
   "execution_count": 9,
   "id": "a7deff1e-5aed-4e66-93ea-173f40699f24",
   "metadata": {},
   "outputs": [
    {
     "name": "stdout",
     "output_type": "stream",
     "text": [
      "['False', 'None', 'True', 'and', 'as', 'assert', 'async', 'await', 'break', 'class', 'continue', 'def', 'del', 'elif', 'else', 'except', 'finally', 'for', 'from', 'global', 'if', 'import', 'in', 'is', 'lambda', 'nonlocal', 'not', 'or', 'pass', 'raise', 'return', 'try', 'while', 'with', 'yield']\n"
     ]
    }
   ],
   "source": [
    "import keyword\n",
    "\n",
    "print(keyword.kwlist)"
   ]
  },
  {
   "cell_type": "code",
   "execution_count": 10,
   "id": "850b548e-3a58-4440-b0f8-3a02e7ed777d",
   "metadata": {},
   "outputs": [
    {
     "name": "stdout",
     "output_type": "stream",
     "text": [
      "2025-06-14 22:03:21.988188\n",
      "85\n",
      "0.05\n",
      "157.5\n",
      "Today's date: 2025-06-14 22:03:21.988188\n",
      "Initial Price: 150.0\n",
      "New Price: 157.5\n"
     ]
    }
   ],
   "source": [
    "import random\n",
    "import datetime\n",
    "\n",
    "print(datetime.datetime.now())\n",
    "\n",
    "print(random.randint(1, 100))\n",
    "initial_price = 150.0\n",
    "volatility = 0.05\n",
    "volatility_change = random.choice([-volatility, volatility])\n",
    "print(volatility_change)\n",
    "daily_price_change = initial_price * (1 + volatility_change)\n",
    "print(daily_price_change)\n",
    "\n",
    "today = datetime.datetime.today()\n",
    "print(f\"Today's date: {today}\")\n",
    "print(f\"Initial Price: {initial_price}\")\n",
    "print(f\"New Price: {daily_price_change}\")"
   ]
  },
  {
   "cell_type": "code",
   "execution_count": 11,
   "id": "ed7f33aa-2aae-475d-bec4-18389c4e99c8",
   "metadata": {},
   "outputs": [],
   "source": [
    "# help(\"modules\")"
   ]
  },
  {
   "cell_type": "raw",
   "id": "d670e6da-0373-4dff-9242-52aa0bae201d",
   "metadata": {},
   "source": [
    "LOOPS"
   ]
  },
  {
   "cell_type": "code",
   "execution_count": 19,
   "id": "f9210b26-4d0e-48a3-bcab-c5d6ab282c6a",
   "metadata": {},
   "outputs": [
    {
     "name": "stdout",
     "output_type": "stream",
     "text": [
      "No breach found\n"
     ]
    }
   ],
   "source": [
    "prices = [110, 112, 113, 114, 116]\n",
    "threshold = 118\n",
    "index = 0\n",
    "while index < len(prices):\n",
    "    if prices[index] >= threshold:\n",
    "        print(\"Threshold breached\")\n",
    "        break\n",
    "    index += 1\n",
    "else:\n",
    "    print(\"No breach found\")"
   ]
  }
 ],
 "metadata": {
  "kernelspec": {
   "display_name": "Python 3 (ipykernel)",
   "language": "python",
   "name": "python3"
  },
  "language_info": {
   "codemirror_mode": {
    "name": "ipython",
    "version": 3
   },
   "file_extension": ".py",
   "mimetype": "text/x-python",
   "name": "python",
   "nbconvert_exporter": "python",
   "pygments_lexer": "ipython3",
   "version": "3.12.4"
  }
 },
 "nbformat": 4,
 "nbformat_minor": 5
}
