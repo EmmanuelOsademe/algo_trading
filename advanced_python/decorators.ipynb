{
 "cells": [
  {
   "cell_type": "markdown",
   "id": "34df0e7a-f87b-4357-b4b7-3b3df59b813a",
   "metadata": {},
   "source": [
    "DECORATORS"
   ]
  },
  {
   "cell_type": "code",
   "execution_count": 3,
   "id": "5397f600-0e07-4893-9923-00fc397111fa",
   "metadata": {},
   "outputs": [],
   "source": [
    "# A decorator receives a function as input, adds some additional feature (decoration) to the function, and returns it\n",
    "# This is because python functions are first-class citizens:\n",
    "    #1. They can be stored as a variable\n",
    "    #2. Passed as an argument\n",
    "    #3. Returned from a function\n",
    "    #4. Stored in a list, a dictionary, a tuple, etc.\n",
    "# Types: built-in  and user-defined\n",
    "# Built-in: @property, @\"attribute\".setter, @staticmethod, @classmethod, @abstractmethod, etc\n",
    "# User-defined: created by users\n",
    "\n",
    "# Use-cases: Logging (logging function calls), Timing (estimating execution time)\n",
    "# Use cases: Retry mechanism (retrying function calls)\n",
    "# Access Control: Efforcing access control\n",
    "# Resource management"
   ]
  },
  {
   "cell_type": "code",
   "execution_count": 11,
   "id": "e9fc1c52-aa50-4e16-a4e7-7f1eb82fcb9f",
   "metadata": {},
   "outputs": [
    {
     "name": "stdout",
     "output_type": "stream",
     "text": [
      "****** Initializing Modified Strategy ******\n",
      "25.05\n",
      "****** Ending Modified Strategy ******\n",
      "****** Initializing Modified Strategy ******\n",
      "25.05\n",
      "****** Ending Modified Strategy ******\n"
     ]
    }
   ],
   "source": [
    "trade_data = {\n",
    "    \"prices\": [10, 20, 30.2, 40],\n",
    "    \"symbol\": \"TSLA\"\n",
    "}\n",
    "def sma_strategy(trade_data):\n",
    "    prices = trade_data[\"prices\"]\n",
    "    return sum(prices)/len(prices)\n",
    "\n",
    "def bb_strategy(trade_data):\n",
    "    prices = trade_data[\"prices\"]\n",
    "    return sum(prices)/len(prices)\n",
    "\n",
    "\n",
    "def modified_strategy(strategy, trade_data):\n",
    "    print(\"****** Initializing Modified Strategy ******\")\n",
    "    print(strategy(trade_data))\n",
    "    print(\"****** Ending Modified Strategy ******\")\n",
    "\n",
    "modified_strategy(sma_strategy, trade_data)\n",
    "modified_strategy(bb_strategy, trade_data)"
   ]
  },
  {
   "cell_type": "code",
   "execution_count": 19,
   "id": "b17722f0-0d65-4adc-826d-66b435bdbbdd",
   "metadata": {},
   "outputs": [
    {
     "name": "stdout",
     "output_type": "stream",
     "text": [
      "****** Initializing Modified Strategy at 2025-06-22 14:52:15.108857 ******\n",
      "25.05\n",
      "****** Ending Modified Strategy at 2025-06-22 14:52:15.108857******\n",
      "****** Initializing Modified Strategy at 2025-06-22 14:52:15.108857 ******\n",
      "25.05\n",
      "****** Ending Modified Strategy at 2025-06-22 14:52:20.109594******\n"
     ]
    }
   ],
   "source": [
    "from datetime import datetime\n",
    "import time\n",
    "trade_data = {\n",
    "    \"prices\": [10, 20, 30.2, 40],\n",
    "    \"symbol\": \"TSLA\"\n",
    "}\n",
    "def sma_strategy(trade_data):\n",
    "    prices = trade_data[\"prices\"]\n",
    "    return sum(prices)/len(prices)\n",
    "\n",
    "def bb_strategy(trade_data):\n",
    "    prices = trade_data[\"prices\"]\n",
    "    time.sleep(5)\n",
    "    return sum(prices)/len(prices)\n",
    "\n",
    "\n",
    "def calculate_execution_time(strategy, trade_data):\n",
    "    print(f\"****** Initializing Modified Strategy at {datetime.now()} ******\")\n",
    "    print(strategy(trade_data))\n",
    "    print(f\"****** Ending Modified Strategy at {datetime.now()}******\")\n",
    "\n",
    "calculate_execution_time(sma_strategy, trade_data)\n",
    "calculate_execution_time(bb_strategy, trade_data)"
   ]
  },
  {
   "cell_type": "code",
   "execution_count": 27,
   "id": "48f53489-1fda-4542-a25d-339ac834d58f",
   "metadata": {},
   "outputs": [
    {
     "name": "stdout",
     "output_type": "stream",
     "text": [
      "****** Initializing Modified Strategy at 2025-06-22 15:00:59.574884 ******\n",
      "25.05\n",
      "****** Ending Modified Strategy at 2025-06-22 15:00:59.574884******\n",
      "****** Initializing Modified Strategy at 2025-06-22 15:00:59.574884 ******\n",
      "25.05\n",
      "****** Ending Modified Strategy at 2025-06-22 15:01:04.576217******\n"
     ]
    }
   ],
   "source": [
    "from datetime import datetime\n",
    "import time\n",
    "trade_data = {\n",
    "    \"prices\": [10, 20, 30.2, 40],\n",
    "    \"symbol\": \"TSLA\"\n",
    "}\n",
    "\n",
    "def calculate_execution_time(strategy):\n",
    "    def wrapper(trade_data):\n",
    "        print(f\"****** Initializing Modified Strategy at {datetime.now()} ******\")\n",
    "        print(strategy(trade_data))\n",
    "        print(f\"****** Ending Modified Strategy at {datetime.now()}******\")\n",
    "    return wrapper\n",
    "\n",
    "@calculate_execution_time\n",
    "def sma_strategy(trade_data):\n",
    "    prices = trade_data[\"prices\"]\n",
    "    return sum(prices)/len(prices)\n",
    "\n",
    "@calculate_execution_time\n",
    "def bb_strategy(trade_data):\n",
    "    prices = trade_data[\"prices\"]\n",
    "    time.sleep(5)\n",
    "    return sum(prices)/len(prices)\n",
    "\n",
    "sma_strategy(trade_data)\n",
    "bb_strategy(trade_data)"
   ]
  },
  {
   "cell_type": "code",
   "execution_count": 47,
   "id": "67c7f6b9-b13e-4767-90fc-53e1d127966b",
   "metadata": {},
   "outputs": [
    {
     "name": "stdout",
     "output_type": "stream",
     "text": [
      "Profit: 44.4\n",
      "TypeError: Datatype not correct\n"
     ]
    }
   ],
   "source": [
    "def sanity_check(data_type):\n",
    "    def outer_wrapper(func_name):\n",
    "        def inner_wrapper(*args):\n",
    "            if isinstance(*args, data_type):\n",
    "                return func_name(*args)\n",
    "            else:\n",
    "                print(\"TypeError: Datatype not correct\")\n",
    "        return inner_wrapper\n",
    "    return outer_wrapper\n",
    "\n",
    "@sanity_check(float)\n",
    "def calculate_pnl(profit):\n",
    "    print(f\"Profit: {profit}\")\n",
    "\n",
    "@sanity_check(str)\n",
    "def log_trade(symbol):\n",
    "    print(f\"Symbol: {symbol}\")\n",
    "\n",
    "calculate_pnl(44.4)\n",
    "log_trade([])"
   ]
  }
 ],
 "metadata": {
  "kernelspec": {
   "display_name": "Python 3 (ipykernel)",
   "language": "python",
   "name": "python3"
  },
  "language_info": {
   "codemirror_mode": {
    "name": "ipython",
    "version": 3
   },
   "file_extension": ".py",
   "mimetype": "text/x-python",
   "name": "python",
   "nbconvert_exporter": "python",
   "pygments_lexer": "ipython3",
   "version": "3.12.4"
  }
 },
 "nbformat": 4,
 "nbformat_minor": 5
}
