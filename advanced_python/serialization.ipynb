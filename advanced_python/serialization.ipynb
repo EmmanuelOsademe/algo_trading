{
 "cells": [
  {
   "cell_type": "code",
   "execution_count": 1,
   "id": "d1c5b1da-c3fe-4469-b0b3-74f7837e8b0f",
   "metadata": {},
   "outputs": [
    {
     "name": "stdout",
     "output_type": "stream",
     "text": [
      "1: Continuation of file handling\n",
      "\n",
      "2: Continuation of file handling\n",
      "\n",
      "3: Continuation of file handling\n",
      "\n",
      "4: Continuation of file handling\n",
      "\n",
      "5: Continuation of file handling\n",
      "\n",
      "6: Continuation of file handling\n",
      "\n",
      "7: Continuation of file handling\n",
      "\n",
      "8: Continuation of file handling\n",
      "\n",
      "9: Continuation of file handling\n",
      "\n",
      "10: Continuation of file handling\n",
      "\n",
      "\n"
     ]
    }
   ],
   "source": [
    "# Refreshal on file handling\n",
    "\n",
    "with open(\"files/text1.txt\", \"w\") as f:\n",
    "    for i in range(1, 11):\n",
    "        f.write(f\"{i}: Continuation of file handling\\n\")\n",
    "\n",
    "# Reading chunks of data\n",
    "with open(\"files/text1.txt\", \"r\") as f:\n",
    "    while True:\n",
    "        chunk = f.read(33)\n",
    "        if not chunk:\n",
    "            break\n",
    "        print(chunk)"
   ]
  },
  {
   "cell_type": "code",
   "execution_count": 17,
   "id": "077946d8-0a22-480d-8f68-618f26863241",
   "metadata": {},
   "outputs": [
    {
     "name": "stdout",
     "output_type": "stream",
     "text": [
      "1: Continuation of file handling\n",
      "32\n",
      "30\n",
      "23\n",
      "0\n",
      "23\n",
      "1\n",
      "2. Testing Seek method\n",
      "5\n"
     ]
    }
   ],
   "source": [
    "# Seek and Tell\n",
    "# Tell  shows the current position while seek can be used to point to a particular position\n",
    "with open(\"files/text1.txt\", \"r\") as f:\n",
    "    print(f.read(32))\n",
    "    print(f.tell())\n",
    "    print(f.seek(30))\n",
    "\n",
    "with open(\"files/seek.txt\", \"w\") as f:\n",
    "    print(f.write(\"1. Testing Seek method\\n\"))\n",
    "    print(f.seek(0))\n",
    "    # The seek repositions the cursor, thereby overriding the previous line\n",
    "    print(f.write(\"2. Testing Seek method\\n\"))\n",
    "    # Cannot write anyother thing but text\n",
    "    print(f.write(str(5)))\n",
    "\n",
    "with open(\"files/seek.txt\", \"r\") as f:\n",
    "    print(f.read())"
   ]
  },
  {
   "cell_type": "code",
   "execution_count": 11,
   "id": "5c4838be-14ff-4cc1-bc35-43e659e4b6d8",
   "metadata": {},
   "outputs": [],
   "source": [
    "# Normal reading cannot read Binary files. Read is for unicodes\n",
    "with open(\"files/test.png\", \"rb\") as f:\n",
    "    f.read()"
   ]
  },
  {
   "cell_type": "code",
   "execution_count": 7,
   "id": "04cde47d-d13d-4ea3-9c43-2165396d1a5b",
   "metadata": {},
   "outputs": [],
   "source": [
    "# Read Binary is for binary data\n",
    "with open(\"files/test.png\", \"rb\") as f:\n",
    "    with open(\"files/test1.png\", \"wb\") as g:\n",
    "        chunk = f.read()\n",
    "        g.write(chunk)"
   ]
  },
  {
   "cell_type": "markdown",
   "id": "6384e060-26f7-4d55-9cfa-9dbdfad0ae95",
   "metadata": {},
   "source": [
    "SERIALIZATION"
   ]
  },
  {
   "cell_type": "code",
   "execution_count": 35,
   "id": "fe90b96b-1771-4885-9559-86357cb86324",
   "metadata": {},
   "outputs": [
    {
     "name": "stdout",
     "output_type": "stream",
     "text": [
      "<class 'str'>\n"
     ]
    }
   ],
   "source": [
    "# Serialization is the process of converting python data types to JSON format\n",
    "# Deserialization is the process of converting json to python data types\n",
    "\n",
    "import json\n",
    "\n",
    "l1 = [\n",
    "    {\"trade_id\": \"d1124k\", \"symbol\": \"AAPL\", \"price\": 45.4, \"volume\": 223},\n",
    "    {\"trade_id\": \"dd124k\", \"symbol\": \"TSLA\", \"price\": 556.3, \"volume\": 334},\n",
    "]\n",
    "\n",
    "with open(\"files/trade_log.json\", \"w\") as f:\n",
    "    # Convert python to json and write it to the file\n",
    "    json.dump(l1, f)\n",
    "\n",
    "with open(\"files/trade_log.json\", \"r\") as f:\n",
    "    print(type(f.read()))\n"
   ]
  },
  {
   "cell_type": "markdown",
   "id": "461efa9f-e61f-4cd0-8828-a65503da70cf",
   "metadata": {},
   "source": [
    "DESERIALIZATION"
   ]
  },
  {
   "cell_type": "code",
   "execution_count": 37,
   "id": "2b3c4cec-b074-49c7-9494-3296ebe9f524",
   "metadata": {},
   "outputs": [
    {
     "name": "stdout",
     "output_type": "stream",
     "text": [
      "[{'trade_id': 'd1124k', 'symbol': 'AAPL', 'price': 45.4, 'volume': 223}, {'trade_id': 'dd124k', 'symbol': 'TSLA', 'price': 556.3, 'volume': 334}]\n",
      "<class 'list'>\n"
     ]
    }
   ],
   "source": [
    "with open(\"files/trade_log.json\", \"r\") as f:\n",
    "    # Reconvert back to a list and print it out\n",
    "    data  = json.load(f)\n",
    "    print(data)\n",
    "    print(type(data))"
   ]
  },
  {
   "cell_type": "code",
   "execution_count": 41,
   "id": "5da3b6e2-4470-44d5-85b4-349e4634c259",
   "metadata": {},
   "outputs": [
    {
     "name": "stdout",
     "output_type": "stream",
     "text": [
      "{'trade1': {'trade_id': 'd1124k', 'symbol': 'AAPL', 'price': 45.4, 'volume': 223}, 'trade2': {'trade_id': 'dd124k', 'symbol': 'TSLA', 'price': 556.3, 'volume': 334}}\n",
      "<class 'dict'>\n"
     ]
    }
   ],
   "source": [
    "dict1 = {\n",
    "    \"trade1\": {\"trade_id\": \"d1124k\", \"symbol\": \"AAPL\", \"price\": 45.4, \"volume\": 223},\n",
    "    \"trade2\": {\"trade_id\": \"dd124k\", \"symbol\": \"TSLA\", \"price\": 556.3, \"volume\": 334},\n",
    "}\n",
    "\n",
    "with open(\"files/trade_log1.json\", \"w\") as f:\n",
    "    # Convert python to json and write it to the file\n",
    "    json.dump(dict1, f)\n",
    "\n",
    "with open(\"files/trade_log1.json\", \"r\") as f:\n",
    "    # Reconvert back to a list and print it out\n",
    "    data  = json.load(f)\n",
    "    print(data)\n",
    "    print(type(data))"
   ]
  },
  {
   "cell_type": "code",
   "execution_count": 43,
   "id": "376c6982-3c20-429c-861d-6f45ec3f4038",
   "metadata": {},
   "outputs": [
    {
     "name": "stdout",
     "output_type": "stream",
     "text": [
      "['ABL', 4]\n",
      "<class 'list'>\n"
     ]
    }
   ],
   "source": [
    "tup1 = (\"ABL\", 4)\n",
    "\n",
    "with open(\"files/trade_log2.json\", \"w\") as f:\n",
    "    # Convert python to json and write it to the file\n",
    "    json.dump(tup1, f)\n",
    "\n",
    "with open(\"files/trade_log2.json\", \"r\") as f:\n",
    "    # Reconvert back to a list and print it out\n",
    "    data  = json.load(f)\n",
    "    print(data)\n",
    "    print(type(data))"
   ]
  },
  {
   "cell_type": "markdown",
   "id": "a8c09e61-4e28-4687-8cbc-f5f755b0d5d3",
   "metadata": {},
   "source": [
    "SERIALIZING AND DESERIALIZING CUSTOM OBJECTS"
   ]
  },
  {
   "cell_type": "code",
   "execution_count": 52,
   "id": "ea49f730-b448-4dff-afd0-1328ec38efee",
   "metadata": {},
   "outputs": [],
   "source": [
    "class TradeSystem:\n",
    "    def __init__(self, trade_id, symbol, price, volume):\n",
    "        self.trade_id = trade_id\n",
    "        self.symbol = symbol\n",
    "        self.price = price\n",
    "        self.volume = price\n",
    "\n",
    "def show_object(trade):\n",
    "    if isinstance(trade, TradeSystem):\n",
    "        return f\"Trade ID: {trade.trade_id}, Symbol: {trade.symbol}, Price: {trade.price}, Volume: {trade.volume}\"\n",
    "\n",
    "obj = TradeSystem(\"ddio1\", \"TLSA\", 334.5, 994)"
   ]
  },
  {
   "cell_type": "code",
   "execution_count": 62,
   "id": "63f8d051-62b1-45da-889c-fa308d749aab",
   "metadata": {},
   "outputs": [
    {
     "name": "stdout",
     "output_type": "stream",
     "text": [
      "Trade ID: ddio1, Symbol: TLSA, Price: 334.5, Volume: 334.5\n",
      "<class 'str'>\n"
     ]
    }
   ],
   "source": [
    "with open(\"files/obj.json\", \"w\") as f:\n",
    "    json.dump(obj, f, default=show_object)\n",
    "\n",
    "with open(\"files/obj.json\", \"r\") as f:\n",
    "    # Reconvert to custom data\n",
    "    data  = json.load(f)\n",
    "    print(data)\n",
    "    print(type(data))"
   ]
  },
  {
   "cell_type": "markdown",
   "id": "c31ce10d-fbed-4c64-8884-e5b54cdb316c",
   "metadata": {},
   "source": [
    "PICKLING and UNPICKLING\n",
    "\n",
    "Pickling: This is the process of converting a Python object hierarchy into a byte stream\n",
    "Unpickling: The process of converting a byte stream into a python object hierarchy"
   ]
  },
  {
   "cell_type": "code",
   "execution_count": 73,
   "id": "fbae1033-e94e-46c2-b4d5-13ccf3b40def",
   "metadata": {},
   "outputs": [
    {
     "name": "stdout",
     "output_type": "stream",
     "text": [
      "<__main__.TradeSystem object at 0x0000015523D3B0B0>\n",
      "<class '__main__.TradeSystem'>\n"
     ]
    }
   ],
   "source": [
    "import pickle\n",
    "with open(\"files/pickle.pkl\", \"wb\") as f:\n",
    "    pickle.dump(obj, f)\n",
    "\n",
    "\n",
    "with open(\"files/pickle.pkl\", \"rb\") as f:\n",
    "    data = pickle.load(f)\n",
    "    print(data.price)\n",
    "    print(data)\n",
    "    print(type(data))"
   ]
  }
 ],
 "metadata": {
  "kernelspec": {
   "display_name": "Python 3 (ipykernel)",
   "language": "python",
   "name": "python3"
  },
  "language_info": {
   "codemirror_mode": {
    "name": "ipython",
    "version": 3
   },
   "file_extension": ".py",
   "mimetype": "text/x-python",
   "name": "python",
   "nbconvert_exporter": "python",
   "pygments_lexer": "ipython3",
   "version": "3.12.4"
  }
 },
 "nbformat": 4,
 "nbformat_minor": 5
}
