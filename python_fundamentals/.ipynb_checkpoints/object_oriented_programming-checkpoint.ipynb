{
 "cells": [
  {
   "cell_type": "code",
   "execution_count": 1,
   "id": "fd4b66f8-fd37-4396-b378-18ba72279b6d",
   "metadata": {},
   "outputs": [],
   "source": [
    "class TradingStrategy:\n",
    "    def __init__(self, symbol=\"\", amount=0):\n",
    "        self.symbol = symbol\n",
    "        self.amount = amount\n",
    "        self.position = 0\n",
    "        print(id(self))\n",
    "\n",
    "    def buy(self, price, quantity):\n",
    "        total_cost = price * quantity\n",
    "        if self.amount >= total_cost:\n",
    "            self.position += quantity\n",
    "            self.amount -= total_cost\n",
    "            print(f\"Successfully bought {quantity} shares of {self.symbol} at ${price} per share\")\n",
    "        else:\n",
    "            print(\"Not enough amount to proceed with the trade\")\n",
    "\n",
    "    def sell(self, price, quantity):\n",
    "        if self.position >= quantity:\n",
    "            self.amount += price * quantity\n",
    "            self.position -= quantity\n",
    "            print(f\"Successfully sold {quantity} shares of {self.symbol} at ${price} per share\")\n",
    "        else:\n",
    "            print(\"There are no shares to sell\")\n",
    "\n",
    "    def status(self):\n",
    "        print(f\"Current position: {self.position} of the {self.symbol} shares\")\n",
    "        print(f\"Remaining amount: ${self.amount}\")"
   ]
  },
  {
   "cell_type": "code",
   "execution_count": 2,
   "id": "5ef8b847-cb9d-4169-b2d1-2b7ecabbc595",
   "metadata": {},
   "outputs": [
    {
     "name": "stdout",
     "output_type": "stream",
     "text": [
      "2139287726624\n",
      "Current position: 0 of the ETH shares\n",
      "Remaining amount: $5000\n",
      "\n",
      "\n",
      "Successfully bought 5 shares of ETH at $34.2 per share\n",
      "Current position: 5 of the ETH shares\n",
      "Remaining amount: $4829.0\n",
      "\n",
      "\n",
      "Successfully sold 2 shares of ETH at $37 per share\n",
      "Current position: 3 of the ETH shares\n",
      "Remaining amount: $4903.0\n",
      "2139307414816\n"
     ]
    }
   ],
   "source": [
    "momentum = TradingStrategy(\"ETH\", 5000)\n",
    "\n",
    "momentum.status()\n",
    "print(\"\\n\")\n",
    "\n",
    "momentum.buy(34.2, 5)\n",
    "momentum.status()\n",
    "print(\"\\n\")\n",
    "\n",
    "momentum.sell(37, 2)\n",
    "momentum.status()\n",
    "\n",
    "momentum2 = TradingStrategy(\"ETH\", 5000)"
   ]
  },
  {
   "cell_type": "code",
   "execution_count": 3,
   "id": "4d581ada-f027-4569-b31a-b8750ea8c1c9",
   "metadata": {},
   "outputs": [],
   "source": [
    "# Magic methods or dunder methods\n",
    "# These are special methods which hold some super power.\n",
    "# They do not need function call for the methods to be executed\n",
    "# Examples __init__, __str__, __repr__, __add__, etc\n",
    "# They define the behaviour of the objects. \n",
    "# Can be used to create custom objects and datatype. Makes classes more intuitive\n",
    "# Can be used to integrate the class to python seamlessly\n",
    "\n",
    "class Trades:\n",
    "    def __init__(self, symbol, quantity, price):\n",
    "        self.symbol = symbol\n",
    "        self.quantity = quantity\n",
    "        self.price = price\n",
    "\n",
    "    # Representation\n",
    "    def __repr__(self):\n",
    "        return f\"symbol: {self.symbol}, quantity: {self.quantity}, price: ${self.price}\"\n",
    "\n",
    "    # How the object is represented when printed\n",
    "    def __str__(self):\n",
    "        return f\"{self.quantity} shares of {self.symbol} at ${self.price}\"\n",
    "\n",
    "    # Adding two objects\n",
    "    def __add__(self, other):\n",
    "        if self.symbol == other.symbol:\n",
    "            new_quantity = self.quantity + other.quantity\n",
    "            average_price = (self.quantity * self.price + other.quantity * other.price)/new_quantity\n",
    "            new_trade = Trades(self.symbol, new_quantity, average_price)\n",
    "            print(f\"Latest quantity: {new_trade.quantity}, average price: ${new_trade.price}\")\n",
    "            return new_trade\n",
    "        else:\n",
    "            return f\"Both symbols should be same\"\n",
    "\n",
    "    def __sub__(self, other):\n",
    "        if self.symbol == other.symbol:\n",
    "            if self.quantity >= other.quantity:\n",
    "                new_quantity = self.quantity - other.quantity\n",
    "                new_trade = Trades(self.symbol, new_quantity, self.price)\n",
    "                print(f\"Latest quantity: {new_trade.quantity}, average price: ${new_trade.price}\")\n",
    "                return new_trade\n",
    "            else:\n",
    "                return f\"Cannot return a negative quantity\"\n",
    "        else:\n",
    "            return f\"Both symbols should be same\"\n",
    "            "
   ]
  },
  {
   "cell_type": "code",
   "execution_count": 4,
   "id": "561680e3-d0fb-419a-ad3f-0c2c6d7c698b",
   "metadata": {},
   "outputs": [
    {
     "name": "stdout",
     "output_type": "stream",
     "text": [
      "symbol: BTC, quantity: 1.3, price: $71000\n",
      "1.3 shares of BTC at $71000\n",
      "Latest quantity: 2.0, average price: $78700.315\n",
      "2.0 shares of BTC at $78700.315\n",
      "Cannot return a negative quantity\n"
     ]
    }
   ],
   "source": [
    "trade1 = Trades(\"BTC\", 1.3, 71000)\n",
    "trade2 = Trades(\"BTC\", 0.7, 93000.9)\n",
    "print(repr(trade1))\n",
    "print(trade1)\n",
    "\n",
    "trade3 = trade1 + trade2\n",
    "print(trade3)\n",
    "\n",
    "trade4 = trade2 - trade1\n",
    "print(trade4)"
   ]
  },
  {
   "cell_type": "markdown",
   "id": "5de058c1-4567-41e5-9913-67e67d82a4e0",
   "metadata": {},
   "source": [
    "ENCAPSULATION"
   ]
  },
  {
   "cell_type": "code",
   "execution_count": 6,
   "id": "3a320862-ad02-42e4-bacb-c5da8cb013a5",
   "metadata": {},
   "outputs": [],
   "source": [
    "class AutoTradingBot:\n",
    "    def __init__(self, threshold):\n",
    "        # Double underscore makes the attributes private\n",
    "        self.__threshold = threshold\n",
    "        self.__position = None\n",
    "        self.__price_data = []\n",
    "\n",
    "    def getattr(self):\n",
    "        return self.__threshold\n",
    "\n",
    "    def setattr(self, new_threshold):\n",
    "        if type(new_threshold) == str:\n",
    "            self.__threshold = new_threshold\n",
    "            return \"Threshold successfully updated\"\n",
    "        else:\n",
    "            return \"Please provide a number\"\n",
    "\n",
    "    def fetch_market_data(self):\n",
    "        self.__price_data = [69140, 69150.0, 69160, 69170, 69180, 69190]\n",
    "        print(\"Market data has been fetched\")\n",
    "        return self.__price_data\n",
    "\n",
    "    def latest_price(self):\n",
    "        if self.__price_data:\n",
    "            return self.__price_data[-1]\n",
    "        else:\n",
    "            return None\n",
    "\n",
    "    def __evaluate_price(self):\n",
    "        latest_price = self.latest_price()\n",
    "        if latest_price < self.__threshold:\n",
    "            return \"Sell\"\n",
    "        elif latest_price > self.__threshold:\n",
    "            return \"Buy\"\n",
    "        else:\n",
    "            return \"Hold\"\n",
    "            \n",
    "\n",
    "    def __execute_trade(self):\n",
    "        action = self.__evaluate_price()\n",
    "        if action == \"Sell\" and self.__position != \"Short\":\n",
    "            self.__position = \"Short\"\n",
    "            return \"Sell trade has been executed and current position is Short\"\n",
    "        elif action == \"Buy\" and self.__position != \"Long\":\n",
    "            self.__position = \"Long\"\n",
    "            return \"Buy trade has been executed and current position is Long\"\n",
    "        elif action == \"Hold\":\n",
    "            self.__position = \"Hold\"\n",
    "            return \"The trade is on hold now and current position is Hold\"\n",
    "        else:\n",
    "            pass\n",
    "\n",
    "    def run(self):\n",
    "        return self.__execute_trade()\n",
    "    "
   ]
  },
  {
   "cell_type": "code",
   "execution_count": 7,
   "id": "21a293cc-64eb-46b6-9441-daabba48480d",
   "metadata": {},
   "outputs": [
    {
     "name": "stdout",
     "output_type": "stream",
     "text": [
      "Market data has been fetched\n",
      "[69140, 69150.0, 69160, 69170, 69180, 69190]\n",
      "69190\n",
      "Buy trade has been executed and current position is Long\n",
      "69160\n"
     ]
    }
   ],
   "source": [
    "autobot1 = AutoTradingBot(69160)\n",
    "print(autobot1.fetch_market_data())\n",
    "print(autobot1.latest_price())\n",
    "print(autobot1.run())\n",
    "print(autobot1.getattr())\n"
   ]
  },
  {
   "cell_type": "code",
   "execution_count": 8,
   "id": "cbe37d43-f804-4e58-a27a-d152735c01cb",
   "metadata": {},
   "outputs": [],
   "source": [
    "# Static Attributes\n",
    "\n",
    "class AutoTradingBot:\n",
    "    counter = 0\n",
    "    @staticmethod\n",
    "    def greet(name):\n",
    "        print(f\"Hello, {name}!\")\n",
    "    \n",
    "    def __init__(self, threshold):\n",
    "        # Double underscore makes the attributes private\n",
    "        self.__threshold = threshold\n",
    "        self.__position = None\n",
    "        self.__price_data = []\n",
    "        AutoTradingBot.counter += 1\n",
    "\n",
    "    @property\n",
    "    def threshold(self):\n",
    "        return self.__threshold\n",
    "\n",
    "    @threshold.setter\n",
    "    def threshold(self, threshold):\n",
    "        if isinstance(threshold, (int, float)):\n",
    "            self.__threshold = threshold\n",
    "        else:\n",
    "            print(\"Please provide the new threshold as a number\")\n",
    "\n",
    "    def fetch_market_data(self):\n",
    "        self.__price_data = [69140, 69150.0, 69160, 69170, 69180, 69190]\n",
    "        print(\"Market data has been fetched\")\n",
    "        return self.__price_data\n",
    "\n",
    "    def latest_price(self):\n",
    "        if self.__price_data:\n",
    "            return self.__price_data[-1]\n",
    "        else:\n",
    "            return None\n",
    "\n",
    "    def __evaluate_price(self):\n",
    "        latest_price = self.latest_price()\n",
    "        if latest_price < self.__threshold:\n",
    "            return \"Sell\"\n",
    "        elif latest_price > self.__threshold:\n",
    "            return \"Buy\"\n",
    "        else:\n",
    "            return \"Hold\"\n",
    "            \n",
    "\n",
    "    def __execute_trade(self):\n",
    "        action = self.__evaluate_price()\n",
    "        if action == \"Sell\" and self.__position != \"Short\":\n",
    "            self.__position = \"Short\"\n",
    "            return \"Sell trade has been executed and current position is Short\"\n",
    "        elif action == \"Buy\" and self.__position != \"Long\":\n",
    "            self.__position = \"Long\"\n",
    "            return \"Buy trade has been executed and current position is Long\"\n",
    "        elif action == \"Hold\":\n",
    "            self.__position = \"Hold\"\n",
    "            return \"The trade is on hold now and current position is Hold\"\n",
    "        else:\n",
    "            pass\n",
    "\n",
    "    def run(self):\n",
    "        return self.__execute_trade()\n",
    "    "
   ]
  },
  {
   "cell_type": "code",
   "execution_count": 9,
   "id": "f5cf53db-feb6-4957-a452-8573bccc70d5",
   "metadata": {},
   "outputs": [
    {
     "name": "stdout",
     "output_type": "stream",
     "text": [
      "Market data has been fetched\n",
      "[69140, 69150.0, 69160, 69170, 69180, 69190]\n",
      "69190\n",
      "Buy trade has been executed and current position is Long\n",
      "69160\n",
      "69163\n",
      "1\n",
      "Hello, Emmanuel!\n"
     ]
    }
   ],
   "source": [
    "autobot1 = AutoTradingBot(69160)\n",
    "print(autobot1.fetch_market_data())\n",
    "print(autobot1.latest_price())\n",
    "print(autobot1.run())\n",
    "print(autobot1.threshold)\n",
    "autobot1.threshold = 69163\n",
    "print(autobot1.threshold)\n",
    "\n",
    "print(AutoTradingBot.counter)\n",
    "AutoTradingBot.greet(\"Emmanuel\")"
   ]
  },
  {
   "cell_type": "markdown",
   "id": "eb5d1047-a0bd-4e82-aecb-ac35eeddade9",
   "metadata": {},
   "source": [
    "AGGREGATION (Has-A Relationship)"
   ]
  },
  {
   "cell_type": "code",
   "execution_count": 26,
   "id": "f2ef3672-7328-4e25-addf-f8a34538b6f3",
   "metadata": {},
   "outputs": [
    {
     "data": {
      "text/plain": [
       "'AwesomeStratey is executing a Sell action'"
      ]
     },
     "execution_count": 26,
     "metadata": {},
     "output_type": "execute_result"
    }
   ],
   "source": [
    "class MyTradingBot:\n",
    "    def __init__(self, name, strategy):\n",
    "        self.name = name\n",
    "        self.strategy = strategy\n",
    "\n",
    "    def execute(self, price):\n",
    "        action = self.strategy.evaluate(price)\n",
    "        return f\"{self.name} is executing a {action} action\"\n",
    "\n",
    "class AwesomeStrategy:\n",
    "    def __init__(self, threshold):\n",
    "        self.threshold = threshold\n",
    "\n",
    "    def evaluate(self, latest_price):\n",
    "        if latest_price > self.threshold:\n",
    "            return \"Buy\"\n",
    "        else:\n",
    "            return \"Sell\"\n",
    "\n",
    "strategy = AwesomeStrategy(100)\n",
    "my_bot = MyTradingBot(\"AwesomeStratey\", strategy)\n",
    "my_bot.execute(90)"
   ]
  },
  {
   "cell_type": "markdown",
   "id": "49316d6e-3082-4787-99ba-015d5b4f5212",
   "metadata": {},
   "source": [
    "INHERITANCE"
   ]
  },
  {
   "cell_type": "code",
   "execution_count": 30,
   "id": "2b07254f-8175-41a2-9c01-ab25d7be7430",
   "metadata": {},
   "outputs": [],
   "source": [
    "class BaseStrategy:\n",
    "    def __init__(self, name, stype):\n",
    "        self.__name = name\n",
    "        self.__stype = stype\n",
    "        print(\"The constructor function of the base strategy has been initialised\")\n",
    "\n",
    "    def execute(self):\n",
    "        print(\"The Execute method of the base strategy has been triggered\")\n",
    "\n",
    "    @property\n",
    "    def name(self):\n",
    "        return self.__name\n",
    "\n",
    "    @name.setter\n",
    "    def threshold(self, name):\n",
    "        self.__name = name\n",
    "\n",
    "    @property\n",
    "    def stype(self):\n",
    "        return self.__stype\n",
    "\n",
    "    @stype.setter\n",
    "    def threshold(self, stype):\n",
    "        self.__stype = stype\n",
    "\n",
    "class EMAStrategy(BaseStrategy):\n",
    "    def __init__(self, name, stype, l_window, s_window):\n",
    "        super().__init__(name, stype)\n",
    "        self.l_window = l_window\n",
    "        self.s_window = s_window\n",
    "        print(\"The constructor function of the EMA strategy has been initialised\")\n",
    "\n",
    "    # def execute(self):\n",
    "    #     print(\"The Execute method of the EMA strategy has been triggered\")"
   ]
  },
  {
   "cell_type": "code",
   "execution_count": 34,
   "id": "e45963ea-045c-40bb-8972-0bb7ea5dfa61",
   "metadata": {},
   "outputs": [
    {
     "name": "stdout",
     "output_type": "stream",
     "text": [
      "The constructor function of the base strategy has been initialised\n",
      "The constructor function of the EMA strategy has been initialised\n",
      "NewEMAStrategy\n"
     ]
    }
   ],
   "source": [
    "strategy = EMAStrategy(\"NewEMAStrategy\", \"Technical\", 10, 10)\n",
    "print(strategy.name)"
   ]
  }
 ],
 "metadata": {
  "kernelspec": {
   "display_name": "Python 3 (ipykernel)",
   "language": "python",
   "name": "python3"
  },
  "language_info": {
   "codemirror_mode": {
    "name": "ipython",
    "version": 3
   },
   "file_extension": ".py",
   "mimetype": "text/x-python",
   "name": "python",
   "nbconvert_exporter": "python",
   "pygments_lexer": "ipython3",
   "version": "3.12.4"
  }
 },
 "nbformat": 4,
 "nbformat_minor": 5
}
