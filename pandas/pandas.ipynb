{
 "cells": [
  {
   "cell_type": "code",
   "execution_count": 1,
   "id": "b780b005-ad5d-4e32-ae75-634e71b623bd",
   "metadata": {},
   "outputs": [],
   "source": [
    "import pandas as pd\n",
    "import numpy as np"
   ]
  },
  {
   "cell_type": "code",
   "execution_count": 2,
   "id": "3606de1f-d2cd-4410-a097-8b5599e26d86",
   "metadata": {},
   "outputs": [
    {
     "name": "stdout",
     "output_type": "stream",
     "text": [
      "0        Apple\n",
      "1    Microsoft\n",
      "2      Bitcoin\n",
      "3     Ethereum\n",
      "dtype: object\n",
      "<class 'pandas.core.series.Series'>\n"
     ]
    }
   ],
   "source": [
    "# Creating Series from list\n",
    "\n",
    "list_str = [\"Apple\", \"Microsoft\", \"Bitcoin\", \"Ethereum\"]\n",
    "\n",
    "stocks = pd.Series(list_str)\n",
    "print(stocks)\n",
    "print(type(stocks))"
   ]
  },
  {
   "cell_type": "code",
   "execution_count": 3,
   "id": "a9d544fe-9b50-40a0-9f20-c251ef5fef10",
   "metadata": {},
   "outputs": [
    {
     "name": "stdout",
     "output_type": "stream",
     "text": [
      "0    100\n",
      "1    101\n",
      "2    102\n",
      "3    103\n",
      "dtype: int64\n",
      "<class 'pandas.core.series.Series'>\n"
     ]
    }
   ],
   "source": [
    "list_int = [100, 101, 102, 103]\n",
    "\n",
    "stocks_price = pd.Series(list_int)\n",
    "print(stocks_price)\n",
    "print(type(stocks_price))"
   ]
  },
  {
   "cell_type": "code",
   "execution_count": 4,
   "id": "3b8c7939-a789-485f-80a3-9f26e9805f13",
   "metadata": {},
   "outputs": [
    {
     "name": "stdout",
     "output_type": "stream",
     "text": [
      "100        Apple\n",
      "101    Microsoft\n",
      "102      Bitcoin\n",
      "103     Ethereum\n",
      "dtype: object\n",
      "<class 'pandas.core.series.Series'>\n"
     ]
    }
   ],
   "source": [
    "# Custom Index\n",
    "list_int = [100, 101, 102, 103]\n",
    "list_str = [\"Apple\", \"Microsoft\", \"Bitcoin\", \"Ethereum\"]\n",
    "\n",
    "stock_data = pd.Series(list_str, index=list_int)\n",
    "print(stock_data)\n",
    "print(type(stock_data))"
   ]
  },
  {
   "cell_type": "code",
   "execution_count": 5,
   "id": "2b2a3ba9-5c3a-4fd3-b5a6-af8af8e00e98",
   "metadata": {},
   "outputs": [
    {
     "name": "stdout",
     "output_type": "stream",
     "text": [
      "Apple\n"
     ]
    }
   ],
   "source": [
    "print(stock_data[100])"
   ]
  },
  {
   "cell_type": "code",
   "execution_count": 6,
   "id": "d1db8d10-4757-4f8e-980d-1bc66900a63e",
   "metadata": {},
   "outputs": [
    {
     "name": "stdout",
     "output_type": "stream",
     "text": [
      "100        Apple\n",
      "101    Microsoft\n",
      "102      Bitcoin\n",
      "103     Ethereum\n",
      "Name: Stock Data of Emmanuel, dtype: object\n",
      "<class 'pandas.core.series.Series'>\n",
      "Stock Data of Emmanuel\n"
     ]
    }
   ],
   "source": [
    "# Setting a name\n",
    "list_int = [100, 101, 102, 103]\n",
    "list_str = [\"Apple\", \"Microsoft\", \"Bitcoin\", \"Ethereum\"]\n",
    "\n",
    "stock_data = pd.Series(list_str, index=list_int, name=\"Stock Data of Emmanuel\")\n",
    "print(stock_data)\n",
    "print(type(stock_data))\n",
    "print(stock_data.name)"
   ]
  },
  {
   "cell_type": "code",
   "execution_count": 7,
   "id": "c60c1564-ad6f-4036-9b3d-b1dee72bd7fd",
   "metadata": {},
   "outputs": [
    {
     "name": "stdout",
     "output_type": "stream",
     "text": [
      "Apple          101.1\n",
      "Microsoft      123.2\n",
      "Bitcoin      98098.0\n",
      "Ethereum       198.0\n",
      "dtype: float64\n"
     ]
    }
   ],
   "source": [
    "# Series from Dictionary\n",
    "dict = {\"Apple\":101.1, \"Microsoft\": 123.2, \"Bitcoin\": 98098, \"Ethereum\": 198}\n",
    "stock_data = pd.Series(dict)\n",
    "print(stock_data)"
   ]
  },
  {
   "cell_type": "code",
   "execution_count": 8,
   "id": "cc9fc9ae-09e4-4c57-bfa1-338d0d5e97dd",
   "metadata": {},
   "outputs": [
    {
     "name": "stdout",
     "output_type": "stream",
     "text": [
      "Apple          101.1\n",
      "Microsoft      123.2\n",
      "Bitcoin      98098.0\n",
      "Ethereum       198.0\n",
      "Name: Stock Data of Emmanuel, dtype: float64\n"
     ]
    }
   ],
   "source": [
    "dict = {\"Apple\":101.1, \"Microsoft\": 123.2, \"Bitcoin\": 98098, \"Ethereum\": 198}\n",
    "stock_data = pd.Series(dict, name=\"Stock Data of Emmanuel\")\n",
    "print(stock_data)"
   ]
  },
  {
   "cell_type": "code",
   "execution_count": 9,
   "id": "c05210aa-b953-4822-9e7d-021f0b7ae619",
   "metadata": {},
   "outputs": [
    {
     "name": "stdout",
     "output_type": "stream",
     "text": [
      "4\n"
     ]
    }
   ],
   "source": [
    "# Series Attributes\n",
    "\n",
    "# size\n",
    "print(stock_data.size)"
   ]
  },
  {
   "cell_type": "code",
   "execution_count": 10,
   "id": "838b656d-8681-4148-baa8-780124e8be59",
   "metadata": {},
   "outputs": [
    {
     "name": "stdout",
     "output_type": "stream",
     "text": [
      "float64\n"
     ]
    }
   ],
   "source": [
    "# dtype\n",
    "\n",
    "print(stock_data.dtype)"
   ]
  },
  {
   "cell_type": "code",
   "execution_count": 11,
   "id": "70b845ec-de0d-4342-9176-f482f7ade0d3",
   "metadata": {},
   "outputs": [
    {
     "name": "stdout",
     "output_type": "stream",
     "text": [
      "Stock Data of Emmanuel\n"
     ]
    }
   ],
   "source": [
    "# name\n",
    "\n",
    "print(stock_data.name)"
   ]
  },
  {
   "cell_type": "code",
   "execution_count": 12,
   "id": "b0bcc6e0-5f4e-44ca-9197-035ebecc0de1",
   "metadata": {},
   "outputs": [
    {
     "name": "stdout",
     "output_type": "stream",
     "text": [
      "True\n"
     ]
    }
   ],
   "source": [
    "# is_unique\n",
    "\n",
    "print(stock_data.is_unique)"
   ]
  },
  {
   "cell_type": "code",
   "execution_count": 13,
   "id": "c058f297-d04a-4362-a0f6-19853ad6f8cc",
   "metadata": {},
   "outputs": [
    {
     "name": "stdout",
     "output_type": "stream",
     "text": [
      "Index(['Apple', 'Microsoft', 'Bitcoin', 'Ethereum'], dtype='object')\n",
      "<class 'pandas.core.indexes.base.Index'>\n"
     ]
    }
   ],
   "source": [
    "# index\n",
    "\n",
    "print(stock_data.index)\n",
    "print(type(stock_data.index))"
   ]
  },
  {
   "cell_type": "code",
   "execution_count": 14,
   "id": "bb64bf6e-da01-44a3-81b6-76cd304b4ecf",
   "metadata": {},
   "outputs": [
    {
     "name": "stdout",
     "output_type": "stream",
     "text": [
      "[  101.1   123.2 98098.    198. ]\n",
      "<class 'numpy.ndarray'>\n"
     ]
    }
   ],
   "source": [
    "# values\n",
    "\n",
    "print(stock_data.values)\n",
    "print(type(stock_data.values))"
   ]
  },
  {
   "cell_type": "markdown",
   "id": "e2f7d9e4-cd7e-4689-8771-06eff6db4442",
   "metadata": {},
   "source": [
    "Creating Series from csv files"
   ]
  },
  {
   "cell_type": "code",
   "execution_count": 16,
   "id": "8060287d-fc9e-42e0-b659-1f2660d5fd1c",
   "metadata": {},
   "outputs": [
    {
     "name": "stdout",
     "output_type": "stream",
     "text": [
      "            id symbol      name  \\\n",
      "0      bitcoin    btc   Bitcoin   \n",
      "1     ethereum    eth  Ethereum   \n",
      "2       tether   usdt    Tether   \n",
      "3       ripple    xrp       XRP   \n",
      "4  binancecoin    bnb       BNB   \n",
      "\n",
      "                                               image  current_price  \\\n",
      "0  https://coin-images.coingecko.com/coins/images...      108134.00   \n",
      "1  https://coin-images.coingecko.com/coins/images...        2516.30   \n",
      "2  https://coin-images.coingecko.com/coins/images...           1.00   \n",
      "3  https://coin-images.coingecko.com/coins/images...           2.21   \n",
      "4  https://coin-images.coingecko.com/coins/images...         655.38   \n",
      "\n",
      "      market_cap  market_cap_rank  fully_diluted_valuation  total_volume  \\\n",
      "0  2150284855986                1            2150285829059  1.055896e+10   \n",
      "1   303542273895                2             303542273895  5.906574e+09   \n",
      "2   158624637618                3             158624637618  2.236902e+10   \n",
      "3   130684850135                4             221213003488  9.822654e+08   \n",
      "4    95593779597                5              95593779597  3.689315e+08   \n",
      "\n",
      "    high_24h  ...  total_supply    max_supply        ath  \\\n",
      "0  108295.00  ...  1.988809e+07  2.100000e+07  111814.00   \n",
      "1    2527.68  ...  1.207170e+08           NaN    4878.26   \n",
      "2       1.00  ...  1.585966e+11           NaN       1.32   \n",
      "3       2.23  ...  9.998597e+10  1.000000e+11       3.40   \n",
      "4     656.47  ...  1.458876e+08  2.000000e+08     788.84   \n",
      "\n",
      "   ath_change_percentage                  ath_date        atl  \\\n",
      "0               -3.32356  2025-05-22T18:41:28.492Z  67.810000   \n",
      "1              -48.56432  2021-11-10T14:24:19.604Z   0.432979   \n",
      "2              -24.40592  2018-07-24T00:00:00.000Z   0.572521   \n",
      "3              -34.98504  2018-01-07T00:00:00.000Z   0.002686   \n",
      "4              -16.98474  2024-12-04T10:35:25.220Z   0.039818   \n",
      "\n",
      "   atl_change_percentage                  atl_date  \\\n",
      "0           1.593154e+05  2013-07-06T00:00:00.000Z   \n",
      "1           5.794125e+05  2015-10-20T00:00:00.000Z   \n",
      "2           7.469781e+01  2015-03-02T00:00:00.000Z   \n",
      "3           8.215357e+04  2014-05-22T00:00:00.000Z   \n",
      "4           1.644547e+06  2017-10-19T00:00:00.000Z   \n",
      "\n",
      "                                                 roi              last_updated  \n",
      "0                                               None  2025-07-05T21:37:45.229Z  \n",
      "1  {'times': 30.104602094757734, 'currency': 'btc...  2025-07-05T21:37:46.840Z  \n",
      "2                                               None  2025-07-05T21:37:43.901Z  \n",
      "3                                               None  2025-07-05T21:37:41.569Z  \n",
      "4                                               None  2025-07-05T21:37:45.533Z  \n",
      "\n",
      "[5 rows x 26 columns]\n"
     ]
    }
   ],
   "source": [
    "import requests\n",
    "\n",
    "url = \"https://api.coingecko.com/api/v3/coins/markets\"\n",
    "\n",
    "params = {\n",
    "    \"vs_currency\": \"usd\",\n",
    "    \"order\": \"market_cap_desc\",\n",
    "    \"per_page\": 100,\n",
    "    \"page\": 1,\n",
    "    \"sparkline\": False\n",
    "}\n",
    "\n",
    "response = requests.get(url, params=params)\n",
    "\n",
    "if response.status_code == 200:\n",
    "    data = response.json()\n",
    "    df = pd.DataFrame(data)\n",
    "    print(df.head())\n",
    "else:\n",
    "    print(f\"Failed to fetch data: {response.status_code}\")"
   ]
  },
  {
   "cell_type": "code",
   "execution_count": 17,
   "id": "d7956372-4449-4653-9a14-4521fc6b55c0",
   "metadata": {},
   "outputs": [],
   "source": [
    "df.to_csv(\"files/coins.csv\", index  = False)"
   ]
  },
  {
   "cell_type": "code",
   "execution_count": 18,
   "id": "d730d49d-a740-47b5-a275-c57e0c73c341",
   "metadata": {},
   "outputs": [
    {
     "data": {
      "text/html": [
       "<div>\n",
       "<style scoped>\n",
       "    .dataframe tbody tr th:only-of-type {\n",
       "        vertical-align: middle;\n",
       "    }\n",
       "\n",
       "    .dataframe tbody tr th {\n",
       "        vertical-align: top;\n",
       "    }\n",
       "\n",
       "    .dataframe thead th {\n",
       "        text-align: right;\n",
       "    }\n",
       "</style>\n",
       "<table border=\"1\" class=\"dataframe\">\n",
       "  <thead>\n",
       "    <tr style=\"text-align: right;\">\n",
       "      <th></th>\n",
       "      <th>id</th>\n",
       "      <th>symbol</th>\n",
       "      <th>name</th>\n",
       "      <th>image</th>\n",
       "      <th>current_price</th>\n",
       "      <th>market_cap</th>\n",
       "      <th>market_cap_rank</th>\n",
       "      <th>fully_diluted_valuation</th>\n",
       "      <th>total_volume</th>\n",
       "      <th>high_24h</th>\n",
       "      <th>...</th>\n",
       "      <th>total_supply</th>\n",
       "      <th>max_supply</th>\n",
       "      <th>ath</th>\n",
       "      <th>ath_change_percentage</th>\n",
       "      <th>ath_date</th>\n",
       "      <th>atl</th>\n",
       "      <th>atl_change_percentage</th>\n",
       "      <th>atl_date</th>\n",
       "      <th>roi</th>\n",
       "      <th>last_updated</th>\n",
       "    </tr>\n",
       "  </thead>\n",
       "  <tbody>\n",
       "    <tr>\n",
       "      <th>0</th>\n",
       "      <td>bitcoin</td>\n",
       "      <td>btc</td>\n",
       "      <td>Bitcoin</td>\n",
       "      <td>https://coin-images.coingecko.com/coins/images...</td>\n",
       "      <td>108134.00</td>\n",
       "      <td>2150284855986</td>\n",
       "      <td>1</td>\n",
       "      <td>2150285829059</td>\n",
       "      <td>1.055896e+10</td>\n",
       "      <td>108295.00</td>\n",
       "      <td>...</td>\n",
       "      <td>1.988809e+07</td>\n",
       "      <td>2.100000e+07</td>\n",
       "      <td>111814.00</td>\n",
       "      <td>-3.32356</td>\n",
       "      <td>2025-05-22T18:41:28.492Z</td>\n",
       "      <td>67.810000</td>\n",
       "      <td>1.593154e+05</td>\n",
       "      <td>2013-07-06T00:00:00.000Z</td>\n",
       "      <td>NaN</td>\n",
       "      <td>2025-07-05T21:37:45.229Z</td>\n",
       "    </tr>\n",
       "    <tr>\n",
       "      <th>1</th>\n",
       "      <td>ethereum</td>\n",
       "      <td>eth</td>\n",
       "      <td>Ethereum</td>\n",
       "      <td>https://coin-images.coingecko.com/coins/images...</td>\n",
       "      <td>2516.30</td>\n",
       "      <td>303542273895</td>\n",
       "      <td>2</td>\n",
       "      <td>303542273895</td>\n",
       "      <td>5.906574e+09</td>\n",
       "      <td>2527.68</td>\n",
       "      <td>...</td>\n",
       "      <td>1.207170e+08</td>\n",
       "      <td>NaN</td>\n",
       "      <td>4878.26</td>\n",
       "      <td>-48.56432</td>\n",
       "      <td>2021-11-10T14:24:19.604Z</td>\n",
       "      <td>0.432979</td>\n",
       "      <td>5.794125e+05</td>\n",
       "      <td>2015-10-20T00:00:00.000Z</td>\n",
       "      <td>{'times': 30.104602094757734, 'currency': 'btc...</td>\n",
       "      <td>2025-07-05T21:37:46.840Z</td>\n",
       "    </tr>\n",
       "    <tr>\n",
       "      <th>2</th>\n",
       "      <td>tether</td>\n",
       "      <td>usdt</td>\n",
       "      <td>Tether</td>\n",
       "      <td>https://coin-images.coingecko.com/coins/images...</td>\n",
       "      <td>1.00</td>\n",
       "      <td>158624637618</td>\n",
       "      <td>3</td>\n",
       "      <td>158624637618</td>\n",
       "      <td>2.236902e+10</td>\n",
       "      <td>1.00</td>\n",
       "      <td>...</td>\n",
       "      <td>1.585966e+11</td>\n",
       "      <td>NaN</td>\n",
       "      <td>1.32</td>\n",
       "      <td>-24.40592</td>\n",
       "      <td>2018-07-24T00:00:00.000Z</td>\n",
       "      <td>0.572521</td>\n",
       "      <td>7.469781e+01</td>\n",
       "      <td>2015-03-02T00:00:00.000Z</td>\n",
       "      <td>NaN</td>\n",
       "      <td>2025-07-05T21:37:43.901Z</td>\n",
       "    </tr>\n",
       "    <tr>\n",
       "      <th>3</th>\n",
       "      <td>ripple</td>\n",
       "      <td>xrp</td>\n",
       "      <td>XRP</td>\n",
       "      <td>https://coin-images.coingecko.com/coins/images...</td>\n",
       "      <td>2.21</td>\n",
       "      <td>130684850135</td>\n",
       "      <td>4</td>\n",
       "      <td>221213003488</td>\n",
       "      <td>9.822654e+08</td>\n",
       "      <td>2.23</td>\n",
       "      <td>...</td>\n",
       "      <td>9.998597e+10</td>\n",
       "      <td>1.000000e+11</td>\n",
       "      <td>3.40</td>\n",
       "      <td>-34.98504</td>\n",
       "      <td>2018-01-07T00:00:00.000Z</td>\n",
       "      <td>0.002686</td>\n",
       "      <td>8.215357e+04</td>\n",
       "      <td>2014-05-22T00:00:00.000Z</td>\n",
       "      <td>NaN</td>\n",
       "      <td>2025-07-05T21:37:41.569Z</td>\n",
       "    </tr>\n",
       "    <tr>\n",
       "      <th>4</th>\n",
       "      <td>binancecoin</td>\n",
       "      <td>bnb</td>\n",
       "      <td>BNB</td>\n",
       "      <td>https://coin-images.coingecko.com/coins/images...</td>\n",
       "      <td>655.38</td>\n",
       "      <td>95593779597</td>\n",
       "      <td>5</td>\n",
       "      <td>95593779597</td>\n",
       "      <td>3.689315e+08</td>\n",
       "      <td>656.47</td>\n",
       "      <td>...</td>\n",
       "      <td>1.458876e+08</td>\n",
       "      <td>2.000000e+08</td>\n",
       "      <td>788.84</td>\n",
       "      <td>-16.98474</td>\n",
       "      <td>2024-12-04T10:35:25.220Z</td>\n",
       "      <td>0.039818</td>\n",
       "      <td>1.644547e+06</td>\n",
       "      <td>2017-10-19T00:00:00.000Z</td>\n",
       "      <td>NaN</td>\n",
       "      <td>2025-07-05T21:37:45.533Z</td>\n",
       "    </tr>\n",
       "  </tbody>\n",
       "</table>\n",
       "<p>5 rows × 26 columns</p>\n",
       "</div>"
      ],
      "text/plain": [
       "            id symbol      name  \\\n",
       "0      bitcoin    btc   Bitcoin   \n",
       "1     ethereum    eth  Ethereum   \n",
       "2       tether   usdt    Tether   \n",
       "3       ripple    xrp       XRP   \n",
       "4  binancecoin    bnb       BNB   \n",
       "\n",
       "                                               image  current_price  \\\n",
       "0  https://coin-images.coingecko.com/coins/images...      108134.00   \n",
       "1  https://coin-images.coingecko.com/coins/images...        2516.30   \n",
       "2  https://coin-images.coingecko.com/coins/images...           1.00   \n",
       "3  https://coin-images.coingecko.com/coins/images...           2.21   \n",
       "4  https://coin-images.coingecko.com/coins/images...         655.38   \n",
       "\n",
       "      market_cap  market_cap_rank  fully_diluted_valuation  total_volume  \\\n",
       "0  2150284855986                1            2150285829059  1.055896e+10   \n",
       "1   303542273895                2             303542273895  5.906574e+09   \n",
       "2   158624637618                3             158624637618  2.236902e+10   \n",
       "3   130684850135                4             221213003488  9.822654e+08   \n",
       "4    95593779597                5              95593779597  3.689315e+08   \n",
       "\n",
       "    high_24h  ...  total_supply    max_supply        ath  \\\n",
       "0  108295.00  ...  1.988809e+07  2.100000e+07  111814.00   \n",
       "1    2527.68  ...  1.207170e+08           NaN    4878.26   \n",
       "2       1.00  ...  1.585966e+11           NaN       1.32   \n",
       "3       2.23  ...  9.998597e+10  1.000000e+11       3.40   \n",
       "4     656.47  ...  1.458876e+08  2.000000e+08     788.84   \n",
       "\n",
       "   ath_change_percentage                  ath_date        atl  \\\n",
       "0               -3.32356  2025-05-22T18:41:28.492Z  67.810000   \n",
       "1              -48.56432  2021-11-10T14:24:19.604Z   0.432979   \n",
       "2              -24.40592  2018-07-24T00:00:00.000Z   0.572521   \n",
       "3              -34.98504  2018-01-07T00:00:00.000Z   0.002686   \n",
       "4              -16.98474  2024-12-04T10:35:25.220Z   0.039818   \n",
       "\n",
       "   atl_change_percentage                  atl_date  \\\n",
       "0           1.593154e+05  2013-07-06T00:00:00.000Z   \n",
       "1           5.794125e+05  2015-10-20T00:00:00.000Z   \n",
       "2           7.469781e+01  2015-03-02T00:00:00.000Z   \n",
       "3           8.215357e+04  2014-05-22T00:00:00.000Z   \n",
       "4           1.644547e+06  2017-10-19T00:00:00.000Z   \n",
       "\n",
       "                                                 roi              last_updated  \n",
       "0                                                NaN  2025-07-05T21:37:45.229Z  \n",
       "1  {'times': 30.104602094757734, 'currency': 'btc...  2025-07-05T21:37:46.840Z  \n",
       "2                                                NaN  2025-07-05T21:37:43.901Z  \n",
       "3                                                NaN  2025-07-05T21:37:41.569Z  \n",
       "4                                                NaN  2025-07-05T21:37:45.533Z  \n",
       "\n",
       "[5 rows x 26 columns]"
      ]
     },
     "execution_count": 18,
     "metadata": {},
     "output_type": "execute_result"
    }
   ],
   "source": [
    "df = pd.read_csv(\"files/coins.csv\")\n",
    "df.head()"
   ]
  },
  {
   "cell_type": "code",
   "execution_count": 19,
   "id": "fca86036-cd36-4eed-b40a-2c7044145fa6",
   "metadata": {},
   "outputs": [
    {
     "name": "stdout",
     "output_type": "stream",
     "text": [
      "0     Bitcoin\n",
      "1    Ethereum\n",
      "2      Tether\n",
      "3         XRP\n",
      "4         BNB\n",
      "Name: name, dtype: object\n",
      "<class 'pandas.core.series.Series'>\n"
     ]
    }
   ],
   "source": [
    "stocks = df[\"name\"]\n",
    "print(stocks[:5])\n",
    "print(type(stocks))"
   ]
  },
  {
   "cell_type": "code",
   "execution_count": 20,
   "id": "7b673bfb-8ca7-4389-b052-cc22eb0f96f6",
   "metadata": {},
   "outputs": [
    {
     "name": "stdout",
     "output_type": "stream",
     "text": [
      "       name  current_price\n",
      "0   Bitcoin      108134.00\n",
      "1  Ethereum        2516.30\n",
      "2    Tether           1.00\n",
      "3       XRP           2.21\n",
      "4       BNB         655.38\n",
      "<class 'pandas.core.frame.DataFrame'>\n"
     ]
    }
   ],
   "source": [
    "stocks = df[[\"name\", \"current_price\"]]\n",
    "print(stocks[:5])\n",
    "print(type(stocks))"
   ]
  },
  {
   "cell_type": "code",
   "execution_count": 21,
   "id": "46a6f046-5c09-4384-90ba-631bddff8e5e",
   "metadata": {},
   "outputs": [
    {
     "name": "stdout",
     "output_type": "stream",
     "text": [
      "name\n",
      "Bitcoin     108134.00\n",
      "Ethereum      2516.30\n",
      "Tether           1.00\n",
      "XRP              2.21\n",
      "BNB            655.38\n",
      "Name: current_price, dtype: float64\n",
      "<class 'pandas.core.series.Series'>\n"
     ]
    }
   ],
   "source": [
    "stocks = df[[\"name\", \"current_price\"]]\n",
    "stocks = stocks.set_index(\"name\")\n",
    "stocks = stocks.squeeze()\n",
    "print(stocks[:5])\n",
    "print(type(stocks))"
   ]
  },
  {
   "cell_type": "code",
   "execution_count": 22,
   "id": "c3325b97-10d3-4bf2-9076-055fa78d3dde",
   "metadata": {},
   "outputs": [
    {
     "name": "stdout",
     "output_type": "stream",
     "text": [
      "6815\n"
     ]
    }
   ],
   "source": [
    "import sys\n",
    "\n",
    "print(sys.getsizeof(stocks))"
   ]
  },
  {
   "cell_type": "code",
   "execution_count": 23,
   "id": "9f5fb544-471c-4d44-8122-3f1925257cf4",
   "metadata": {},
   "outputs": [
    {
     "name": "stdout",
     "output_type": "stream",
     "text": [
      "6415\n"
     ]
    }
   ],
   "source": [
    "stocks = stocks.astype(np.float32)\n",
    "print(sys.getsizeof(stocks))"
   ]
  },
  {
   "cell_type": "code",
   "execution_count": 24,
   "id": "06bd5892-f9cb-4b65-9a22-e921dfa74390",
   "metadata": {},
   "outputs": [
    {
     "name": "stdout",
     "output_type": "stream",
     "text": [
      "<class 'pandas.core.frame.DataFrame'>\n"
     ]
    }
   ],
   "source": [
    "series = df.squeeze()\n",
    "\n",
    "# print(series[:5])\n",
    "print(type(series))"
   ]
  },
  {
   "cell_type": "code",
   "execution_count": 25,
   "id": "6e483cde-d12b-4f93-a7aa-2f3aea612932",
   "metadata": {},
   "outputs": [
    {
     "name": "stdout",
     "output_type": "stream",
     "text": [
      "name\n",
      "Bitcoin     108134.000000\n",
      "Ethereum      2516.300049\n",
      "Tether           1.000000\n",
      "XRP              2.210000\n",
      "BNB            655.380005\n",
      "Name: current_price, dtype: float32\n"
     ]
    }
   ],
   "source": [
    "print(stocks.head())"
   ]
  },
  {
   "cell_type": "code",
   "execution_count": 26,
   "id": "950cec0b-4d7d-45ea-bed9-a5a6cd1ea197",
   "metadata": {},
   "outputs": [
    {
     "name": "stdout",
     "output_type": "stream",
     "text": [
      "name\n",
      "Wrapped eETH       2695.360107\n",
      "Hyperliquid          38.880001\n",
      "Rocket Pool ETH    2866.689941\n",
      "Arbitrum              0.326551\n",
      "sUSDS                 1.058000\n",
      "Name: current_price, dtype: float32\n"
     ]
    }
   ],
   "source": [
    "# Sample\n",
    "\n",
    "print(stocks.sample(5))"
   ]
  },
  {
   "cell_type": "code",
   "execution_count": 27,
   "id": "51f52ea3-e1c8-46b0-bf69-39181b8f2a8f",
   "metadata": {},
   "outputs": [
    {
     "name": "stdout",
     "output_type": "stream",
     "text": [
      "current_price\n",
      "1.000000         7\n",
      "4.450000         2\n",
      "108134.000000    1\n",
      "0.182542         1\n",
      "0.867162         1\n",
      "                ..\n",
      "108167.000000    1\n",
      "313.769989       1\n",
      "45.320000        1\n",
      "0.154788         1\n",
      "3346.699951      1\n",
      "Name: count, Length: 93, dtype: int64\n",
      "current_price\n",
      "108134.000000    1\n",
      "0.998211         1\n",
      "0.175119         1\n",
      "2516.709961      1\n",
      "2.250000         1\n",
      "                ..\n",
      "2516.899902      1\n",
      "0.000010         1\n",
      "3346.699951      1\n",
      "4.450000         2\n",
      "1.000000         7\n",
      "Name: count, Length: 93, dtype: int64\n"
     ]
    }
   ],
   "source": [
    "# Value counts\n",
    "print(stocks.value_counts())\n",
    "\n",
    "print(stocks.value_counts(ascending=True))"
   ]
  },
  {
   "cell_type": "code",
   "execution_count": 28,
   "id": "9f4b28c9-91bd-4d81-81f6-59fd06e90180",
   "metadata": {},
   "outputs": [
    {
     "name": "stdout",
     "output_type": "stream",
     "text": [
      "name\n",
      "Pepe                         0.000010\n",
      "Shiba Inu                    0.000011\n",
      "Bonk                         0.000018\n",
      "Pudgy Penguins               0.015544\n",
      "Flare                        0.016607\n",
      "                            ...      \n",
      "PAX Gold                  3346.699951\n",
      "Lombard Staked BTC      108015.000000\n",
      "Wrapped Bitcoin         108128.000000\n",
      "Bitcoin                 108134.000000\n",
      "Coinbase Wrapped BTC    108167.000000\n",
      "Name: current_price, Length: 100, dtype: float32\n"
     ]
    }
   ],
   "source": [
    "# Sort_values\n",
    "print(stocks.sort_values())"
   ]
  },
  {
   "cell_type": "code",
   "execution_count": 29,
   "id": "71cddc44-f332-40e8-8866-e6c4e089735f",
   "metadata": {},
   "outputs": [
    {
     "name": "stdout",
     "output_type": "stream",
     "text": [
      "name\n",
      "sUSDS                                       1.058000\n",
      "XRP                                         2.210000\n",
      "XDC Network                                 0.062085\n",
      "Wrapped stETH                            3036.280029\n",
      "Wrapped eETH                             2695.360107\n",
      "                                            ...     \n",
      "Artificial Superintelligence Alliance       0.661723\n",
      "Arbitrum                                    0.326551\n",
      "Aptos                                       4.420000\n",
      "Algorand                                    0.175119\n",
      "Aave                                      272.779999\n",
      "Name: current_price, Length: 100, dtype: float32\n"
     ]
    }
   ],
   "source": [
    "# Sort_index\n",
    "print(stocks.sort_index(ascending=False))\n",
    "\n",
    "# print(stocks.sort_index(ascending=False, inplace=True))"
   ]
  },
  {
   "cell_type": "code",
   "execution_count": 60,
   "id": "66041ffc-f066-4f65-a6d9-cebd10748603",
   "metadata": {},
   "outputs": [
    {
     "name": "stdout",
     "output_type": "stream",
     "text": [
      "100\n"
     ]
    }
   ],
   "source": [
    "# Count - Excludes the NaN values\n",
    "print(stocks.count())"
   ]
  },
  {
   "cell_type": "code",
   "execution_count": 62,
   "id": "e4e55c3a-8b22-4a90-aa96-59b75ae40c87",
   "metadata": {},
   "outputs": [
    {
     "name": "stdout",
     "output_type": "stream",
     "text": [
      "100\n"
     ]
    }
   ],
   "source": [
    "# Size - Includes the NaN values\n",
    "print(stocks.size)"
   ]
  },
  {
   "cell_type": "code",
   "execution_count": 64,
   "id": "4570694e-58e3-439e-99cc-e271c14617d9",
   "metadata": {},
   "outputs": [
    {
     "name": "stdout",
     "output_type": "stream",
     "text": [
      "5\n",
      "6\n"
     ]
    }
   ],
   "source": [
    "df = pd.Series([1, 2, 3, np.nan, 4, 5])\n",
    "print(df.count())\n",
    "print(df.size)"
   ]
  },
  {
   "cell_type": "code",
   "execution_count": 68,
   "id": "f289580b-ef06-4d86-8032-1576384dd73f",
   "metadata": {},
   "outputs": [
    {
     "name": "stdout",
     "output_type": "stream",
     "text": [
      "15.0\n",
      "120.0\n"
     ]
    }
   ],
   "source": [
    "# Sum and Product\n",
    "\n",
    "print(df.sum())\n",
    "print(df.product())"
   ]
  },
  {
   "cell_type": "code",
   "execution_count": 72,
   "id": "4c58034c-8984-4e32-825f-b22a6664caca",
   "metadata": {},
   "outputs": [
    {
     "name": "stdout",
     "output_type": "stream",
     "text": [
      "3.0\n",
      "3.0\n",
      "1.5811388300841898\n",
      "2.5\n",
      "1.0\n",
      "5.0\n"
     ]
    }
   ],
   "source": [
    "# mean\n",
    "print(df.mean())\n",
    "print(df.median())\n",
    "# print(df.mode())\n",
    "print(df.std())\n",
    "print(df.var())\n",
    "print(df.min())\n",
    "print(df.max())"
   ]
  },
  {
   "cell_type": "code",
   "execution_count": 76,
   "id": "fee4fc0d-29ff-4d65-85e0-40dd0f606b31",
   "metadata": {},
   "outputs": [
    {
     "name": "stdout",
     "output_type": "stream",
     "text": [
      "count    5.000000\n",
      "mean     3.000000\n",
      "std      1.581139\n",
      "min      1.000000\n",
      "25%      2.000000\n",
      "50%      3.000000\n",
      "75%      4.000000\n",
      "max      5.000000\n",
      "dtype: float64\n"
     ]
    }
   ],
   "source": [
    "print(df.describe(include=True))"
   ]
  }
 ],
 "metadata": {
  "kernelspec": {
   "display_name": "Python 3 (ipykernel)",
   "language": "python",
   "name": "python3"
  },
  "language_info": {
   "codemirror_mode": {
    "name": "ipython",
    "version": 3
   },
   "file_extension": ".py",
   "mimetype": "text/x-python",
   "name": "python",
   "nbconvert_exporter": "python",
   "pygments_lexer": "ipython3",
   "version": "3.12.4"
  }
 },
 "nbformat": 4,
 "nbformat_minor": 5
}
