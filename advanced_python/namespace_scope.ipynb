{
 "cells": [
  {
   "cell_type": "markdown",
   "id": "a98a49b6-7b88-4eaa-b654-8e07717d406c",
   "metadata": {},
   "source": [
    "NAMESPACE and SCOPE"
   ]
  },
  {
   "cell_type": "code",
   "execution_count": 2,
   "id": "ded68c08-bec1-41e5-81ff-4a35068cc42a",
   "metadata": {},
   "outputs": [],
   "source": [
    "# Namespace are dictionary of identifiers(names) that stores these identifiers as key-value pairs\n",
    "# They store variables, functions, classes, etc\n",
    "\n",
    "# Scope is the enclosure where a namespace is valid\n",
    "# Scope priority: LEGB (local, enclosing, global, built-in)"
   ]
  },
  {
   "cell_type": "code",
   "execution_count": 3,
   "id": "dfb0234a-f31a-4b87-b42a-6ec74e4c2995",
   "metadata": {},
   "outputs": [
    {
     "name": "stdout",
     "output_type": "stream",
     "text": [
      "Placing a trade of $1000. Initial capital: $12000.0. Balance: $11000.0\n"
     ]
    }
   ],
   "source": [
    "# local and global scopes\n",
    "\n",
    "# global variable\n",
    "trading_capital = 10000.0\n",
    "\n",
    "def place_trade():\n",
    "    trade_amount = 1000\n",
    "    trading_capital = 12000.0\n",
    "    balance = trading_capital - trade_amount\n",
    "    print(f\"Placing a trade of ${trade_amount}. Initial capital: ${trading_capital}. Balance: ${balance}\")\n",
    "    \n",
    "place_trade()"
   ]
  },
  {
   "cell_type": "code",
   "execution_count": 4,
   "id": "6983aa2f-d223-4008-a058-f35ffc7cd2aa",
   "metadata": {},
   "outputs": [
    {
     "name": "stdout",
     "output_type": "stream",
     "text": [
      "Placing a trade of $1000. Initial capital: $10000.0. Balance: $9000.0\n"
     ]
    }
   ],
   "source": [
    "trading_capital = 10000.0\n",
    "trade_amount = 1000\n",
    "\n",
    "def place_trade():\n",
    "    balance = trading_capital - trade_amount\n",
    "    print(f\"Placing a trade of ${trade_amount}. Initial capital: ${trading_capital}. Balance: ${balance}\")\n",
    "    \n",
    "place_trade()"
   ]
  },
  {
   "cell_type": "code",
   "execution_count": 5,
   "id": "72b491ad-fa82-4aa8-8975-1901cb45a04f",
   "metadata": {},
   "outputs": [
    {
     "name": "stdout",
     "output_type": "stream",
     "text": [
      "Placing a trade of $1200. Initial capital: $10000.0. Balance: $8800.0\n",
      "Current trading capital: 8800.0\n"
     ]
    }
   ],
   "source": [
    "# making changes to global variables from local scope\n",
    "# This is not recommended\n",
    "\n",
    "trading_capital = 10000.0\n",
    "\n",
    "def place_trade(trade_amount):\n",
    "    global trading_capital\n",
    "    balance = trading_capital - trade_amount\n",
    "    print(f\"Placing a trade of ${trade_amount}. Initial capital: ${trading_capital}. Balance: ${balance}\")\n",
    "    trading_capital -= trade_amount\n",
    "\n",
    "place_trade(1200)\n",
    "print(f\"Current trading capital: {trading_capital}\")"
   ]
  },
  {
   "cell_type": "code",
   "execution_count": 6,
   "id": "f13ff647-033d-431b-ad83-fc572c7899f3",
   "metadata": {},
   "outputs": [
    {
     "name": "stdout",
     "output_type": "stream",
     "text": [
      "Placing a trade of $1200. Initial capital: $10000. Balance: $8800\n",
      "Current trading capital: 8800\n"
     ]
    }
   ],
   "source": [
    "# Creating global variables inside local (not recommended)\n",
    "def place_trade(trade_amount):\n",
    "    global trading_capital\n",
    "    trading_capital = 10000\n",
    "    balance = trading_capital - trade_amount\n",
    "    print(f\"Placing a trade of ${trade_amount}. Initial capital: ${trading_capital}. Balance: ${balance}\")\n",
    "    trading_capital -= trade_amount\n",
    "\n",
    "place_trade(1200)\n",
    "print(f\"Current trading capital: {trading_capital}\")"
   ]
  },
  {
   "cell_type": "code",
   "execution_count": 7,
   "id": "8bf11a14-c123-4a86-935a-2ab04c957793",
   "metadata": {},
   "outputs": [
    {
     "name": "stdout",
     "output_type": "stream",
     "text": [
      "5\n",
      "Placing a trade of $[1, 2, 3.4, 4, 5].\n"
     ]
    }
   ],
   "source": [
    "# built-in scope\n",
    "\n",
    "trading_capital = [1, 2, 3.4, 4, 5]\n",
    "print(max(trading_capital))\n",
    "\n",
    "def max():\n",
    "    print(f\"Placing a trade of ${trading_capital}.\")\n",
    "\n",
    "max()"
   ]
  },
  {
   "cell_type": "code",
   "execution_count": 16,
   "id": "11133c26-231d-486c-bcba-420bd548cc70",
   "metadata": {},
   "outputs": [
    {
     "name": "stdout",
     "output_type": "stream",
     "text": [
      "Local Scope\n",
      "Enclosing scope\n",
      "Global scope\n"
     ]
    }
   ],
   "source": [
    "# Enclosing scope\n",
    "\n",
    "def placing_trade():\n",
    "    trade_amount\n",
    "    def print_func():\n",
    "        print(\"Local Scope\")\n",
    "    print_func()\n",
    "    print(\"Enclosing scope\")\n",
    "\n",
    "placing_trade()\n",
    "print(\"Global scope\")"
   ]
  },
  {
   "cell_type": "code",
   "execution_count": 14,
   "id": "a6113771-7ba3-4158-ba11-f68d414660a6",
   "metadata": {},
   "outputs": [
    {
     "name": "stdout",
     "output_type": "stream",
     "text": [
      "['ArithmeticError', 'AssertionError', 'AttributeError', 'BaseException', 'BaseExceptionGroup', 'BlockingIOError', 'BrokenPipeError', 'BufferError', 'BytesWarning', 'ChildProcessError', 'ConnectionAbortedError', 'ConnectionError', 'ConnectionRefusedError', 'ConnectionResetError', 'DeprecationWarning', 'EOFError', 'Ellipsis', 'EncodingWarning', 'EnvironmentError', 'Exception', 'ExceptionGroup', 'False', 'FileExistsError', 'FileNotFoundError', 'FloatingPointError', 'FutureWarning', 'GeneratorExit', 'IOError', 'ImportError', 'ImportWarning', 'IndentationError', 'IndexError', 'InterruptedError', 'IsADirectoryError', 'KeyError', 'KeyboardInterrupt', 'LookupError', 'MemoryError', 'ModuleNotFoundError', 'NameError', 'None', 'NotADirectoryError', 'NotImplemented', 'NotImplementedError', 'OSError', 'OverflowError', 'PendingDeprecationWarning', 'PermissionError', 'ProcessLookupError', 'RecursionError', 'ReferenceError', 'ResourceWarning', 'RuntimeError', 'RuntimeWarning', 'StopAsyncIteration', 'StopIteration', 'SyntaxError', 'SyntaxWarning', 'SystemError', 'SystemExit', 'TabError', 'TimeoutError', 'True', 'TypeError', 'UnboundLocalError', 'UnicodeDecodeError', 'UnicodeEncodeError', 'UnicodeError', 'UnicodeTranslateError', 'UnicodeWarning', 'UserWarning', 'ValueError', 'Warning', 'WindowsError', 'ZeroDivisionError', '__IPYTHON__', '__build_class__', '__debug__', '__doc__', '__import__', '__loader__', '__name__', '__package__', '__spec__', 'abs', 'aiter', 'all', 'anext', 'any', 'ascii', 'bin', 'bool', 'breakpoint', 'bytearray', 'bytes', 'callable', 'chr', 'classmethod', 'compile', 'complex', 'copyright', 'credits', 'delattr', 'dict', 'dir', 'display', 'divmod', 'enumerate', 'eval', 'exec', 'execfile', 'filter', 'float', 'format', 'frozenset', 'get_ipython', 'getattr', 'globals', 'hasattr', 'hash', 'help', 'hex', 'id', 'input', 'int', 'isinstance', 'issubclass', 'iter', 'len', 'license', 'list', 'locals', 'map', 'max', 'memoryview', 'min', 'next', 'object', 'oct', 'open', 'ord', 'pow', 'print', 'property', 'range', 'repr', 'reversed', 'round', 'runfile', 'set', 'setattr', 'slice', 'sorted', 'staticmethod', 'str', 'sum', 'super', 'tuple', 'type', 'vars', 'zip']\n"
     ]
    }
   ],
   "source": [
    "# Importing buit-in functions\n",
    "import builtins\n",
    "\n",
    "print(dir(builtins))"
   ]
  }
 ],
 "metadata": {
  "kernelspec": {
   "display_name": "Python 3 (ipykernel)",
   "language": "python",
   "name": "python3"
  },
  "language_info": {
   "codemirror_mode": {
    "name": "ipython",
    "version": 3
   },
   "file_extension": ".py",
   "mimetype": "text/x-python",
   "name": "python",
   "nbconvert_exporter": "python",
   "pygments_lexer": "ipython3",
   "version": "3.12.4"
  }
 },
 "nbformat": 4,
 "nbformat_minor": 5
}
