{
 "cells": [
  {
   "cell_type": "code",
   "execution_count": 1,
   "id": "edf26e8e-31b7-4dc0-beed-e7626756baca",
   "metadata": {},
   "outputs": [
    {
     "name": "stdout",
     "output_type": "stream",
     "text": [
      "ygetartS mutnemoM\n"
     ]
    }
   ],
   "source": [
    "strategy_name = \"Momentum Strategy\"\n",
    "print(strategy_name[::-1])"
   ]
  },
  {
   "cell_type": "markdown",
   "id": "a67f286f-43bb-4c12-9d2d-cc5396af9611",
   "metadata": {},
   "source": [
    "ARITHMETIC OPERATIONS"
   ]
  },
  {
   "cell_type": "code",
   "execution_count": 7,
   "id": "50b3c423-d6e2-43a6-872a-19c74cdfbb18",
   "metadata": {},
   "outputs": [
    {
     "name": "stdout",
     "output_type": "stream",
     "text": [
      "My name is Emmanuel Osademe\n",
      "My name is Emmanuel OsademeEmmanuel Osademe\n"
     ]
    }
   ],
   "source": [
    "first_name = \"Emmanuel\"\n",
    "last_name = \"Osademe\"\n",
    "\n",
    "full_name = f\"{first_name} {last_name}\"\n",
    "\n",
    "print(f\"My name is {full_name}\")\n",
    "full_name = full_name * 2\n",
    "\n",
    "print(f\"My name is {full_name}\")"
   ]
  },
  {
   "cell_type": "markdown",
   "id": "7f59043e-4d87-4f89-b98a-146b38bb6195",
   "metadata": {},
   "source": [
    "RELATIONAL OPERATIONS"
   ]
  },
  {
   "cell_type": "code",
   "execution_count": 19,
   "id": "4250831a-f8da-47bb-a00d-c528efab4201",
   "metadata": {},
   "outputs": [
    {
     "name": "stdout",
     "output_type": "stream",
     "text": [
      "False\n",
      "True\n"
     ]
    }
   ],
   "source": [
    "s1 = \"Singapore\"\n",
    "s2 = \"India\"\n",
    "\n",
    "print(s1 < s2) # S comes after I \n",
    "\n",
    "print(s1 > s2) # S comes after I"
   ]
  },
  {
   "cell_type": "markdown",
   "id": "08d3c779-1be0-4016-bd50-17bbef61a37b",
   "metadata": {},
   "source": [
    "LOGICAL OPERATIONS"
   ]
  },
  {
   "cell_type": "code",
   "execution_count": 21,
   "id": "237a0a47-f767-4662-9446-57b0b989761c",
   "metadata": {},
   "outputs": [
    {
     "name": "stdout",
     "output_type": "stream",
     "text": [
      "India\n",
      "Singapore\n"
     ]
    }
   ],
   "source": [
    "print(s1 and s2) # Always prints the last member as long as s1 exists\n",
    "\n",
    "print(s1 or s2) # Prints the first non-empty string"
   ]
  },
  {
   "cell_type": "markdown",
   "id": "44afbeca-7b9a-46e5-9b26-6cdc7f05c7e0",
   "metadata": {},
   "source": [
    "STRING FUNCTIONS"
   ]
  },
  {
   "cell_type": "code",
   "execution_count": 31,
   "id": "7a4fbc41-65f7-4df2-b293-dda1210fe56a",
   "metadata": {},
   "outputs": [
    {
     "name": "stdout",
     "output_type": "stream",
     "text": [
      "Singapore\n",
      "sINGAPORE\n",
      "singapore\n",
      "SINGAPORE\n",
      "Emmanuel Osademeemmanuel Osademe\n",
      "['S', 'a', 'e', 'g', 'i', 'n', 'o', 'p', 'r']\n"
     ]
    }
   ],
   "source": [
    "print(s1.capitalize())\n",
    "print(s1.swapcase())\n",
    "print(s1.lower())\n",
    "print(s1.upper())\n",
    "print(full_name.title())\n",
    "print(sorted(s1))"
   ]
  }
 ],
 "metadata": {
  "kernelspec": {
   "display_name": "Python 3 (ipykernel)",
   "language": "python",
   "name": "python3"
  },
  "language_info": {
   "codemirror_mode": {
    "name": "ipython",
    "version": 3
   },
   "file_extension": ".py",
   "mimetype": "text/x-python",
   "name": "python",
   "nbconvert_exporter": "python",
   "pygments_lexer": "ipython3",
   "version": "3.12.4"
  }
 },
 "nbformat": 4,
 "nbformat_minor": 5
}
